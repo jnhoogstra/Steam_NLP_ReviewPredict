{
 "cells": [
  {
   "cell_type": "markdown",
   "id": "5b77fe60-03fe-408c-b335-050539d1e6ea",
   "metadata": {},
   "source": [
    "# Recommendation System"
   ]
  },
  {
   "cell_type": "markdown",
   "id": "dee44e29-ebd9-46e6-a4c4-9ce3bb88abc0",
   "metadata": {},
   "source": [
    "### imports"
   ]
  },
  {
   "cell_type": "code",
   "execution_count": 1,
   "id": "5451c747-5860-4a33-92c0-9a0d68d62036",
   "metadata": {},
   "outputs": [],
   "source": [
    "import pandas as pd\n",
    "from sklearn.feature_extraction.text import TfidfVectorizer\n",
    "from sklearn.metrics.pairwise import linear_kernel \n",
    "import numpy as np"
   ]
  },
  {
   "cell_type": "markdown",
   "id": "7f3be555-4b27-4dec-bed9-ce6425617327",
   "metadata": {},
   "source": [
    "### bringing in the clean data"
   ]
  },
  {
   "cell_type": "code",
   "execution_count": 2,
   "id": "ba7d07ec-32a4-45d4-b3f4-fb87a2af4445",
   "metadata": {},
   "outputs": [
    {
     "data": {
      "text/html": [
       "<div>\n",
       "<style scoped>\n",
       "    .dataframe tbody tr th:only-of-type {\n",
       "        vertical-align: middle;\n",
       "    }\n",
       "\n",
       "    .dataframe tbody tr th {\n",
       "        vertical-align: top;\n",
       "    }\n",
       "\n",
       "    .dataframe thead th {\n",
       "        text-align: right;\n",
       "    }\n",
       "</style>\n",
       "<table border=\"1\" class=\"dataframe\">\n",
       "  <thead>\n",
       "    <tr style=\"text-align: right;\">\n",
       "      <th></th>\n",
       "      <th>steamid</th>\n",
       "      <th>appid</th>\n",
       "      <th>app_title</th>\n",
       "      <th>app_tags</th>\n",
       "      <th>review</th>\n",
       "      <th>fps</th>\n",
       "      <th>voted_up</th>\n",
       "    </tr>\n",
       "  </thead>\n",
       "  <tbody>\n",
       "    <tr>\n",
       "      <th>0</th>\n",
       "      <td>76561198271088129</td>\n",
       "      <td>4000</td>\n",
       "      <td>Garry's Mod</td>\n",
       "      <td>['Sandbox', 'Multiplayer', 'Funny', 'Moddable'...</td>\n",
       "      <td>good models\\n</td>\n",
       "      <td>True</td>\n",
       "      <td>True</td>\n",
       "    </tr>\n",
       "    <tr>\n",
       "      <th>1</th>\n",
       "      <td>76561198138206834</td>\n",
       "      <td>4000</td>\n",
       "      <td>Garry's Mod</td>\n",
       "      <td>['Sandbox', 'Multiplayer', 'Funny', 'Moddable'...</td>\n",
       "      <td>I completely suck at making anything on here a...</td>\n",
       "      <td>True</td>\n",
       "      <td>True</td>\n",
       "    </tr>\n",
       "    <tr>\n",
       "      <th>2</th>\n",
       "      <td>76561198128760839</td>\n",
       "      <td>70</td>\n",
       "      <td>Half-Life</td>\n",
       "      <td>['FPS', 'Sci-fi', 'Action', 'Singleplayer', \"1...</td>\n",
       "      <td>There is not much to say about this old game t...</td>\n",
       "      <td>True</td>\n",
       "      <td>True</td>\n",
       "    </tr>\n",
       "    <tr>\n",
       "      <th>3</th>\n",
       "      <td>76561198079636858</td>\n",
       "      <td>6060</td>\n",
       "      <td>Star Wars: Battlefront 2 (Classic, 2005)</td>\n",
       "      <td>['Action', 'Multiplayer', 'Shooter', 'Third-Pe...</td>\n",
       "      <td>360 noscoped almost everything 10/10 even the ...</td>\n",
       "      <td>True</td>\n",
       "      <td>True</td>\n",
       "    </tr>\n",
       "    <tr>\n",
       "      <th>4</th>\n",
       "      <td>76561198238100200</td>\n",
       "      <td>220</td>\n",
       "      <td>Half-Life 2</td>\n",
       "      <td>['FPS', 'Action', 'Sci-fi', 'Classic', 'Single...</td>\n",
       "      <td>No need for a review. It's practically history.</td>\n",
       "      <td>True</td>\n",
       "      <td>True</td>\n",
       "    </tr>\n",
       "    <tr>\n",
       "      <th>...</th>\n",
       "      <td>...</td>\n",
       "      <td>...</td>\n",
       "      <td>...</td>\n",
       "      <td>...</td>\n",
       "      <td>...</td>\n",
       "      <td>...</td>\n",
       "      <td>...</td>\n",
       "    </tr>\n",
       "    <tr>\n",
       "      <th>23178</th>\n",
       "      <td>76561198868573076</td>\n",
       "      <td>730</td>\n",
       "      <td>Counter-Strike: Global Offensive</td>\n",
       "      <td>['FPS', 'Shooter', 'Multiplayer', 'Competitive...</td>\n",
       "      <td>crap game i got 23000 hours and stil silver</td>\n",
       "      <td>True</td>\n",
       "      <td>False</td>\n",
       "    </tr>\n",
       "    <tr>\n",
       "      <th>23179</th>\n",
       "      <td>76561198133294233</td>\n",
       "      <td>730</td>\n",
       "      <td>Counter-Strike: Global Offensive</td>\n",
       "      <td>['FPS', 'Shooter', 'Multiplayer', 'Competitive...</td>\n",
       "      <td>meh, still so many cheaters</td>\n",
       "      <td>True</td>\n",
       "      <td>False</td>\n",
       "    </tr>\n",
       "    <tr>\n",
       "      <th>23180</th>\n",
       "      <td>76561197989220516</td>\n",
       "      <td>730</td>\n",
       "      <td>Counter-Strike: Global Offensive</td>\n",
       "      <td>['FPS', 'Shooter', 'Multiplayer', 'Competitive...</td>\n",
       "      <td>to many hackers,high ping servers</td>\n",
       "      <td>True</td>\n",
       "      <td>False</td>\n",
       "    </tr>\n",
       "    <tr>\n",
       "      <th>23181</th>\n",
       "      <td>76561198319040167</td>\n",
       "      <td>730</td>\n",
       "      <td>Counter-Strike: Global Offensive</td>\n",
       "      <td>['FPS', 'Shooter', 'Multiplayer', 'Competitive...</td>\n",
       "      <td>terrible game, way to many cheaters</td>\n",
       "      <td>True</td>\n",
       "      <td>False</td>\n",
       "    </tr>\n",
       "    <tr>\n",
       "      <th>23182</th>\n",
       "      <td>76561198267558532</td>\n",
       "      <td>730</td>\n",
       "      <td>Counter-Strike: Global Offensive</td>\n",
       "      <td>['FPS', 'Shooter', 'Multiplayer', 'Competitive...</td>\n",
       "      <td>If you want to deal with blatant wall hackers,...</td>\n",
       "      <td>True</td>\n",
       "      <td>False</td>\n",
       "    </tr>\n",
       "  </tbody>\n",
       "</table>\n",
       "<p>23183 rows × 7 columns</p>\n",
       "</div>"
      ],
      "text/plain": [
       "                 steamid  appid                                 app_title  \\\n",
       "0      76561198271088129   4000                               Garry's Mod   \n",
       "1      76561198138206834   4000                               Garry's Mod   \n",
       "2      76561198128760839     70                                 Half-Life   \n",
       "3      76561198079636858   6060  Star Wars: Battlefront 2 (Classic, 2005)   \n",
       "4      76561198238100200    220                               Half-Life 2   \n",
       "...                  ...    ...                                       ...   \n",
       "23178  76561198868573076    730          Counter-Strike: Global Offensive   \n",
       "23179  76561198133294233    730          Counter-Strike: Global Offensive   \n",
       "23180  76561197989220516    730          Counter-Strike: Global Offensive   \n",
       "23181  76561198319040167    730          Counter-Strike: Global Offensive   \n",
       "23182  76561198267558532    730          Counter-Strike: Global Offensive   \n",
       "\n",
       "                                                app_tags  \\\n",
       "0      ['Sandbox', 'Multiplayer', 'Funny', 'Moddable'...   \n",
       "1      ['Sandbox', 'Multiplayer', 'Funny', 'Moddable'...   \n",
       "2      ['FPS', 'Sci-fi', 'Action', 'Singleplayer', \"1...   \n",
       "3      ['Action', 'Multiplayer', 'Shooter', 'Third-Pe...   \n",
       "4      ['FPS', 'Action', 'Sci-fi', 'Classic', 'Single...   \n",
       "...                                                  ...   \n",
       "23178  ['FPS', 'Shooter', 'Multiplayer', 'Competitive...   \n",
       "23179  ['FPS', 'Shooter', 'Multiplayer', 'Competitive...   \n",
       "23180  ['FPS', 'Shooter', 'Multiplayer', 'Competitive...   \n",
       "23181  ['FPS', 'Shooter', 'Multiplayer', 'Competitive...   \n",
       "23182  ['FPS', 'Shooter', 'Multiplayer', 'Competitive...   \n",
       "\n",
       "                                                  review   fps  voted_up  \n",
       "0                                          good models\\n  True      True  \n",
       "1      I completely suck at making anything on here a...  True      True  \n",
       "2      There is not much to say about this old game t...  True      True  \n",
       "3      360 noscoped almost everything 10/10 even the ...  True      True  \n",
       "4        No need for a review. It's practically history.  True      True  \n",
       "...                                                  ...   ...       ...  \n",
       "23178        crap game i got 23000 hours and stil silver  True     False  \n",
       "23179                        meh, still so many cheaters  True     False  \n",
       "23180                  to many hackers,high ping servers  True     False  \n",
       "23181                terrible game, way to many cheaters  True     False  \n",
       "23182  If you want to deal with blatant wall hackers,...  True     False  \n",
       "\n",
       "[23183 rows x 7 columns]"
      ]
     },
     "execution_count": 2,
     "metadata": {},
     "output_type": "execute_result"
    }
   ],
   "source": [
    "thanos = pd.read_csv('../../../data/thanos.csv')\n",
    "thanos"
   ]
  },
  {
   "cell_type": "markdown",
   "id": "d0e18fe3-3e67-4b71-b73c-f0bdc12fabf1",
   "metadata": {},
   "source": [
    "### Making the app_tags column usable with the recommendation system"
   ]
  },
  {
   "cell_type": "markdown",
   "id": "b0ab8b70-e780-43d6-b5e9-d1e1f68a052a",
   "metadata": {},
   "source": [
    "making the app_tags column not individual strings."
   ]
  },
  {
   "cell_type": "code",
   "execution_count": 3,
   "id": "3c048b7c-2eda-4d6b-a4c5-11e9e2f9427e",
   "metadata": {},
   "outputs": [],
   "source": [
    "from ast import literal_eval\n",
    "\n",
    "features = ['app_tags']\n",
    "for feature in features:\n",
    "    thanos[feature] = thanos[feature].apply(literal_eval)"
   ]
  },
  {
   "cell_type": "code",
   "execution_count": 4,
   "id": "37bb14cb-1948-4af9-84f7-46aa80602e70",
   "metadata": {},
   "outputs": [
    {
     "data": {
      "text/html": [
       "<div>\n",
       "<style scoped>\n",
       "    .dataframe tbody tr th:only-of-type {\n",
       "        vertical-align: middle;\n",
       "    }\n",
       "\n",
       "    .dataframe tbody tr th {\n",
       "        vertical-align: top;\n",
       "    }\n",
       "\n",
       "    .dataframe thead th {\n",
       "        text-align: right;\n",
       "    }\n",
       "</style>\n",
       "<table border=\"1\" class=\"dataframe\">\n",
       "  <thead>\n",
       "    <tr style=\"text-align: right;\">\n",
       "      <th></th>\n",
       "      <th>steamid</th>\n",
       "      <th>appid</th>\n",
       "      <th>app_title</th>\n",
       "      <th>app_tags</th>\n",
       "      <th>review</th>\n",
       "      <th>fps</th>\n",
       "      <th>voted_up</th>\n",
       "    </tr>\n",
       "  </thead>\n",
       "  <tbody>\n",
       "    <tr>\n",
       "      <th>0</th>\n",
       "      <td>76561198271088129</td>\n",
       "      <td>4000</td>\n",
       "      <td>Garry's Mod</td>\n",
       "      <td>[Sandbox, Multiplayer, Funny, Moddable, Buildi...</td>\n",
       "      <td>good models\\n</td>\n",
       "      <td>True</td>\n",
       "      <td>True</td>\n",
       "    </tr>\n",
       "    <tr>\n",
       "      <th>1</th>\n",
       "      <td>76561198138206834</td>\n",
       "      <td>4000</td>\n",
       "      <td>Garry's Mod</td>\n",
       "      <td>[Sandbox, Multiplayer, Funny, Moddable, Buildi...</td>\n",
       "      <td>I completely suck at making anything on here a...</td>\n",
       "      <td>True</td>\n",
       "      <td>True</td>\n",
       "    </tr>\n",
       "    <tr>\n",
       "      <th>2</th>\n",
       "      <td>76561198128760839</td>\n",
       "      <td>70</td>\n",
       "      <td>Half-Life</td>\n",
       "      <td>[FPS, Sci-fi, Action, Singleplayer, 1990's, Sh...</td>\n",
       "      <td>There is not much to say about this old game t...</td>\n",
       "      <td>True</td>\n",
       "      <td>True</td>\n",
       "    </tr>\n",
       "    <tr>\n",
       "      <th>3</th>\n",
       "      <td>76561198079636858</td>\n",
       "      <td>6060</td>\n",
       "      <td>Star Wars: Battlefront 2 (Classic, 2005)</td>\n",
       "      <td>[Action, Multiplayer, Shooter, Third-Person Sh...</td>\n",
       "      <td>360 noscoped almost everything 10/10 even the ...</td>\n",
       "      <td>True</td>\n",
       "      <td>True</td>\n",
       "    </tr>\n",
       "    <tr>\n",
       "      <th>4</th>\n",
       "      <td>76561198238100200</td>\n",
       "      <td>220</td>\n",
       "      <td>Half-Life 2</td>\n",
       "      <td>[FPS, Action, Sci-fi, Classic, Singleplayer, S...</td>\n",
       "      <td>No need for a review. It's practically history.</td>\n",
       "      <td>True</td>\n",
       "      <td>True</td>\n",
       "    </tr>\n",
       "    <tr>\n",
       "      <th>...</th>\n",
       "      <td>...</td>\n",
       "      <td>...</td>\n",
       "      <td>...</td>\n",
       "      <td>...</td>\n",
       "      <td>...</td>\n",
       "      <td>...</td>\n",
       "      <td>...</td>\n",
       "    </tr>\n",
       "    <tr>\n",
       "      <th>23178</th>\n",
       "      <td>76561198868573076</td>\n",
       "      <td>730</td>\n",
       "      <td>Counter-Strike: Global Offensive</td>\n",
       "      <td>[FPS, Shooter, Multiplayer, Competitive, Actio...</td>\n",
       "      <td>crap game i got 23000 hours and stil silver</td>\n",
       "      <td>True</td>\n",
       "      <td>False</td>\n",
       "    </tr>\n",
       "    <tr>\n",
       "      <th>23179</th>\n",
       "      <td>76561198133294233</td>\n",
       "      <td>730</td>\n",
       "      <td>Counter-Strike: Global Offensive</td>\n",
       "      <td>[FPS, Shooter, Multiplayer, Competitive, Actio...</td>\n",
       "      <td>meh, still so many cheaters</td>\n",
       "      <td>True</td>\n",
       "      <td>False</td>\n",
       "    </tr>\n",
       "    <tr>\n",
       "      <th>23180</th>\n",
       "      <td>76561197989220516</td>\n",
       "      <td>730</td>\n",
       "      <td>Counter-Strike: Global Offensive</td>\n",
       "      <td>[FPS, Shooter, Multiplayer, Competitive, Actio...</td>\n",
       "      <td>to many hackers,high ping servers</td>\n",
       "      <td>True</td>\n",
       "      <td>False</td>\n",
       "    </tr>\n",
       "    <tr>\n",
       "      <th>23181</th>\n",
       "      <td>76561198319040167</td>\n",
       "      <td>730</td>\n",
       "      <td>Counter-Strike: Global Offensive</td>\n",
       "      <td>[FPS, Shooter, Multiplayer, Competitive, Actio...</td>\n",
       "      <td>terrible game, way to many cheaters</td>\n",
       "      <td>True</td>\n",
       "      <td>False</td>\n",
       "    </tr>\n",
       "    <tr>\n",
       "      <th>23182</th>\n",
       "      <td>76561198267558532</td>\n",
       "      <td>730</td>\n",
       "      <td>Counter-Strike: Global Offensive</td>\n",
       "      <td>[FPS, Shooter, Multiplayer, Competitive, Actio...</td>\n",
       "      <td>If you want to deal with blatant wall hackers,...</td>\n",
       "      <td>True</td>\n",
       "      <td>False</td>\n",
       "    </tr>\n",
       "  </tbody>\n",
       "</table>\n",
       "<p>23183 rows × 7 columns</p>\n",
       "</div>"
      ],
      "text/plain": [
       "                 steamid  appid                                 app_title  \\\n",
       "0      76561198271088129   4000                               Garry's Mod   \n",
       "1      76561198138206834   4000                               Garry's Mod   \n",
       "2      76561198128760839     70                                 Half-Life   \n",
       "3      76561198079636858   6060  Star Wars: Battlefront 2 (Classic, 2005)   \n",
       "4      76561198238100200    220                               Half-Life 2   \n",
       "...                  ...    ...                                       ...   \n",
       "23178  76561198868573076    730          Counter-Strike: Global Offensive   \n",
       "23179  76561198133294233    730          Counter-Strike: Global Offensive   \n",
       "23180  76561197989220516    730          Counter-Strike: Global Offensive   \n",
       "23181  76561198319040167    730          Counter-Strike: Global Offensive   \n",
       "23182  76561198267558532    730          Counter-Strike: Global Offensive   \n",
       "\n",
       "                                                app_tags  \\\n",
       "0      [Sandbox, Multiplayer, Funny, Moddable, Buildi...   \n",
       "1      [Sandbox, Multiplayer, Funny, Moddable, Buildi...   \n",
       "2      [FPS, Sci-fi, Action, Singleplayer, 1990's, Sh...   \n",
       "3      [Action, Multiplayer, Shooter, Third-Person Sh...   \n",
       "4      [FPS, Action, Sci-fi, Classic, Singleplayer, S...   \n",
       "...                                                  ...   \n",
       "23178  [FPS, Shooter, Multiplayer, Competitive, Actio...   \n",
       "23179  [FPS, Shooter, Multiplayer, Competitive, Actio...   \n",
       "23180  [FPS, Shooter, Multiplayer, Competitive, Actio...   \n",
       "23181  [FPS, Shooter, Multiplayer, Competitive, Actio...   \n",
       "23182  [FPS, Shooter, Multiplayer, Competitive, Actio...   \n",
       "\n",
       "                                                  review   fps  voted_up  \n",
       "0                                          good models\\n  True      True  \n",
       "1      I completely suck at making anything on here a...  True      True  \n",
       "2      There is not much to say about this old game t...  True      True  \n",
       "3      360 noscoped almost everything 10/10 even the ...  True      True  \n",
       "4        No need for a review. It's practically history.  True      True  \n",
       "...                                                  ...   ...       ...  \n",
       "23178        crap game i got 23000 hours and stil silver  True     False  \n",
       "23179                        meh, still so many cheaters  True     False  \n",
       "23180                  to many hackers,high ping servers  True     False  \n",
       "23181                terrible game, way to many cheaters  True     False  \n",
       "23182  If you want to deal with blatant wall hackers,...  True     False  \n",
       "\n",
       "[23183 rows x 7 columns]"
      ]
     },
     "execution_count": 4,
     "metadata": {},
     "output_type": "execute_result"
    }
   ],
   "source": [
    "thanos"
   ]
  },
  {
   "cell_type": "markdown",
   "id": "c7bd01e3-e26b-48ee-a444-7b75aafc282a",
   "metadata": {},
   "source": [
    "Lowering the tags and removing spaces."
   ]
  },
  {
   "cell_type": "code",
   "execution_count": 5,
   "id": "54cbb1e1-062c-4322-81ec-49beaca8aef7",
   "metadata": {},
   "outputs": [],
   "source": [
    "def clean_data(x):\n",
    "    if isinstance(x, list):\n",
    "        return [str.lower(i.replace(\" \", \"\")) for i in x]"
   ]
  },
  {
   "cell_type": "code",
   "execution_count": 6,
   "id": "8b49467c-2431-4091-a73d-fdb43f4cf58a",
   "metadata": {},
   "outputs": [],
   "source": [
    "for feature in features:\n",
    "    thanos[feature] = thanos[feature].apply(clean_data)"
   ]
  },
  {
   "cell_type": "code",
   "execution_count": 7,
   "id": "9c7b1ff6-5a4b-410f-af60-6e033052e547",
   "metadata": {},
   "outputs": [
    {
     "data": {
      "text/html": [
       "<div>\n",
       "<style scoped>\n",
       "    .dataframe tbody tr th:only-of-type {\n",
       "        vertical-align: middle;\n",
       "    }\n",
       "\n",
       "    .dataframe tbody tr th {\n",
       "        vertical-align: top;\n",
       "    }\n",
       "\n",
       "    .dataframe thead th {\n",
       "        text-align: right;\n",
       "    }\n",
       "</style>\n",
       "<table border=\"1\" class=\"dataframe\">\n",
       "  <thead>\n",
       "    <tr style=\"text-align: right;\">\n",
       "      <th></th>\n",
       "      <th>steamid</th>\n",
       "      <th>appid</th>\n",
       "      <th>app_title</th>\n",
       "      <th>app_tags</th>\n",
       "      <th>review</th>\n",
       "      <th>fps</th>\n",
       "      <th>voted_up</th>\n",
       "    </tr>\n",
       "  </thead>\n",
       "  <tbody>\n",
       "    <tr>\n",
       "      <th>0</th>\n",
       "      <td>76561198271088129</td>\n",
       "      <td>4000</td>\n",
       "      <td>Garry's Mod</td>\n",
       "      <td>[sandbox, multiplayer, funny, moddable, buildi...</td>\n",
       "      <td>good models\\n</td>\n",
       "      <td>True</td>\n",
       "      <td>True</td>\n",
       "    </tr>\n",
       "    <tr>\n",
       "      <th>1</th>\n",
       "      <td>76561198138206834</td>\n",
       "      <td>4000</td>\n",
       "      <td>Garry's Mod</td>\n",
       "      <td>[sandbox, multiplayer, funny, moddable, buildi...</td>\n",
       "      <td>I completely suck at making anything on here a...</td>\n",
       "      <td>True</td>\n",
       "      <td>True</td>\n",
       "    </tr>\n",
       "    <tr>\n",
       "      <th>2</th>\n",
       "      <td>76561198128760839</td>\n",
       "      <td>70</td>\n",
       "      <td>Half-Life</td>\n",
       "      <td>[fps, sci-fi, action, singleplayer, 1990's, sh...</td>\n",
       "      <td>There is not much to say about this old game t...</td>\n",
       "      <td>True</td>\n",
       "      <td>True</td>\n",
       "    </tr>\n",
       "    <tr>\n",
       "      <th>3</th>\n",
       "      <td>76561198079636858</td>\n",
       "      <td>6060</td>\n",
       "      <td>Star Wars: Battlefront 2 (Classic, 2005)</td>\n",
       "      <td>[action, multiplayer, shooter, third-personsho...</td>\n",
       "      <td>360 noscoped almost everything 10/10 even the ...</td>\n",
       "      <td>True</td>\n",
       "      <td>True</td>\n",
       "    </tr>\n",
       "    <tr>\n",
       "      <th>4</th>\n",
       "      <td>76561198238100200</td>\n",
       "      <td>220</td>\n",
       "      <td>Half-Life 2</td>\n",
       "      <td>[fps, action, sci-fi, classic, singleplayer, s...</td>\n",
       "      <td>No need for a review. It's practically history.</td>\n",
       "      <td>True</td>\n",
       "      <td>True</td>\n",
       "    </tr>\n",
       "    <tr>\n",
       "      <th>...</th>\n",
       "      <td>...</td>\n",
       "      <td>...</td>\n",
       "      <td>...</td>\n",
       "      <td>...</td>\n",
       "      <td>...</td>\n",
       "      <td>...</td>\n",
       "      <td>...</td>\n",
       "    </tr>\n",
       "    <tr>\n",
       "      <th>23178</th>\n",
       "      <td>76561198868573076</td>\n",
       "      <td>730</td>\n",
       "      <td>Counter-Strike: Global Offensive</td>\n",
       "      <td>[fps, shooter, multiplayer, competitive, actio...</td>\n",
       "      <td>crap game i got 23000 hours and stil silver</td>\n",
       "      <td>True</td>\n",
       "      <td>False</td>\n",
       "    </tr>\n",
       "    <tr>\n",
       "      <th>23179</th>\n",
       "      <td>76561198133294233</td>\n",
       "      <td>730</td>\n",
       "      <td>Counter-Strike: Global Offensive</td>\n",
       "      <td>[fps, shooter, multiplayer, competitive, actio...</td>\n",
       "      <td>meh, still so many cheaters</td>\n",
       "      <td>True</td>\n",
       "      <td>False</td>\n",
       "    </tr>\n",
       "    <tr>\n",
       "      <th>23180</th>\n",
       "      <td>76561197989220516</td>\n",
       "      <td>730</td>\n",
       "      <td>Counter-Strike: Global Offensive</td>\n",
       "      <td>[fps, shooter, multiplayer, competitive, actio...</td>\n",
       "      <td>to many hackers,high ping servers</td>\n",
       "      <td>True</td>\n",
       "      <td>False</td>\n",
       "    </tr>\n",
       "    <tr>\n",
       "      <th>23181</th>\n",
       "      <td>76561198319040167</td>\n",
       "      <td>730</td>\n",
       "      <td>Counter-Strike: Global Offensive</td>\n",
       "      <td>[fps, shooter, multiplayer, competitive, actio...</td>\n",
       "      <td>terrible game, way to many cheaters</td>\n",
       "      <td>True</td>\n",
       "      <td>False</td>\n",
       "    </tr>\n",
       "    <tr>\n",
       "      <th>23182</th>\n",
       "      <td>76561198267558532</td>\n",
       "      <td>730</td>\n",
       "      <td>Counter-Strike: Global Offensive</td>\n",
       "      <td>[fps, shooter, multiplayer, competitive, actio...</td>\n",
       "      <td>If you want to deal with blatant wall hackers,...</td>\n",
       "      <td>True</td>\n",
       "      <td>False</td>\n",
       "    </tr>\n",
       "  </tbody>\n",
       "</table>\n",
       "<p>23183 rows × 7 columns</p>\n",
       "</div>"
      ],
      "text/plain": [
       "                 steamid  appid                                 app_title  \\\n",
       "0      76561198271088129   4000                               Garry's Mod   \n",
       "1      76561198138206834   4000                               Garry's Mod   \n",
       "2      76561198128760839     70                                 Half-Life   \n",
       "3      76561198079636858   6060  Star Wars: Battlefront 2 (Classic, 2005)   \n",
       "4      76561198238100200    220                               Half-Life 2   \n",
       "...                  ...    ...                                       ...   \n",
       "23178  76561198868573076    730          Counter-Strike: Global Offensive   \n",
       "23179  76561198133294233    730          Counter-Strike: Global Offensive   \n",
       "23180  76561197989220516    730          Counter-Strike: Global Offensive   \n",
       "23181  76561198319040167    730          Counter-Strike: Global Offensive   \n",
       "23182  76561198267558532    730          Counter-Strike: Global Offensive   \n",
       "\n",
       "                                                app_tags  \\\n",
       "0      [sandbox, multiplayer, funny, moddable, buildi...   \n",
       "1      [sandbox, multiplayer, funny, moddable, buildi...   \n",
       "2      [fps, sci-fi, action, singleplayer, 1990's, sh...   \n",
       "3      [action, multiplayer, shooter, third-personsho...   \n",
       "4      [fps, action, sci-fi, classic, singleplayer, s...   \n",
       "...                                                  ...   \n",
       "23178  [fps, shooter, multiplayer, competitive, actio...   \n",
       "23179  [fps, shooter, multiplayer, competitive, actio...   \n",
       "23180  [fps, shooter, multiplayer, competitive, actio...   \n",
       "23181  [fps, shooter, multiplayer, competitive, actio...   \n",
       "23182  [fps, shooter, multiplayer, competitive, actio...   \n",
       "\n",
       "                                                  review   fps  voted_up  \n",
       "0                                          good models\\n  True      True  \n",
       "1      I completely suck at making anything on here a...  True      True  \n",
       "2      There is not much to say about this old game t...  True      True  \n",
       "3      360 noscoped almost everything 10/10 even the ...  True      True  \n",
       "4        No need for a review. It's practically history.  True      True  \n",
       "...                                                  ...   ...       ...  \n",
       "23178        crap game i got 23000 hours and stil silver  True     False  \n",
       "23179                        meh, still so many cheaters  True     False  \n",
       "23180                  to many hackers,high ping servers  True     False  \n",
       "23181                terrible game, way to many cheaters  True     False  \n",
       "23182  If you want to deal with blatant wall hackers,...  True     False  \n",
       "\n",
       "[23183 rows x 7 columns]"
      ]
     },
     "execution_count": 7,
     "metadata": {},
     "output_type": "execute_result"
    }
   ],
   "source": [
    "thanos"
   ]
  },
  {
   "cell_type": "markdown",
   "id": "bbe3591f-76ab-4b97-a326-dce262b5aaa0",
   "metadata": {},
   "source": [
    "Taking the tags out of a list and into a usable format to be vectorized."
   ]
  },
  {
   "cell_type": "code",
   "execution_count": 8,
   "id": "73a92ead-0c60-4001-89ac-a06ff1399cb8",
   "metadata": {},
   "outputs": [],
   "source": [
    "def create_usable(x):\n",
    "    return ' '.join(x['app_tags']) + ' ' + ' '"
   ]
  },
  {
   "cell_type": "code",
   "execution_count": 9,
   "id": "c25dd430-9486-49eb-944c-2f878825ca8d",
   "metadata": {},
   "outputs": [],
   "source": [
    "thanos['usable'] = thanos.apply(create_usable, axis=1)"
   ]
  },
  {
   "cell_type": "code",
   "execution_count": 10,
   "id": "79401b14-db12-4ab8-93b7-2bbec3978fbe",
   "metadata": {},
   "outputs": [
    {
     "data": {
      "text/html": [
       "<div>\n",
       "<style scoped>\n",
       "    .dataframe tbody tr th:only-of-type {\n",
       "        vertical-align: middle;\n",
       "    }\n",
       "\n",
       "    .dataframe tbody tr th {\n",
       "        vertical-align: top;\n",
       "    }\n",
       "\n",
       "    .dataframe thead th {\n",
       "        text-align: right;\n",
       "    }\n",
       "</style>\n",
       "<table border=\"1\" class=\"dataframe\">\n",
       "  <thead>\n",
       "    <tr style=\"text-align: right;\">\n",
       "      <th></th>\n",
       "      <th>steamid</th>\n",
       "      <th>appid</th>\n",
       "      <th>app_title</th>\n",
       "      <th>app_tags</th>\n",
       "      <th>review</th>\n",
       "      <th>fps</th>\n",
       "      <th>voted_up</th>\n",
       "      <th>usable</th>\n",
       "    </tr>\n",
       "  </thead>\n",
       "  <tbody>\n",
       "    <tr>\n",
       "      <th>0</th>\n",
       "      <td>76561198271088129</td>\n",
       "      <td>4000</td>\n",
       "      <td>Garry's Mod</td>\n",
       "      <td>[sandbox, multiplayer, funny, moddable, buildi...</td>\n",
       "      <td>good models\\n</td>\n",
       "      <td>True</td>\n",
       "      <td>True</td>\n",
       "      <td>sandbox multiplayer funny moddable building co...</td>\n",
       "    </tr>\n",
       "    <tr>\n",
       "      <th>1</th>\n",
       "      <td>76561198138206834</td>\n",
       "      <td>4000</td>\n",
       "      <td>Garry's Mod</td>\n",
       "      <td>[sandbox, multiplayer, funny, moddable, buildi...</td>\n",
       "      <td>I completely suck at making anything on here a...</td>\n",
       "      <td>True</td>\n",
       "      <td>True</td>\n",
       "      <td>sandbox multiplayer funny moddable building co...</td>\n",
       "    </tr>\n",
       "    <tr>\n",
       "      <th>2</th>\n",
       "      <td>76561198128760839</td>\n",
       "      <td>70</td>\n",
       "      <td>Half-Life</td>\n",
       "      <td>[fps, sci-fi, action, singleplayer, 1990's, sh...</td>\n",
       "      <td>There is not much to say about this old game t...</td>\n",
       "      <td>True</td>\n",
       "      <td>True</td>\n",
       "      <td>fps sci-fi action singleplayer 1990's shooter ...</td>\n",
       "    </tr>\n",
       "    <tr>\n",
       "      <th>3</th>\n",
       "      <td>76561198079636858</td>\n",
       "      <td>6060</td>\n",
       "      <td>Star Wars: Battlefront 2 (Classic, 2005)</td>\n",
       "      <td>[action, multiplayer, shooter, third-personsho...</td>\n",
       "      <td>360 noscoped almost everything 10/10 even the ...</td>\n",
       "      <td>True</td>\n",
       "      <td>True</td>\n",
       "      <td>action multiplayer shooter third-personshooter...</td>\n",
       "    </tr>\n",
       "    <tr>\n",
       "      <th>4</th>\n",
       "      <td>76561198238100200</td>\n",
       "      <td>220</td>\n",
       "      <td>Half-Life 2</td>\n",
       "      <td>[fps, action, sci-fi, classic, singleplayer, s...</td>\n",
       "      <td>No need for a review. It's practically history.</td>\n",
       "      <td>True</td>\n",
       "      <td>True</td>\n",
       "      <td>fps action sci-fi classic singleplayer storyri...</td>\n",
       "    </tr>\n",
       "    <tr>\n",
       "      <th>...</th>\n",
       "      <td>...</td>\n",
       "      <td>...</td>\n",
       "      <td>...</td>\n",
       "      <td>...</td>\n",
       "      <td>...</td>\n",
       "      <td>...</td>\n",
       "      <td>...</td>\n",
       "      <td>...</td>\n",
       "    </tr>\n",
       "    <tr>\n",
       "      <th>23178</th>\n",
       "      <td>76561198868573076</td>\n",
       "      <td>730</td>\n",
       "      <td>Counter-Strike: Global Offensive</td>\n",
       "      <td>[fps, shooter, multiplayer, competitive, actio...</td>\n",
       "      <td>crap game i got 23000 hours and stil silver</td>\n",
       "      <td>True</td>\n",
       "      <td>False</td>\n",
       "      <td>fps shooter multiplayer competitive action tea...</td>\n",
       "    </tr>\n",
       "    <tr>\n",
       "      <th>23179</th>\n",
       "      <td>76561198133294233</td>\n",
       "      <td>730</td>\n",
       "      <td>Counter-Strike: Global Offensive</td>\n",
       "      <td>[fps, shooter, multiplayer, competitive, actio...</td>\n",
       "      <td>meh, still so many cheaters</td>\n",
       "      <td>True</td>\n",
       "      <td>False</td>\n",
       "      <td>fps shooter multiplayer competitive action tea...</td>\n",
       "    </tr>\n",
       "    <tr>\n",
       "      <th>23180</th>\n",
       "      <td>76561197989220516</td>\n",
       "      <td>730</td>\n",
       "      <td>Counter-Strike: Global Offensive</td>\n",
       "      <td>[fps, shooter, multiplayer, competitive, actio...</td>\n",
       "      <td>to many hackers,high ping servers</td>\n",
       "      <td>True</td>\n",
       "      <td>False</td>\n",
       "      <td>fps shooter multiplayer competitive action tea...</td>\n",
       "    </tr>\n",
       "    <tr>\n",
       "      <th>23181</th>\n",
       "      <td>76561198319040167</td>\n",
       "      <td>730</td>\n",
       "      <td>Counter-Strike: Global Offensive</td>\n",
       "      <td>[fps, shooter, multiplayer, competitive, actio...</td>\n",
       "      <td>terrible game, way to many cheaters</td>\n",
       "      <td>True</td>\n",
       "      <td>False</td>\n",
       "      <td>fps shooter multiplayer competitive action tea...</td>\n",
       "    </tr>\n",
       "    <tr>\n",
       "      <th>23182</th>\n",
       "      <td>76561198267558532</td>\n",
       "      <td>730</td>\n",
       "      <td>Counter-Strike: Global Offensive</td>\n",
       "      <td>[fps, shooter, multiplayer, competitive, actio...</td>\n",
       "      <td>If you want to deal with blatant wall hackers,...</td>\n",
       "      <td>True</td>\n",
       "      <td>False</td>\n",
       "      <td>fps shooter multiplayer competitive action tea...</td>\n",
       "    </tr>\n",
       "  </tbody>\n",
       "</table>\n",
       "<p>23183 rows × 8 columns</p>\n",
       "</div>"
      ],
      "text/plain": [
       "                 steamid  appid                                 app_title  \\\n",
       "0      76561198271088129   4000                               Garry's Mod   \n",
       "1      76561198138206834   4000                               Garry's Mod   \n",
       "2      76561198128760839     70                                 Half-Life   \n",
       "3      76561198079636858   6060  Star Wars: Battlefront 2 (Classic, 2005)   \n",
       "4      76561198238100200    220                               Half-Life 2   \n",
       "...                  ...    ...                                       ...   \n",
       "23178  76561198868573076    730          Counter-Strike: Global Offensive   \n",
       "23179  76561198133294233    730          Counter-Strike: Global Offensive   \n",
       "23180  76561197989220516    730          Counter-Strike: Global Offensive   \n",
       "23181  76561198319040167    730          Counter-Strike: Global Offensive   \n",
       "23182  76561198267558532    730          Counter-Strike: Global Offensive   \n",
       "\n",
       "                                                app_tags  \\\n",
       "0      [sandbox, multiplayer, funny, moddable, buildi...   \n",
       "1      [sandbox, multiplayer, funny, moddable, buildi...   \n",
       "2      [fps, sci-fi, action, singleplayer, 1990's, sh...   \n",
       "3      [action, multiplayer, shooter, third-personsho...   \n",
       "4      [fps, action, sci-fi, classic, singleplayer, s...   \n",
       "...                                                  ...   \n",
       "23178  [fps, shooter, multiplayer, competitive, actio...   \n",
       "23179  [fps, shooter, multiplayer, competitive, actio...   \n",
       "23180  [fps, shooter, multiplayer, competitive, actio...   \n",
       "23181  [fps, shooter, multiplayer, competitive, actio...   \n",
       "23182  [fps, shooter, multiplayer, competitive, actio...   \n",
       "\n",
       "                                                  review   fps  voted_up  \\\n",
       "0                                          good models\\n  True      True   \n",
       "1      I completely suck at making anything on here a...  True      True   \n",
       "2      There is not much to say about this old game t...  True      True   \n",
       "3      360 noscoped almost everything 10/10 even the ...  True      True   \n",
       "4        No need for a review. It's practically history.  True      True   \n",
       "...                                                  ...   ...       ...   \n",
       "23178        crap game i got 23000 hours and stil silver  True     False   \n",
       "23179                        meh, still so many cheaters  True     False   \n",
       "23180                  to many hackers,high ping servers  True     False   \n",
       "23181                terrible game, way to many cheaters  True     False   \n",
       "23182  If you want to deal with blatant wall hackers,...  True     False   \n",
       "\n",
       "                                                  usable  \n",
       "0      sandbox multiplayer funny moddable building co...  \n",
       "1      sandbox multiplayer funny moddable building co...  \n",
       "2      fps sci-fi action singleplayer 1990's shooter ...  \n",
       "3      action multiplayer shooter third-personshooter...  \n",
       "4      fps action sci-fi classic singleplayer storyri...  \n",
       "...                                                  ...  \n",
       "23178  fps shooter multiplayer competitive action tea...  \n",
       "23179  fps shooter multiplayer competitive action tea...  \n",
       "23180  fps shooter multiplayer competitive action tea...  \n",
       "23181  fps shooter multiplayer competitive action tea...  \n",
       "23182  fps shooter multiplayer competitive action tea...  \n",
       "\n",
       "[23183 rows x 8 columns]"
      ]
     },
     "execution_count": 10,
     "metadata": {},
     "output_type": "execute_result"
    }
   ],
   "source": [
    "thanos"
   ]
  },
  {
   "cell_type": "markdown",
   "id": "55c40033-092f-4b18-8edb-605cf6365bc1",
   "metadata": {},
   "source": [
    "Creating a new DataFrame with only the necessary columns."
   ]
  },
  {
   "cell_type": "code",
   "execution_count": 11,
   "id": "1ffe8d31-a0e4-4b0e-949e-f04e975c9e40",
   "metadata": {},
   "outputs": [],
   "source": [
    "title_and_tags = thanos.drop(['steamid', 'appid', 'app_tags', 'review', 'fps', 'voted_up'], axis=1)"
   ]
  },
  {
   "cell_type": "code",
   "execution_count": 12,
   "id": "0b868c5b-d057-4eb1-8ff1-48933010f2ec",
   "metadata": {},
   "outputs": [
    {
     "data": {
      "text/html": [
       "<div>\n",
       "<style scoped>\n",
       "    .dataframe tbody tr th:only-of-type {\n",
       "        vertical-align: middle;\n",
       "    }\n",
       "\n",
       "    .dataframe tbody tr th {\n",
       "        vertical-align: top;\n",
       "    }\n",
       "\n",
       "    .dataframe thead th {\n",
       "        text-align: right;\n",
       "    }\n",
       "</style>\n",
       "<table border=\"1\" class=\"dataframe\">\n",
       "  <thead>\n",
       "    <tr style=\"text-align: right;\">\n",
       "      <th></th>\n",
       "      <th>app_title</th>\n",
       "      <th>usable</th>\n",
       "    </tr>\n",
       "  </thead>\n",
       "  <tbody>\n",
       "    <tr>\n",
       "      <th>0</th>\n",
       "      <td>Garry's Mod</td>\n",
       "      <td>sandbox multiplayer funny moddable building co...</td>\n",
       "    </tr>\n",
       "    <tr>\n",
       "      <th>1</th>\n",
       "      <td>Garry's Mod</td>\n",
       "      <td>sandbox multiplayer funny moddable building co...</td>\n",
       "    </tr>\n",
       "    <tr>\n",
       "      <th>2</th>\n",
       "      <td>Half-Life</td>\n",
       "      <td>fps sci-fi action singleplayer 1990's shooter ...</td>\n",
       "    </tr>\n",
       "    <tr>\n",
       "      <th>3</th>\n",
       "      <td>Star Wars: Battlefront 2 (Classic, 2005)</td>\n",
       "      <td>action multiplayer shooter third-personshooter...</td>\n",
       "    </tr>\n",
       "    <tr>\n",
       "      <th>4</th>\n",
       "      <td>Half-Life 2</td>\n",
       "      <td>fps action sci-fi classic singleplayer storyri...</td>\n",
       "    </tr>\n",
       "    <tr>\n",
       "      <th>...</th>\n",
       "      <td>...</td>\n",
       "      <td>...</td>\n",
       "    </tr>\n",
       "    <tr>\n",
       "      <th>23178</th>\n",
       "      <td>Counter-Strike: Global Offensive</td>\n",
       "      <td>fps shooter multiplayer competitive action tea...</td>\n",
       "    </tr>\n",
       "    <tr>\n",
       "      <th>23179</th>\n",
       "      <td>Counter-Strike: Global Offensive</td>\n",
       "      <td>fps shooter multiplayer competitive action tea...</td>\n",
       "    </tr>\n",
       "    <tr>\n",
       "      <th>23180</th>\n",
       "      <td>Counter-Strike: Global Offensive</td>\n",
       "      <td>fps shooter multiplayer competitive action tea...</td>\n",
       "    </tr>\n",
       "    <tr>\n",
       "      <th>23181</th>\n",
       "      <td>Counter-Strike: Global Offensive</td>\n",
       "      <td>fps shooter multiplayer competitive action tea...</td>\n",
       "    </tr>\n",
       "    <tr>\n",
       "      <th>23182</th>\n",
       "      <td>Counter-Strike: Global Offensive</td>\n",
       "      <td>fps shooter multiplayer competitive action tea...</td>\n",
       "    </tr>\n",
       "  </tbody>\n",
       "</table>\n",
       "<p>23183 rows × 2 columns</p>\n",
       "</div>"
      ],
      "text/plain": [
       "                                      app_title  \\\n",
       "0                                   Garry's Mod   \n",
       "1                                   Garry's Mod   \n",
       "2                                     Half-Life   \n",
       "3      Star Wars: Battlefront 2 (Classic, 2005)   \n",
       "4                                   Half-Life 2   \n",
       "...                                         ...   \n",
       "23178          Counter-Strike: Global Offensive   \n",
       "23179          Counter-Strike: Global Offensive   \n",
       "23180          Counter-Strike: Global Offensive   \n",
       "23181          Counter-Strike: Global Offensive   \n",
       "23182          Counter-Strike: Global Offensive   \n",
       "\n",
       "                                                  usable  \n",
       "0      sandbox multiplayer funny moddable building co...  \n",
       "1      sandbox multiplayer funny moddable building co...  \n",
       "2      fps sci-fi action singleplayer 1990's shooter ...  \n",
       "3      action multiplayer shooter third-personshooter...  \n",
       "4      fps action sci-fi classic singleplayer storyri...  \n",
       "...                                                  ...  \n",
       "23178  fps shooter multiplayer competitive action tea...  \n",
       "23179  fps shooter multiplayer competitive action tea...  \n",
       "23180  fps shooter multiplayer competitive action tea...  \n",
       "23181  fps shooter multiplayer competitive action tea...  \n",
       "23182  fps shooter multiplayer competitive action tea...  \n",
       "\n",
       "[23183 rows x 2 columns]"
      ]
     },
     "execution_count": 12,
     "metadata": {},
     "output_type": "execute_result"
    }
   ],
   "source": [
    "title_and_tags"
   ]
  },
  {
   "cell_type": "markdown",
   "id": "28195e75-fccc-4675-b701-a3e35b82c121",
   "metadata": {},
   "source": [
    "Dropping the duplicate game titles."
   ]
  },
  {
   "cell_type": "code",
   "execution_count": 13,
   "id": "66d265e5-bf8d-4253-9a8f-e60f58e6d61c",
   "metadata": {},
   "outputs": [],
   "source": [
    "title_and_tags = title_and_tags.drop_duplicates()"
   ]
  },
  {
   "cell_type": "code",
   "execution_count": 14,
   "id": "71c6abd5-77bc-48b8-b870-d62330625bb0",
   "metadata": {},
   "outputs": [
    {
     "data": {
      "text/plain": [
       "array([\"Garry's Mod\", 'Half-Life',\n",
       "       'Star Wars: Battlefront 2 (Classic, 2005)', 'Half-Life 2',\n",
       "       'The Ship: Murder Party', 'Fallout: New Vegas', 'Portal 2',\n",
       "       'Left 4 Dead 2', 'Call of Duty® 4: Modern Warfare®',\n",
       "       'Borderlands 2', 'Ultimate Doom', 'Half-Life 2: Lost Coast',\n",
       "       'Counter-Strike: Condition Zero', 'Team Fortress 2',\n",
       "       'Killing Floor', 'Arma 3', 'S.T.A.L.K.E.R.: Call of Pripyat',\n",
       "       'Call of Duty® 2', 'Chaser', 'Half-Life: Blue Shift',\n",
       "       'Red Orchestra 2: Heroes of Stalingrad with Rising Storm',\n",
       "       'STAR WARS™ Jedi Knight II - Jedi Outcast™', 'BioShock Infinite',\n",
       "       'STAR WARS™ Jedi Knight - Jedi Academy™',\n",
       "       'Hitman 2: Silent Assassin', 'Call of Duty®: Modern Warfare® 2',\n",
       "       \"Mirror's Edge™\", 'Aliens vs. Predator™',\n",
       "       'Deus Ex: Game of the Year Edition',\n",
       "       'Fallout 3: Game of the Year Edition',\n",
       "       'Arma 2: Operation Arrowhead', 'Crysis 2 - Maximum Edition',\n",
       "       'ORION: Prelude', 'Crysis', 'Zeno Clash',\n",
       "       'Call of Duty®: Black Ops II', 'Portal',\n",
       "       'Call of Duty: World at War',\n",
       "       'S.T.A.L.K.E.R.: Shadow of Chernobyl', 'E.Y.E: Divine Cybermancy',\n",
       "       'Battlefield: Bad Company™ 2', 'DOOM II', 'QUAKE',\n",
       "       'STAR WARS™ Republic Commando™', 'Half-Life: Opposing Force',\n",
       "       'Duke Nukem Forever', 'Half-Life 2: Deathmatch', 'Unreal Gold',\n",
       "       'Quake III Arena', 'Half-Life 2: Episode Two',\n",
       "       'S.T.A.L.K.E.R.: Clear Sky', 'PAYDAY™ The Heist', 'Sanctum',\n",
       "       'QUAKE II', 'Call of Duty: United Offensive',\n",
       "       'Wolfenstein: The New Order', 'F.E.A.R. 3',\n",
       "       'Half-Life 2: Episode One', 'Serious Sam 3: BFE', 'F.E.A.R.',\n",
       "       'ARMA: Cold War Assault', 'Quake IV', 'STAR WARS™ - Dark Forces',\n",
       "       \"Far Cry® 2: Fortune's Edition\", 'GROUND BRANCH',\n",
       "       'Call of Duty®: Black Ops', 'Left 4 Dead', 'Call of Duty®',\n",
       "       \"Tom Clancy's Rainbow Six® 3 Gold\", 'Wolfenstein 3D',\n",
       "       'Call of Juarez: Bound in Blood', 'Sniper: Ghost Warrior 2',\n",
       "       'Xotic', 'Serious Sam HD: The First Encounter',\n",
       "       'Natural Selection 2', 'Ricochet', 'Red Faction II',\n",
       "       \"Tom Clancy's Rainbow Six® Vegas\", 'Blacklight: Tango Down',\n",
       "       'F.E.A.R. 2: Project Origin', 'Twin Sector', 'Men of War™',\n",
       "       'Men of War: Assault Squad', 'Far Cry®',\n",
       "       'Red Faction®: Armageddon™', 'Aliens versus Predator Classic 2000',\n",
       "       'Fallout 3', 'Men of War: Vietnam', 'Rogue Warrior',\n",
       "       'The Darkness II', \"Oddworld: Stranger's Wrath HD\", 'The Ball',\n",
       "       'Hard Reset Extended Edition', \"Tom Clancy's Rainbow Six® Vegas 2\",\n",
       "       'ARMA: Combat Operations', 'Deathmatch Classic',\n",
       "       'Medal of Honor: Airborne', 'Day of Defeat', 'Dino D-Day',\n",
       "       'Singularity™', 'Delta Force',\n",
       "       'STAR WARS™ Jedi Knight - Mysteries of the Sith™',\n",
       "       'STAR WARS™ Jedi Knight: Dark Forces II', 'TimeShift™',\n",
       "       'Warhammer® 40,000: Dawn of War® - Dark Crusade',\n",
       "       'Deus Ex: Invisible War', 'Arma 2', 'Homefront', 'Alpha Prime',\n",
       "       'Bloody Good Time', 'Legendary', 'Crysis Warhead®',\n",
       "       'Carrier Command: Gaea Mission', 'HeXen: Beyond Heretic',\n",
       "       'Delta Force 2', 'BRINK', 'Condemned: Criminal Origins',\n",
       "       'Heretic: Shadow of the Serpent Riders', 'Red Faction',\n",
       "       'Red Orchestra: Ostfront 41-45',\n",
       "       'Joint Operations: Combined Arms Gold', 'QUAKE III: Team Arena',\n",
       "       'Call of Juarez', 'Medal of Honor™', 'Nuclear Dawn',\n",
       "       'Sniper: Ghost Warrior', 'Judge Dredd: Dredd vs. Death',\n",
       "       'NecroVisioN: Lost Company', 'Postal III',\n",
       "       'Space Trader: Merchant Marine', 'Sniper Elite',\n",
       "       'Pirates, Vikings, and Knights II',\n",
       "       'Brothers in Arms: Road to Hill 30™',\n",
       "       \"Brothers in Arms: Hell's Highway™\", 'NecroVision',\n",
       "       'Darkest of Days', \"Penguins Arena: Sedna's World\",\n",
       "       'Section 8®: Prejudice™', 'RIFT', \"Tom Clancy's Ghost Recon®\",\n",
       "       \"Tom Clancy's Rainbow Six Lockdown™\", 'SiN Episodes: Emergence',\n",
       "       'Thief: Deadly Shadows', 'Painkiller: Resurrection',\n",
       "       'Tank Universal', 'Kingpin — Life of Crime',\n",
       "       'Delta Force: Black Hawk Down',\n",
       "       'Delta Force — Black Hawk Down: Team Sabre', 'Tribes: Ascend',\n",
       "       'Conflict: Denied Ops', 'EverQuest II', 'Painkiller Overdose',\n",
       "       'Project: Snowblind', 'Final DOOM', 'APB Reloaded',\n",
       "       'Frontlines™: Fuel of War™', 'Iron Front: Digital War Edition',\n",
       "       'Painkiller Redemption', 'Delta Force Land Warrior',\n",
       "       'Revelations 2012', 'Brothers in Arms: Earned in Blood™',\n",
       "       'ARMA: Gold Edition', 'Nexuiz', 'Empires Mod',\n",
       "       \"Hamilton's Great Adventure\", 'Counter-Strike: Global Offensive'],\n",
       "      dtype=object)"
      ]
     },
     "execution_count": 14,
     "metadata": {},
     "output_type": "execute_result"
    }
   ],
   "source": [
    "title_and_tags['app_title'].unique()"
   ]
  },
  {
   "cell_type": "markdown",
   "id": "f4ace3f4-22de-48de-8c60-6bb1598c1f54",
   "metadata": {},
   "source": [
    "Vectorizing the tags of the games so they can be put into a matrix. The matrix was then compared to itself to calculate the cosine similarity of the tags for the games. This give a score for how similar the tags of one game are to another game."
   ]
  },
  {
   "cell_type": "code",
   "execution_count": 15,
   "id": "4306f125-5461-479d-99cf-c301ff68be49",
   "metadata": {},
   "outputs": [],
   "source": [
    "from sklearn.feature_extraction.text import CountVectorizer\n",
    "\n",
    "count = CountVectorizer(stop_words='english')\n",
    "count_matrix = count.fit_transform(title_and_tags['usable'])"
   ]
  },
  {
   "cell_type": "code",
   "execution_count": 16,
   "id": "970b26b0-b365-4bbb-93e8-6914705fd1c0",
   "metadata": {},
   "outputs": [
    {
     "data": {
      "text/plain": [
       "(166, 204)"
      ]
     },
     "execution_count": 16,
     "metadata": {},
     "output_type": "execute_result"
    }
   ],
   "source": [
    "count_matrix.shape"
   ]
  },
  {
   "cell_type": "code",
   "execution_count": 17,
   "id": "6bc54797-f40a-4a92-bc62-37dd875612fe",
   "metadata": {},
   "outputs": [],
   "source": [
    "from sklearn.metrics.pairwise import cosine_similarity\n",
    "\n",
    "cosine_sim = cosine_similarity(count_matrix, count_matrix)"
   ]
  },
  {
   "cell_type": "markdown",
   "id": "1c7c8127-baa9-4523-b8fe-dd458bccf3f4",
   "metadata": {},
   "source": [
    "Putting the games list into a series."
   ]
  },
  {
   "cell_type": "code",
   "execution_count": 18,
   "id": "e4633600-70e0-4951-8ef3-b75ce6bc221b",
   "metadata": {},
   "outputs": [],
   "source": [
    "recommend = title_and_tags.reset_index()\n",
    "indices = pd.Series(recommend.index, index=recommend['app_title'])"
   ]
  },
  {
   "cell_type": "code",
   "execution_count": 27,
   "id": "fe0acad1-7207-4318-ae2a-c6045def8313",
   "metadata": {},
   "outputs": [
    {
     "data": {
      "text/plain": [
       "1"
      ]
     },
     "execution_count": 27,
     "metadata": {},
     "output_type": "execute_result"
    }
   ],
   "source": [
    "indices['Half-Life']"
   ]
  },
  {
   "cell_type": "markdown",
   "id": "59584795-27cf-4c2a-8a37-6d90dcffecef",
   "metadata": {},
   "source": [
    "# The Recommendations"
   ]
  },
  {
   "cell_type": "markdown",
   "id": "c825053f-7ad6-44f2-9560-64ec62138396",
   "metadata": {},
   "source": [
    "The function takes in a title of a game, the score that is predicted from the NLP model (1 for a positive review or 0 for a negative review), and the cosine similarities calculated for the games. The function returns the top 10 games with the most similar tags if the predicted score for the review was a 1 or the bottom 10 games with the least similar tags if the predicted score for the review was a 0."
   ]
  },
  {
   "cell_type": "code",
   "execution_count": 30,
   "id": "1b0b55cb-9002-49b2-b15b-b683fc6cf86e",
   "metadata": {},
   "outputs": [],
   "source": [
    "def get_recommendations(title, score, cosine_sim=cosine_sim):\n",
    "    # Get the index of the movie that matches the title\n",
    "    idx = indices[title]\n",
    "\n",
    "    # Get the pairwsie similarity scores of all movies with that movie\n",
    "    sim_scores = list(enumerate(cosine_sim[idx]))\n",
    "\n",
    "    # Sort the movies based on the similarity scores\n",
    "    sim_scores = sorted(sim_scores, key=lambda x: x[1], reverse=True)\n",
    "\n",
    "    # Get the scores of the 10 most similar movies\n",
    "    if score == 0:\n",
    "        sim_scores = sim_scores[156:167]\n",
    "    elif score == 1:\n",
    "        sim_scores = sim_scores[1:11]\n",
    "\n",
    "    # Get the movie indices\n",
    "    game_indices = [i[0] for i in sim_scores]\n",
    "\n",
    "    # Return the top 10 most similar movies\n",
    "    return recommend['app_title'].iloc[game_indices]"
   ]
  },
  {
   "cell_type": "markdown",
   "id": "7294c156-f69d-45f0-82b3-4aede092a743",
   "metadata": {},
   "source": [
    "# Testing the function"
   ]
  },
  {
   "cell_type": "code",
   "execution_count": 37,
   "id": "592c36bf-1227-4dfb-95da-60ec88995ac7",
   "metadata": {},
   "outputs": [
    {
     "data": {
      "text/plain": [
       "19                               Half-Life: Blue Shift\n",
       "44                           Half-Life: Opposing Force\n",
       "101    STAR WARS™ Jedi Knight - Mysteries of the Sith™\n",
       "3                                          Half-Life 2\n",
       "61                                            Quake IV\n",
       "42                                               QUAKE\n",
       "62                            STAR WARS™ - Dark Forces\n",
       "33                                              Crysis\n",
       "57                            Half-Life 2: Episode One\n",
       "118                                        Red Faction\n",
       "Name: app_title, dtype: object"
      ]
     },
     "execution_count": 37,
     "metadata": {},
     "output_type": "execute_result"
    }
   ],
   "source": [
    "get_recommendations('Half-Life', 1)"
   ]
  },
  {
   "cell_type": "code",
   "execution_count": 53,
   "id": "23a5c2c6-eff7-4c4e-ab3e-b781c5f85798",
   "metadata": {},
   "outputs": [
    {
     "data": {
      "text/plain": [
       "88                          Rogue Warrior\n",
       "81                            Men of War™\n",
       "94                ARMA: Combat Operations\n",
       "159                      Revelations 2012\n",
       "129         Space Trader: Merchant Marine\n",
       "87                    Men of War: Vietnam\n",
       "82              Men of War: Assault Squad\n",
       "164            Hamilton's Great Adventure\n",
       "160    Brothers in Arms: Earned in Blood™\n",
       "13                        Team Fortress 2\n",
       "Name: app_title, dtype: object"
      ]
     },
     "execution_count": 53,
     "metadata": {},
     "output_type": "execute_result"
    }
   ],
   "source": [
    "get_recommendations('Half-Life', 0)"
   ]
  },
  {
   "cell_type": "code",
   "execution_count": 54,
   "id": "0dbb3cbc-f4a1-4908-ace1-c71f3ec64a34",
   "metadata": {},
   "outputs": [
    {
     "data": {
      "text/plain": [
       "101    STAR WARS™ Jedi Knight - Mysteries of the Sith™\n",
       "117              Heretic: Shadow of the Serpent Riders\n",
       "102             STAR WARS™ Jedi Knight: Dark Forces II\n",
       "41                                             DOOM II\n",
       "42                                               QUAKE\n",
       "47                                         Unreal Gold\n",
       "1                                            Half-Life\n",
       "76                                      Red Faction II\n",
       "152                                 Project: Snowblind\n",
       "137                             Section 8®: Prejudice™\n",
       "Name: app_title, dtype: object"
      ]
     },
     "execution_count": 54,
     "metadata": {},
     "output_type": "execute_result"
    }
   ],
   "source": [
    "get_recommendations('STAR WARS™ - Dark Forces', 1)"
   ]
  },
  {
   "cell_type": "code",
   "execution_count": 55,
   "id": "2637e41f-9b1f-4aa8-a049-dd87c0b7455d",
   "metadata": {},
   "outputs": [
    {
     "data": {
      "text/plain": [
       "163                           Empires Mod\n",
       "160    Brothers in Arms: Earned in Blood™\n",
       "98                             Dino D-Day\n",
       "81                            Men of War™\n",
       "164            Hamilton's Great Adventure\n",
       "87                    Men of War: Vietnam\n",
       "165      Counter-Strike: Global Offensive\n",
       "13                        Team Fortress 2\n",
       "159                      Revelations 2012\n",
       "82              Men of War: Assault Squad\n",
       "Name: app_title, dtype: object"
      ]
     },
     "execution_count": 55,
     "metadata": {},
     "output_type": "execute_result"
    }
   ],
   "source": [
    "get_recommendations('STAR WARS™ - Dark Forces', 0)"
   ]
  },
  {
   "cell_type": "code",
   "execution_count": 56,
   "id": "23b802c9-4341-4065-8168-65351b880b1a",
   "metadata": {},
   "outputs": [
    {
     "data": {
      "text/plain": [
       "108                                        Alpha Prime\n",
       "78                              Blacklight: Tango Down\n",
       "140                 Tom Clancy's Rainbow Six Lockdown™\n",
       "76                                      Red Faction II\n",
       "152                                 Project: Snowblind\n",
       "101    STAR WARS™ Jedi Knight - Mysteries of the Sith™\n",
       "118                                        Red Faction\n",
       "124                                       Nuclear Dawn\n",
       "151                                Painkiller Overdose\n",
       "18                                              Chaser\n",
       "Name: app_title, dtype: object"
      ]
     },
     "execution_count": 56,
     "metadata": {},
     "output_type": "execute_result"
    }
   ],
   "source": [
    "get_recommendations('Section 8®: Prejudice™', 1)"
   ]
  },
  {
   "cell_type": "code",
   "execution_count": 57,
   "id": "e51fef24-c90c-48e1-9971-34b2ac4fee49",
   "metadata": {},
   "outputs": [
    {
     "data": {
      "text/plain": [
       "70                Call of Juarez: Bound in Blood\n",
       "33                                        Crysis\n",
       "83                                      Far Cry®\n",
       "21     STAR WARS™ Jedi Knight II - Jedi Outcast™\n",
       "63                 Far Cry® 2: Fortune's Edition\n",
       "118                                  Red Faction\n",
       "96                      Medal of Honor: Airborne\n",
       "111                              Crysis Warhead®\n",
       "31                    Crysis 2 - Maximum Edition\n",
       "107                                    Homefront\n",
       "Name: app_title, dtype: object"
      ]
     },
     "execution_count": 57,
     "metadata": {},
     "output_type": "execute_result"
    }
   ],
   "source": [
    "get_recommendations('Call of Juarez', 1)"
   ]
  },
  {
   "cell_type": "code",
   "execution_count": 58,
   "id": "d7009d6b-13d2-45ac-8b3d-d8e1f62df567",
   "metadata": {},
   "outputs": [
    {
     "data": {
      "text/plain": [
       "131    Pirates, Vikings, and Knights II\n",
       "141             SiN Episodes: Emergence\n",
       "10                        Ultimate Doom\n",
       "113               HeXen: Beyond Heretic\n",
       "72                                Xotic\n",
       "112       Carrier Command: Gaea Mission\n",
       "26                       Mirror's Edge™\n",
       "75                             Ricochet\n",
       "164          Hamilton's Great Adventure\n",
       "129       Space Trader: Merchant Marine\n",
       "Name: app_title, dtype: object"
      ]
     },
     "execution_count": 58,
     "metadata": {},
     "output_type": "execute_result"
    }
   ],
   "source": [
    "get_recommendations('Medal of Honor™', 0)"
   ]
  },
  {
   "cell_type": "code",
   "execution_count": 59,
   "id": "667bb5a4-281f-44c2-96c3-e9ab5fd70380",
   "metadata": {},
   "outputs": [
    {
     "data": {
      "text/plain": [
       "143         Painkiller: Resurrection\n",
       "92       Hard Reset Extended Edition\n",
       "150                     EverQuest II\n",
       "112    Carrier Command: Gaea Mission\n",
       "135                  Darkest of Days\n",
       "75                          Ricochet\n",
       "88                     Rogue Warrior\n",
       "113            HeXen: Beyond Heretic\n",
       "72                             Xotic\n",
       "129    Space Trader: Merchant Marine\n",
       "Name: app_title, dtype: object"
      ]
     },
     "execution_count": 59,
     "metadata": {},
     "output_type": "execute_result"
    }
   ],
   "source": [
    "get_recommendations('Call of Duty®: Modern Warfare® 2', 0)"
   ]
  },
  {
   "cell_type": "markdown",
   "id": "0593b371-f2af-4ffe-99bd-3a0db7dd3d3a",
   "metadata": {},
   "source": [
    "### Pickling the function, vectorizer, and cosine similarities to use in deployment."
   ]
  },
  {
   "cell_type": "code",
   "execution_count": 39,
   "id": "0b80f0b1-7067-4bf2-80c7-3eb5f7d58837",
   "metadata": {},
   "outputs": [],
   "source": [
    "import pickle"
   ]
  },
  {
   "cell_type": "code",
   "execution_count": 64,
   "id": "c7da5cf6-f261-4159-a1d3-26cbdd19e0cb",
   "metadata": {},
   "outputs": [],
   "source": [
    "with open('get_recommendations.pkl', 'wb') as f:\n",
    "    pickle.dump(get_recommendations, f)"
   ]
  },
  {
   "cell_type": "code",
   "execution_count": 57,
   "id": "ce0b3e51-8387-4472-b5bf-f25604ad1cd5",
   "metadata": {},
   "outputs": [],
   "source": [
    "with open('count_vectorizer.pkl', 'wb') as f:\n",
    "    pickle.dump(count, f)"
   ]
  },
  {
   "cell_type": "code",
   "execution_count": 65,
   "id": "b5fcbf29-724d-4c0f-a03e-42b54225b7f0",
   "metadata": {},
   "outputs": [],
   "source": [
    "with open('cosine_sim.pkl', 'wb') as f:\n",
    "    pickle.dump(cosine_sim, f)"
   ]
  },
  {
   "cell_type": "code",
   "execution_count": 40,
   "id": "5be09f32-a664-4ef5-8b84-7ba5ea79057d",
   "metadata": {},
   "outputs": [],
   "source": [
    "with open('recommend.pkl', 'wb') as f:\n",
    "    pickle.dump(recommend, f)"
   ]
  },
  {
   "cell_type": "code",
   "execution_count": 41,
   "id": "5707bfa8-8c7d-4036-8295-6532fe71a4c0",
   "metadata": {},
   "outputs": [],
   "source": [
    "with open('indices.pkl', 'wb') as f:\n",
    "    pickle.dump(indices, f)"
   ]
  },
  {
   "cell_type": "code",
   "execution_count": null,
   "id": "ae1700af-7022-480c-8239-38df7efa5582",
   "metadata": {},
   "outputs": [],
   "source": []
  }
 ],
 "metadata": {
  "kernelspec": {
   "display_name": "learn-env",
   "language": "python",
   "name": "learn-env"
  },
  "language_info": {
   "codemirror_mode": {
    "name": "ipython",
    "version": 3
   },
   "file_extension": ".py",
   "mimetype": "text/x-python",
   "name": "python",
   "nbconvert_exporter": "python",
   "pygments_lexer": "ipython3",
   "version": "3.8.5"
  }
 },
 "nbformat": 4,
 "nbformat_minor": 5
}

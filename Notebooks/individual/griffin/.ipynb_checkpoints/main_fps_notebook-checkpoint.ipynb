{
 "cells": [
  {
   "cell_type": "code",
   "execution_count": 11,
   "id": "105d4ac7-5113-416f-a05d-670a01990759",
   "metadata": {},
   "outputs": [],
   "source": [
    "import pandas as pd\n",
    "import numpy as np\n",
    "import matplotlib.pyplot as plt\n",
    "from collections import Counter\n",
    "from surprise import Dataset, Reader\n",
    "from surprise import accuracy\n",
    "from surprise.model_selection import cross_validate, train_test_split\n",
    "from surprise.prediction_algorithms import SVD\n",
    "from surprise.prediction_algorithms import KNNWithMeans, KNNBasic, KNNBaseline\n",
    "from surprise.model_selection import GridSearchCV\n",
    "from sklearn.preprocessing import LabelEncoder"
   ]
  },
  {
   "cell_type": "code",
   "execution_count": 12,
   "id": "ff9fab9c-c127-4860-b31a-28bee48fa3fc",
   "metadata": {},
   "outputs": [
    {
     "data": {
      "text/html": [
       "<div>\n",
       "<style scoped>\n",
       "    .dataframe tbody tr th:only-of-type {\n",
       "        vertical-align: middle;\n",
       "    }\n",
       "\n",
       "    .dataframe tbody tr th {\n",
       "        vertical-align: top;\n",
       "    }\n",
       "\n",
       "    .dataframe thead th {\n",
       "        text-align: right;\n",
       "    }\n",
       "</style>\n",
       "<table border=\"1\" class=\"dataframe\">\n",
       "  <thead>\n",
       "    <tr style=\"text-align: right;\">\n",
       "      <th></th>\n",
       "      <th>steamid</th>\n",
       "      <th>appid</th>\n",
       "      <th>app_title</th>\n",
       "      <th>app_tags</th>\n",
       "      <th>review</th>\n",
       "      <th>fps</th>\n",
       "      <th>voted_up</th>\n",
       "    </tr>\n",
       "  </thead>\n",
       "  <tbody>\n",
       "    <tr>\n",
       "      <th>0</th>\n",
       "      <td>76561198865552498</td>\n",
       "      <td>730</td>\n",
       "      <td>Counter-Strike: Global Offensive</td>\n",
       "      <td>['FPS', 'Shooter', 'Multiplayer', 'Competitive...</td>\n",
       "      <td>very good game</td>\n",
       "      <td>True</td>\n",
       "      <td>1</td>\n",
       "    </tr>\n",
       "    <tr>\n",
       "      <th>1</th>\n",
       "      <td>76561197964533061</td>\n",
       "      <td>730</td>\n",
       "      <td>Counter-Strike: Global Offensive</td>\n",
       "      <td>['FPS', 'Shooter', 'Multiplayer', 'Competitive...</td>\n",
       "      <td>beause S</td>\n",
       "      <td>True</td>\n",
       "      <td>1</td>\n",
       "    </tr>\n",
       "    <tr>\n",
       "      <th>2</th>\n",
       "      <td>76561198290998839</td>\n",
       "      <td>730</td>\n",
       "      <td>Counter-Strike: Global Offensive</td>\n",
       "      <td>['FPS', 'Shooter', 'Multiplayer', 'Competitive...</td>\n",
       "      <td>Russians everywhere, do not recommend</td>\n",
       "      <td>True</td>\n",
       "      <td>1</td>\n",
       "    </tr>\n",
       "    <tr>\n",
       "      <th>3</th>\n",
       "      <td>76561198073021168</td>\n",
       "      <td>60</td>\n",
       "      <td>Ricochet</td>\n",
       "      <td>['Action', 'FPS', 'Multiplayer', 'Classic', 'F...</td>\n",
       "      <td>best game, best game, 10/10 i r8 8/8</td>\n",
       "      <td>True</td>\n",
       "      <td>1</td>\n",
       "    </tr>\n",
       "    <tr>\n",
       "      <th>4</th>\n",
       "      <td>76561198061142423</td>\n",
       "      <td>550</td>\n",
       "      <td>Left 4 Dead 2</td>\n",
       "      <td>['Zombies', 'Co-op', 'FPS', 'Multiplayer', 'Sh...</td>\n",
       "      <td>køb hvis du kan lide zombie spil ;D</td>\n",
       "      <td>True</td>\n",
       "      <td>1</td>\n",
       "    </tr>\n",
       "    <tr>\n",
       "      <th>...</th>\n",
       "      <td>...</td>\n",
       "      <td>...</td>\n",
       "      <td>...</td>\n",
       "      <td>...</td>\n",
       "      <td>...</td>\n",
       "      <td>...</td>\n",
       "      <td>...</td>\n",
       "    </tr>\n",
       "    <tr>\n",
       "      <th>19675</th>\n",
       "      <td>76561198174234215</td>\n",
       "      <td>70</td>\n",
       "      <td>Half-Life</td>\n",
       "      <td>['FPS', 'Sci-fi', 'Action', 'Singleplayer', \"1...</td>\n",
       "      <td>Honestly does not hold up for me. Go buy Black...</td>\n",
       "      <td>True</td>\n",
       "      <td>0</td>\n",
       "    </tr>\n",
       "    <tr>\n",
       "      <th>19676</th>\n",
       "      <td>76561198399192985</td>\n",
       "      <td>730</td>\n",
       "      <td>Counter-Strike: Global Offensive</td>\n",
       "      <td>['FPS', 'Shooter', 'Multiplayer', 'Competitive...</td>\n",
       "      <td>bad comunity. If you want to try hard at this ...</td>\n",
       "      <td>True</td>\n",
       "      <td>0</td>\n",
       "    </tr>\n",
       "    <tr>\n",
       "      <th>19677</th>\n",
       "      <td>76561197974601384</td>\n",
       "      <td>730</td>\n",
       "      <td>Counter-Strike: Global Offensive</td>\n",
       "      <td>['FPS', 'Shooter', 'Multiplayer', 'Competitive...</td>\n",
       "      <td>Dont start</td>\n",
       "      <td>True</td>\n",
       "      <td>0</td>\n",
       "    </tr>\n",
       "    <tr>\n",
       "      <th>19678</th>\n",
       "      <td>76561198204888087</td>\n",
       "      <td>730</td>\n",
       "      <td>Counter-Strike: Global Offensive</td>\n",
       "      <td>['FPS', 'Shooter', 'Multiplayer', 'Competitive...</td>\n",
       "      <td>Why the hell does this game have a battle roya...</td>\n",
       "      <td>True</td>\n",
       "      <td>0</td>\n",
       "    </tr>\n",
       "    <tr>\n",
       "      <th>19679</th>\n",
       "      <td>76561198130435619</td>\n",
       "      <td>730</td>\n",
       "      <td>Counter-Strike: Global Offensive</td>\n",
       "      <td>['FPS', 'Shooter', 'Multiplayer', 'Competitive...</td>\n",
       "      <td>trash</td>\n",
       "      <td>True</td>\n",
       "      <td>0</td>\n",
       "    </tr>\n",
       "  </tbody>\n",
       "</table>\n",
       "<p>19680 rows × 7 columns</p>\n",
       "</div>"
      ],
      "text/plain": [
       "                 steamid  appid                         app_title  \\\n",
       "0      76561198865552498    730  Counter-Strike: Global Offensive   \n",
       "1      76561197964533061    730  Counter-Strike: Global Offensive   \n",
       "2      76561198290998839    730  Counter-Strike: Global Offensive   \n",
       "3      76561198073021168     60                          Ricochet   \n",
       "4      76561198061142423    550                     Left 4 Dead 2   \n",
       "...                  ...    ...                               ...   \n",
       "19675  76561198174234215     70                         Half-Life   \n",
       "19676  76561198399192985    730  Counter-Strike: Global Offensive   \n",
       "19677  76561197974601384    730  Counter-Strike: Global Offensive   \n",
       "19678  76561198204888087    730  Counter-Strike: Global Offensive   \n",
       "19679  76561198130435619    730  Counter-Strike: Global Offensive   \n",
       "\n",
       "                                                app_tags  \\\n",
       "0      ['FPS', 'Shooter', 'Multiplayer', 'Competitive...   \n",
       "1      ['FPS', 'Shooter', 'Multiplayer', 'Competitive...   \n",
       "2      ['FPS', 'Shooter', 'Multiplayer', 'Competitive...   \n",
       "3      ['Action', 'FPS', 'Multiplayer', 'Classic', 'F...   \n",
       "4      ['Zombies', 'Co-op', 'FPS', 'Multiplayer', 'Sh...   \n",
       "...                                                  ...   \n",
       "19675  ['FPS', 'Sci-fi', 'Action', 'Singleplayer', \"1...   \n",
       "19676  ['FPS', 'Shooter', 'Multiplayer', 'Competitive...   \n",
       "19677  ['FPS', 'Shooter', 'Multiplayer', 'Competitive...   \n",
       "19678  ['FPS', 'Shooter', 'Multiplayer', 'Competitive...   \n",
       "19679  ['FPS', 'Shooter', 'Multiplayer', 'Competitive...   \n",
       "\n",
       "                                                  review   fps  voted_up  \n",
       "0                                         very good game  True         1  \n",
       "1                                               beause S  True         1  \n",
       "2                  Russians everywhere, do not recommend  True         1  \n",
       "3                   best game, best game, 10/10 i r8 8/8  True         1  \n",
       "4                    køb hvis du kan lide zombie spil ;D  True         1  \n",
       "...                                                  ...   ...       ...  \n",
       "19675  Honestly does not hold up for me. Go buy Black...  True         0  \n",
       "19676  bad comunity. If you want to try hard at this ...  True         0  \n",
       "19677                                         Dont start  True         0  \n",
       "19678  Why the hell does this game have a battle roya...  True         0  \n",
       "19679                                              trash  True         0  \n",
       "\n",
       "[19680 rows x 7 columns]"
      ]
     },
     "execution_count": 12,
     "metadata": {},
     "output_type": "execute_result"
    }
   ],
   "source": [
    "fps_main = pd.read_csv('../../../data/fps_main.csv')\n",
    "fps_main"
   ]
  },
  {
   "cell_type": "code",
   "execution_count": 13,
   "id": "66af90e2-804f-4e33-a361-946a44e6aeb4",
   "metadata": {},
   "outputs": [],
   "source": [
    "fps_rs = fps_main.drop(['appid', 'review', 'fps'], axis=1)"
   ]
  },
  {
   "cell_type": "code",
   "execution_count": 16,
   "id": "b0519f6f-f8c0-4d7e-b2a8-e9efdf213796",
   "metadata": {},
   "outputs": [],
   "source": [
    "fps_rs = fps_rs.drop('app_tags', axis=1)"
   ]
  },
  {
   "cell_type": "code",
   "execution_count": 17,
   "id": "39448fe2-f9ca-4f82-9dc3-d176f7b626e3",
   "metadata": {},
   "outputs": [],
   "source": [
    "reader = Reader(rating_scale=(0,1), line_format='user item rating', sep=',')"
   ]
  },
  {
   "cell_type": "code",
   "execution_count": 18,
   "id": "7785cde1-8e12-43af-b6f3-45a456a93045",
   "metadata": {},
   "outputs": [],
   "source": [
    "user_data = Dataset.load_from_df(fps_rs, reader)"
   ]
  },
  {
   "cell_type": "code",
   "execution_count": 19,
   "id": "5670b2e0-7ecc-4f43-8165-bc52c8ee6dc8",
   "metadata": {},
   "outputs": [],
   "source": [
    "trainset, testset = train_test_split(user_data, test_size=.3)"
   ]
  },
  {
   "cell_type": "code",
   "execution_count": 20,
   "id": "27ffddb8-bf25-44b9-86f3-ad807059b779",
   "metadata": {},
   "outputs": [
    {
     "data": {
      "text/plain": [
       "<surprise.prediction_algorithms.matrix_factorization.SVD at 0x164678df910>"
      ]
     },
     "execution_count": 20,
     "metadata": {},
     "output_type": "execute_result"
    }
   ],
   "source": [
    "svd = SVD()\n",
    "svd.fit(trainset)"
   ]
  },
  {
   "cell_type": "code",
   "execution_count": 21,
   "id": "073d00a4-47fe-45a7-a73a-40d43962c96a",
   "metadata": {},
   "outputs": [
    {
     "name": "stdout",
     "output_type": "stream",
     "text": [
      "RMSE: 0.4775\n"
     ]
    },
    {
     "data": {
      "text/plain": [
       "0.4775415073157216"
      ]
     },
     "execution_count": 21,
     "metadata": {},
     "output_type": "execute_result"
    }
   ],
   "source": [
    "predictions = svd.test(testset)\n",
    "accuracy.rmse(predictions)"
   ]
  },
  {
   "cell_type": "code",
   "execution_count": 22,
   "id": "7f7fe361-2c69-4a03-baa8-e215444cf497",
   "metadata": {},
   "outputs": [],
   "source": [
    "from surprise import BaselineOnly"
   ]
  },
  {
   "cell_type": "code",
   "execution_count": 23,
   "id": "7678281e-a43e-4eeb-bf72-3ab3a1ddfebe",
   "metadata": {},
   "outputs": [
    {
     "name": "stdout",
     "output_type": "stream",
     "text": [
      "Computing the msd similarity matrix...\n",
      "Done computing similarity matrix.\n",
      "Computing the msd similarity matrix...\n",
      "Done computing similarity matrix.\n",
      "Computing the msd similarity matrix...\n",
      "Done computing similarity matrix.\n",
      "Computing the msd similarity matrix...\n",
      "Done computing similarity matrix.\n",
      "Computing the msd similarity matrix...\n",
      "Done computing similarity matrix.\n",
      "Evaluating RMSE, MAE of algorithm KNNBasic on 5 split(s).\n",
      "\n",
      "                  Fold 1  Fold 2  Fold 3  Fold 4  Fold 5  Mean    Std     \n",
      "RMSE (testset)    0.4652  0.4655  0.4668  0.4651  0.4652  0.4655  0.0006  \n",
      "MAE (testset)     0.4315  0.4321  0.4346  0.4315  0.4307  0.4321  0.0013  \n",
      "Fit time          16.78   15.55   14.17   18.07   21.51   17.21   2.51    \n",
      "Test time         6.11    5.89    6.13    6.36    5.93    6.09    0.17    \n"
     ]
    },
    {
     "data": {
      "text/plain": [
       "{'test_rmse': array([0.46523623, 0.46549689, 0.46679207, 0.46505795, 0.46515726]),\n",
       " 'test_mae': array([0.4314564 , 0.43206115, 0.43456905, 0.43146235, 0.43074453]),\n",
       " 'fit_time': (16.777573108673096,\n",
       "  15.549940586090088,\n",
       "  14.168081998825073,\n",
       "  18.06694769859314,\n",
       "  21.506389617919922),\n",
       " 'test_time': (6.108498573303223,\n",
       "  5.894718647003174,\n",
       "  6.129546403884888,\n",
       "  6.362644672393799,\n",
       "  5.9343109130859375)}"
      ]
     },
     "execution_count": 23,
     "metadata": {},
     "output_type": "execute_result"
    }
   ],
   "source": [
    "cross_validate(KNNBasic(), user_data, verbose=True)"
   ]
  },
  {
   "cell_type": "code",
   "execution_count": 24,
   "id": "d27728d9-05cf-4c0f-9548-bd615c357496",
   "metadata": {},
   "outputs": [
    {
     "name": "stdout",
     "output_type": "stream",
     "text": [
      "Estimating biases using als...\n",
      "Estimating biases using als...\n",
      "Estimating biases using als...\n",
      "Estimating biases using als...\n",
      "Estimating biases using als...\n",
      "Evaluating RMSE, MAE of algorithm BaselineOnly on 5 split(s).\n",
      "\n",
      "                  Fold 1  Fold 2  Fold 3  Fold 4  Fold 5  Mean    Std     \n",
      "RMSE (testset)    0.4781  0.4757  0.4740  0.4773  0.4778  0.4766  0.0015  \n",
      "MAE (testset)     0.4604  0.4577  0.4567  0.4592  0.4608  0.4590  0.0016  \n",
      "Fit time          0.07    0.07    0.07    0.07    0.07    0.07    0.00    \n",
      "Test time         0.04    0.03    0.04    0.03    0.04    0.03    0.00    \n"
     ]
    },
    {
     "data": {
      "text/plain": [
       "{'test_rmse': array([0.47805365, 0.47569734, 0.47402647, 0.47733905, 0.47783075]),\n",
       " 'test_mae': array([0.4604216 , 0.45773284, 0.45665225, 0.45918751, 0.46081879]),\n",
       " 'fit_time': (0.07436823844909668,\n",
       "  0.0702371597290039,\n",
       "  0.06700325012207031,\n",
       "  0.0729978084564209,\n",
       "  0.07000494003295898),\n",
       " 'test_time': (0.03700613975524902,\n",
       "  0.03100442886352539,\n",
       "  0.03900718688964844,\n",
       "  0.030002355575561523,\n",
       "  0.036008358001708984)}"
      ]
     },
     "execution_count": 24,
     "metadata": {},
     "output_type": "execute_result"
    }
   ],
   "source": [
    "cross_validate(BaselineOnly(), user_data, verbose=True)"
   ]
  },
  {
   "cell_type": "code",
   "execution_count": 25,
   "id": "56667d79-590a-4016-9d1c-1d0aff5ff0e1",
   "metadata": {},
   "outputs": [
    {
     "name": "stdout",
     "output_type": "stream",
     "text": [
      "Computing the msd similarity matrix...\n",
      "Done computing similarity matrix.\n",
      "Computing the msd similarity matrix...\n",
      "Done computing similarity matrix.\n",
      "Computing the msd similarity matrix...\n",
      "Done computing similarity matrix.\n",
      "Computing the msd similarity matrix...\n",
      "Done computing similarity matrix.\n",
      "Computing the msd similarity matrix...\n",
      "Done computing similarity matrix.\n",
      "Computing the msd similarity matrix...\n",
      "Done computing similarity matrix.\n",
      "Computing the msd similarity matrix...\n",
      "Done computing similarity matrix.\n",
      "Computing the msd similarity matrix...\n",
      "Done computing similarity matrix.\n",
      "Computing the msd similarity matrix...\n",
      "Done computing similarity matrix.\n",
      "Computing the msd similarity matrix...\n",
      "Done computing similarity matrix.\n",
      "Computing the msd similarity matrix...\n",
      "Done computing similarity matrix.\n",
      "Computing the msd similarity matrix...\n",
      "Done computing similarity matrix.\n",
      "Computing the msd similarity matrix...\n",
      "Done computing similarity matrix.\n",
      "Computing the msd similarity matrix...\n",
      "Done computing similarity matrix.\n",
      "Computing the msd similarity matrix...\n",
      "Done computing similarity matrix.\n",
      "Computing the msd similarity matrix...\n",
      "Done computing similarity matrix.\n",
      "Computing the msd similarity matrix...\n",
      "Done computing similarity matrix.\n",
      "Computing the msd similarity matrix...\n",
      "Done computing similarity matrix.\n",
      "Computing the msd similarity matrix...\n",
      "Done computing similarity matrix.\n",
      "Computing the msd similarity matrix...\n",
      "Done computing similarity matrix.\n",
      "Computing the msd similarity matrix...\n",
      "Done computing similarity matrix.\n",
      "Computing the msd similarity matrix...\n",
      "Done computing similarity matrix.\n",
      "Computing the msd similarity matrix...\n",
      "Done computing similarity matrix.\n",
      "Computing the msd similarity matrix...\n",
      "Done computing similarity matrix.\n",
      "Computing the cosine similarity matrix...\n",
      "Done computing similarity matrix.\n",
      "Computing the cosine similarity matrix...\n",
      "Done computing similarity matrix.\n",
      "Computing the cosine similarity matrix...\n"
     ]
    },
    {
     "name": "stderr",
     "output_type": "stream",
     "text": [
      "C:\\Users\\gnr40\\anaconda3\\envs\\learn-env\\lib\\site-packages\\surprise\\prediction_algorithms\\algo_base.py:249: RuntimeWarning: invalid value encountered in double_scalars\n",
      "  sim = construction_func[name](*args)\n"
     ]
    },
    {
     "name": "stdout",
     "output_type": "stream",
     "text": [
      "Done computing similarity matrix.\n",
      "Computing the cosine similarity matrix...\n",
      "Done computing similarity matrix.\n",
      "Computing the cosine similarity matrix...\n",
      "Done computing similarity matrix.\n",
      "Computing the cosine similarity matrix...\n",
      "Done computing similarity matrix.\n",
      "Computing the cosine similarity matrix...\n",
      "Done computing similarity matrix.\n",
      "Computing the cosine similarity matrix...\n",
      "Done computing similarity matrix.\n",
      "Computing the cosine similarity matrix...\n",
      "Done computing similarity matrix.\n",
      "Computing the cosine similarity matrix...\n",
      "Done computing similarity matrix.\n",
      "Computing the cosine similarity matrix...\n",
      "Done computing similarity matrix.\n",
      "Computing the cosine similarity matrix...\n",
      "Done computing similarity matrix.\n",
      "Computing the cosine similarity matrix...\n",
      "Done computing similarity matrix.\n",
      "Computing the cosine similarity matrix...\n",
      "Done computing similarity matrix.\n",
      "Computing the cosine similarity matrix...\n",
      "Done computing similarity matrix.\n",
      "Computing the cosine similarity matrix...\n",
      "Done computing similarity matrix.\n",
      "Computing the cosine similarity matrix...\n",
      "Done computing similarity matrix.\n",
      "Computing the cosine similarity matrix...\n",
      "Done computing similarity matrix.\n",
      "Computing the cosine similarity matrix...\n",
      "Done computing similarity matrix.\n",
      "Computing the cosine similarity matrix...\n",
      "Done computing similarity matrix.\n",
      "Computing the cosine similarity matrix...\n",
      "Done computing similarity matrix.\n",
      "Computing the cosine similarity matrix...\n",
      "Done computing similarity matrix.\n",
      "Computing the cosine similarity matrix...\n",
      "Done computing similarity matrix.\n",
      "Computing the cosine similarity matrix...\n",
      "Done computing similarity matrix.\n",
      "0.4701846426395562\n",
      "{'sim_options': {'name': 'msd', 'min_support': 2, 'user_based': False}}\n"
     ]
    }
   ],
   "source": [
    "sim_options = {\n",
    "    \"name\": [\"msd\", \"cosine\"],\n",
    "    \"min_support\": [1, 2, 3, 4],\n",
    "    \"user_based\": [False, True],\n",
    "}\n",
    "\n",
    "param_grid = {\"sim_options\": sim_options}\n",
    "\n",
    "gs = GridSearchCV(KNNWithMeans, param_grid, measures=[\"rmse\", \"mae\"], cv=3)\n",
    "gs.fit(user_data)\n",
    "\n",
    "print(gs.best_score[\"rmse\"])\n",
    "print(gs.best_params[\"rmse\"])"
   ]
  },
  {
   "cell_type": "code",
   "execution_count": 30,
   "id": "9487edc3-b1ca-4c47-ad43-683db163b937",
   "metadata": {},
   "outputs": [],
   "source": [
    "knnmeans = KNNWithMeans(sim_options={'name': 'msd',\n",
    "                                    'user_based': False,\n",
    "                                    'min_support': 2})"
   ]
  },
  {
   "cell_type": "code",
   "execution_count": 31,
   "id": "c239bb2b-b30c-4468-9ed8-30242dd56a9a",
   "metadata": {},
   "outputs": [
    {
     "name": "stdout",
     "output_type": "stream",
     "text": [
      "Computing the msd similarity matrix...\n",
      "Done computing similarity matrix.\n"
     ]
    },
    {
     "data": {
      "text/plain": [
       "array([[1. , 0. , 0.5, ..., 0. , 0. , 0. ],\n",
       "       [0. , 1. , 0. , ..., 0. , 0. , 0. ],\n",
       "       [0.5, 0. , 1. , ..., 0. , 0. , 0. ],\n",
       "       ...,\n",
       "       [0. , 0. , 0. , ..., 1. , 0. , 0. ],\n",
       "       [0. , 0. , 0. , ..., 0. , 1. , 0. ],\n",
       "       [0. , 0. , 0. , ..., 0. , 0. , 1. ]])"
      ]
     },
     "execution_count": 31,
     "metadata": {},
     "output_type": "execute_result"
    }
   ],
   "source": [
    "knnmeans.fit(trainset)\n",
    "knnmeans.sim"
   ]
  },
  {
   "cell_type": "code",
   "execution_count": 32,
   "id": "6656ea9a-1be8-47e8-83dc-a47433d4cc29",
   "metadata": {},
   "outputs": [
    {
     "name": "stdout",
     "output_type": "stream",
     "text": [
      "RMSE: 0.4681\n",
      "0.4680974809223165\n"
     ]
    }
   ],
   "source": [
    "predictions = knnmeans.test(testset)\n",
    "print(accuracy.rmse(predictions))"
   ]
  },
  {
   "cell_type": "code",
   "execution_count": 23,
   "id": "482cbd9b-f3de-44de-b58b-0ab39733a090",
   "metadata": {},
   "outputs": [
    {
     "name": "stdout",
     "output_type": "stream",
     "text": [
      "Estimating biases using als...\n",
      "Computing the pearson similarity matrix...\n",
      "Done computing similarity matrix.\n"
     ]
    },
    {
     "data": {
      "text/plain": [
       "<surprise.prediction_algorithms.knns.KNNBaseline at 0x16454460a60>"
      ]
     },
     "execution_count": 23,
     "metadata": {},
     "output_type": "execute_result"
    }
   ],
   "source": [
    "sim_pearson = {'name':'pearson', 'user_based':False, 'min_support': 2}\n",
    "knn_baseline = KNNBaseline(sim_options=sim_pearson)\n",
    "knn_baseline.fit(trainset)"
   ]
  },
  {
   "cell_type": "code",
   "execution_count": 24,
   "id": "ffe03541-320c-4b0f-903d-9c512d3008ed",
   "metadata": {},
   "outputs": [
    {
     "data": {
      "text/plain": [
       "array([[1., 0., 0., ..., 0., 0., 0.],\n",
       "       [0., 1., 0., ..., 0., 0., 0.],\n",
       "       [0., 0., 1., ..., 0., 0., 0.],\n",
       "       ...,\n",
       "       [0., 0., 0., ..., 1., 0., 0.],\n",
       "       [0., 0., 0., ..., 0., 1., 0.],\n",
       "       [0., 0., 0., ..., 0., 0., 1.]])"
      ]
     },
     "execution_count": 24,
     "metadata": {},
     "output_type": "execute_result"
    }
   ],
   "source": [
    "knn_baseline.sim"
   ]
  },
  {
   "cell_type": "code",
   "execution_count": 25,
   "id": "2b4a9aa4-9ce2-497c-bda4-856c24b8bb22",
   "metadata": {},
   "outputs": [
    {
     "name": "stdout",
     "output_type": "stream",
     "text": [
      "RMSE: 0.4547\n",
      "0.45471482737637564\n"
     ]
    }
   ],
   "source": [
    "predictions = knn_baseline.test(testset)\n",
    "print(accuracy.rmse(predictions))"
   ]
  },
  {
   "cell_type": "code",
   "execution_count": 31,
   "id": "0c22e20c-2910-42ed-846d-f699456a84c9",
   "metadata": {},
   "outputs": [],
   "source": [
    "steamid= 1\n",
    "preds = []\n",
    "for app_title in fps_rs.app_title.unique():\n",
    "    score = knn_baseline.predict(steamid, app_title).est\n",
    "    preds.append((app_title, score))"
   ]
  },
  {
   "cell_type": "code",
   "execution_count": 32,
   "id": "e58e9adc-69e0-4594-a147-d7431e423bab",
   "metadata": {},
   "outputs": [
    {
     "data": {
      "text/plain": [
       "[('Counter-Strike: Global Offensive', 0.4234106296711539),\n",
       " ('Ricochet', 0.46605322425428),\n",
       " ('Left 4 Dead 2', 0.7625581571199732),\n",
       " ('Half-Life 2', 0.8042024330418436),\n",
       " ('Ultimate Doom', 0.6113265316583864),\n",
       " ('Day of Defeat: Source', 0.5255996800311558),\n",
       " ('Portal 2', 0.8740650629341153),\n",
       " ('Half-Life 2: Episode One', 0.6149726907932171),\n",
       " ('DOOM II', 0.5859110194600499),\n",
       " ('Killing Floor', 0.7083394938107219),\n",
       " ('QUAKE', 0.6301155806080905),\n",
       " ('Counter-Strike: Source', 0.6607936999127462),\n",
       " ('Portal', 0.8501013750049128),\n",
       " ('QUAKE II', 0.4490938403910708),\n",
       " ('Team Fortress 2', 0.5534281156091859),\n",
       " ('Left 4 Dead', 0.6740872231672107),\n",
       " ('Half-Life', 0.7083910436032981),\n",
       " ('Half-Life 2: Deathmatch', 0.41802189152605546),\n",
       " ('Team Fortress Classic', 0.4422715762446968),\n",
       " ('Half-Life: Blue Shift', 0.5835058907497811),\n",
       " ('Half-Life 2: Episode Two', 0.7118212918848671),\n",
       " ('Counter-Strike', 0.7037406833270992),\n",
       " ('Counter-Strike: Condition Zero', 0.5403940018013103),\n",
       " ('Judge Dredd: Dredd vs. Death', 0.4906335468884643),\n",
       " ('Half-Life: Opposing Force', 0.674891160168601),\n",
       " ('Final DOOM', 0.4243219886498121),\n",
       " ('Call of Duty® 2', 0.6137740527984434),\n",
       " ('Quake III Arena', 0.519787519140383),\n",
       " ('Half-Life: Source', 0.16344780943263454),\n",
       " ('Call of Duty: United Offensive', 0.554983634251927),\n",
       " ('Sniper Elite', 0.2613437272387251),\n",
       " ('The Ship: Murder Party', 0.42125269110562863),\n",
       " ('Call of Duty®', 0.5974546465786592),\n",
       " ('SiN Episodes: Emergence', 0.3710044531047882),\n",
       " ('Half-Life 2: Lost Coast', 0.5184894375714014),\n",
       " ('Alpha Prime', 0.3303142558653467),\n",
       " ('Aliens versus Predator Classic 2000', 0.39506988468542814),\n",
       " ('Wolfenstein 3D', 0.604852218996904),\n",
       " ('Day of Defeat', 0.5552011254518985),\n",
       " ('Deathmatch Classic', 0.49508864348771114),\n",
       " ('Quake IV', 0.4742824106311949),\n",
       " ('ARMA: Combat Operations', 0.44925072944109234),\n",
       " ('Half-Life Deathmatch: Source', 0.3185938284116948),\n",
       " ('Heretic: Shadow of the Serpent Riders', 0.48471789229170487),\n",
       " ('Call of Juarez', 0.33132644078293005),\n",
       " ('Red Orchestra: Ostfront 41-45', 0.34753358315254307),\n",
       " ('HeXen: Beyond Heretic', 0.48471789229170487),\n",
       " ('QUAKE III: Team Arena', 0.35099978722662595),\n",
       " ('Bloody Good Time', 0.3504381797064724),\n",
       " ('Painkiller Overdose', 0.3352017371105335)]"
      ]
     },
     "execution_count": 32,
     "metadata": {},
     "output_type": "execute_result"
    }
   ],
   "source": [
    "preds"
   ]
  },
  {
   "cell_type": "code",
   "execution_count": 40,
   "id": "57f002e7-633b-40ab-95dc-0df8762849f2",
   "metadata": {},
   "outputs": [],
   "source": [
    "n = 5\n",
    "recommendations = sorted(preds, key=lambda x: x[1], reverse=True)[:5]"
   ]
  },
  {
   "cell_type": "code",
   "execution_count": 41,
   "id": "d1abfd51-3e76-46a3-b355-375e88411223",
   "metadata": {},
   "outputs": [],
   "source": [
    "ranked_movies = sorted(preds, key=lambda x: x[1], reverse=True)"
   ]
  },
  {
   "cell_type": "code",
   "execution_count": 56,
   "id": "199178be-0d98-458b-95bb-44237c0fdbc4",
   "metadata": {},
   "outputs": [],
   "source": [
    "def recommended_games(app_title):\n",
    "    preds = []\n",
    "    for app_title in fps_rs.app_title.unique():\n",
    "        score = knn_baseline.predict(steamid, app_title).est\n",
    "        preds.append((app_title, score))\n",
    "    n = 5\n",
    "    recommendations = sorted(preds, key=lambda x: x[1], reverse=True)[:5]\n",
    "    return recommendations"
   ]
  },
  {
   "cell_type": "code",
   "execution_count": 66,
   "id": "f1d83171-d6c3-4d85-9721-962b9f129c44",
   "metadata": {},
   "outputs": [
    {
     "data": {
      "text/plain": [
       "[('Portal 2', 0.8740650629341153),\n",
       " ('Portal', 0.8501013750049128),\n",
       " ('Half-Life 2', 0.8042024330418436),\n",
       " ('Left 4 Dead 2', 0.7625581571199732),\n",
       " ('Half-Life 2: Episode Two', 0.7118212918848671)]"
      ]
     },
     "execution_count": 66,
     "metadata": {},
     "output_type": "execute_result"
    }
   ],
   "source": [
    "recommended_games('Call of Duty®')"
   ]
  },
  {
   "cell_type": "code",
   "execution_count": null,
   "id": "dafe72a9-d9d0-4345-9713-3a30be3de3cf",
   "metadata": {},
   "outputs": [],
   "source": []
  }
 ],
 "metadata": {
  "kernelspec": {
   "display_name": "learn-env",
   "language": "python",
   "name": "learn-env"
  },
  "language_info": {
   "codemirror_mode": {
    "name": "ipython",
    "version": 3
   },
   "file_extension": ".py",
   "mimetype": "text/x-python",
   "name": "python",
   "nbconvert_exporter": "python",
   "pygments_lexer": "ipython3",
   "version": "3.8.5"
  }
 },
 "nbformat": 4,
 "nbformat_minor": 5
}

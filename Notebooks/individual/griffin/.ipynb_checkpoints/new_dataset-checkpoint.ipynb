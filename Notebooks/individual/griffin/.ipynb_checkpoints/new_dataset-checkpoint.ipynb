{
 "cells": [
  {
   "cell_type": "code",
   "execution_count": 1,
   "id": "ee4b287b-14cb-4b1f-9ff5-8d16a73c24a9",
   "metadata": {},
   "outputs": [],
   "source": [
    "import pandas as pd\n",
    "import numpy as np\n",
    "import matplotlib.pyplot as plt\n",
    "from collections import Counter\n",
    "from surprise import Dataset, Reader\n",
    "from surprise import accuracy\n",
    "from surprise.model_selection import cross_validate, train_test_split\n",
    "from surprise.prediction_algorithms import SVD\n",
    "from surprise.prediction_algorithms import KNNWithMeans, KNNBasic, KNNBaseline\n",
    "from surprise.model_selection import GridSearchCV"
   ]
  },
  {
   "cell_type": "code",
   "execution_count": 2,
   "id": "0bcf50b3-7fd0-4a87-83ba-2183eb7aa9e0",
   "metadata": {},
   "outputs": [],
   "source": [
    "df = pd.read_csv('../../../data/reviews-1-115.csv')"
   ]
  },
  {
   "cell_type": "code",
   "execution_count": 3,
   "id": "9724a19d-8bb5-4b3d-bd78-b985e7430905",
   "metadata": {},
   "outputs": [],
   "source": [
    "df_1_115 = df.drop(['votes_up', 'votes_funny', 'weighted_vote_score', 'playtime_forever', 'playtime_at_review', 'num_games_owned', 'num_reviews', 'review', 'unix_timestamp_created', 'unix_timestamp_updated'], axis=1)"
   ]
  },
  {
   "cell_type": "code",
   "execution_count": 4,
   "id": "4dab3125-2647-4c47-bc79-7a2417e9ca7d",
   "metadata": {},
   "outputs": [],
   "source": [
    "df = pd.read_csv('../../../data/reviews-115-1230.csv')"
   ]
  },
  {
   "cell_type": "code",
   "execution_count": 5,
   "id": "4dad2f6e-8cf4-4421-a6df-021ad59f3218",
   "metadata": {},
   "outputs": [],
   "source": [
    "df_115_1230 = df.drop(['votes_up', 'votes_funny', 'weighted_vote_score', 'playtime_forever', 'playtime_at_review', 'num_games_owned', 'num_reviews', 'review', 'unix_timestamp_created', 'unix_timestamp_updated'], axis=1)"
   ]
  },
  {
   "cell_type": "code",
   "execution_count": 6,
   "id": "8cdfad89-e708-4b78-83e4-a2dfe808c1dd",
   "metadata": {},
   "outputs": [],
   "source": [
    "df = pd.read_csv('../../../data/reviews-1230-2345.csv')"
   ]
  },
  {
   "cell_type": "code",
   "execution_count": 7,
   "id": "783f78f6-c6dd-406c-8767-40fa6e1ff640",
   "metadata": {},
   "outputs": [],
   "source": [
    "df_1230_2345 = df.drop(['votes_up', 'votes_funny', 'weighted_vote_score', 'playtime_forever', 'playtime_at_review', 'num_games_owned', 'num_reviews', 'review', 'unix_timestamp_created', 'unix_timestamp_updated'], axis=1)"
   ]
  },
  {
   "cell_type": "code",
   "execution_count": 8,
   "id": "ac07320b-4f9a-4df5-98d5-8606ec848b75",
   "metadata": {},
   "outputs": [],
   "source": [
    "df = pd.read_csv('../../../data/reviews-2345-4575.csv')"
   ]
  },
  {
   "cell_type": "code",
   "execution_count": 9,
   "id": "03b4a4d6-cf90-4edd-8d21-867a1c6b8ca3",
   "metadata": {},
   "outputs": [],
   "source": [
    "df_2345_4575 = df.drop(['votes_up', 'votes_funny', 'weighted_vote_score', 'playtime_forever', 'playtime_at_review', 'num_games_owned', 'num_reviews', 'review', 'unix_timestamp_created', 'unix_timestamp_updated'], axis=1)"
   ]
  },
  {
   "cell_type": "code",
   "execution_count": 10,
   "id": "c5d5d471-f335-49c2-abcf-15f124c730d0",
   "metadata": {},
   "outputs": [],
   "source": [
    "df = pd.read_csv('../../../data/reviews-4575-6805.csv')"
   ]
  },
  {
   "cell_type": "code",
   "execution_count": 11,
   "id": "e1749762-a915-4a43-baa1-ec092ff24e8f",
   "metadata": {},
   "outputs": [],
   "source": [
    "df_4575_6805 = df.drop(['votes_up', 'votes_funny', 'weighted_vote_score', 'playtime_forever', 'playtime_at_review', 'num_games_owned', 'num_reviews', 'review', 'unix_timestamp_created', 'unix_timestamp_updated'], axis=1)"
   ]
  },
  {
   "cell_type": "code",
   "execution_count": 12,
   "id": "6a9cf786-beb8-4a96-972b-27e6397ca6d2",
   "metadata": {},
   "outputs": [],
   "source": [
    "df = pd.read_csv('../../../data/reviews-6805-9035.csv')"
   ]
  },
  {
   "cell_type": "code",
   "execution_count": 13,
   "id": "4a3a0f51-b5a0-457b-a012-68abb31ca566",
   "metadata": {},
   "outputs": [],
   "source": [
    "df_6805_9035 = df.drop(['votes_up', 'votes_funny', 'weighted_vote_score', 'playtime_forever', 'playtime_at_review', 'num_games_owned', 'num_reviews', 'review', 'unix_timestamp_created', 'unix_timestamp_updated'], axis=1)"
   ]
  },
  {
   "cell_type": "code",
   "execution_count": 14,
   "id": "f42e1bbd-d0f1-4aee-9cc8-49f94f9d0b4e",
   "metadata": {},
   "outputs": [],
   "source": [
    "df = pd.read_csv('../../../data/reviews-9035-11265.csv')"
   ]
  },
  {
   "cell_type": "code",
   "execution_count": 15,
   "id": "a8a25c55-ed8b-4169-8ac1-9a35b5dc5a32",
   "metadata": {},
   "outputs": [],
   "source": [
    "df_9035_11265 = df.drop(['votes_up', 'votes_funny', 'weighted_vote_score', 'playtime_forever', 'playtime_at_review', 'num_games_owned', 'num_reviews', 'review', 'unix_timestamp_created', 'unix_timestamp_updated'], axis=1)"
   ]
  },
  {
   "cell_type": "code",
   "execution_count": 16,
   "id": "27f5b8cc-4ebb-4540-9491-2bb62845e59e",
   "metadata": {},
   "outputs": [],
   "source": [
    "df = pd.read_csv('../../../data/reviews-11265-13495.csv')"
   ]
  },
  {
   "cell_type": "code",
   "execution_count": 17,
   "id": "bba59eee-d903-4463-850e-293a8407310f",
   "metadata": {},
   "outputs": [],
   "source": [
    "df_11265_13495 = df.drop(['votes_up', 'votes_funny', 'weighted_vote_score', 'playtime_forever', 'playtime_at_review', 'num_games_owned', 'num_reviews', 'review', 'unix_timestamp_created', 'unix_timestamp_updated'], axis=1)"
   ]
  },
  {
   "cell_type": "code",
   "execution_count": 18,
   "id": "398f94b7-4cd3-4a48-8a4b-273819363194",
   "metadata": {},
   "outputs": [],
   "source": [
    "df = pd.read_csv('../../../data/reviews-13495-13500.csv')"
   ]
  },
  {
   "cell_type": "code",
   "execution_count": 19,
   "id": "8b61e491-98db-4788-b12d-405fc5d99151",
   "metadata": {},
   "outputs": [],
   "source": [
    "df_13495_13500 = df.drop(['votes_up', 'votes_funny', 'weighted_vote_score', 'playtime_forever', 'playtime_at_review', 'num_games_owned', 'num_reviews', 'review', 'unix_timestamp_created', 'unix_timestamp_updated'], axis=1)"
   ]
  },
  {
   "cell_type": "code",
   "execution_count": 20,
   "id": "1756c2a8-1267-45ed-83bd-bb5599649b13",
   "metadata": {},
   "outputs": [],
   "source": [
    "df = pd.read_csv('../../../data/reviews-13500-13537.csv')"
   ]
  },
  {
   "cell_type": "code",
   "execution_count": 21,
   "id": "fd4b471b-2f5f-46cc-8d85-69833ffbaed9",
   "metadata": {},
   "outputs": [],
   "source": [
    "df_13500_13537 = df.drop(['votes_up', 'votes_funny', 'weighted_vote_score', 'playtime_forever', 'playtime_at_review', 'num_games_owned', 'num_reviews', 'review', 'unix_timestamp_created', 'unix_timestamp_updated'], axis=1)"
   ]
  },
  {
   "cell_type": "code",
   "execution_count": 22,
   "id": "a6550782-8e3a-44f6-bcbd-a75cafe7303b",
   "metadata": {},
   "outputs": [],
   "source": [
    "df = pd.read_csv('../../../data/reviews-13537-27075.csv')"
   ]
  },
  {
   "cell_type": "code",
   "execution_count": 23,
   "id": "651e0b24-5e6c-4947-a06f-b11dac952217",
   "metadata": {},
   "outputs": [],
   "source": [
    "df_13537_27075 = df.drop(['votes_up', 'votes_funny', 'weighted_vote_score', 'playtime_forever', 'playtime_at_review', 'num_games_owned', 'num_reviews', 'review', 'unix_timestamp_created', 'unix_timestamp_updated'], axis=1)"
   ]
  },
  {
   "cell_type": "code",
   "execution_count": 24,
   "id": "5e37d789-432d-401e-b8e0-57cd334e8666",
   "metadata": {},
   "outputs": [],
   "source": [
    "all_data = pd.concat([df_1_115, df_115_1230, df_1230_2345, df_2345_4575, df_4575_6805, df_6805_9035, df_9035_11265, df_11265_13495, df_13495_13500, df_13537_27075])"
   ]
  },
  {
   "cell_type": "code",
   "execution_count": 25,
   "id": "26ac4b71-6e54-465d-b753-5e436b68be5f",
   "metadata": {},
   "outputs": [
    {
     "data": {
      "text/html": [
       "<div>\n",
       "<style scoped>\n",
       "    .dataframe tbody tr th:only-of-type {\n",
       "        vertical-align: middle;\n",
       "    }\n",
       "\n",
       "    .dataframe tbody tr th {\n",
       "        vertical-align: top;\n",
       "    }\n",
       "\n",
       "    .dataframe thead th {\n",
       "        text-align: right;\n",
       "    }\n",
       "</style>\n",
       "<table border=\"1\" class=\"dataframe\">\n",
       "  <thead>\n",
       "    <tr style=\"text-align: right;\">\n",
       "      <th></th>\n",
       "      <th>steamid</th>\n",
       "      <th>appid</th>\n",
       "      <th>voted_up</th>\n",
       "    </tr>\n",
       "  </thead>\n",
       "  <tbody>\n",
       "    <tr>\n",
       "      <th>0</th>\n",
       "      <td>76561198107294407</td>\n",
       "      <td>10</td>\n",
       "      <td>True</td>\n",
       "    </tr>\n",
       "    <tr>\n",
       "      <th>1</th>\n",
       "      <td>76561198011733201</td>\n",
       "      <td>10</td>\n",
       "      <td>True</td>\n",
       "    </tr>\n",
       "    <tr>\n",
       "      <th>2</th>\n",
       "      <td>76561198168961276</td>\n",
       "      <td>10</td>\n",
       "      <td>True</td>\n",
       "    </tr>\n",
       "    <tr>\n",
       "      <th>3</th>\n",
       "      <td>76561198957877160</td>\n",
       "      <td>10</td>\n",
       "      <td>True</td>\n",
       "    </tr>\n",
       "    <tr>\n",
       "      <th>4</th>\n",
       "      <td>76561199050314447</td>\n",
       "      <td>10</td>\n",
       "      <td>True</td>\n",
       "    </tr>\n",
       "    <tr>\n",
       "      <th>...</th>\n",
       "      <td>...</td>\n",
       "      <td>...</td>\n",
       "      <td>...</td>\n",
       "    </tr>\n",
       "    <tr>\n",
       "      <th>1455437</th>\n",
       "      <td>76561198287009029</td>\n",
       "      <td>1051310</td>\n",
       "      <td>True</td>\n",
       "    </tr>\n",
       "    <tr>\n",
       "      <th>1455438</th>\n",
       "      <td>76561198077795500</td>\n",
       "      <td>1051310</td>\n",
       "      <td>False</td>\n",
       "    </tr>\n",
       "    <tr>\n",
       "      <th>1455439</th>\n",
       "      <td>76561198043447148</td>\n",
       "      <td>1051310</td>\n",
       "      <td>True</td>\n",
       "    </tr>\n",
       "    <tr>\n",
       "      <th>1455440</th>\n",
       "      <td>76561198006082786</td>\n",
       "      <td>1051310</td>\n",
       "      <td>False</td>\n",
       "    </tr>\n",
       "    <tr>\n",
       "      <th>1455441</th>\n",
       "      <td>76561197970420888</td>\n",
       "      <td>1051310</td>\n",
       "      <td>True</td>\n",
       "    </tr>\n",
       "  </tbody>\n",
       "</table>\n",
       "<p>15429385 rows × 3 columns</p>\n",
       "</div>"
      ],
      "text/plain": [
       "                   steamid    appid  voted_up\n",
       "0        76561198107294407       10      True\n",
       "1        76561198011733201       10      True\n",
       "2        76561198168961276       10      True\n",
       "3        76561198957877160       10      True\n",
       "4        76561199050314447       10      True\n",
       "...                    ...      ...       ...\n",
       "1455437  76561198287009029  1051310      True\n",
       "1455438  76561198077795500  1051310     False\n",
       "1455439  76561198043447148  1051310      True\n",
       "1455440  76561198006082786  1051310     False\n",
       "1455441  76561197970420888  1051310      True\n",
       "\n",
       "[15429385 rows x 3 columns]"
      ]
     },
     "execution_count": 25,
     "metadata": {},
     "output_type": "execute_result"
    }
   ],
   "source": [
    "all_data"
   ]
  },
  {
   "cell_type": "code",
   "execution_count": 26,
   "id": "607fa3f7-dcca-49b7-acf8-bfbf21caf96e",
   "metadata": {},
   "outputs": [],
   "source": [
    "from sklearn.preprocessing import LabelEncoder"
   ]
  },
  {
   "cell_type": "code",
   "execution_count": 27,
   "id": "bd6f2e6b-d367-46ae-9890-bd681890f0c5",
   "metadata": {},
   "outputs": [
    {
     "data": {
      "text/html": [
       "<div>\n",
       "<style scoped>\n",
       "    .dataframe tbody tr th:only-of-type {\n",
       "        vertical-align: middle;\n",
       "    }\n",
       "\n",
       "    .dataframe tbody tr th {\n",
       "        vertical-align: top;\n",
       "    }\n",
       "\n",
       "    .dataframe thead th {\n",
       "        text-align: right;\n",
       "    }\n",
       "</style>\n",
       "<table border=\"1\" class=\"dataframe\">\n",
       "  <thead>\n",
       "    <tr style=\"text-align: right;\">\n",
       "      <th></th>\n",
       "      <th>steamid</th>\n",
       "      <th>appid</th>\n",
       "      <th>voted_up</th>\n",
       "      <th>votes_encoded</th>\n",
       "    </tr>\n",
       "  </thead>\n",
       "  <tbody>\n",
       "    <tr>\n",
       "      <th>0</th>\n",
       "      <td>76561198107294407</td>\n",
       "      <td>10</td>\n",
       "      <td>True</td>\n",
       "      <td>1</td>\n",
       "    </tr>\n",
       "    <tr>\n",
       "      <th>1</th>\n",
       "      <td>76561198011733201</td>\n",
       "      <td>10</td>\n",
       "      <td>True</td>\n",
       "      <td>1</td>\n",
       "    </tr>\n",
       "    <tr>\n",
       "      <th>2</th>\n",
       "      <td>76561198168961276</td>\n",
       "      <td>10</td>\n",
       "      <td>True</td>\n",
       "      <td>1</td>\n",
       "    </tr>\n",
       "    <tr>\n",
       "      <th>3</th>\n",
       "      <td>76561198957877160</td>\n",
       "      <td>10</td>\n",
       "      <td>True</td>\n",
       "      <td>1</td>\n",
       "    </tr>\n",
       "    <tr>\n",
       "      <th>4</th>\n",
       "      <td>76561199050314447</td>\n",
       "      <td>10</td>\n",
       "      <td>True</td>\n",
       "      <td>1</td>\n",
       "    </tr>\n",
       "    <tr>\n",
       "      <th>...</th>\n",
       "      <td>...</td>\n",
       "      <td>...</td>\n",
       "      <td>...</td>\n",
       "      <td>...</td>\n",
       "    </tr>\n",
       "    <tr>\n",
       "      <th>1455437</th>\n",
       "      <td>76561198287009029</td>\n",
       "      <td>1051310</td>\n",
       "      <td>True</td>\n",
       "      <td>1</td>\n",
       "    </tr>\n",
       "    <tr>\n",
       "      <th>1455438</th>\n",
       "      <td>76561198077795500</td>\n",
       "      <td>1051310</td>\n",
       "      <td>False</td>\n",
       "      <td>0</td>\n",
       "    </tr>\n",
       "    <tr>\n",
       "      <th>1455439</th>\n",
       "      <td>76561198043447148</td>\n",
       "      <td>1051310</td>\n",
       "      <td>True</td>\n",
       "      <td>1</td>\n",
       "    </tr>\n",
       "    <tr>\n",
       "      <th>1455440</th>\n",
       "      <td>76561198006082786</td>\n",
       "      <td>1051310</td>\n",
       "      <td>False</td>\n",
       "      <td>0</td>\n",
       "    </tr>\n",
       "    <tr>\n",
       "      <th>1455441</th>\n",
       "      <td>76561197970420888</td>\n",
       "      <td>1051310</td>\n",
       "      <td>True</td>\n",
       "      <td>1</td>\n",
       "    </tr>\n",
       "  </tbody>\n",
       "</table>\n",
       "<p>15429385 rows × 4 columns</p>\n",
       "</div>"
      ],
      "text/plain": [
       "                   steamid    appid  voted_up  votes_encoded\n",
       "0        76561198107294407       10      True              1\n",
       "1        76561198011733201       10      True              1\n",
       "2        76561198168961276       10      True              1\n",
       "3        76561198957877160       10      True              1\n",
       "4        76561199050314447       10      True              1\n",
       "...                    ...      ...       ...            ...\n",
       "1455437  76561198287009029  1051310      True              1\n",
       "1455438  76561198077795500  1051310     False              0\n",
       "1455439  76561198043447148  1051310      True              1\n",
       "1455440  76561198006082786  1051310     False              0\n",
       "1455441  76561197970420888  1051310      True              1\n",
       "\n",
       "[15429385 rows x 4 columns]"
      ]
     },
     "execution_count": 27,
     "metadata": {},
     "output_type": "execute_result"
    }
   ],
   "source": [
    "label = LabelEncoder()\n",
    "all_data['votes_encoded'] = label.fit_transform(all_data['voted_up'])\n",
    "all_data"
   ]
  },
  {
   "cell_type": "code",
   "execution_count": 28,
   "id": "3efd80e8-db0d-46de-9a7b-8f04a2c4c019",
   "metadata": {},
   "outputs": [],
   "source": [
    "all_data = all_data.drop('voted_up', axis=1)"
   ]
  },
  {
   "cell_type": "code",
   "execution_count": 29,
   "id": "c3854332-e75b-47f7-b497-68ca56cc09a9",
   "metadata": {},
   "outputs": [
    {
     "data": {
      "text/html": [
       "<div>\n",
       "<style scoped>\n",
       "    .dataframe tbody tr th:only-of-type {\n",
       "        vertical-align: middle;\n",
       "    }\n",
       "\n",
       "    .dataframe tbody tr th {\n",
       "        vertical-align: top;\n",
       "    }\n",
       "\n",
       "    .dataframe thead th {\n",
       "        text-align: right;\n",
       "    }\n",
       "</style>\n",
       "<table border=\"1\" class=\"dataframe\">\n",
       "  <thead>\n",
       "    <tr style=\"text-align: right;\">\n",
       "      <th></th>\n",
       "      <th>steamid</th>\n",
       "      <th>appid</th>\n",
       "      <th>votes_encoded</th>\n",
       "    </tr>\n",
       "  </thead>\n",
       "  <tbody>\n",
       "    <tr>\n",
       "      <th>0</th>\n",
       "      <td>76561198107294407</td>\n",
       "      <td>10</td>\n",
       "      <td>1</td>\n",
       "    </tr>\n",
       "    <tr>\n",
       "      <th>1</th>\n",
       "      <td>76561198011733201</td>\n",
       "      <td>10</td>\n",
       "      <td>1</td>\n",
       "    </tr>\n",
       "    <tr>\n",
       "      <th>2</th>\n",
       "      <td>76561198168961276</td>\n",
       "      <td>10</td>\n",
       "      <td>1</td>\n",
       "    </tr>\n",
       "    <tr>\n",
       "      <th>3</th>\n",
       "      <td>76561198957877160</td>\n",
       "      <td>10</td>\n",
       "      <td>1</td>\n",
       "    </tr>\n",
       "    <tr>\n",
       "      <th>4</th>\n",
       "      <td>76561199050314447</td>\n",
       "      <td>10</td>\n",
       "      <td>1</td>\n",
       "    </tr>\n",
       "    <tr>\n",
       "      <th>...</th>\n",
       "      <td>...</td>\n",
       "      <td>...</td>\n",
       "      <td>...</td>\n",
       "    </tr>\n",
       "    <tr>\n",
       "      <th>1455437</th>\n",
       "      <td>76561198287009029</td>\n",
       "      <td>1051310</td>\n",
       "      <td>1</td>\n",
       "    </tr>\n",
       "    <tr>\n",
       "      <th>1455438</th>\n",
       "      <td>76561198077795500</td>\n",
       "      <td>1051310</td>\n",
       "      <td>0</td>\n",
       "    </tr>\n",
       "    <tr>\n",
       "      <th>1455439</th>\n",
       "      <td>76561198043447148</td>\n",
       "      <td>1051310</td>\n",
       "      <td>1</td>\n",
       "    </tr>\n",
       "    <tr>\n",
       "      <th>1455440</th>\n",
       "      <td>76561198006082786</td>\n",
       "      <td>1051310</td>\n",
       "      <td>0</td>\n",
       "    </tr>\n",
       "    <tr>\n",
       "      <th>1455441</th>\n",
       "      <td>76561197970420888</td>\n",
       "      <td>1051310</td>\n",
       "      <td>1</td>\n",
       "    </tr>\n",
       "  </tbody>\n",
       "</table>\n",
       "<p>15429385 rows × 3 columns</p>\n",
       "</div>"
      ],
      "text/plain": [
       "                   steamid    appid  votes_encoded\n",
       "0        76561198107294407       10              1\n",
       "1        76561198011733201       10              1\n",
       "2        76561198168961276       10              1\n",
       "3        76561198957877160       10              1\n",
       "4        76561199050314447       10              1\n",
       "...                    ...      ...            ...\n",
       "1455437  76561198287009029  1051310              1\n",
       "1455438  76561198077795500  1051310              0\n",
       "1455439  76561198043447148  1051310              1\n",
       "1455440  76561198006082786  1051310              0\n",
       "1455441  76561197970420888  1051310              1\n",
       "\n",
       "[15429385 rows x 3 columns]"
      ]
     },
     "execution_count": 29,
     "metadata": {},
     "output_type": "execute_result"
    }
   ],
   "source": [
    "all_data"
   ]
  },
  {
   "cell_type": "code",
   "execution_count": 59,
   "id": "e18039b0-c62b-4fca-932d-8fc538be6bfc",
   "metadata": {},
   "outputs": [],
   "source": [
    "try_df = all_data[:10000]"
   ]
  },
  {
   "cell_type": "code",
   "execution_count": 30,
   "id": "693d193a-07a7-433b-b097-ad714c4ff054",
   "metadata": {},
   "outputs": [
    {
     "data": {
      "text/plain": [
       "1    0.869592\n",
       "0    0.130408\n",
       "Name: votes_encoded, dtype: float64"
      ]
     },
     "execution_count": 30,
     "metadata": {},
     "output_type": "execute_result"
    }
   ],
   "source": [
    "all_data['votes_encoded'].value_counts(normalize=True)"
   ]
  },
  {
   "cell_type": "code",
   "execution_count": 31,
   "id": "c71cab4a-cd76-45aa-8450-629b5bdd38f3",
   "metadata": {},
   "outputs": [],
   "source": [
    "reader = Reader(rating_scale=(0,1), line_format='user item rating', sep=',')"
   ]
  },
  {
   "cell_type": "code",
   "execution_count": 32,
   "id": "c6fc28c2-a102-42b6-8259-baa008321f69",
   "metadata": {},
   "outputs": [],
   "source": [
    "user_data = Dataset.load_from_df(all_data, reader)"
   ]
  },
  {
   "cell_type": "code",
   "execution_count": 60,
   "id": "c14741f6-20ef-48f4-9187-a07e8fe79a23",
   "metadata": {},
   "outputs": [],
   "source": [
    "try_data = Dataset.load_from_df(try_df, reader)"
   ]
  },
  {
   "cell_type": "code",
   "execution_count": 33,
   "id": "d313475e-3438-4969-883e-2d8d1827fa3f",
   "metadata": {},
   "outputs": [],
   "source": [
    "trainset, testset = train_test_split(user_data, test_size=.3)"
   ]
  },
  {
   "cell_type": "code",
   "execution_count": 34,
   "id": "e0b59c9f-97c9-43f6-b675-12c4b46aa5c1",
   "metadata": {},
   "outputs": [
    {
     "data": {
      "text/plain": [
       "<surprise.prediction_algorithms.matrix_factorization.SVD at 0x27af6d3ca90>"
      ]
     },
     "execution_count": 34,
     "metadata": {},
     "output_type": "execute_result"
    }
   ],
   "source": [
    "svd = SVD()\n",
    "svd.fit(trainset)"
   ]
  },
  {
   "cell_type": "code",
   "execution_count": 35,
   "id": "e0d23390-806f-4981-bf5f-3cec1c5e931d",
   "metadata": {},
   "outputs": [
    {
     "name": "stdout",
     "output_type": "stream",
     "text": [
      "RMSE: 0.3105\n"
     ]
    },
    {
     "data": {
      "text/plain": [
       "0.3105089548573447"
      ]
     },
     "execution_count": 35,
     "metadata": {},
     "output_type": "execute_result"
    }
   ],
   "source": [
    "predictions = svd.test(testset)\n",
    "accuracy.rmse(predictions)"
   ]
  },
  {
   "cell_type": "code",
   "execution_count": 36,
   "id": "606f0952-60c7-4f05-bab1-010184534d3b",
   "metadata": {},
   "outputs": [],
   "source": [
    "from surprise import BaselineOnly"
   ]
  },
  {
   "cell_type": "code",
   "execution_count": 37,
   "id": "c16cf61b-5c0a-40bb-9c1c-72d036e9022a",
   "metadata": {},
   "outputs": [
    {
     "data": {
      "text/plain": [
       "[Prediction(uid=76561198037478007, iid=211820, r_ui=1.0, est=0.9408210438784574, details={'was_impossible': False}),\n",
       " Prediction(uid=76561198154717589, iid=248820, r_ui=1.0, est=0.8517371893426595, details={'was_impossible': False}),\n",
       " Prediction(uid=76561198015205131, iid=292030, r_ui=1.0, est=0.9108935574513635, details={'was_impossible': False}),\n",
       " Prediction(uid=76561198074300888, iid=469820, r_ui=1.0, est=0.9580435041195643, details={'was_impossible': False}),\n",
       " Prediction(uid=76561198030508562, iid=477270, r_ui=1.0, est=0.8766304991153694, details={'was_impossible': False}),\n",
       " Prediction(uid=76561198197644423, iid=2390, r_ui=1.0, est=0.885024260023304, details={'was_impossible': False}),\n",
       " Prediction(uid=76561198299339496, iid=853770, r_ui=1.0, est=0.8752842773588756, details={'was_impossible': False}),\n",
       " Prediction(uid=76561198039439989, iid=4700, r_ui=1.0, est=0.9619463880873685, details={'was_impossible': False}),\n",
       " Prediction(uid=76561198010287062, iid=644930, r_ui=1.0, est=0.8387672179460023, details={'was_impossible': False}),\n",
       " Prediction(uid=76561198112469338, iid=252490, r_ui=1.0, est=0.9212682555955618, details={'was_impossible': False})]"
      ]
     },
     "execution_count": 37,
     "metadata": {},
     "output_type": "execute_result"
    }
   ],
   "source": [
    "predictions[:10]"
   ]
  },
  {
   "cell_type": "code",
   "execution_count": 38,
   "id": "ee321dc0-3b4a-407d-ae8b-8286c9b6f97d",
   "metadata": {},
   "outputs": [
    {
     "data": {
      "text/plain": [
       "Prediction(uid=76561198077795500, iid=115, r_ui=None, est=0.8039887750568793, details={'was_impossible': False})"
      ]
     },
     "execution_count": 38,
     "metadata": {},
     "output_type": "execute_result"
    }
   ],
   "source": [
    "user = 76561198077795500\n",
    "item = 115\n",
    "svd.predict(user, item)"
   ]
  },
  {
   "cell_type": "code",
   "execution_count": 72,
   "id": "79dfc822-e650-43b5-8b13-80169f52df5c",
   "metadata": {},
   "outputs": [
    {
     "name": "stdout",
     "output_type": "stream",
     "text": [
      "Computing the msd similarity matrix...\n"
     ]
    },
    {
     "ename": "MemoryError",
     "evalue": "Unable to allocate 266. TiB for an array with shape (6051482, 6051482) and data type float64",
     "output_type": "error",
     "traceback": [
      "\u001b[1;31m---------------------------------------------------------------------------\u001b[0m",
      "\u001b[1;31mMemoryError\u001b[0m                               Traceback (most recent call last)",
      "\u001b[1;32m<ipython-input-72-d18774d4910a>\u001b[0m in \u001b[0;36m<module>\u001b[1;34m\u001b[0m\n\u001b[1;32m----> 1\u001b[1;33m \u001b[0mcross_validate\u001b[0m\u001b[1;33m(\u001b[0m\u001b[0mKNNBasic\u001b[0m\u001b[1;33m(\u001b[0m\u001b[1;33m)\u001b[0m\u001b[1;33m,\u001b[0m \u001b[0muser_data\u001b[0m\u001b[1;33m,\u001b[0m \u001b[0mverbose\u001b[0m\u001b[1;33m=\u001b[0m\u001b[1;32mTrue\u001b[0m\u001b[1;33m)\u001b[0m\u001b[1;33m\u001b[0m\u001b[1;33m\u001b[0m\u001b[0m\n\u001b[0m",
      "\u001b[1;32m~\\anaconda3\\envs\\learn-env\\lib\\site-packages\\surprise\\model_selection\\validation.py\u001b[0m in \u001b[0;36mcross_validate\u001b[1;34m(algo, data, measures, cv, return_train_measures, n_jobs, pre_dispatch, verbose)\u001b[0m\n\u001b[0;32m    101\u001b[0m                                            return_train_measures)\n\u001b[0;32m    102\u001b[0m                     for (trainset, testset) in cv.split(data))\n\u001b[1;32m--> 103\u001b[1;33m     \u001b[0mout\u001b[0m \u001b[1;33m=\u001b[0m \u001b[0mParallel\u001b[0m\u001b[1;33m(\u001b[0m\u001b[0mn_jobs\u001b[0m\u001b[1;33m=\u001b[0m\u001b[0mn_jobs\u001b[0m\u001b[1;33m,\u001b[0m \u001b[0mpre_dispatch\u001b[0m\u001b[1;33m=\u001b[0m\u001b[0mpre_dispatch\u001b[0m\u001b[1;33m)\u001b[0m\u001b[1;33m(\u001b[0m\u001b[0mdelayed_list\u001b[0m\u001b[1;33m)\u001b[0m\u001b[1;33m\u001b[0m\u001b[1;33m\u001b[0m\u001b[0m\n\u001b[0m\u001b[0;32m    104\u001b[0m \u001b[1;33m\u001b[0m\u001b[0m\n\u001b[0;32m    105\u001b[0m     (test_measures_dicts,\n",
      "\u001b[1;32m~\\anaconda3\\envs\\learn-env\\lib\\site-packages\\joblib\\parallel.py\u001b[0m in \u001b[0;36m__call__\u001b[1;34m(self, iterable)\u001b[0m\n\u001b[0;32m   1046\u001b[0m             \u001b[1;31m# remaining jobs.\u001b[0m\u001b[1;33m\u001b[0m\u001b[1;33m\u001b[0m\u001b[1;33m\u001b[0m\u001b[0m\n\u001b[0;32m   1047\u001b[0m             \u001b[0mself\u001b[0m\u001b[1;33m.\u001b[0m\u001b[0m_iterating\u001b[0m \u001b[1;33m=\u001b[0m \u001b[1;32mFalse\u001b[0m\u001b[1;33m\u001b[0m\u001b[1;33m\u001b[0m\u001b[0m\n\u001b[1;32m-> 1048\u001b[1;33m             \u001b[1;32mif\u001b[0m \u001b[0mself\u001b[0m\u001b[1;33m.\u001b[0m\u001b[0mdispatch_one_batch\u001b[0m\u001b[1;33m(\u001b[0m\u001b[0miterator\u001b[0m\u001b[1;33m)\u001b[0m\u001b[1;33m:\u001b[0m\u001b[1;33m\u001b[0m\u001b[1;33m\u001b[0m\u001b[0m\n\u001b[0m\u001b[0;32m   1049\u001b[0m                 \u001b[0mself\u001b[0m\u001b[1;33m.\u001b[0m\u001b[0m_iterating\u001b[0m \u001b[1;33m=\u001b[0m \u001b[0mself\u001b[0m\u001b[1;33m.\u001b[0m\u001b[0m_original_iterator\u001b[0m \u001b[1;32mis\u001b[0m \u001b[1;32mnot\u001b[0m \u001b[1;32mNone\u001b[0m\u001b[1;33m\u001b[0m\u001b[1;33m\u001b[0m\u001b[0m\n\u001b[0;32m   1050\u001b[0m \u001b[1;33m\u001b[0m\u001b[0m\n",
      "\u001b[1;32m~\\anaconda3\\envs\\learn-env\\lib\\site-packages\\joblib\\parallel.py\u001b[0m in \u001b[0;36mdispatch_one_batch\u001b[1;34m(self, iterator)\u001b[0m\n\u001b[0;32m    864\u001b[0m                 \u001b[1;32mreturn\u001b[0m \u001b[1;32mFalse\u001b[0m\u001b[1;33m\u001b[0m\u001b[1;33m\u001b[0m\u001b[0m\n\u001b[0;32m    865\u001b[0m             \u001b[1;32melse\u001b[0m\u001b[1;33m:\u001b[0m\u001b[1;33m\u001b[0m\u001b[1;33m\u001b[0m\u001b[0m\n\u001b[1;32m--> 866\u001b[1;33m                 \u001b[0mself\u001b[0m\u001b[1;33m.\u001b[0m\u001b[0m_dispatch\u001b[0m\u001b[1;33m(\u001b[0m\u001b[0mtasks\u001b[0m\u001b[1;33m)\u001b[0m\u001b[1;33m\u001b[0m\u001b[1;33m\u001b[0m\u001b[0m\n\u001b[0m\u001b[0;32m    867\u001b[0m                 \u001b[1;32mreturn\u001b[0m \u001b[1;32mTrue\u001b[0m\u001b[1;33m\u001b[0m\u001b[1;33m\u001b[0m\u001b[0m\n\u001b[0;32m    868\u001b[0m \u001b[1;33m\u001b[0m\u001b[0m\n",
      "\u001b[1;32m~\\anaconda3\\envs\\learn-env\\lib\\site-packages\\joblib\\parallel.py\u001b[0m in \u001b[0;36m_dispatch\u001b[1;34m(self, batch)\u001b[0m\n\u001b[0;32m    782\u001b[0m         \u001b[1;32mwith\u001b[0m \u001b[0mself\u001b[0m\u001b[1;33m.\u001b[0m\u001b[0m_lock\u001b[0m\u001b[1;33m:\u001b[0m\u001b[1;33m\u001b[0m\u001b[1;33m\u001b[0m\u001b[0m\n\u001b[0;32m    783\u001b[0m             \u001b[0mjob_idx\u001b[0m \u001b[1;33m=\u001b[0m \u001b[0mlen\u001b[0m\u001b[1;33m(\u001b[0m\u001b[0mself\u001b[0m\u001b[1;33m.\u001b[0m\u001b[0m_jobs\u001b[0m\u001b[1;33m)\u001b[0m\u001b[1;33m\u001b[0m\u001b[1;33m\u001b[0m\u001b[0m\n\u001b[1;32m--> 784\u001b[1;33m             \u001b[0mjob\u001b[0m \u001b[1;33m=\u001b[0m \u001b[0mself\u001b[0m\u001b[1;33m.\u001b[0m\u001b[0m_backend\u001b[0m\u001b[1;33m.\u001b[0m\u001b[0mapply_async\u001b[0m\u001b[1;33m(\u001b[0m\u001b[0mbatch\u001b[0m\u001b[1;33m,\u001b[0m \u001b[0mcallback\u001b[0m\u001b[1;33m=\u001b[0m\u001b[0mcb\u001b[0m\u001b[1;33m)\u001b[0m\u001b[1;33m\u001b[0m\u001b[1;33m\u001b[0m\u001b[0m\n\u001b[0m\u001b[0;32m    785\u001b[0m             \u001b[1;31m# A job can complete so quickly than its callback is\u001b[0m\u001b[1;33m\u001b[0m\u001b[1;33m\u001b[0m\u001b[1;33m\u001b[0m\u001b[0m\n\u001b[0;32m    786\u001b[0m             \u001b[1;31m# called before we get here, causing self._jobs to\u001b[0m\u001b[1;33m\u001b[0m\u001b[1;33m\u001b[0m\u001b[1;33m\u001b[0m\u001b[0m\n",
      "\u001b[1;32m~\\anaconda3\\envs\\learn-env\\lib\\site-packages\\joblib\\_parallel_backends.py\u001b[0m in \u001b[0;36mapply_async\u001b[1;34m(self, func, callback)\u001b[0m\n\u001b[0;32m    206\u001b[0m     \u001b[1;32mdef\u001b[0m \u001b[0mapply_async\u001b[0m\u001b[1;33m(\u001b[0m\u001b[0mself\u001b[0m\u001b[1;33m,\u001b[0m \u001b[0mfunc\u001b[0m\u001b[1;33m,\u001b[0m \u001b[0mcallback\u001b[0m\u001b[1;33m=\u001b[0m\u001b[1;32mNone\u001b[0m\u001b[1;33m)\u001b[0m\u001b[1;33m:\u001b[0m\u001b[1;33m\u001b[0m\u001b[1;33m\u001b[0m\u001b[0m\n\u001b[0;32m    207\u001b[0m         \u001b[1;34m\"\"\"Schedule a func to be run\"\"\"\u001b[0m\u001b[1;33m\u001b[0m\u001b[1;33m\u001b[0m\u001b[0m\n\u001b[1;32m--> 208\u001b[1;33m         \u001b[0mresult\u001b[0m \u001b[1;33m=\u001b[0m \u001b[0mImmediateResult\u001b[0m\u001b[1;33m(\u001b[0m\u001b[0mfunc\u001b[0m\u001b[1;33m)\u001b[0m\u001b[1;33m\u001b[0m\u001b[1;33m\u001b[0m\u001b[0m\n\u001b[0m\u001b[0;32m    209\u001b[0m         \u001b[1;32mif\u001b[0m \u001b[0mcallback\u001b[0m\u001b[1;33m:\u001b[0m\u001b[1;33m\u001b[0m\u001b[1;33m\u001b[0m\u001b[0m\n\u001b[0;32m    210\u001b[0m             \u001b[0mcallback\u001b[0m\u001b[1;33m(\u001b[0m\u001b[0mresult\u001b[0m\u001b[1;33m)\u001b[0m\u001b[1;33m\u001b[0m\u001b[1;33m\u001b[0m\u001b[0m\n",
      "\u001b[1;32m~\\anaconda3\\envs\\learn-env\\lib\\site-packages\\joblib\\_parallel_backends.py\u001b[0m in \u001b[0;36m__init__\u001b[1;34m(self, batch)\u001b[0m\n\u001b[0;32m    570\u001b[0m         \u001b[1;31m# Don't delay the application, to avoid keeping the input\u001b[0m\u001b[1;33m\u001b[0m\u001b[1;33m\u001b[0m\u001b[1;33m\u001b[0m\u001b[0m\n\u001b[0;32m    571\u001b[0m         \u001b[1;31m# arguments in memory\u001b[0m\u001b[1;33m\u001b[0m\u001b[1;33m\u001b[0m\u001b[1;33m\u001b[0m\u001b[0m\n\u001b[1;32m--> 572\u001b[1;33m         \u001b[0mself\u001b[0m\u001b[1;33m.\u001b[0m\u001b[0mresults\u001b[0m \u001b[1;33m=\u001b[0m \u001b[0mbatch\u001b[0m\u001b[1;33m(\u001b[0m\u001b[1;33m)\u001b[0m\u001b[1;33m\u001b[0m\u001b[1;33m\u001b[0m\u001b[0m\n\u001b[0m\u001b[0;32m    573\u001b[0m \u001b[1;33m\u001b[0m\u001b[0m\n\u001b[0;32m    574\u001b[0m     \u001b[1;32mdef\u001b[0m \u001b[0mget\u001b[0m\u001b[1;33m(\u001b[0m\u001b[0mself\u001b[0m\u001b[1;33m)\u001b[0m\u001b[1;33m:\u001b[0m\u001b[1;33m\u001b[0m\u001b[1;33m\u001b[0m\u001b[0m\n",
      "\u001b[1;32m~\\anaconda3\\envs\\learn-env\\lib\\site-packages\\joblib\\parallel.py\u001b[0m in \u001b[0;36m__call__\u001b[1;34m(self)\u001b[0m\n\u001b[0;32m    260\u001b[0m         \u001b[1;31m# change the default number of processes to -1\u001b[0m\u001b[1;33m\u001b[0m\u001b[1;33m\u001b[0m\u001b[1;33m\u001b[0m\u001b[0m\n\u001b[0;32m    261\u001b[0m         \u001b[1;32mwith\u001b[0m \u001b[0mparallel_backend\u001b[0m\u001b[1;33m(\u001b[0m\u001b[0mself\u001b[0m\u001b[1;33m.\u001b[0m\u001b[0m_backend\u001b[0m\u001b[1;33m,\u001b[0m \u001b[0mn_jobs\u001b[0m\u001b[1;33m=\u001b[0m\u001b[0mself\u001b[0m\u001b[1;33m.\u001b[0m\u001b[0m_n_jobs\u001b[0m\u001b[1;33m)\u001b[0m\u001b[1;33m:\u001b[0m\u001b[1;33m\u001b[0m\u001b[1;33m\u001b[0m\u001b[0m\n\u001b[1;32m--> 262\u001b[1;33m             return [func(*args, **kwargs)\n\u001b[0m\u001b[0;32m    263\u001b[0m                     for func, args, kwargs in self.items]\n\u001b[0;32m    264\u001b[0m \u001b[1;33m\u001b[0m\u001b[0m\n",
      "\u001b[1;32m~\\anaconda3\\envs\\learn-env\\lib\\site-packages\\joblib\\parallel.py\u001b[0m in \u001b[0;36m<listcomp>\u001b[1;34m(.0)\u001b[0m\n\u001b[0;32m    260\u001b[0m         \u001b[1;31m# change the default number of processes to -1\u001b[0m\u001b[1;33m\u001b[0m\u001b[1;33m\u001b[0m\u001b[1;33m\u001b[0m\u001b[0m\n\u001b[0;32m    261\u001b[0m         \u001b[1;32mwith\u001b[0m \u001b[0mparallel_backend\u001b[0m\u001b[1;33m(\u001b[0m\u001b[0mself\u001b[0m\u001b[1;33m.\u001b[0m\u001b[0m_backend\u001b[0m\u001b[1;33m,\u001b[0m \u001b[0mn_jobs\u001b[0m\u001b[1;33m=\u001b[0m\u001b[0mself\u001b[0m\u001b[1;33m.\u001b[0m\u001b[0m_n_jobs\u001b[0m\u001b[1;33m)\u001b[0m\u001b[1;33m:\u001b[0m\u001b[1;33m\u001b[0m\u001b[1;33m\u001b[0m\u001b[0m\n\u001b[1;32m--> 262\u001b[1;33m             return [func(*args, **kwargs)\n\u001b[0m\u001b[0;32m    263\u001b[0m                     for func, args, kwargs in self.items]\n\u001b[0;32m    264\u001b[0m \u001b[1;33m\u001b[0m\u001b[0m\n",
      "\u001b[1;32m~\\anaconda3\\envs\\learn-env\\lib\\site-packages\\surprise\\model_selection\\validation.py\u001b[0m in \u001b[0;36mfit_and_score\u001b[1;34m(algo, trainset, testset, measures, return_train_measures)\u001b[0m\n\u001b[0;32m    164\u001b[0m \u001b[1;33m\u001b[0m\u001b[0m\n\u001b[0;32m    165\u001b[0m     \u001b[0mstart_fit\u001b[0m \u001b[1;33m=\u001b[0m \u001b[0mtime\u001b[0m\u001b[1;33m.\u001b[0m\u001b[0mtime\u001b[0m\u001b[1;33m(\u001b[0m\u001b[1;33m)\u001b[0m\u001b[1;33m\u001b[0m\u001b[1;33m\u001b[0m\u001b[0m\n\u001b[1;32m--> 166\u001b[1;33m     \u001b[0malgo\u001b[0m\u001b[1;33m.\u001b[0m\u001b[0mfit\u001b[0m\u001b[1;33m(\u001b[0m\u001b[0mtrainset\u001b[0m\u001b[1;33m)\u001b[0m\u001b[1;33m\u001b[0m\u001b[1;33m\u001b[0m\u001b[0m\n\u001b[0m\u001b[0;32m    167\u001b[0m     \u001b[0mfit_time\u001b[0m \u001b[1;33m=\u001b[0m \u001b[0mtime\u001b[0m\u001b[1;33m.\u001b[0m\u001b[0mtime\u001b[0m\u001b[1;33m(\u001b[0m\u001b[1;33m)\u001b[0m \u001b[1;33m-\u001b[0m \u001b[0mstart_fit\u001b[0m\u001b[1;33m\u001b[0m\u001b[1;33m\u001b[0m\u001b[0m\n\u001b[0;32m    168\u001b[0m     \u001b[0mstart_test\u001b[0m \u001b[1;33m=\u001b[0m \u001b[0mtime\u001b[0m\u001b[1;33m.\u001b[0m\u001b[0mtime\u001b[0m\u001b[1;33m(\u001b[0m\u001b[1;33m)\u001b[0m\u001b[1;33m\u001b[0m\u001b[1;33m\u001b[0m\u001b[0m\n",
      "\u001b[1;32m~\\anaconda3\\envs\\learn-env\\lib\\site-packages\\surprise\\prediction_algorithms\\knns.py\u001b[0m in \u001b[0;36mfit\u001b[1;34m(self, trainset)\u001b[0m\n\u001b[0;32m     97\u001b[0m \u001b[1;33m\u001b[0m\u001b[0m\n\u001b[0;32m     98\u001b[0m         \u001b[0mSymmetricAlgo\u001b[0m\u001b[1;33m.\u001b[0m\u001b[0mfit\u001b[0m\u001b[1;33m(\u001b[0m\u001b[0mself\u001b[0m\u001b[1;33m,\u001b[0m \u001b[0mtrainset\u001b[0m\u001b[1;33m)\u001b[0m\u001b[1;33m\u001b[0m\u001b[1;33m\u001b[0m\u001b[0m\n\u001b[1;32m---> 99\u001b[1;33m         \u001b[0mself\u001b[0m\u001b[1;33m.\u001b[0m\u001b[0msim\u001b[0m \u001b[1;33m=\u001b[0m \u001b[0mself\u001b[0m\u001b[1;33m.\u001b[0m\u001b[0mcompute_similarities\u001b[0m\u001b[1;33m(\u001b[0m\u001b[1;33m)\u001b[0m\u001b[1;33m\u001b[0m\u001b[1;33m\u001b[0m\u001b[0m\n\u001b[0m\u001b[0;32m    100\u001b[0m \u001b[1;33m\u001b[0m\u001b[0m\n\u001b[0;32m    101\u001b[0m         \u001b[1;32mreturn\u001b[0m \u001b[0mself\u001b[0m\u001b[1;33m\u001b[0m\u001b[1;33m\u001b[0m\u001b[0m\n",
      "\u001b[1;32m~\\anaconda3\\envs\\learn-env\\lib\\site-packages\\surprise\\prediction_algorithms\\algo_base.py\u001b[0m in \u001b[0;36mcompute_similarities\u001b[1;34m(self)\u001b[0m\n\u001b[0;32m    247\u001b[0m             \u001b[1;32mif\u001b[0m \u001b[0mgetattr\u001b[0m\u001b[1;33m(\u001b[0m\u001b[0mself\u001b[0m\u001b[1;33m,\u001b[0m \u001b[1;34m'verbose'\u001b[0m\u001b[1;33m,\u001b[0m \u001b[1;32mFalse\u001b[0m\u001b[1;33m)\u001b[0m\u001b[1;33m:\u001b[0m\u001b[1;33m\u001b[0m\u001b[1;33m\u001b[0m\u001b[0m\n\u001b[0;32m    248\u001b[0m                 \u001b[0mprint\u001b[0m\u001b[1;33m(\u001b[0m\u001b[1;34m'Computing the {0} similarity matrix...'\u001b[0m\u001b[1;33m.\u001b[0m\u001b[0mformat\u001b[0m\u001b[1;33m(\u001b[0m\u001b[0mname\u001b[0m\u001b[1;33m)\u001b[0m\u001b[1;33m)\u001b[0m\u001b[1;33m\u001b[0m\u001b[1;33m\u001b[0m\u001b[0m\n\u001b[1;32m--> 249\u001b[1;33m             \u001b[0msim\u001b[0m \u001b[1;33m=\u001b[0m \u001b[0mconstruction_func\u001b[0m\u001b[1;33m[\u001b[0m\u001b[0mname\u001b[0m\u001b[1;33m]\u001b[0m\u001b[1;33m(\u001b[0m\u001b[1;33m*\u001b[0m\u001b[0margs\u001b[0m\u001b[1;33m)\u001b[0m\u001b[1;33m\u001b[0m\u001b[1;33m\u001b[0m\u001b[0m\n\u001b[0m\u001b[0;32m    250\u001b[0m             \u001b[1;32mif\u001b[0m \u001b[0mgetattr\u001b[0m\u001b[1;33m(\u001b[0m\u001b[0mself\u001b[0m\u001b[1;33m,\u001b[0m \u001b[1;34m'verbose'\u001b[0m\u001b[1;33m,\u001b[0m \u001b[1;32mFalse\u001b[0m\u001b[1;33m)\u001b[0m\u001b[1;33m:\u001b[0m\u001b[1;33m\u001b[0m\u001b[1;33m\u001b[0m\u001b[0m\n\u001b[0;32m    251\u001b[0m                 \u001b[0mprint\u001b[0m\u001b[1;33m(\u001b[0m\u001b[1;34m'Done computing similarity matrix.'\u001b[0m\u001b[1;33m)\u001b[0m\u001b[1;33m\u001b[0m\u001b[1;33m\u001b[0m\u001b[0m\n",
      "\u001b[1;32m~\\anaconda3\\envs\\learn-env\\lib\\site-packages\\surprise\\similarities.pyx\u001b[0m in \u001b[0;36msurprise.similarities.msd\u001b[1;34m()\u001b[0m\n",
      "\u001b[1;31mMemoryError\u001b[0m: Unable to allocate 266. TiB for an array with shape (6051482, 6051482) and data type float64"
     ]
    }
   ],
   "source": [
    "cross_validate(KNNBasic(), user_data, verbose=True)"
   ]
  },
  {
   "cell_type": "code",
   "execution_count": 73,
   "id": "f9542715-c4c9-4b33-8bfe-205cf44c4082",
   "metadata": {},
   "outputs": [
    {
     "name": "stdout",
     "output_type": "stream",
     "text": [
      "Estimating biases using als...\n",
      "Estimating biases using als...\n",
      "Estimating biases using als...\n",
      "Estimating biases using als...\n",
      "Estimating biases using als...\n",
      "Evaluating RMSE, MAE of algorithm BaselineOnly on 5 split(s).\n",
      "\n",
      "                  Fold 1  Fold 2  Fold 3  Fold 4  Fold 5  Mean    Std     \n",
      "RMSE (testset)    0.3096  0.3100  0.3099  0.3100  0.3095  0.3098  0.0002  \n",
      "MAE (testset)     0.1950  0.1952  0.1951  0.1952  0.1949  0.1951  0.0001  \n",
      "Fit time          122.54  157.11  324.96  174.43  171.37  190.08  69.91   \n",
      "Test time         1491.16 37.26   35.57   39.22   1257.16 572.07  659.07  \n"
     ]
    },
    {
     "data": {
      "text/plain": [
       "{'test_rmse': array([0.3096229 , 0.31001217, 0.30994601, 0.30998658, 0.3095089 ]),\n",
       " 'test_mae': array([0.19499328, 0.1952269 , 0.19513188, 0.19520249, 0.19485905]),\n",
       " 'fit_time': (122.54285454750061,\n",
       "  157.1097252368927,\n",
       "  324.9595408439636,\n",
       "  174.42570662498474,\n",
       "  171.3685839176178),\n",
       " 'test_time': (1491.1582367420197,\n",
       "  37.25891470909119,\n",
       "  35.56749773025513,\n",
       "  39.21666955947876,\n",
       "  1257.1624088287354)}"
      ]
     },
     "execution_count": 73,
     "metadata": {},
     "output_type": "execute_result"
    }
   ],
   "source": [
    "cross_validate(BaselineOnly(), user_data, verbose=True)"
   ]
  },
  {
   "cell_type": "code",
   "execution_count": 31,
   "id": "a02225ec-0714-4c66-9402-3841ad252505",
   "metadata": {},
   "outputs": [],
   "source": [
    "def game_rater(all_data, num, genre=None):\n",
    "    print('please indicate if you like this game')\n",
    "    userid = all_data.steamid.max() + 1 \n",
    "    ratings = []\n",
    "    while num > 0:\n",
    "        if genre:\n",
    "            game = all_data[all_data.genres.str.contains(genre)].sample(1)\n",
    "            if movie.empty:\n",
    "                movie = movie_df.sample(1)\n",
    "        else:\n",
    "            game = all_data.sample(1)\n",
    "        title = all_data.appid.values[0]\n",
    "        print('Game id:', title)\n",
    "        print('======================================')\n",
    "        response = input('Indicate if you like the game with a 1 or not with a 0. If you have not played it enter an x.')\n",
    "        print('======================================')\n",
    "        if response.lower().strip() == 'x':\n",
    "            continue\n",
    "        else:\n",
    "            entry = {'userId': userid , 'movieId': all_data.appid.values[0] , 'rating': float(response)}\n",
    "            ratings.append(entry)\n",
    "            num -=1\n",
    "    return ratings"
   ]
  },
  {
   "cell_type": "code",
   "execution_count": 32,
   "id": "2b9e0c98-3eaf-4fe6-9c71-df02cbfb97d4",
   "metadata": {},
   "outputs": [
    {
     "name": "stdout",
     "output_type": "stream",
     "text": [
      "please indicate if you like this game\n",
      "Game id: 10\n",
      "======================================\n"
     ]
    },
    {
     "name": "stdin",
     "output_type": "stream",
     "text": [
      "Indicate if you like the game with a 1 or not with a 0. If you have not played it enter an x. 1\n"
     ]
    },
    {
     "name": "stdout",
     "output_type": "stream",
     "text": [
      "======================================\n",
      "Game id: 10\n",
      "======================================\n"
     ]
    },
    {
     "name": "stdin",
     "output_type": "stream",
     "text": [
      "Indicate if you like the game with a 1 or not with a 0. If you have not played it enter an x. 1\n"
     ]
    },
    {
     "name": "stdout",
     "output_type": "stream",
     "text": [
      "======================================\n",
      "Game id: 10\n",
      "======================================\n"
     ]
    },
    {
     "name": "stdin",
     "output_type": "stream",
     "text": [
      "Indicate if you like the game with a 1 or not with a 0. If you have not played it enter an x. 1\n"
     ]
    },
    {
     "name": "stdout",
     "output_type": "stream",
     "text": [
      "======================================\n",
      "Game id: 10\n",
      "======================================\n"
     ]
    },
    {
     "name": "stdin",
     "output_type": "stream",
     "text": [
      "Indicate if you like the game with a 1 or not with a 0. If you have not played it enter an x. 0\n"
     ]
    },
    {
     "name": "stdout",
     "output_type": "stream",
     "text": [
      "======================================\n",
      "Game id: 10\n",
      "======================================\n"
     ]
    },
    {
     "name": "stdin",
     "output_type": "stream",
     "text": [
      "Indicate if you like the game with a 1 or not with a 0. If you have not played it enter an x. 0\n"
     ]
    },
    {
     "name": "stdout",
     "output_type": "stream",
     "text": [
      "======================================\n"
     ]
    },
    {
     "data": {
      "text/plain": [
       "[{'userId': 76561199163885681, 'movieId': 10, 'rating': 1.0},\n",
       " {'userId': 76561199163885681, 'movieId': 10, 'rating': 1.0},\n",
       " {'userId': 76561199163885681, 'movieId': 10, 'rating': 1.0},\n",
       " {'userId': 76561199163885681, 'movieId': 10, 'rating': 0.0},\n",
       " {'userId': 76561199163885681, 'movieId': 10, 'rating': 0.0}]"
      ]
     },
     "execution_count": 32,
     "metadata": {},
     "output_type": "execute_result"
    }
   ],
   "source": [
    "game_rater(all_data, 5)"
   ]
  },
  {
   "cell_type": "code",
   "execution_count": null,
   "id": "ed13dcf0-4b0a-44b5-9516-63b7d0a6d188",
   "metadata": {},
   "outputs": [],
   "source": []
  }
 ],
 "metadata": {
  "kernelspec": {
   "display_name": "learn-env",
   "language": "python",
   "name": "learn-env"
  },
  "language_info": {
   "codemirror_mode": {
    "name": "ipython",
    "version": 3
   },
   "file_extension": ".py",
   "mimetype": "text/x-python",
   "name": "python",
   "nbconvert_exporter": "python",
   "pygments_lexer": "ipython3",
   "version": "3.8.5"
  }
 },
 "nbformat": 4,
 "nbformat_minor": 5
}

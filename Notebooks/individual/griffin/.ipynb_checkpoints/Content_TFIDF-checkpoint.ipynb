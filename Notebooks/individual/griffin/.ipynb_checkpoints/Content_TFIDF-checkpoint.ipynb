{
 "cells": [
  {
   "cell_type": "code",
   "execution_count": 1,
   "id": "fbd55964-c227-49b3-a9dd-e2f8732e2db3",
   "metadata": {},
   "outputs": [],
   "source": [
    "import pandas as pd\n",
    "from sklearn.feature_extraction.text import TfidfVectorizer\n",
    "from sklearn.metrics.pairwise import linear_kernel \n",
    "import numpy as np"
   ]
  },
  {
   "cell_type": "code",
   "execution_count": 2,
   "id": "cdd5d195-7f89-47fc-b00b-0dc3e6c35493",
   "metadata": {},
   "outputs": [
    {
     "data": {
      "text/html": [
       "<div>\n",
       "<style scoped>\n",
       "    .dataframe tbody tr th:only-of-type {\n",
       "        vertical-align: middle;\n",
       "    }\n",
       "\n",
       "    .dataframe tbody tr th {\n",
       "        vertical-align: top;\n",
       "    }\n",
       "\n",
       "    .dataframe thead th {\n",
       "        text-align: right;\n",
       "    }\n",
       "</style>\n",
       "<table border=\"1\" class=\"dataframe\">\n",
       "  <thead>\n",
       "    <tr style=\"text-align: right;\">\n",
       "      <th></th>\n",
       "      <th>steamid</th>\n",
       "      <th>appid</th>\n",
       "      <th>app_title</th>\n",
       "      <th>app_tags</th>\n",
       "      <th>review</th>\n",
       "      <th>fps</th>\n",
       "      <th>voted_up</th>\n",
       "    </tr>\n",
       "  </thead>\n",
       "  <tbody>\n",
       "    <tr>\n",
       "      <th>0</th>\n",
       "      <td>76561198865552498</td>\n",
       "      <td>730</td>\n",
       "      <td>Counter-Strike: Global Offensive</td>\n",
       "      <td>['FPS', 'Shooter', 'Multiplayer', 'Competitive...</td>\n",
       "      <td>very good game</td>\n",
       "      <td>True</td>\n",
       "      <td>1</td>\n",
       "    </tr>\n",
       "    <tr>\n",
       "      <th>1</th>\n",
       "      <td>76561197964533061</td>\n",
       "      <td>730</td>\n",
       "      <td>Counter-Strike: Global Offensive</td>\n",
       "      <td>['FPS', 'Shooter', 'Multiplayer', 'Competitive...</td>\n",
       "      <td>beause S</td>\n",
       "      <td>True</td>\n",
       "      <td>1</td>\n",
       "    </tr>\n",
       "    <tr>\n",
       "      <th>2</th>\n",
       "      <td>76561198290998839</td>\n",
       "      <td>730</td>\n",
       "      <td>Counter-Strike: Global Offensive</td>\n",
       "      <td>['FPS', 'Shooter', 'Multiplayer', 'Competitive...</td>\n",
       "      <td>Russians everywhere, do not recommend</td>\n",
       "      <td>True</td>\n",
       "      <td>1</td>\n",
       "    </tr>\n",
       "    <tr>\n",
       "      <th>3</th>\n",
       "      <td>76561198073021168</td>\n",
       "      <td>60</td>\n",
       "      <td>Ricochet</td>\n",
       "      <td>['Action', 'FPS', 'Multiplayer', 'Classic', 'F...</td>\n",
       "      <td>best game, best game, 10/10 i r8 8/8</td>\n",
       "      <td>True</td>\n",
       "      <td>1</td>\n",
       "    </tr>\n",
       "    <tr>\n",
       "      <th>4</th>\n",
       "      <td>76561198061142423</td>\n",
       "      <td>550</td>\n",
       "      <td>Left 4 Dead 2</td>\n",
       "      <td>['Zombies', 'Co-op', 'FPS', 'Multiplayer', 'Sh...</td>\n",
       "      <td>køb hvis du kan lide zombie spil ;D</td>\n",
       "      <td>True</td>\n",
       "      <td>1</td>\n",
       "    </tr>\n",
       "    <tr>\n",
       "      <th>...</th>\n",
       "      <td>...</td>\n",
       "      <td>...</td>\n",
       "      <td>...</td>\n",
       "      <td>...</td>\n",
       "      <td>...</td>\n",
       "      <td>...</td>\n",
       "      <td>...</td>\n",
       "    </tr>\n",
       "    <tr>\n",
       "      <th>19675</th>\n",
       "      <td>76561198174234215</td>\n",
       "      <td>70</td>\n",
       "      <td>Half-Life</td>\n",
       "      <td>['FPS', 'Sci-fi', 'Action', 'Singleplayer', \"1...</td>\n",
       "      <td>Honestly does not hold up for me. Go buy Black...</td>\n",
       "      <td>True</td>\n",
       "      <td>0</td>\n",
       "    </tr>\n",
       "    <tr>\n",
       "      <th>19676</th>\n",
       "      <td>76561198399192985</td>\n",
       "      <td>730</td>\n",
       "      <td>Counter-Strike: Global Offensive</td>\n",
       "      <td>['FPS', 'Shooter', 'Multiplayer', 'Competitive...</td>\n",
       "      <td>bad comunity. If you want to try hard at this ...</td>\n",
       "      <td>True</td>\n",
       "      <td>0</td>\n",
       "    </tr>\n",
       "    <tr>\n",
       "      <th>19677</th>\n",
       "      <td>76561197974601384</td>\n",
       "      <td>730</td>\n",
       "      <td>Counter-Strike: Global Offensive</td>\n",
       "      <td>['FPS', 'Shooter', 'Multiplayer', 'Competitive...</td>\n",
       "      <td>Dont start</td>\n",
       "      <td>True</td>\n",
       "      <td>0</td>\n",
       "    </tr>\n",
       "    <tr>\n",
       "      <th>19678</th>\n",
       "      <td>76561198204888087</td>\n",
       "      <td>730</td>\n",
       "      <td>Counter-Strike: Global Offensive</td>\n",
       "      <td>['FPS', 'Shooter', 'Multiplayer', 'Competitive...</td>\n",
       "      <td>Why the hell does this game have a battle roya...</td>\n",
       "      <td>True</td>\n",
       "      <td>0</td>\n",
       "    </tr>\n",
       "    <tr>\n",
       "      <th>19679</th>\n",
       "      <td>76561198130435619</td>\n",
       "      <td>730</td>\n",
       "      <td>Counter-Strike: Global Offensive</td>\n",
       "      <td>['FPS', 'Shooter', 'Multiplayer', 'Competitive...</td>\n",
       "      <td>trash</td>\n",
       "      <td>True</td>\n",
       "      <td>0</td>\n",
       "    </tr>\n",
       "  </tbody>\n",
       "</table>\n",
       "<p>19680 rows × 7 columns</p>\n",
       "</div>"
      ],
      "text/plain": [
       "                 steamid  appid                         app_title  \\\n",
       "0      76561198865552498    730  Counter-Strike: Global Offensive   \n",
       "1      76561197964533061    730  Counter-Strike: Global Offensive   \n",
       "2      76561198290998839    730  Counter-Strike: Global Offensive   \n",
       "3      76561198073021168     60                          Ricochet   \n",
       "4      76561198061142423    550                     Left 4 Dead 2   \n",
       "...                  ...    ...                               ...   \n",
       "19675  76561198174234215     70                         Half-Life   \n",
       "19676  76561198399192985    730  Counter-Strike: Global Offensive   \n",
       "19677  76561197974601384    730  Counter-Strike: Global Offensive   \n",
       "19678  76561198204888087    730  Counter-Strike: Global Offensive   \n",
       "19679  76561198130435619    730  Counter-Strike: Global Offensive   \n",
       "\n",
       "                                                app_tags  \\\n",
       "0      ['FPS', 'Shooter', 'Multiplayer', 'Competitive...   \n",
       "1      ['FPS', 'Shooter', 'Multiplayer', 'Competitive...   \n",
       "2      ['FPS', 'Shooter', 'Multiplayer', 'Competitive...   \n",
       "3      ['Action', 'FPS', 'Multiplayer', 'Classic', 'F...   \n",
       "4      ['Zombies', 'Co-op', 'FPS', 'Multiplayer', 'Sh...   \n",
       "...                                                  ...   \n",
       "19675  ['FPS', 'Sci-fi', 'Action', 'Singleplayer', \"1...   \n",
       "19676  ['FPS', 'Shooter', 'Multiplayer', 'Competitive...   \n",
       "19677  ['FPS', 'Shooter', 'Multiplayer', 'Competitive...   \n",
       "19678  ['FPS', 'Shooter', 'Multiplayer', 'Competitive...   \n",
       "19679  ['FPS', 'Shooter', 'Multiplayer', 'Competitive...   \n",
       "\n",
       "                                                  review   fps  voted_up  \n",
       "0                                         very good game  True         1  \n",
       "1                                               beause S  True         1  \n",
       "2                  Russians everywhere, do not recommend  True         1  \n",
       "3                   best game, best game, 10/10 i r8 8/8  True         1  \n",
       "4                    køb hvis du kan lide zombie spil ;D  True         1  \n",
       "...                                                  ...   ...       ...  \n",
       "19675  Honestly does not hold up for me. Go buy Black...  True         0  \n",
       "19676  bad comunity. If you want to try hard at this ...  True         0  \n",
       "19677                                         Dont start  True         0  \n",
       "19678  Why the hell does this game have a battle roya...  True         0  \n",
       "19679                                              trash  True         0  \n",
       "\n",
       "[19680 rows x 7 columns]"
      ]
     },
     "execution_count": 2,
     "metadata": {},
     "output_type": "execute_result"
    }
   ],
   "source": [
    "fps_main = pd.read_csv('../../../data/fps_main.csv')\n",
    "fps_main"
   ]
  },
  {
   "cell_type": "code",
   "execution_count": null,
   "id": "f7e49d7c-e22f-480a-8523-5c436f555d77",
   "metadata": {},
   "outputs": [],
   "source": []
  },
  {
   "cell_type": "code",
   "execution_count": 4,
   "id": "eb2cd6c8-b358-421f-98bb-a1d2bdc42024",
   "metadata": {},
   "outputs": [],
   "source": [
    "from ast import literal_eval\n",
    "\n",
    "features = ['app_tags']\n",
    "for feature in features:\n",
    "    fps_main[feature] = fps_main[feature].apply(literal_eval)"
   ]
  },
  {
   "cell_type": "code",
   "execution_count": 5,
   "id": "6f8a3719-7e8e-4554-a48b-2de346de164a",
   "metadata": {},
   "outputs": [
    {
     "data": {
      "text/html": [
       "<div>\n",
       "<style scoped>\n",
       "    .dataframe tbody tr th:only-of-type {\n",
       "        vertical-align: middle;\n",
       "    }\n",
       "\n",
       "    .dataframe tbody tr th {\n",
       "        vertical-align: top;\n",
       "    }\n",
       "\n",
       "    .dataframe thead th {\n",
       "        text-align: right;\n",
       "    }\n",
       "</style>\n",
       "<table border=\"1\" class=\"dataframe\">\n",
       "  <thead>\n",
       "    <tr style=\"text-align: right;\">\n",
       "      <th></th>\n",
       "      <th>steamid</th>\n",
       "      <th>appid</th>\n",
       "      <th>app_title</th>\n",
       "      <th>app_tags</th>\n",
       "      <th>review</th>\n",
       "      <th>fps</th>\n",
       "      <th>voted_up</th>\n",
       "    </tr>\n",
       "  </thead>\n",
       "  <tbody>\n",
       "    <tr>\n",
       "      <th>0</th>\n",
       "      <td>76561198865552498</td>\n",
       "      <td>730</td>\n",
       "      <td>Counter-Strike: Global Offensive</td>\n",
       "      <td>[FPS, Shooter, Multiplayer, Competitive, Actio...</td>\n",
       "      <td>very good game</td>\n",
       "      <td>True</td>\n",
       "      <td>1</td>\n",
       "    </tr>\n",
       "    <tr>\n",
       "      <th>1</th>\n",
       "      <td>76561197964533061</td>\n",
       "      <td>730</td>\n",
       "      <td>Counter-Strike: Global Offensive</td>\n",
       "      <td>[FPS, Shooter, Multiplayer, Competitive, Actio...</td>\n",
       "      <td>beause S</td>\n",
       "      <td>True</td>\n",
       "      <td>1</td>\n",
       "    </tr>\n",
       "    <tr>\n",
       "      <th>2</th>\n",
       "      <td>76561198290998839</td>\n",
       "      <td>730</td>\n",
       "      <td>Counter-Strike: Global Offensive</td>\n",
       "      <td>[FPS, Shooter, Multiplayer, Competitive, Actio...</td>\n",
       "      <td>Russians everywhere, do not recommend</td>\n",
       "      <td>True</td>\n",
       "      <td>1</td>\n",
       "    </tr>\n",
       "    <tr>\n",
       "      <th>3</th>\n",
       "      <td>76561198073021168</td>\n",
       "      <td>60</td>\n",
       "      <td>Ricochet</td>\n",
       "      <td>[Action, FPS, Multiplayer, Classic, First-Pers...</td>\n",
       "      <td>best game, best game, 10/10 i r8 8/8</td>\n",
       "      <td>True</td>\n",
       "      <td>1</td>\n",
       "    </tr>\n",
       "    <tr>\n",
       "      <th>4</th>\n",
       "      <td>76561198061142423</td>\n",
       "      <td>550</td>\n",
       "      <td>Left 4 Dead 2</td>\n",
       "      <td>[Zombies, Co-op, FPS, Multiplayer, Shooter, Ac...</td>\n",
       "      <td>køb hvis du kan lide zombie spil ;D</td>\n",
       "      <td>True</td>\n",
       "      <td>1</td>\n",
       "    </tr>\n",
       "    <tr>\n",
       "      <th>...</th>\n",
       "      <td>...</td>\n",
       "      <td>...</td>\n",
       "      <td>...</td>\n",
       "      <td>...</td>\n",
       "      <td>...</td>\n",
       "      <td>...</td>\n",
       "      <td>...</td>\n",
       "    </tr>\n",
       "    <tr>\n",
       "      <th>19675</th>\n",
       "      <td>76561198174234215</td>\n",
       "      <td>70</td>\n",
       "      <td>Half-Life</td>\n",
       "      <td>[FPS, Sci-fi, Action, Singleplayer, 1990's, Sh...</td>\n",
       "      <td>Honestly does not hold up for me. Go buy Black...</td>\n",
       "      <td>True</td>\n",
       "      <td>0</td>\n",
       "    </tr>\n",
       "    <tr>\n",
       "      <th>19676</th>\n",
       "      <td>76561198399192985</td>\n",
       "      <td>730</td>\n",
       "      <td>Counter-Strike: Global Offensive</td>\n",
       "      <td>[FPS, Shooter, Multiplayer, Competitive, Actio...</td>\n",
       "      <td>bad comunity. If you want to try hard at this ...</td>\n",
       "      <td>True</td>\n",
       "      <td>0</td>\n",
       "    </tr>\n",
       "    <tr>\n",
       "      <th>19677</th>\n",
       "      <td>76561197974601384</td>\n",
       "      <td>730</td>\n",
       "      <td>Counter-Strike: Global Offensive</td>\n",
       "      <td>[FPS, Shooter, Multiplayer, Competitive, Actio...</td>\n",
       "      <td>Dont start</td>\n",
       "      <td>True</td>\n",
       "      <td>0</td>\n",
       "    </tr>\n",
       "    <tr>\n",
       "      <th>19678</th>\n",
       "      <td>76561198204888087</td>\n",
       "      <td>730</td>\n",
       "      <td>Counter-Strike: Global Offensive</td>\n",
       "      <td>[FPS, Shooter, Multiplayer, Competitive, Actio...</td>\n",
       "      <td>Why the hell does this game have a battle roya...</td>\n",
       "      <td>True</td>\n",
       "      <td>0</td>\n",
       "    </tr>\n",
       "    <tr>\n",
       "      <th>19679</th>\n",
       "      <td>76561198130435619</td>\n",
       "      <td>730</td>\n",
       "      <td>Counter-Strike: Global Offensive</td>\n",
       "      <td>[FPS, Shooter, Multiplayer, Competitive, Actio...</td>\n",
       "      <td>trash</td>\n",
       "      <td>True</td>\n",
       "      <td>0</td>\n",
       "    </tr>\n",
       "  </tbody>\n",
       "</table>\n",
       "<p>19680 rows × 7 columns</p>\n",
       "</div>"
      ],
      "text/plain": [
       "                 steamid  appid                         app_title  \\\n",
       "0      76561198865552498    730  Counter-Strike: Global Offensive   \n",
       "1      76561197964533061    730  Counter-Strike: Global Offensive   \n",
       "2      76561198290998839    730  Counter-Strike: Global Offensive   \n",
       "3      76561198073021168     60                          Ricochet   \n",
       "4      76561198061142423    550                     Left 4 Dead 2   \n",
       "...                  ...    ...                               ...   \n",
       "19675  76561198174234215     70                         Half-Life   \n",
       "19676  76561198399192985    730  Counter-Strike: Global Offensive   \n",
       "19677  76561197974601384    730  Counter-Strike: Global Offensive   \n",
       "19678  76561198204888087    730  Counter-Strike: Global Offensive   \n",
       "19679  76561198130435619    730  Counter-Strike: Global Offensive   \n",
       "\n",
       "                                                app_tags  \\\n",
       "0      [FPS, Shooter, Multiplayer, Competitive, Actio...   \n",
       "1      [FPS, Shooter, Multiplayer, Competitive, Actio...   \n",
       "2      [FPS, Shooter, Multiplayer, Competitive, Actio...   \n",
       "3      [Action, FPS, Multiplayer, Classic, First-Pers...   \n",
       "4      [Zombies, Co-op, FPS, Multiplayer, Shooter, Ac...   \n",
       "...                                                  ...   \n",
       "19675  [FPS, Sci-fi, Action, Singleplayer, 1990's, Sh...   \n",
       "19676  [FPS, Shooter, Multiplayer, Competitive, Actio...   \n",
       "19677  [FPS, Shooter, Multiplayer, Competitive, Actio...   \n",
       "19678  [FPS, Shooter, Multiplayer, Competitive, Actio...   \n",
       "19679  [FPS, Shooter, Multiplayer, Competitive, Actio...   \n",
       "\n",
       "                                                  review   fps  voted_up  \n",
       "0                                         very good game  True         1  \n",
       "1                                               beause S  True         1  \n",
       "2                  Russians everywhere, do not recommend  True         1  \n",
       "3                   best game, best game, 10/10 i r8 8/8  True         1  \n",
       "4                    køb hvis du kan lide zombie spil ;D  True         1  \n",
       "...                                                  ...   ...       ...  \n",
       "19675  Honestly does not hold up for me. Go buy Black...  True         0  \n",
       "19676  bad comunity. If you want to try hard at this ...  True         0  \n",
       "19677                                         Dont start  True         0  \n",
       "19678  Why the hell does this game have a battle roya...  True         0  \n",
       "19679                                              trash  True         0  \n",
       "\n",
       "[19680 rows x 7 columns]"
      ]
     },
     "execution_count": 5,
     "metadata": {},
     "output_type": "execute_result"
    }
   ],
   "source": [
    "fps_main"
   ]
  },
  {
   "cell_type": "code",
   "execution_count": 7,
   "id": "681cc612-7fed-41c7-9646-b36bcbc49f75",
   "metadata": {},
   "outputs": [],
   "source": [
    "def clean_data(x):\n",
    "    if isinstance(x, list):\n",
    "        return [str.lower(i.replace(\" \", \"\")) for i in x]"
   ]
  },
  {
   "cell_type": "code",
   "execution_count": 8,
   "id": "5cf26d27-fbbf-4002-8628-0d05497fdf77",
   "metadata": {},
   "outputs": [],
   "source": [
    "features = ['app_tags']\n",
    "\n",
    "for feature in features:\n",
    "    fps_main[feature] = fps_main[feature].apply(clean_data)"
   ]
  },
  {
   "cell_type": "code",
   "execution_count": 10,
   "id": "5a6604eb-90d8-4811-8447-6c3e0b3661c2",
   "metadata": {},
   "outputs": [
    {
     "data": {
      "text/html": [
       "<div>\n",
       "<style scoped>\n",
       "    .dataframe tbody tr th:only-of-type {\n",
       "        vertical-align: middle;\n",
       "    }\n",
       "\n",
       "    .dataframe tbody tr th {\n",
       "        vertical-align: top;\n",
       "    }\n",
       "\n",
       "    .dataframe thead th {\n",
       "        text-align: right;\n",
       "    }\n",
       "</style>\n",
       "<table border=\"1\" class=\"dataframe\">\n",
       "  <thead>\n",
       "    <tr style=\"text-align: right;\">\n",
       "      <th></th>\n",
       "      <th>steamid</th>\n",
       "      <th>appid</th>\n",
       "      <th>app_title</th>\n",
       "      <th>app_tags</th>\n",
       "      <th>review</th>\n",
       "      <th>fps</th>\n",
       "      <th>voted_up</th>\n",
       "    </tr>\n",
       "  </thead>\n",
       "  <tbody>\n",
       "    <tr>\n",
       "      <th>0</th>\n",
       "      <td>76561198865552498</td>\n",
       "      <td>730</td>\n",
       "      <td>Counter-Strike: Global Offensive</td>\n",
       "      <td>[fps, shooter, multiplayer, competitive, actio...</td>\n",
       "      <td>very good game</td>\n",
       "      <td>True</td>\n",
       "      <td>1</td>\n",
       "    </tr>\n",
       "    <tr>\n",
       "      <th>1</th>\n",
       "      <td>76561197964533061</td>\n",
       "      <td>730</td>\n",
       "      <td>Counter-Strike: Global Offensive</td>\n",
       "      <td>[fps, shooter, multiplayer, competitive, actio...</td>\n",
       "      <td>beause S</td>\n",
       "      <td>True</td>\n",
       "      <td>1</td>\n",
       "    </tr>\n",
       "    <tr>\n",
       "      <th>2</th>\n",
       "      <td>76561198290998839</td>\n",
       "      <td>730</td>\n",
       "      <td>Counter-Strike: Global Offensive</td>\n",
       "      <td>[fps, shooter, multiplayer, competitive, actio...</td>\n",
       "      <td>Russians everywhere, do not recommend</td>\n",
       "      <td>True</td>\n",
       "      <td>1</td>\n",
       "    </tr>\n",
       "    <tr>\n",
       "      <th>3</th>\n",
       "      <td>76561198073021168</td>\n",
       "      <td>60</td>\n",
       "      <td>Ricochet</td>\n",
       "      <td>[action, fps, multiplayer, classic, first-pers...</td>\n",
       "      <td>best game, best game, 10/10 i r8 8/8</td>\n",
       "      <td>True</td>\n",
       "      <td>1</td>\n",
       "    </tr>\n",
       "    <tr>\n",
       "      <th>4</th>\n",
       "      <td>76561198061142423</td>\n",
       "      <td>550</td>\n",
       "      <td>Left 4 Dead 2</td>\n",
       "      <td>[zombies, co-op, fps, multiplayer, shooter, ac...</td>\n",
       "      <td>køb hvis du kan lide zombie spil ;D</td>\n",
       "      <td>True</td>\n",
       "      <td>1</td>\n",
       "    </tr>\n",
       "    <tr>\n",
       "      <th>...</th>\n",
       "      <td>...</td>\n",
       "      <td>...</td>\n",
       "      <td>...</td>\n",
       "      <td>...</td>\n",
       "      <td>...</td>\n",
       "      <td>...</td>\n",
       "      <td>...</td>\n",
       "    </tr>\n",
       "    <tr>\n",
       "      <th>19675</th>\n",
       "      <td>76561198174234215</td>\n",
       "      <td>70</td>\n",
       "      <td>Half-Life</td>\n",
       "      <td>[fps, sci-fi, action, singleplayer, 1990's, sh...</td>\n",
       "      <td>Honestly does not hold up for me. Go buy Black...</td>\n",
       "      <td>True</td>\n",
       "      <td>0</td>\n",
       "    </tr>\n",
       "    <tr>\n",
       "      <th>19676</th>\n",
       "      <td>76561198399192985</td>\n",
       "      <td>730</td>\n",
       "      <td>Counter-Strike: Global Offensive</td>\n",
       "      <td>[fps, shooter, multiplayer, competitive, actio...</td>\n",
       "      <td>bad comunity. If you want to try hard at this ...</td>\n",
       "      <td>True</td>\n",
       "      <td>0</td>\n",
       "    </tr>\n",
       "    <tr>\n",
       "      <th>19677</th>\n",
       "      <td>76561197974601384</td>\n",
       "      <td>730</td>\n",
       "      <td>Counter-Strike: Global Offensive</td>\n",
       "      <td>[fps, shooter, multiplayer, competitive, actio...</td>\n",
       "      <td>Dont start</td>\n",
       "      <td>True</td>\n",
       "      <td>0</td>\n",
       "    </tr>\n",
       "    <tr>\n",
       "      <th>19678</th>\n",
       "      <td>76561198204888087</td>\n",
       "      <td>730</td>\n",
       "      <td>Counter-Strike: Global Offensive</td>\n",
       "      <td>[fps, shooter, multiplayer, competitive, actio...</td>\n",
       "      <td>Why the hell does this game have a battle roya...</td>\n",
       "      <td>True</td>\n",
       "      <td>0</td>\n",
       "    </tr>\n",
       "    <tr>\n",
       "      <th>19679</th>\n",
       "      <td>76561198130435619</td>\n",
       "      <td>730</td>\n",
       "      <td>Counter-Strike: Global Offensive</td>\n",
       "      <td>[fps, shooter, multiplayer, competitive, actio...</td>\n",
       "      <td>trash</td>\n",
       "      <td>True</td>\n",
       "      <td>0</td>\n",
       "    </tr>\n",
       "  </tbody>\n",
       "</table>\n",
       "<p>19680 rows × 7 columns</p>\n",
       "</div>"
      ],
      "text/plain": [
       "                 steamid  appid                         app_title  \\\n",
       "0      76561198865552498    730  Counter-Strike: Global Offensive   \n",
       "1      76561197964533061    730  Counter-Strike: Global Offensive   \n",
       "2      76561198290998839    730  Counter-Strike: Global Offensive   \n",
       "3      76561198073021168     60                          Ricochet   \n",
       "4      76561198061142423    550                     Left 4 Dead 2   \n",
       "...                  ...    ...                               ...   \n",
       "19675  76561198174234215     70                         Half-Life   \n",
       "19676  76561198399192985    730  Counter-Strike: Global Offensive   \n",
       "19677  76561197974601384    730  Counter-Strike: Global Offensive   \n",
       "19678  76561198204888087    730  Counter-Strike: Global Offensive   \n",
       "19679  76561198130435619    730  Counter-Strike: Global Offensive   \n",
       "\n",
       "                                                app_tags  \\\n",
       "0      [fps, shooter, multiplayer, competitive, actio...   \n",
       "1      [fps, shooter, multiplayer, competitive, actio...   \n",
       "2      [fps, shooter, multiplayer, competitive, actio...   \n",
       "3      [action, fps, multiplayer, classic, first-pers...   \n",
       "4      [zombies, co-op, fps, multiplayer, shooter, ac...   \n",
       "...                                                  ...   \n",
       "19675  [fps, sci-fi, action, singleplayer, 1990's, sh...   \n",
       "19676  [fps, shooter, multiplayer, competitive, actio...   \n",
       "19677  [fps, shooter, multiplayer, competitive, actio...   \n",
       "19678  [fps, shooter, multiplayer, competitive, actio...   \n",
       "19679  [fps, shooter, multiplayer, competitive, actio...   \n",
       "\n",
       "                                                  review   fps  voted_up  \n",
       "0                                         very good game  True         1  \n",
       "1                                               beause S  True         1  \n",
       "2                  Russians everywhere, do not recommend  True         1  \n",
       "3                   best game, best game, 10/10 i r8 8/8  True         1  \n",
       "4                    køb hvis du kan lide zombie spil ;D  True         1  \n",
       "...                                                  ...   ...       ...  \n",
       "19675  Honestly does not hold up for me. Go buy Black...  True         0  \n",
       "19676  bad comunity. If you want to try hard at this ...  True         0  \n",
       "19677                                         Dont start  True         0  \n",
       "19678  Why the hell does this game have a battle roya...  True         0  \n",
       "19679                                              trash  True         0  \n",
       "\n",
       "[19680 rows x 7 columns]"
      ]
     },
     "execution_count": 10,
     "metadata": {},
     "output_type": "execute_result"
    }
   ],
   "source": [
    "fps_main"
   ]
  },
  {
   "cell_type": "code",
   "execution_count": 13,
   "id": "1c055553-6e09-46ba-ac46-68968ce3c817",
   "metadata": {},
   "outputs": [],
   "source": [
    "def create_soup(x):\n",
    "    return ' '.join(x['app_tags']) + ' ' + ' '"
   ]
  },
  {
   "cell_type": "code",
   "execution_count": 14,
   "id": "2fca9d44-a3c7-46b8-85f6-1ab315260d5e",
   "metadata": {},
   "outputs": [],
   "source": [
    "fps_main['soup'] = fps_main.apply(create_soup, axis=1)"
   ]
  },
  {
   "cell_type": "code",
   "execution_count": 92,
   "id": "9ffa01b1-c967-49b4-869e-308bb10edbdb",
   "metadata": {},
   "outputs": [],
   "source": [
    "try_out = fps_main.drop(['steamid', 'appid', 'app_tags', 'review', 'fps', 'voted_up'], axis=1)"
   ]
  },
  {
   "cell_type": "code",
   "execution_count": 95,
   "id": "dbd2a8d3-7b3b-4bc1-bd84-fbe294a415f4",
   "metadata": {},
   "outputs": [],
   "source": [
    "try_out = try_out.drop_duplicates()"
   ]
  },
  {
   "cell_type": "code",
   "execution_count": 53,
   "id": "157a1940-b0de-426a-8d51-40ad709d32f6",
   "metadata": {},
   "outputs": [
    {
     "data": {
      "text/plain": [
       "array(['Counter-Strike: Global Offensive', 'Ricochet', 'Left 4 Dead 2',\n",
       "       'Half-Life 2', 'Ultimate Doom', 'Day of Defeat: Source',\n",
       "       'Portal 2', 'Half-Life 2: Episode One', 'DOOM II', 'Killing Floor',\n",
       "       'QUAKE', 'Counter-Strike: Source', 'Portal', 'QUAKE II',\n",
       "       'Team Fortress 2', 'Left 4 Dead', 'Half-Life',\n",
       "       'Half-Life 2: Deathmatch', 'Team Fortress Classic',\n",
       "       'Half-Life: Blue Shift', 'Half-Life 2: Episode Two',\n",
       "       'Counter-Strike', 'Counter-Strike: Condition Zero',\n",
       "       'Judge Dredd: Dredd vs. Death', 'Half-Life: Opposing Force',\n",
       "       'Final DOOM', 'Call of Duty® 2', 'Quake III Arena',\n",
       "       'Half-Life: Source', 'Call of Duty: United Offensive',\n",
       "       'Sniper Elite', 'The Ship: Murder Party', 'Call of Duty®',\n",
       "       'SiN Episodes: Emergence', 'Half-Life 2: Lost Coast',\n",
       "       'Alpha Prime', 'Aliens versus Predator Classic 2000',\n",
       "       'Wolfenstein 3D', 'Day of Defeat', 'Deathmatch Classic',\n",
       "       'Quake IV', 'ARMA: Combat Operations',\n",
       "       'Half-Life Deathmatch: Source',\n",
       "       'Heretic: Shadow of the Serpent Riders', 'Call of Juarez',\n",
       "       'Red Orchestra: Ostfront 41-45', 'HeXen: Beyond Heretic',\n",
       "       'QUAKE III: Team Arena', 'Bloody Good Time', 'Painkiller Overdose'],\n",
       "      dtype=object)"
      ]
     },
     "execution_count": 53,
     "metadata": {},
     "output_type": "execute_result"
    }
   ],
   "source": [
    "fps_main['app_title'].unique()"
   ]
  },
  {
   "cell_type": "code",
   "execution_count": 18,
   "id": "3c4c6a7a-446d-4dc6-8cd3-96040478fc32",
   "metadata": {},
   "outputs": [
    {
     "data": {
      "text/plain": [
       "0    fps shooter multiplayer competitive action tea...\n",
       "1    fps shooter multiplayer competitive action tea...\n",
       "2    fps shooter multiplayer competitive action tea...\n",
       "3    action fps multiplayer classic first-person sc...\n",
       "4    zombies co-op fps multiplayer shooter action o...\n",
       "Name: soup, dtype: object"
      ]
     },
     "execution_count": 18,
     "metadata": {},
     "output_type": "execute_result"
    }
   ],
   "source": []
  },
  {
   "cell_type": "code",
   "execution_count": 104,
   "id": "f7610a2a-aae3-468e-8f12-df2f8e430617",
   "metadata": {},
   "outputs": [],
   "source": [
    "from sklearn.feature_extraction.text import CountVectorizer\n",
    "\n",
    "count = CountVectorizer(stop_words='english')\n",
    "count_matrix = count.fit_transform(try_out['soup'])"
   ]
  },
  {
   "cell_type": "code",
   "execution_count": 105,
   "id": "492a88e9-71da-40f9-aaeb-19abc4e6f709",
   "metadata": {},
   "outputs": [
    {
     "data": {
      "text/plain": [
       "(50, 115)"
      ]
     },
     "execution_count": 105,
     "metadata": {},
     "output_type": "execute_result"
    }
   ],
   "source": [
    "count_matrix.shape"
   ]
  },
  {
   "cell_type": "code",
   "execution_count": 106,
   "id": "352c8ba1-16a9-42fa-8112-adfae27c9b12",
   "metadata": {},
   "outputs": [],
   "source": [
    "from sklearn.metrics.pairwise import cosine_similarity\n",
    "\n",
    "cosine_sim = cosine_similarity(count_matrix, count_matrix)"
   ]
  },
  {
   "cell_type": "code",
   "execution_count": 111,
   "id": "d427cec5-cd4c-4bdd-b026-3a3925bcd7e4",
   "metadata": {},
   "outputs": [],
   "source": [
    "testing = try_out.reset_index()\n",
    "indices = pd.Series(testing.index, index=testing['app_title'])"
   ]
  },
  {
   "cell_type": "code",
   "execution_count": 112,
   "id": "6c90a94d-64b0-47ad-9751-8004cc4c49a1",
   "metadata": {},
   "outputs": [
    {
     "data": {
      "text/plain": [
       "16"
      ]
     },
     "execution_count": 112,
     "metadata": {},
     "output_type": "execute_result"
    }
   ],
   "source": [
    "indices['Half-Life']"
   ]
  },
  {
   "cell_type": "code",
   "execution_count": 113,
   "id": "f856f17c-81e3-43d7-8d41-82dcc54243ac",
   "metadata": {},
   "outputs": [],
   "source": [
    "def get_recommendations(title, cosine_sim=cosine_sim):\n",
    "    # Get the index of the movie that matches the title\n",
    "    idx = indices[title]\n",
    "\n",
    "    # Get the pairwsie similarity scores of all movies with that movie\n",
    "    sim_scores = list(enumerate(cosine_sim[idx]))\n",
    "\n",
    "    # Sort the movies based on the similarity scores\n",
    "    sim_scores = sorted(sim_scores, key=lambda x: x[1], reverse=True)\n",
    "\n",
    "    # Get the scores of the 10 most similar movies\n",
    "    sim_scores = sim_scores[1:11]\n",
    "\n",
    "    # Get the movie indices\n",
    "    game_indices = [i[0] for i in sim_scores]\n",
    "\n",
    "    # Return the top 10 most similar movies\n",
    "    return testing['app_title'].iloc[game_indices]"
   ]
  },
  {
   "cell_type": "code",
   "execution_count": 114,
   "id": "236a223b-eaea-4e72-b3f3-00261be6ca47",
   "metadata": {},
   "outputs": [
    {
     "data": {
      "text/plain": [
       "19        Half-Life: Blue Shift\n",
       "24    Half-Life: Opposing Force\n",
       "28            Half-Life: Source\n",
       "3                   Half-Life 2\n",
       "40                     Quake IV\n",
       "10                        QUAKE\n",
       "7      Half-Life 2: Episode One\n",
       "13                     QUAKE II\n",
       "20     Half-Life 2: Episode Two\n",
       "25                   Final DOOM\n",
       "Name: app_title, dtype: object"
      ]
     },
     "execution_count": 114,
     "metadata": {},
     "output_type": "execute_result"
    }
   ],
   "source": [
    "get_recommendations('Half-Life', cosine_sim)"
   ]
  },
  {
   "cell_type": "code",
   "execution_count": 115,
   "id": "93d35c43-d87e-4822-a41f-222239cd6d16",
   "metadata": {},
   "outputs": [
    {
     "data": {
      "text/plain": [
       "12                          Portal\n",
       "16                       Half-Life\n",
       "17         Half-Life 2: Deathmatch\n",
       "3                      Half-Life 2\n",
       "24       Half-Life: Opposing Force\n",
       "7         Half-Life 2: Episode One\n",
       "19           Half-Life: Blue Shift\n",
       "20        Half-Life 2: Episode Two\n",
       "42    Half-Life Deathmatch: Source\n",
       "28               Half-Life: Source\n",
       "Name: app_title, dtype: object"
      ]
     },
     "execution_count": 115,
     "metadata": {},
     "output_type": "execute_result"
    }
   ],
   "source": [
    "get_recommendations('Portal 2', cosine_sim)"
   ]
  },
  {
   "cell_type": "code",
   "execution_count": 118,
   "id": "b7d963fd-fb71-4f1b-a0e4-83ccf7e91271",
   "metadata": {},
   "outputs": [
    {
     "data": {
      "text/plain": [
       "48                       Bloody Good Time\n",
       "36    Aliens versus Predator Classic 2000\n",
       "40                               Quake IV\n",
       "42           Half-Life Deathmatch: Source\n",
       "28                      Half-Life: Source\n",
       "29         Call of Duty: United Offensive\n",
       "4                           Ultimate Doom\n",
       "8                                 DOOM II\n",
       "10                                  QUAKE\n",
       "13                               QUAKE II\n",
       "Name: app_title, dtype: object"
      ]
     },
     "execution_count": 118,
     "metadata": {},
     "output_type": "execute_result"
    }
   ],
   "source": [
    "get_recommendations('Painkiller Overdose', cosine_sim)"
   ]
  },
  {
   "cell_type": "code",
   "execution_count": 120,
   "id": "769fa6ef-33b3-4765-a574-84c92d17d0bf",
   "metadata": {},
   "outputs": [
    {
     "data": {
      "text/plain": [
       "4                             Ultimate Doom\n",
       "8                                   DOOM II\n",
       "10                                    QUAKE\n",
       "25                               Final DOOM\n",
       "16                                Half-Life\n",
       "43    Heretic: Shadow of the Serpent Riders\n",
       "19                    Half-Life: Blue Shift\n",
       "24                Half-Life: Opposing Force\n",
       "13                                 QUAKE II\n",
       "27                          Quake III Arena\n",
       "Name: app_title, dtype: object"
      ]
     },
     "execution_count": 120,
     "metadata": {},
     "output_type": "execute_result"
    }
   ],
   "source": [
    "get_recommendations('Wolfenstein 3D', cosine_sim)"
   ]
  },
  {
   "cell_type": "code",
   "execution_count": 121,
   "id": "0cdb7e08-2cdf-41c3-bf35-f108f0aedad8",
   "metadata": {},
   "outputs": [
    {
     "data": {
      "text/plain": [
       "46    HeXen: Beyond Heretic\n",
       "16                Half-Life\n",
       "10                    QUAKE\n",
       "37           Wolfenstein 3D\n",
       "44           Call of Juarez\n",
       "4             Ultimate Doom\n",
       "8                   DOOM II\n",
       "13                 QUAKE II\n",
       "25               Final DOOM\n",
       "27          Quake III Arena\n",
       "Name: app_title, dtype: object"
      ]
     },
     "execution_count": 121,
     "metadata": {},
     "output_type": "execute_result"
    }
   ],
   "source": [
    "get_recommendations('Heretic: Shadow of the Serpent Riders', cosine_sim)"
   ]
  },
  {
   "cell_type": "code",
   "execution_count": 122,
   "id": "0e26c5ea-c062-4fac-a6f7-dfe74a66224b",
   "metadata": {},
   "outputs": [
    {
     "data": {
      "text/plain": [
       "43    Heretic: Shadow of the Serpent Riders\n",
       "38                            Day of Defeat\n",
       "18                    Team Fortress Classic\n",
       "37                           Wolfenstein 3D\n",
       "19                    Half-Life: Blue Shift\n",
       "24                Half-Life: Opposing Force\n",
       "4                             Ultimate Doom\n",
       "8                                   DOOM II\n",
       "10                                    QUAKE\n",
       "13                                 QUAKE II\n",
       "Name: app_title, dtype: object"
      ]
     },
     "execution_count": 122,
     "metadata": {},
     "output_type": "execute_result"
    }
   ],
   "source": [
    "get_recommendations('HeXen: Beyond Heretic', cosine_sim)"
   ]
  },
  {
   "cell_type": "code",
   "execution_count": null,
   "id": "65aee3d1-dda3-4acc-af48-aeeeb9a5ba60",
   "metadata": {},
   "outputs": [],
   "source": []
  }
 ],
 "metadata": {
  "kernelspec": {
   "display_name": "learn-env",
   "language": "python",
   "name": "learn-env"
  },
  "language_info": {
   "codemirror_mode": {
    "name": "ipython",
    "version": 3
   },
   "file_extension": ".py",
   "mimetype": "text/x-python",
   "name": "python",
   "nbconvert_exporter": "python",
   "pygments_lexer": "ipython3",
   "version": "3.8.5"
  }
 },
 "nbformat": 4,
 "nbformat_minor": 5
}

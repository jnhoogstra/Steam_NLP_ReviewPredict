{
 "cells": [
  {
   "cell_type": "code",
   "execution_count": null,
   "metadata": {},
   "outputs": [],
   "source": []
  },
  {
   "cell_type": "code",
   "execution_count": 1,
   "metadata": {},
   "outputs": [],
   "source": [
    "import pandas as pd\n",
    "import numpy as np\n",
    "import statsmodels.api as sm\n",
    "from statsmodels.formula.api import ols\n",
    "import matplotlib.pyplot as plt\n",
    "import seaborn as sns\n",
    "import math\n",
    "from sklearn.preprocessing import OneHotEncoder\n",
    "from sklearn.linear_model import LinearRegression\n",
    "from sklearn.dummy import DummyRegressor\n",
    "from sklearn.ensemble import RandomForestRegressor\n",
    "from sklearn.impute import SimpleImputer\n",
    "from sklearn.metrics import mean_squared_error, r2_score\n",
    "from sklearn.preprocessing import PolynomialFeatures, StandardScaler\n",
    "import scipy.stats as stats\n",
    "from sklearn.feature_selection import RFE\n",
    "\n",
    "from xgboost import XGBClassifier\n",
    "\n",
    "from mpl_toolkits.mplot3d import Axes3D\n",
    "from IPython.display import Image\n",
    "from sklearn.model_selection import train_test_split, GridSearchCV, cross_val_score\n",
    "from sklearn.linear_model import LogisticRegression\n",
    "from sklearn.preprocessing import StandardScaler, OneHotEncoder\n",
    "from sklearn.impute import SimpleImputer\n",
    "from sklearn.tree import DecisionTreeClassifier\n",
    "from sklearn.ensemble import RandomForestClassifier\n",
    "from sklearn.metrics import accuracy_score, recall_score, precision_score\n",
    "from sklearn.pipeline import Pipeline, make_pipeline\n",
    "from sklearn.compose import make_column_selector, make_column_transformer\n",
    "from sklearn.metrics import plot_confusion_matrix\n",
    "from imblearn.over_sampling import SMOTE\n",
    "import pandas as pd\n",
    "import numpy as np\n",
    "from sklearn.preprocessing import LabelEncoder\n",
    "from sklearn.ensemble import RandomForestClassifier\n",
    "from sklearn.naive_bayes import MultinomialNB\n",
    "from sklearn.metrics import accuracy_score, confusion_matrix\n",
    "from sklearn.feature_extraction.text import TfidfVectorizer\n",
    "from sklearn.model_selection import train_test_split\n",
    "import string\n",
    "from nltk.corpus import stopwords\n",
    "from nltk import word_tokenize\n",
    "import scipy\n",
    "\n",
    "import types\n",
    "import re\n",
    "import string\n",
    "import nltk\n",
    "import xgboost\n",
    "\n",
    "from sklearn.feature_extraction.text import CountVectorizer\n",
    "from sklearn.feature_extraction.text import TfidfVectorizer\n",
    "\n",
    "from xgboost import XGBClassifier\n",
    "from sklearn.ensemble import RandomForestClassifier\n",
    "from sklearn.naive_bayes import MultinomialNB\n",
    "from sklearn.model_selection import KFold, cross_val_score\n",
    "from sklearn.model_selection import train_test_split, GridSearchCV\n",
    "\n",
    "import sys\n",
    "\n",
    "from sklearn.pipeline import Pipeline, make_pipeline\n",
    "from sklearn.svm import SVC\n",
    "from sklearn.compose import ColumnTransformer\n",
    "from sklearn.metrics import accuracy_score, recall_score, precision_score, f1_score, roc_auc_score, plot_confusion_matrix\n",
    "\n",
    "from keras.preprocessing import text, sequence\n",
    "from textblob import TextBlob, Word\n",
    "from wordcloud import WordCloud\n",
    "import warnings\n",
    "warnings.filterwarnings('ignore')"
   ]
  },
  {
   "cell_type": "code",
   "execution_count": 2,
   "metadata": {
    "scrolled": true
   },
   "outputs": [
    {
     "data": {
      "text/html": [
       "<div>\n",
       "<style scoped>\n",
       "    .dataframe tbody tr th:only-of-type {\n",
       "        vertical-align: middle;\n",
       "    }\n",
       "\n",
       "    .dataframe tbody tr th {\n",
       "        vertical-align: top;\n",
       "    }\n",
       "\n",
       "    .dataframe thead th {\n",
       "        text-align: right;\n",
       "    }\n",
       "</style>\n",
       "<table border=\"1\" class=\"dataframe\">\n",
       "  <thead>\n",
       "    <tr style=\"text-align: right;\">\n",
       "      <th></th>\n",
       "      <th>steamid</th>\n",
       "      <th>appid</th>\n",
       "      <th>app_title</th>\n",
       "      <th>app_tags</th>\n",
       "      <th>review</th>\n",
       "      <th>fps</th>\n",
       "      <th>voted_up</th>\n",
       "    </tr>\n",
       "  </thead>\n",
       "  <tbody>\n",
       "    <tr>\n",
       "      <th>0</th>\n",
       "      <td>76561198271088129</td>\n",
       "      <td>4000</td>\n",
       "      <td>Garry's Mod</td>\n",
       "      <td>['Sandbox', 'Multiplayer', 'Funny', 'Moddable'...</td>\n",
       "      <td>good models\\n</td>\n",
       "      <td>True</td>\n",
       "      <td>True</td>\n",
       "    </tr>\n",
       "    <tr>\n",
       "      <th>1</th>\n",
       "      <td>76561198138206834</td>\n",
       "      <td>4000</td>\n",
       "      <td>Garry's Mod</td>\n",
       "      <td>['Sandbox', 'Multiplayer', 'Funny', 'Moddable'...</td>\n",
       "      <td>I completely suck at making anything on here a...</td>\n",
       "      <td>True</td>\n",
       "      <td>True</td>\n",
       "    </tr>\n",
       "    <tr>\n",
       "      <th>2</th>\n",
       "      <td>76561198128760839</td>\n",
       "      <td>70</td>\n",
       "      <td>Half-Life</td>\n",
       "      <td>['FPS', 'Sci-fi', 'Action', 'Singleplayer', \"1...</td>\n",
       "      <td>There is not much to say about this old game t...</td>\n",
       "      <td>True</td>\n",
       "      <td>True</td>\n",
       "    </tr>\n",
       "  </tbody>\n",
       "</table>\n",
       "</div>"
      ],
      "text/plain": [
       "             steamid  appid    app_title  \\\n",
       "0  76561198271088129   4000  Garry's Mod   \n",
       "1  76561198138206834   4000  Garry's Mod   \n",
       "2  76561198128760839     70    Half-Life   \n",
       "\n",
       "                                            app_tags  \\\n",
       "0  ['Sandbox', 'Multiplayer', 'Funny', 'Moddable'...   \n",
       "1  ['Sandbox', 'Multiplayer', 'Funny', 'Moddable'...   \n",
       "2  ['FPS', 'Sci-fi', 'Action', 'Singleplayer', \"1...   \n",
       "\n",
       "                                              review   fps  voted_up  \n",
       "0                                      good models\\n  True      True  \n",
       "1  I completely suck at making anything on here a...  True      True  \n",
       "2  There is not much to say about this old game t...  True      True  "
      ]
     },
     "execution_count": 2,
     "metadata": {},
     "output_type": "execute_result"
    }
   ],
   "source": [
    "df = pd.read_csv(\"../../../data/thanos.csv\")\n",
    "df.head(3)\n",
    "#X = df.drop(col, axis=1)\n",
    "#y = df[[\"voted_up\"]]\n",
    "#X_train, X_test, y_train, y_test = train_test_split(X, y, random_state=57, test_size = 0.5)\n"
   ]
  },
  {
   "cell_type": "code",
   "execution_count": 3,
   "metadata": {},
   "outputs": [],
   "source": [
    "#df = pd.concat([X_train, y_train], axis=1)\n",
    "#df_test = pd.concat([X_test, y_test], axis=1)"
   ]
  },
  {
   "cell_type": "code",
   "execution_count": 4,
   "metadata": {},
   "outputs": [],
   "source": [
    "#df_test.info()\n",
    "def ScoreModel(model, X, y):\n",
    "    preds = model.predict(X)\n",
    "    acc = accuracy_score(y, preds)\n",
    "    f1 = f1_score(y, preds)\n",
    "    recall = recall_score(y, preds)\n",
    "    precision = precision_score(y, preds)\n",
    "    rockout = roc_auc_score(y, preds)\n",
    "    \n",
    "    print(\"Accuracy:  \", acc)\n",
    "    print(\"F1 Score:  \", f1)\n",
    "    print(\"Recall:    \", recall)\n",
    "    print(\"Precision: \", precision)\n",
    "    print(\"ROC_AUC:   \", rockout)"
   ]
  },
  {
   "cell_type": "code",
   "execution_count": 5,
   "metadata": {},
   "outputs": [
    {
     "name": "stdout",
     "output_type": "stream",
     "text": [
      "<class 'pandas.core.frame.DataFrame'>\n",
      "RangeIndex: 23183 entries, 0 to 23182\n",
      "Data columns (total 7 columns):\n",
      " #   Column     Non-Null Count  Dtype \n",
      "---  ------     --------------  ----- \n",
      " 0   steamid    23183 non-null  int64 \n",
      " 1   appid      23183 non-null  int64 \n",
      " 2   app_title  23183 non-null  object\n",
      " 3   app_tags   23183 non-null  object\n",
      " 4   review     23183 non-null  object\n",
      " 5   fps        23183 non-null  bool  \n",
      " 6   voted_up   23183 non-null  bool  \n",
      "dtypes: bool(2), int64(2), object(3)\n",
      "memory usage: 951.0+ KB\n"
     ]
    }
   ],
   "source": [
    "df.info()"
   ]
  },
  {
   "cell_type": "code",
   "execution_count": 6,
   "metadata": {},
   "outputs": [],
   "source": [
    "#cols = [\"review_id\", \"year\", \"title\"]\n",
    "\n",
    "#df = df.drop(cols, axis = 1)\n",
    "#df_test= df_test.drop(cols, axis = 1)\n"
   ]
  },
  {
   "cell_type": "code",
   "execution_count": 7,
   "metadata": {
    "scrolled": true
   },
   "outputs": [
    {
     "data": {
      "text/plain": [
       "True     0.505888\n",
       "False    0.494112\n",
       "Name: voted_up, dtype: float64"
      ]
     },
     "execution_count": 7,
     "metadata": {},
     "output_type": "execute_result"
    }
   ],
   "source": [
    "df[\"voted_up\"].value_counts(normalize=True)"
   ]
  },
  {
   "cell_type": "code",
   "execution_count": 8,
   "metadata": {
    "scrolled": true
   },
   "outputs": [
    {
     "name": "stderr",
     "output_type": "stream",
     "text": [
      "[nltk_data] Downloading package stopwords to\n",
      "[nltk_data]     /Users/elliott/nltk_data...\n",
      "[nltk_data]   Package stopwords is already up-to-date!\n",
      "[nltk_data] Downloading package wordnet to /Users/elliott/nltk_data...\n",
      "[nltk_data]   Package wordnet is already up-to-date!\n"
     ]
    },
    {
     "data": {
      "text/plain": [
       "True"
      ]
     },
     "execution_count": 8,
     "metadata": {},
     "output_type": "execute_result"
    }
   ],
   "source": [
    "nltk.download('stopwords')\n",
    "nltk.download('wordnet')"
   ]
  },
  {
   "cell_type": "code",
   "execution_count": 9,
   "metadata": {},
   "outputs": [],
   "source": [
    "def CleanText(reviews):\n",
    "    stopwords = nltk.corpus.stopwords.words('english')\n",
    "    punct = string.punctuation\n",
    "    lemma = nltk.WordNetLemmatizer()\n",
    "    \n",
    "    reviews = \"\".join([word for word in reviews if word not in string.punctuation])\n",
    "    tokens = re.split('\\W+', reviews)\n",
    "    reviews = [lemma.lemmatize(word) for word in tokens if word not in stopwords]\n",
    "    \n",
    "# use function like this in your notebook\n",
    "# df['cleaned_text'] = df['text'].apply(lambda x: CleanText(x.lower()))\n",
    "    \n",
    "    return reviews\n"
   ]
  },
  {
   "cell_type": "code",
   "execution_count": 10,
   "metadata": {},
   "outputs": [],
   "source": [
    "def clean_reviews(reviews):\n",
    "    reviews = \"\".join([word for word in reviews if word not in string.punctuation])\n",
    "    tokens = re.split('\\W+', reviews)\n",
    "    reviews = [lemma.lemmatize(word) for word in tokens if word not in stopwords]\n",
    "    return reviews"
   ]
  },
  {
   "cell_type": "code",
   "execution_count": 11,
   "metadata": {},
   "outputs": [
    {
     "data": {
      "text/html": [
       "<div>\n",
       "<style scoped>\n",
       "    .dataframe tbody tr th:only-of-type {\n",
       "        vertical-align: middle;\n",
       "    }\n",
       "\n",
       "    .dataframe tbody tr th {\n",
       "        vertical-align: top;\n",
       "    }\n",
       "\n",
       "    .dataframe thead th {\n",
       "        text-align: right;\n",
       "    }\n",
       "</style>\n",
       "<table border=\"1\" class=\"dataframe\">\n",
       "  <thead>\n",
       "    <tr style=\"text-align: right;\">\n",
       "      <th></th>\n",
       "      <th>steamid</th>\n",
       "      <th>appid</th>\n",
       "      <th>app_title</th>\n",
       "      <th>app_tags</th>\n",
       "      <th>review</th>\n",
       "      <th>fps</th>\n",
       "      <th>voted_up</th>\n",
       "      <th>clean_review</th>\n",
       "    </tr>\n",
       "  </thead>\n",
       "  <tbody>\n",
       "    <tr>\n",
       "      <th>0</th>\n",
       "      <td>76561198271088129</td>\n",
       "      <td>4000</td>\n",
       "      <td>Garry's Mod</td>\n",
       "      <td>['Sandbox', 'Multiplayer', 'Funny', 'Moddable'...</td>\n",
       "      <td>good models\\n</td>\n",
       "      <td>True</td>\n",
       "      <td>True</td>\n",
       "      <td>[good, model, ]</td>\n",
       "    </tr>\n",
       "    <tr>\n",
       "      <th>1</th>\n",
       "      <td>76561198138206834</td>\n",
       "      <td>4000</td>\n",
       "      <td>Garry's Mod</td>\n",
       "      <td>['Sandbox', 'Multiplayer', 'Funny', 'Moddable'...</td>\n",
       "      <td>I completely suck at making anything on here a...</td>\n",
       "      <td>True</td>\n",
       "      <td>True</td>\n",
       "      <td>[completely, suck, making, anything, death, ru...</td>\n",
       "    </tr>\n",
       "    <tr>\n",
       "      <th>2</th>\n",
       "      <td>76561198128760839</td>\n",
       "      <td>70</td>\n",
       "      <td>Half-Life</td>\n",
       "      <td>['FPS', 'Sci-fi', 'Action', 'Singleplayer', \"1...</td>\n",
       "      <td>There is not much to say about this old game t...</td>\n",
       "      <td>True</td>\n",
       "      <td>True</td>\n",
       "      <td>[much, say, old, game, hasnt, said, really, ma...</td>\n",
       "    </tr>\n",
       "    <tr>\n",
       "      <th>3</th>\n",
       "      <td>76561198079636858</td>\n",
       "      <td>6060</td>\n",
       "      <td>Star Wars: Battlefront 2 (Classic, 2005)</td>\n",
       "      <td>['Action', 'Multiplayer', 'Shooter', 'Third-Pe...</td>\n",
       "      <td>360 noscoped almost everything 10/10 even the ...</td>\n",
       "      <td>True</td>\n",
       "      <td>True</td>\n",
       "      <td>[360, noscoped, almost, everything, 1010, even...</td>\n",
       "    </tr>\n",
       "    <tr>\n",
       "      <th>4</th>\n",
       "      <td>76561198238100200</td>\n",
       "      <td>220</td>\n",
       "      <td>Half-Life 2</td>\n",
       "      <td>['FPS', 'Action', 'Sci-fi', 'Classic', 'Single...</td>\n",
       "      <td>No need for a review. It's practically history.</td>\n",
       "      <td>True</td>\n",
       "      <td>True</td>\n",
       "      <td>[need, review, practically, history]</td>\n",
       "    </tr>\n",
       "  </tbody>\n",
       "</table>\n",
       "</div>"
      ],
      "text/plain": [
       "             steamid  appid                                 app_title  \\\n",
       "0  76561198271088129   4000                               Garry's Mod   \n",
       "1  76561198138206834   4000                               Garry's Mod   \n",
       "2  76561198128760839     70                                 Half-Life   \n",
       "3  76561198079636858   6060  Star Wars: Battlefront 2 (Classic, 2005)   \n",
       "4  76561198238100200    220                               Half-Life 2   \n",
       "\n",
       "                                            app_tags  \\\n",
       "0  ['Sandbox', 'Multiplayer', 'Funny', 'Moddable'...   \n",
       "1  ['Sandbox', 'Multiplayer', 'Funny', 'Moddable'...   \n",
       "2  ['FPS', 'Sci-fi', 'Action', 'Singleplayer', \"1...   \n",
       "3  ['Action', 'Multiplayer', 'Shooter', 'Third-Pe...   \n",
       "4  ['FPS', 'Action', 'Sci-fi', 'Classic', 'Single...   \n",
       "\n",
       "                                              review   fps  voted_up  \\\n",
       "0                                      good models\\n  True      True   \n",
       "1  I completely suck at making anything on here a...  True      True   \n",
       "2  There is not much to say about this old game t...  True      True   \n",
       "3  360 noscoped almost everything 10/10 even the ...  True      True   \n",
       "4    No need for a review. It's practically history.  True      True   \n",
       "\n",
       "                                        clean_review  \n",
       "0                                    [good, model, ]  \n",
       "1  [completely, suck, making, anything, death, ru...  \n",
       "2  [much, say, old, game, hasnt, said, really, ma...  \n",
       "3  [360, noscoped, almost, everything, 1010, even...  \n",
       "4               [need, review, practically, history]  "
      ]
     },
     "execution_count": 11,
     "metadata": {},
     "output_type": "execute_result"
    }
   ],
   "source": [
    "df['clean_review'] = df['review'].apply(lambda x: CleanText(x.lower()))\n",
    "\n",
    "df.head()"
   ]
  },
  {
   "cell_type": "code",
   "execution_count": 12,
   "metadata": {
    "scrolled": false
   },
   "outputs": [],
   "source": [
    "#df['clean_review'] = df['review'].apply(lambda x: clean_reviews(x.lower()))\n",
    "\n",
    "#df.head(10)"
   ]
  },
  {
   "cell_type": "code",
   "execution_count": 13,
   "metadata": {},
   "outputs": [],
   "source": [
    "#col = [\"voted_up\"]\n",
    "#X = df.drop(col, axis=1)\n",
    "#y = df[[\"voted_up\"]]\n",
    "\n",
    "#X_train, X_test, y_train, y_test = train_test_split(X, y, random_state=57, test_size = 0.54)"
   ]
  },
  {
   "cell_type": "code",
   "execution_count": 14,
   "metadata": {},
   "outputs": [],
   "source": [
    "#new_df = pd.concat([X_train, y_train], axis=1)\n",
    "#new_df.head(10)"
   ]
  },
  {
   "cell_type": "code",
   "execution_count": 15,
   "metadata": {},
   "outputs": [],
   "source": [
    "# = new_df.loc[new_df['voted_up'] == 0]\n",
    "#df_up = new_df.loc[new_df['voted_up'] == 1]"
   ]
  },
  {
   "cell_type": "code",
   "execution_count": 16,
   "metadata": {},
   "outputs": [],
   "source": [
    "#wordcloud = WordCloud(max_words=100, width=400, height=200).generate(str(df_up[\"clean_review\"]))\n",
    "#plt.imshow(wordcloud, interpolation='bilinear')\n",
    "#plt.axis('off')\n",
    "#plt.figure(figsize=(20,10))\n",
    "#plt.show()"
   ]
  },
  {
   "cell_type": "code",
   "execution_count": 17,
   "metadata": {
    "scrolled": true
   },
   "outputs": [],
   "source": [
    "#wordcloud = WordCloud(max_words=100, width=400, height=200).generate(str(df_down[\"clean_review\"]))\n",
    "#plt.imshow(wordcloud, interpolation='bilinear')\n",
    "#plt.axis('off')\n",
    "#plt.figure(figsize=(20,10))\n",
    "#plt.show()"
   ]
  },
  {
   "cell_type": "code",
   "execution_count": null,
   "metadata": {},
   "outputs": [],
   "source": []
  },
  {
   "cell_type": "code",
   "execution_count": null,
   "metadata": {},
   "outputs": [],
   "source": []
  },
  {
   "cell_type": "code",
   "execution_count": null,
   "metadata": {},
   "outputs": [],
   "source": []
  },
  {
   "cell_type": "code",
   "execution_count": 18,
   "metadata": {},
   "outputs": [],
   "source": [
    "from sklearn.naive_bayes import MultinomialNB"
   ]
  },
  {
   "cell_type": "code",
   "execution_count": 19,
   "metadata": {
    "scrolled": false
   },
   "outputs": [
    {
     "data": {
      "text/html": [
       "<div>\n",
       "<style scoped>\n",
       "    .dataframe tbody tr th:only-of-type {\n",
       "        vertical-align: middle;\n",
       "    }\n",
       "\n",
       "    .dataframe tbody tr th {\n",
       "        vertical-align: top;\n",
       "    }\n",
       "\n",
       "    .dataframe thead th {\n",
       "        text-align: right;\n",
       "    }\n",
       "</style>\n",
       "<table border=\"1\" class=\"dataframe\">\n",
       "  <thead>\n",
       "    <tr style=\"text-align: right;\">\n",
       "      <th></th>\n",
       "      <th></th>\n",
       "      <th>0</th>\n",
       "      <th>00</th>\n",
       "      <th>000</th>\n",
       "      <th>0000000000</th>\n",
       "      <th>00000000000</th>\n",
       "      <th>000000000000</th>\n",
       "      <th>0000000000000000</th>\n",
       "      <th>0000000000000000000</th>\n",
       "      <th>00000000000000000000</th>\n",
       "      <th>...</th>\n",
       "      <th>𝚝𝚑𝚎</th>\n",
       "      <th>𝚝𝚑𝚒𝚜</th>\n",
       "      <th>𝚝𝚑𝚛𝚎𝚎𝚙𝚊𝚛𝚝</th>\n",
       "      <th>𝚝𝚘</th>\n",
       "      <th>𝚠𝚊𝚗𝚗𝚊</th>\n",
       "      <th>𝚠𝚊𝚗𝚝</th>\n",
       "      <th>𝚠𝚑𝚊𝚝</th>\n",
       "      <th>𝚠𝚘𝚛𝚕𝚍</th>\n",
       "      <th>𝚢𝚘𝚞𝚛</th>\n",
       "      <th>𝟣</th>\n",
       "    </tr>\n",
       "  </thead>\n",
       "  <tbody>\n",
       "    <tr>\n",
       "      <th>0</th>\n",
       "      <td>0.43771</td>\n",
       "      <td>0.0</td>\n",
       "      <td>0.0</td>\n",
       "      <td>0.0</td>\n",
       "      <td>0.0</td>\n",
       "      <td>0.0</td>\n",
       "      <td>0.0</td>\n",
       "      <td>0.0</td>\n",
       "      <td>0.0</td>\n",
       "      <td>0.0</td>\n",
       "      <td>...</td>\n",
       "      <td>0.0</td>\n",
       "      <td>0.0</td>\n",
       "      <td>0.0</td>\n",
       "      <td>0.0</td>\n",
       "      <td>0.0</td>\n",
       "      <td>0.0</td>\n",
       "      <td>0.0</td>\n",
       "      <td>0.0</td>\n",
       "      <td>0.0</td>\n",
       "      <td>0.0</td>\n",
       "    </tr>\n",
       "    <tr>\n",
       "      <th>1</th>\n",
       "      <td>0.00000</td>\n",
       "      <td>0.0</td>\n",
       "      <td>0.0</td>\n",
       "      <td>0.0</td>\n",
       "      <td>0.0</td>\n",
       "      <td>0.0</td>\n",
       "      <td>0.0</td>\n",
       "      <td>0.0</td>\n",
       "      <td>0.0</td>\n",
       "      <td>0.0</td>\n",
       "      <td>...</td>\n",
       "      <td>0.0</td>\n",
       "      <td>0.0</td>\n",
       "      <td>0.0</td>\n",
       "      <td>0.0</td>\n",
       "      <td>0.0</td>\n",
       "      <td>0.0</td>\n",
       "      <td>0.0</td>\n",
       "      <td>0.0</td>\n",
       "      <td>0.0</td>\n",
       "      <td>0.0</td>\n",
       "    </tr>\n",
       "    <tr>\n",
       "      <th>2</th>\n",
       "      <td>0.00000</td>\n",
       "      <td>0.0</td>\n",
       "      <td>0.0</td>\n",
       "      <td>0.0</td>\n",
       "      <td>0.0</td>\n",
       "      <td>0.0</td>\n",
       "      <td>0.0</td>\n",
       "      <td>0.0</td>\n",
       "      <td>0.0</td>\n",
       "      <td>0.0</td>\n",
       "      <td>...</td>\n",
       "      <td>0.0</td>\n",
       "      <td>0.0</td>\n",
       "      <td>0.0</td>\n",
       "      <td>0.0</td>\n",
       "      <td>0.0</td>\n",
       "      <td>0.0</td>\n",
       "      <td>0.0</td>\n",
       "      <td>0.0</td>\n",
       "      <td>0.0</td>\n",
       "      <td>0.0</td>\n",
       "    </tr>\n",
       "    <tr>\n",
       "      <th>3</th>\n",
       "      <td>0.00000</td>\n",
       "      <td>0.0</td>\n",
       "      <td>0.0</td>\n",
       "      <td>0.0</td>\n",
       "      <td>0.0</td>\n",
       "      <td>0.0</td>\n",
       "      <td>0.0</td>\n",
       "      <td>0.0</td>\n",
       "      <td>0.0</td>\n",
       "      <td>0.0</td>\n",
       "      <td>...</td>\n",
       "      <td>0.0</td>\n",
       "      <td>0.0</td>\n",
       "      <td>0.0</td>\n",
       "      <td>0.0</td>\n",
       "      <td>0.0</td>\n",
       "      <td>0.0</td>\n",
       "      <td>0.0</td>\n",
       "      <td>0.0</td>\n",
       "      <td>0.0</td>\n",
       "      <td>0.0</td>\n",
       "    </tr>\n",
       "    <tr>\n",
       "      <th>4</th>\n",
       "      <td>0.00000</td>\n",
       "      <td>0.0</td>\n",
       "      <td>0.0</td>\n",
       "      <td>0.0</td>\n",
       "      <td>0.0</td>\n",
       "      <td>0.0</td>\n",
       "      <td>0.0</td>\n",
       "      <td>0.0</td>\n",
       "      <td>0.0</td>\n",
       "      <td>0.0</td>\n",
       "      <td>...</td>\n",
       "      <td>0.0</td>\n",
       "      <td>0.0</td>\n",
       "      <td>0.0</td>\n",
       "      <td>0.0</td>\n",
       "      <td>0.0</td>\n",
       "      <td>0.0</td>\n",
       "      <td>0.0</td>\n",
       "      <td>0.0</td>\n",
       "      <td>0.0</td>\n",
       "      <td>0.0</td>\n",
       "    </tr>\n",
       "  </tbody>\n",
       "</table>\n",
       "<p>5 rows × 44817 columns</p>\n",
       "</div>"
      ],
      "text/plain": [
       "              0   00  000  0000000000  00000000000  000000000000  \\\n",
       "0  0.43771  0.0  0.0  0.0         0.0          0.0           0.0   \n",
       "1  0.00000  0.0  0.0  0.0         0.0          0.0           0.0   \n",
       "2  0.00000  0.0  0.0  0.0         0.0          0.0           0.0   \n",
       "3  0.00000  0.0  0.0  0.0         0.0          0.0           0.0   \n",
       "4  0.00000  0.0  0.0  0.0         0.0          0.0           0.0   \n",
       "\n",
       "   0000000000000000  0000000000000000000  00000000000000000000  ...  𝚝𝚑𝚎  \\\n",
       "0               0.0                  0.0                   0.0  ...  0.0   \n",
       "1               0.0                  0.0                   0.0  ...  0.0   \n",
       "2               0.0                  0.0                   0.0  ...  0.0   \n",
       "3               0.0                  0.0                   0.0  ...  0.0   \n",
       "4               0.0                  0.0                   0.0  ...  0.0   \n",
       "\n",
       "   𝚝𝚑𝚒𝚜  𝚝𝚑𝚛𝚎𝚎𝚙𝚊𝚛𝚝   𝚝𝚘  𝚠𝚊𝚗𝚗𝚊  𝚠𝚊𝚗𝚝  𝚠𝚑𝚊𝚝  𝚠𝚘𝚛𝚕𝚍  𝚢𝚘𝚞𝚛    𝟣  \n",
       "0   0.0        0.0  0.0    0.0   0.0   0.0    0.0   0.0  0.0  \n",
       "1   0.0        0.0  0.0    0.0   0.0   0.0    0.0   0.0  0.0  \n",
       "2   0.0        0.0  0.0    0.0   0.0   0.0    0.0   0.0  0.0  \n",
       "3   0.0        0.0  0.0    0.0   0.0   0.0    0.0   0.0  0.0  \n",
       "4   0.0        0.0  0.0    0.0   0.0   0.0    0.0   0.0  0.0  \n",
       "\n",
       "[5 rows x 44817 columns]"
      ]
     },
     "execution_count": 19,
     "metadata": {},
     "output_type": "execute_result"
    }
   ],
   "source": [
    "vector = TfidfVectorizer(analyzer=CleanText, ngram_range=(2, 2))\n",
    "X = vector.fit_transform(df[\"review\"])\n",
    "\n",
    "X_df = pd.DataFrame(X.toarray())\n",
    "X_df.columns = vector.get_feature_names()\n",
    "X_df.head(5)"
   ]
  },
  {
   "cell_type": "code",
   "execution_count": 20,
   "metadata": {},
   "outputs": [],
   "source": [
    "#X = vector.fit_transform(df['review'])\n",
    "y = df[[\"voted_up\"]]\n",
    "\n",
    "X_train, X_test, y_train, y_test = train_test_split(X_df, y, random_state=57, test_size = 0.5,stratify=y)"
   ]
  },
  {
   "cell_type": "code",
   "execution_count": null,
   "metadata": {},
   "outputs": [],
   "source": []
  },
  {
   "cell_type": "code",
   "execution_count": 21,
   "metadata": {},
   "outputs": [
    {
     "name": "stdout",
     "output_type": "stream",
     "text": [
      "Accuracy:   0.90156155637995\n",
      "F1 Score:   0.8981704596162428\n",
      "Recall:     0.8581173260572987\n",
      "Precision:  0.9421456656056918\n",
      "ROC_AUC:    0.9020811879107866\n"
     ]
    }
   ],
   "source": [
    "clf = MultinomialNB()\n",
    "clf.fit(X_train, y_train)\n",
    "ScoreModel(clf, X_train, y_train)"
   ]
  },
  {
   "cell_type": "code",
   "execution_count": 22,
   "metadata": {},
   "outputs": [
    {
     "name": "stdout",
     "output_type": "stream",
     "text": [
      "Accuracy:   0.7979641131815045\n",
      "F1 Score:   0.7863918278000729\n",
      "Recall:     0.7351637107776262\n",
      "Precision:  0.8452941176470589\n",
      "ROC_AUC:    0.7987096486849025\n"
     ]
    }
   ],
   "source": [
    "ScoreModel(clf, X_test, y_test)"
   ]
  },
  {
   "cell_type": "code",
   "execution_count": 23,
   "metadata": {},
   "outputs": [
    {
     "name": "stdout",
     "output_type": "stream",
     "text": [
      "Accuracy:   0.912173237856958\n",
      "F1 Score:   0.9129765771926825\n",
      "Recall:     0.9106412005457026\n",
      "Precision:  0.9153239629756599\n",
      "ROC_AUC:    0.9121915623821581\n"
     ]
    }
   ],
   "source": [
    "#y = df[\"user_suggestion\"]\n",
    "\n",
    "#X_train, X_test, y_train, y_test = train_test_split(X_df, y, random_state=57)\n",
    "\n",
    "baseline = LogisticRegression()\n",
    "baseline.fit(X_train, y_train)\n",
    "ScoreModel(baseline, X_train, y_train)"
   ]
  },
  {
   "cell_type": "code",
   "execution_count": 24,
   "metadata": {},
   "outputs": [
    {
     "name": "stdout",
     "output_type": "stream",
     "text": [
      "Accuracy:   0.814095928226363\n",
      "F1 Score:   0.8169229462237703\n",
      "Recall:     0.819918144611187\n",
      "Precision:  0.813949551379719\n",
      "ROC_AUC:    0.814026809735761\n"
     ]
    }
   ],
   "source": [
    "#vector = TfidfVectorizer(analyzer=clean_reviews, ngram_range=(2, 2))\n",
    "#X = vector.fit_transform(df_test[\"review\"])\n",
    "\n",
    "#X_df_test = pd.DataFrame(X.toarray())\n",
    "#X_df_test.columns = vector.get_feature_names()\n",
    "#X_df_test.head(3)\n",
    "\n",
    "ScoreModel(baseline, X_test, y_test)"
   ]
  },
  {
   "cell_type": "code",
   "execution_count": null,
   "metadata": {},
   "outputs": [],
   "source": []
  },
  {
   "cell_type": "code",
   "execution_count": null,
   "metadata": {},
   "outputs": [],
   "source": []
  },
  {
   "cell_type": "code",
   "execution_count": 25,
   "metadata": {},
   "outputs": [],
   "source": [
    "param_grid = {'alpha': [.05,0.5, 1, 1.5, 2],\n",
    "        }"
   ]
  },
  {
   "cell_type": "code",
   "execution_count": 26,
   "metadata": {},
   "outputs": [
    {
     "data": {
      "text/plain": [
       "GridSearchCV(estimator=MultinomialNB(),\n",
       "             param_grid={'alpha': [0.05, 0.5, 1, 1.5, 2]}, scoring='accuracy')"
      ]
     },
     "execution_count": 26,
     "metadata": {},
     "output_type": "execute_result"
    }
   ],
   "source": [
    "clf = MultinomialNB()\n",
    "clf.fit(X_train, y_train)\n",
    "\n",
    "\n",
    "clf_gs = GridSearchCV(estimator=clf, param_grid=param_grid, scoring='accuracy')\n",
    "clf_gs.fit(X_train, y_train)\n"
   ]
  },
  {
   "cell_type": "code",
   "execution_count": 27,
   "metadata": {},
   "outputs": [],
   "source": [
    "\n",
    "best_model = clf_gs.best_estimator_"
   ]
  },
  {
   "cell_type": "code",
   "execution_count": 28,
   "metadata": {
    "scrolled": true
   },
   "outputs": [
    {
     "data": {
      "text/plain": [
       "{'alpha': 0.5}"
      ]
     },
     "execution_count": 28,
     "metadata": {},
     "output_type": "execute_result"
    }
   ],
   "source": [
    "\n",
    "clf_gs.best_params_"
   ]
  },
  {
   "cell_type": "code",
   "execution_count": 29,
   "metadata": {},
   "outputs": [
    {
     "name": "stdout",
     "output_type": "stream",
     "text": [
      "Accuracy:   0.9197653351738417\n",
      "F1 Score:   0.9184067380242147\n",
      "Recall:     0.8925648021828103\n",
      "Precision:  0.9457896638959161\n",
      "ROC_AUC:    0.9200906776760045\n"
     ]
    }
   ],
   "source": [
    "ScoreModel(clf_gs, X_train, y_train)"
   ]
  },
  {
   "cell_type": "code",
   "execution_count": 30,
   "metadata": {},
   "outputs": [
    {
     "name": "stdout",
     "output_type": "stream",
     "text": [
      "Accuracy:   0.8019323671497585\n",
      "F1 Score:   0.794522999821013\n",
      "Recall:     0.7569918144611187\n",
      "Precision:  0.835969868173258\n",
      "ROC_AUC:    0.8024658792975985\n"
     ]
    }
   ],
   "source": [
    "ScoreModel(clf_gs, X_test, y_test)"
   ]
  },
  {
   "cell_type": "code",
   "execution_count": 31,
   "metadata": {},
   "outputs": [
    {
     "ename": "IndentationError",
     "evalue": "unexpected indent (<ipython-input-31-325bd1c8fd4e>, line 4)",
     "output_type": "error",
     "traceback": [
      "\u001b[0;36m  File \u001b[0;32m\"<ipython-input-31-325bd1c8fd4e>\"\u001b[0;36m, line \u001b[0;32m4\u001b[0m\n\u001b[0;31m    'max_depth': [1, 3, 5, 7, 10],\u001b[0m\n\u001b[0m    ^\u001b[0m\n\u001b[0;31mIndentationError\u001b[0m\u001b[0;31m:\u001b[0m unexpected indent\n"
     ]
    }
   ],
   "source": [
    "#boost_grid = XGBClassifier(random_state=57, objective=\"reg:logistic\", use_label_encoder=False)\n",
    "\n",
    "#param_grid = {'n_estimators': [50, 75, 100],\n",
    "               # 'max_depth': [1, 3, 5, 7, 10],\n",
    "               #'min_samples_leaf': [1, 3, 5, 7]}\n",
    "\n",
    "#gridsearch = GridSearchCV(boost_grid, param_grid, scoring=\"accuracy\", n_jobs= -1)\n",
    "#gridsearch.fit(X_train, y_train)"
   ]
  },
  {
   "cell_type": "code",
   "execution_count": null,
   "metadata": {},
   "outputs": [],
   "source": [
    "#best_model2 = clf_gs.best_estimator_"
   ]
  },
  {
   "cell_type": "code",
   "execution_count": null,
   "metadata": {},
   "outputs": [],
   "source": [
    "#clf_gs.best_params_"
   ]
  },
  {
   "cell_type": "code",
   "execution_count": null,
   "metadata": {},
   "outputs": [],
   "source": [
    "#ScoreModel(gridsearch, X_train, y_train)"
   ]
  },
  {
   "cell_type": "code",
   "execution_count": null,
   "metadata": {},
   "outputs": [],
   "source": [
    "#ScoreModel(gridsearch, X_test, y_test)"
   ]
  },
  {
   "cell_type": "code",
   "execution_count": null,
   "metadata": {},
   "outputs": [],
   "source": []
  }
 ],
 "metadata": {
  "kernelspec": {
   "display_name": "Python 3",
   "language": "python",
   "name": "python3"
  },
  "language_info": {
   "codemirror_mode": {
    "name": "ipython",
    "version": 3
   },
   "file_extension": ".py",
   "mimetype": "text/x-python",
   "name": "python",
   "nbconvert_exporter": "python",
   "pygments_lexer": "ipython3",
   "version": "3.8.5"
  }
 },
 "nbformat": 4,
 "nbformat_minor": 4
}

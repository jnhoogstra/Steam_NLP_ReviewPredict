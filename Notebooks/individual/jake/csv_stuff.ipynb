{
 "cells": [
  {
   "cell_type": "code",
   "execution_count": 1,
   "id": "223804d2-25d9-4218-9a02-02a8d1dd555f",
   "metadata": {},
   "outputs": [],
   "source": [
    "import numpy as np \n",
    "import pandas as pd \n",
    "pd.set_option('display.max_colwidth', 100)\n",
    "\n",
    "import re\n",
    "import string\n",
    "import nltk\n",
    "\n",
    "from textblob import TextBlob, Word\n",
    "from wordcloud import WordCloud\n",
    "\n",
    "from sklearn.feature_extraction.text import TfidfVectorizer\n",
    "from sklearn.model_selection import train_test_split"
   ]
  },
  {
   "cell_type": "code",
   "execution_count": 2,
   "id": "306ae490-113a-4e57-abea-13c00250fce0",
   "metadata": {},
   "outputs": [
    {
     "data": {
      "text/html": [
       "<div>\n",
       "<style scoped>\n",
       "    .dataframe tbody tr th:only-of-type {\n",
       "        vertical-align: middle;\n",
       "    }\n",
       "\n",
       "    .dataframe tbody tr th {\n",
       "        vertical-align: top;\n",
       "    }\n",
       "\n",
       "    .dataframe thead th {\n",
       "        text-align: right;\n",
       "    }\n",
       "</style>\n",
       "<table border=\"1\" class=\"dataframe\">\n",
       "  <thead>\n",
       "    <tr style=\"text-align: right;\">\n",
       "      <th></th>\n",
       "      <th>steamid</th>\n",
       "      <th>appid</th>\n",
       "      <th>app_title</th>\n",
       "      <th>app_tags</th>\n",
       "      <th>review</th>\n",
       "      <th>fps</th>\n",
       "      <th>voted_up</th>\n",
       "    </tr>\n",
       "  </thead>\n",
       "  <tbody>\n",
       "    <tr>\n",
       "      <th>0</th>\n",
       "      <td>76561198219450288</td>\n",
       "      <td>730</td>\n",
       "      <td>Counter-Strike: Global Offensive</td>\n",
       "      <td>['FPS', 'Shooter', 'Multiplayer', 'Competitive', 'Action', 'Team-Based', 'eSports', 'Tactical', ...</td>\n",
       "      <td>a vac server baned me for being good .....nice why did this happen they writed me to purchase th...</td>\n",
       "      <td>True</td>\n",
       "      <td>True</td>\n",
       "    </tr>\n",
       "    <tr>\n",
       "      <th>1</th>\n",
       "      <td>76561198371171813</td>\n",
       "      <td>730</td>\n",
       "      <td>Counter-Strike: Global Offensive</td>\n",
       "      <td>['FPS', 'Shooter', 'Multiplayer', 'Competitive', 'Action', 'Team-Based', 'eSports', 'Tactical', ...</td>\n",
       "      <td>only game i play</td>\n",
       "      <td>True</td>\n",
       "      <td>True</td>\n",
       "    </tr>\n",
       "    <tr>\n",
       "      <th>2</th>\n",
       "      <td>76561198170681091</td>\n",
       "      <td>730</td>\n",
       "      <td>Counter-Strike: Global Offensive</td>\n",
       "      <td>['FPS', 'Shooter', 'Multiplayer', 'Competitive', 'Action', 'Team-Based', 'eSports', 'Tactical', ...</td>\n",
       "      <td>great game,play it every day,over 500 hours,would reccomend</td>\n",
       "      <td>True</td>\n",
       "      <td>True</td>\n",
       "    </tr>\n",
       "  </tbody>\n",
       "</table>\n",
       "</div>"
      ],
      "text/plain": [
       "             steamid  appid                         app_title  \\\n",
       "0  76561198219450288    730  Counter-Strike: Global Offensive   \n",
       "1  76561198371171813    730  Counter-Strike: Global Offensive   \n",
       "2  76561198170681091    730  Counter-Strike: Global Offensive   \n",
       "\n",
       "                                                                                              app_tags  \\\n",
       "0  ['FPS', 'Shooter', 'Multiplayer', 'Competitive', 'Action', 'Team-Based', 'eSports', 'Tactical', ...   \n",
       "1  ['FPS', 'Shooter', 'Multiplayer', 'Competitive', 'Action', 'Team-Based', 'eSports', 'Tactical', ...   \n",
       "2  ['FPS', 'Shooter', 'Multiplayer', 'Competitive', 'Action', 'Team-Based', 'eSports', 'Tactical', ...   \n",
       "\n",
       "                                                                                                review  \\\n",
       "0  a vac server baned me for being good .....nice why did this happen they writed me to purchase th...   \n",
       "1                                                                                     only game i play   \n",
       "2                                          great game,play it every day,over 500 hours,would reccomend   \n",
       "\n",
       "    fps  voted_up  \n",
       "0  True      True  \n",
       "1  True      True  \n",
       "2  True      True  "
      ]
     },
     "execution_count": 2,
     "metadata": {},
     "output_type": "execute_result"
    }
   ],
   "source": [
    "# found a major class imbalance after doing work in merge_and_chop, so I'm going to fix that here\n",
    "# also going to create a csv of roughly 20k instead of doing the train, test, and calidate csv files due to vocabulary problems\n",
    "\n",
    "#this df is made from merge_and_chop using the dataset files at https://www.kaggle.com/forgemaster/steam-reviews-dataset?select=reviews-1-115.csv\n",
    "#none of these files are stored in github\n",
    "df = pd.read_csv(\"../../../../trimmed/combined_split_reviews.csv\")\n",
    "df.head(3)"
   ]
  },
  {
   "cell_type": "code",
   "execution_count": 3,
   "id": "9bd9d54d-a7e8-4574-bd34-9d79d3aaeca3",
   "metadata": {},
   "outputs": [
    {
     "name": "stdout",
     "output_type": "stream",
     "text": [
      "<class 'pandas.core.frame.DataFrame'>\n",
      "RangeIndex: 3220605 entries, 0 to 3220604\n",
      "Data columns (total 7 columns):\n",
      " #   Column     Dtype \n",
      "---  ------     ----- \n",
      " 0   steamid    int64 \n",
      " 1   appid      int64 \n",
      " 2   app_title  object\n",
      " 3   app_tags   object\n",
      " 4   review     object\n",
      " 5   fps        bool  \n",
      " 6   voted_up   bool  \n",
      "dtypes: bool(2), int64(2), object(3)\n",
      "memory usage: 129.0+ MB\n"
     ]
    }
   ],
   "source": [
    "df.info()"
   ]
  },
  {
   "cell_type": "code",
   "execution_count": 4,
   "id": "c726d664-a518-4471-81db-0e1187f25e05",
   "metadata": {},
   "outputs": [],
   "source": [
    "df = df.drop_duplicates(subset=\"review\")\n",
    "df = df.dropna()"
   ]
  },
  {
   "cell_type": "code",
   "execution_count": 5,
   "id": "9e5f7e2b-f8ca-4a42-890f-d4a0f4d66bb0",
   "metadata": {},
   "outputs": [
    {
     "name": "stdout",
     "output_type": "stream",
     "text": [
      "<class 'pandas.core.frame.DataFrame'>\n",
      "Int64Index: 680220 entries, 0 to 821202\n",
      "Data columns (total 7 columns):\n",
      " #   Column     Non-Null Count   Dtype \n",
      "---  ------     --------------   ----- \n",
      " 0   steamid    680220 non-null  int64 \n",
      " 1   appid      680220 non-null  int64 \n",
      " 2   app_title  680220 non-null  object\n",
      " 3   app_tags   680220 non-null  object\n",
      " 4   review     680220 non-null  object\n",
      " 5   fps        680220 non-null  bool  \n",
      " 6   voted_up   680220 non-null  bool  \n",
      "dtypes: bool(2), int64(2), object(3)\n",
      "memory usage: 32.4+ MB\n"
     ]
    }
   ],
   "source": [
    "df.info()"
   ]
  },
  {
   "cell_type": "code",
   "execution_count": 6,
   "id": "97743d97-6ec3-49db-b37e-f52b30aac879",
   "metadata": {},
   "outputs": [
    {
     "data": {
      "text/plain": [
       "175"
      ]
     },
     "execution_count": 6,
     "metadata": {},
     "output_type": "execute_result"
    }
   ],
   "source": [
    "shooters = df[\"app_title\"].unique()\n",
    "shooters = list(shooters)\n",
    "len(shooters)"
   ]
  },
  {
   "cell_type": "code",
   "execution_count": 7,
   "id": "a8daa7fa-772a-4f37-a521-5253d332089c",
   "metadata": {},
   "outputs": [
    {
     "data": {
      "text/plain": [
       "True     608134\n",
       "False     72086\n",
       "Name: voted_up, dtype: int64"
      ]
     },
     "execution_count": 7,
     "metadata": {},
     "output_type": "execute_result"
    }
   ],
   "source": [
    "df[\"voted_up\"].value_counts()"
   ]
  },
  {
   "cell_type": "code",
   "execution_count": 8,
   "id": "25e4e7a6-b372-4626-8f15-77c7a4c65853",
   "metadata": {},
   "outputs": [
    {
     "data": {
      "text/plain": [
       "True     0.894025\n",
       "False    0.105975\n",
       "Name: voted_up, dtype: float64"
      ]
     },
     "execution_count": 8,
     "metadata": {},
     "output_type": "execute_result"
    }
   ],
   "source": [
    "df[\"voted_up\"].value_counts(normalize=True)"
   ]
  },
  {
   "cell_type": "code",
   "execution_count": 10,
   "id": "f02afad7-f688-4c94-94e6-2176b7d785c2",
   "metadata": {},
   "outputs": [
    {
     "data": {
      "text/plain": [
       "Counter-Strike: Global Offensive            289088\n",
       "Garry's Mod                                  66364\n",
       "Left 4 Dead 2                                41017\n",
       "Portal 2                                     35231\n",
       "Borderlands 2                                21301\n",
       "Fallout: New Vegas                           19197\n",
       "Arma 3                                       17259\n",
       "Portal                                       15165\n",
       "Counter-Strike: Source                       11068\n",
       "BioShock Infinite                            10084\n",
       "Half-Life                                     9963\n",
       "Counter-Strike                                8646\n",
       "Star Wars: Battlefront 2 (Classic, 2005)      7069\n",
       "Killing Floor                                 6571\n",
       "Half-Life 2                                   5831\n",
       "Name: app_title, dtype: int64"
      ]
     },
     "execution_count": 10,
     "metadata": {},
     "output_type": "execute_result"
    }
   ],
   "source": [
    "df[\"app_title\"].value_counts()[:15]"
   ]
  },
  {
   "cell_type": "code",
   "execution_count": 11,
   "id": "e90a668d-f67e-4364-9596-cc3f910c0b31",
   "metadata": {},
   "outputs": [
    {
     "name": "stdout",
     "output_type": "stream",
     "text": [
      "<class 'pandas.core.frame.DataFrame'>\n",
      "Int64Index: 654899 entries, 0 to 821202\n",
      "Data columns (total 7 columns):\n",
      " #   Column     Non-Null Count   Dtype \n",
      "---  ------     --------------   ----- \n",
      " 0   steamid    654899 non-null  int64 \n",
      " 1   appid      654899 non-null  int64 \n",
      " 2   app_title  654899 non-null  object\n",
      " 3   app_tags   654899 non-null  object\n",
      " 4   review     654899 non-null  object\n",
      " 5   fps        654899 non-null  bool  \n",
      " 6   voted_up   654899 non-null  bool  \n",
      "dtypes: bool(2), int64(2), object(3)\n",
      "memory usage: 31.2+ MB\n"
     ]
    }
   ],
   "source": [
    "index_names = df[df[\"app_title\"] == \"Counter-Strike\"].index\n",
    "df.drop(index_names, inplace=True)\n",
    "\n",
    "drop_games = [\"Counter-Strike: Source\", \"Half-Life: Source\", \"Team Fortress Classic\", \"Day of Defeat: Source\",\n",
    "             \"Half-Life Deathmatch: Source\"]\n",
    "\n",
    "for each in drop_games:\n",
    "    index_names = df[df[\"app_title\"] == each].index\n",
    "    df.drop(index_names, inplace=True)\n",
    "    \n",
    "df.info()"
   ]
  },
  {
   "cell_type": "code",
   "execution_count": 17,
   "id": "a47ff8fc-d48b-4732-84e8-441f346072ce",
   "metadata": {},
   "outputs": [
    {
     "data": {
      "text/plain": [
       "Counter-Strike: Global Offensive            289088\n",
       "Garry's Mod                                  66364\n",
       "Left 4 Dead 2                                41017\n",
       "Portal 2                                     35231\n",
       "Borderlands 2                                21301\n",
       "Fallout: New Vegas                           19197\n",
       "Arma 3                                       17259\n",
       "Portal                                       15165\n",
       "BioShock Infinite                            10084\n",
       "Half-Life                                     9963\n",
       "Star Wars: Battlefront 2 (Classic, 2005)      7069\n",
       "Killing Floor                                 6571\n",
       "Half-Life 2                                   5831\n",
       "Call of Duty: World at War                    5483\n",
       "Wolfenstein: The New Order                    4737\n",
       "Name: app_title, dtype: int64"
      ]
     },
     "execution_count": 17,
     "metadata": {},
     "output_type": "execute_result"
    }
   ],
   "source": [
    "df[\"app_title\"].value_counts()[:15]"
   ]
  },
  {
   "cell_type": "code",
   "execution_count": 18,
   "id": "1496ea58-dc66-436b-9632-58ab2b64c4cf",
   "metadata": {},
   "outputs": [
    {
     "data": {
      "text/plain": [
       "169"
      ]
     },
     "execution_count": 18,
     "metadata": {},
     "output_type": "execute_result"
    }
   ],
   "source": [
    "shooters = df[\"app_title\"].unique()\n",
    "shooters = list(shooters)\n",
    "len(shooters)"
   ]
  },
  {
   "cell_type": "code",
   "execution_count": 19,
   "id": "080c1f0c-f42c-4d40-87e1-ade4a09a2fd3",
   "metadata": {},
   "outputs": [
    {
     "data": {
      "text/plain": [
       "True     584908\n",
       "False     69991\n",
       "Name: voted_up, dtype: int64"
      ]
     },
     "execution_count": 19,
     "metadata": {},
     "output_type": "execute_result"
    }
   ],
   "source": [
    "df[\"voted_up\"].value_counts()"
   ]
  },
  {
   "cell_type": "code",
   "execution_count": 20,
   "id": "5de78139-89aa-4b34-aba1-51273e7f96da",
   "metadata": {},
   "outputs": [
    {
     "data": {
      "text/plain": [
       "Counter-Strike: Global Offensive    0.441424\n",
       "Garry's Mod                         0.101335\n",
       "Left 4 Dead 2                       0.062631\n",
       "Portal 2                            0.053796\n",
       "Borderlands 2                       0.032526\n",
       "                                      ...   \n",
       "Tribes: Ascend                      0.000018\n",
       "Fallen Earth Free2Play              0.000012\n",
       "Empires Mod                         0.000011\n",
       "EverQuest II                        0.000009\n",
       "Zombie Panic! Source                0.000006\n",
       "Name: app_title, Length: 169, dtype: float64"
      ]
     },
     "execution_count": 20,
     "metadata": {},
     "output_type": "execute_result"
    }
   ],
   "source": [
    "df[\"app_title\"].value_counts(normalize=True)"
   ]
  },
  {
   "cell_type": "code",
   "execution_count": 21,
   "id": "54a2c1da-001a-4524-a4a7-9d295e41a5b8",
   "metadata": {},
   "outputs": [],
   "source": [
    "df_csgo = df[df[\"app_title\"] == \"Counter-Strike: Global Offensive\"]"
   ]
  },
  {
   "cell_type": "code",
   "execution_count": 24,
   "id": "29dd539d-129b-4cc5-8a8a-aab412db51a2",
   "metadata": {},
   "outputs": [
    {
     "name": "stdout",
     "output_type": "stream",
     "text": [
      "<class 'pandas.core.frame.DataFrame'>\n",
      "RangeIndex: 365811 entries, 0 to 365810\n",
      "Data columns (total 7 columns):\n",
      " #   Column     Non-Null Count   Dtype \n",
      "---  ------     --------------   ----- \n",
      " 0   steamid    365811 non-null  int64 \n",
      " 1   appid      365811 non-null  int64 \n",
      " 2   app_title  365811 non-null  object\n",
      " 3   app_tags   365811 non-null  object\n",
      " 4   review     365811 non-null  object\n",
      " 5   fps        365811 non-null  bool  \n",
      " 6   voted_up   365811 non-null  bool  \n",
      "dtypes: bool(2), int64(2), object(3)\n",
      "memory usage: 14.7+ MB\n"
     ]
    }
   ],
   "source": [
    "index_names = df[df[\"app_title\"] == \"Counter-Strike: Global Offensive\"].index\n",
    "df.drop(index_names, inplace=True)\n",
    "\n",
    "df.reset_index(drop=True, inplace=True)\n",
    "df.info()"
   ]
  },
  {
   "cell_type": "code",
   "execution_count": 25,
   "id": "bc5cf399-25f0-4bb5-932f-459bc23151ae",
   "metadata": {},
   "outputs": [
    {
     "data": {
      "text/plain": [
       "True     0.931968\n",
       "False    0.068032\n",
       "Name: voted_up, dtype: float64"
      ]
     },
     "execution_count": 25,
     "metadata": {},
     "output_type": "execute_result"
    }
   ],
   "source": [
    "df[\"voted_up\"].value_counts(normalize=True)"
   ]
  },
  {
   "cell_type": "code",
   "execution_count": 26,
   "id": "c08dd63d-2147-4fc0-8a4f-82227f669efc",
   "metadata": {},
   "outputs": [
    {
     "name": "stdout",
     "output_type": "stream",
     "text": [
      "<class 'pandas.core.frame.DataFrame'>\n",
      "Int64Index: 340924 entries, 0 to 365810\n",
      "Data columns (total 7 columns):\n",
      " #   Column     Non-Null Count   Dtype \n",
      "---  ------     --------------   ----- \n",
      " 0   steamid    340924 non-null  int64 \n",
      " 1   appid      340924 non-null  int64 \n",
      " 2   app_title  340924 non-null  object\n",
      " 3   app_tags   340924 non-null  object\n",
      " 4   review     340924 non-null  object\n",
      " 5   fps        340924 non-null  bool  \n",
      " 6   voted_up   340924 non-null  bool  \n",
      "dtypes: bool(2), int64(2), object(3)\n",
      "memory usage: 16.3+ MB\n",
      "<class 'pandas.core.frame.DataFrame'>\n",
      "Int64Index: 24887 entries, 28 to 365775\n",
      "Data columns (total 7 columns):\n",
      " #   Column     Non-Null Count  Dtype \n",
      "---  ------     --------------  ----- \n",
      " 0   steamid    24887 non-null  int64 \n",
      " 1   appid      24887 non-null  int64 \n",
      " 2   app_title  24887 non-null  object\n",
      " 3   app_tags   24887 non-null  object\n",
      " 4   review     24887 non-null  object\n",
      " 5   fps        24887 non-null  bool  \n",
      " 6   voted_up   24887 non-null  bool  \n",
      "dtypes: bool(2), int64(2), object(3)\n",
      "memory usage: 1.2+ MB\n"
     ]
    },
    {
     "data": {
      "text/plain": [
       "None"
      ]
     },
     "metadata": {},
     "output_type": "display_data"
    },
    {
     "data": {
      "text/plain": [
       "None"
      ]
     },
     "metadata": {},
     "output_type": "display_data"
    }
   ],
   "source": [
    "df_up = df[df[\"voted_up\"] == 1]\n",
    "df_down = df[df[\"voted_up\"] == 0]\n",
    "\n",
    "display(df_up.info(), df_down.info())"
   ]
  },
  {
   "cell_type": "code",
   "execution_count": 31,
   "id": "1e89643f-b736-414d-b859-46c1b58867c7",
   "metadata": {},
   "outputs": [],
   "source": [
    "X_up = df_up.drop(\"voted_up\", axis=1)\n",
    "y_up = df_up[\"voted_up\"]\n",
    "\n",
    "X_train, X_test, y_train, y_test = train_test_split(X_up, y_up, random_state=57, test_size=0.03)"
   ]
  },
  {
   "cell_type": "code",
   "execution_count": 32,
   "id": "1d1e0b00-2c0a-43cb-abbf-1927abd7a13b",
   "metadata": {},
   "outputs": [
    {
     "name": "stdout",
     "output_type": "stream",
     "text": [
      "<class 'pandas.core.frame.DataFrame'>\n",
      "RangeIndex: 10228 entries, 0 to 10227\n",
      "Data columns (total 7 columns):\n",
      " #   Column     Non-Null Count  Dtype \n",
      "---  ------     --------------  ----- \n",
      " 0   steamid    10228 non-null  int64 \n",
      " 1   appid      10228 non-null  int64 \n",
      " 2   app_title  10228 non-null  object\n",
      " 3   app_tags   10228 non-null  object\n",
      " 4   review     10228 non-null  object\n",
      " 5   fps        10228 non-null  bool  \n",
      " 6   voted_up   10228 non-null  bool  \n",
      "dtypes: bool(2), int64(2), object(3)\n",
      "memory usage: 419.6+ KB\n"
     ]
    }
   ],
   "source": [
    "up = pd.concat([X_test, y_test], axis=1)\n",
    "up.reset_index(drop=True, inplace=True)\n",
    "up.info()"
   ]
  },
  {
   "cell_type": "code",
   "execution_count": 37,
   "id": "70f561ca-ade8-4ff3-bc23-744a900a2690",
   "metadata": {},
   "outputs": [],
   "source": [
    "X_down = df_down.drop(\"voted_up\", axis=1)\n",
    "y_down = df_down[\"voted_up\"]\n",
    "\n",
    "X_train, X_test, y_train, y_test = train_test_split(X_down, y_down, random_state=57, test_size=0.4)"
   ]
  },
  {
   "cell_type": "code",
   "execution_count": 38,
   "id": "877182d9-c26d-418b-a231-779967367ded",
   "metadata": {},
   "outputs": [
    {
     "name": "stdout",
     "output_type": "stream",
     "text": [
      "<class 'pandas.core.frame.DataFrame'>\n",
      "RangeIndex: 9955 entries, 0 to 9954\n",
      "Data columns (total 7 columns):\n",
      " #   Column     Non-Null Count  Dtype \n",
      "---  ------     --------------  ----- \n",
      " 0   steamid    9955 non-null   int64 \n",
      " 1   appid      9955 non-null   int64 \n",
      " 2   app_title  9955 non-null   object\n",
      " 3   app_tags   9955 non-null   object\n",
      " 4   review     9955 non-null   object\n",
      " 5   fps        9955 non-null   bool  \n",
      " 6   voted_up   9955 non-null   bool  \n",
      "dtypes: bool(2), int64(2), object(3)\n",
      "memory usage: 408.4+ KB\n"
     ]
    }
   ],
   "source": [
    "down = pd.concat([X_test, y_test], axis=1)\n",
    "down.reset_index(drop=True, inplace=True)\n",
    "down.info()"
   ]
  },
  {
   "cell_type": "code",
   "execution_count": 39,
   "id": "e51066a2-cdd9-4020-b3ce-1fb750fda464",
   "metadata": {},
   "outputs": [
    {
     "name": "stdout",
     "output_type": "stream",
     "text": [
      "<class 'pandas.core.frame.DataFrame'>\n",
      "RangeIndex: 20183 entries, 0 to 20182\n",
      "Data columns (total 7 columns):\n",
      " #   Column     Non-Null Count  Dtype \n",
      "---  ------     --------------  ----- \n",
      " 0   steamid    20183 non-null  int64 \n",
      " 1   appid      20183 non-null  int64 \n",
      " 2   app_title  20183 non-null  object\n",
      " 3   app_tags   20183 non-null  object\n",
      " 4   review     20183 non-null  object\n",
      " 5   fps        20183 non-null  bool  \n",
      " 6   voted_up   20183 non-null  bool  \n",
      "dtypes: bool(2), int64(2), object(3)\n",
      "memory usage: 827.9+ KB\n"
     ]
    }
   ],
   "source": [
    "df_temp = pd.concat([up, down])\n",
    "df_temp.reset_index(drop=True, inplace=True)\n",
    "df_temp.info()"
   ]
  },
  {
   "cell_type": "code",
   "execution_count": 40,
   "id": "99ee5363-a906-4263-89ce-65d67eac536d",
   "metadata": {},
   "outputs": [
    {
     "data": {
      "text/html": [
       "<div>\n",
       "<style scoped>\n",
       "    .dataframe tbody tr th:only-of-type {\n",
       "        vertical-align: middle;\n",
       "    }\n",
       "\n",
       "    .dataframe tbody tr th {\n",
       "        vertical-align: top;\n",
       "    }\n",
       "\n",
       "    .dataframe thead th {\n",
       "        text-align: right;\n",
       "    }\n",
       "</style>\n",
       "<table border=\"1\" class=\"dataframe\">\n",
       "  <thead>\n",
       "    <tr style=\"text-align: right;\">\n",
       "      <th></th>\n",
       "      <th>steamid</th>\n",
       "      <th>appid</th>\n",
       "      <th>app_title</th>\n",
       "      <th>app_tags</th>\n",
       "      <th>review</th>\n",
       "      <th>fps</th>\n",
       "      <th>voted_up</th>\n",
       "    </tr>\n",
       "  </thead>\n",
       "  <tbody>\n",
       "    <tr>\n",
       "      <th>0</th>\n",
       "      <td>76561198271088129</td>\n",
       "      <td>4000</td>\n",
       "      <td>Garry's Mod</td>\n",
       "      <td>['Sandbox', 'Multiplayer', 'Funny', 'Moddable', 'Building', 'Comedy', 'Co-op', 'Mod', 'First-Per...</td>\n",
       "      <td>good models\\n</td>\n",
       "      <td>True</td>\n",
       "      <td>True</td>\n",
       "    </tr>\n",
       "    <tr>\n",
       "      <th>1</th>\n",
       "      <td>76561198138206834</td>\n",
       "      <td>4000</td>\n",
       "      <td>Garry's Mod</td>\n",
       "      <td>['Sandbox', 'Multiplayer', 'Funny', 'Moddable', 'Building', 'Comedy', 'Co-op', 'Mod', 'First-Per...</td>\n",
       "      <td>I completely suck at making anything on here and death run keeps ending in countless deaths beca...</td>\n",
       "      <td>True</td>\n",
       "      <td>True</td>\n",
       "    </tr>\n",
       "    <tr>\n",
       "      <th>2</th>\n",
       "      <td>76561198128760839</td>\n",
       "      <td>70</td>\n",
       "      <td>Half-Life</td>\n",
       "      <td>['FPS', 'Sci-fi', 'Action', 'Singleplayer', \"1990's\", 'Shooter', 'Multiplayer', 'First-Person', ...</td>\n",
       "      <td>There is not much to say about this old game that hasn't been said really. Many people have play...</td>\n",
       "      <td>True</td>\n",
       "      <td>True</td>\n",
       "    </tr>\n",
       "    <tr>\n",
       "      <th>3</th>\n",
       "      <td>76561198079636858</td>\n",
       "      <td>6060</td>\n",
       "      <td>Star Wars: Battlefront 2 (Classic, 2005)</td>\n",
       "      <td>['Action', 'Multiplayer', 'Shooter', 'Third-Person Shooter', 'Classic', 'Sci-fi', 'Space', 'FPS'...</td>\n",
       "      <td>360 noscoped almost everything 10/10 even the single player is fun...</td>\n",
       "      <td>True</td>\n",
       "      <td>True</td>\n",
       "    </tr>\n",
       "    <tr>\n",
       "      <th>4</th>\n",
       "      <td>76561198238100200</td>\n",
       "      <td>220</td>\n",
       "      <td>Half-Life 2</td>\n",
       "      <td>['FPS', 'Action', 'Sci-fi', 'Classic', 'Singleplayer', 'Story Rich', 'Shooter', 'First-Person', ...</td>\n",
       "      <td>No need for a review. It's practically history.</td>\n",
       "      <td>True</td>\n",
       "      <td>True</td>\n",
       "    </tr>\n",
       "  </tbody>\n",
       "</table>\n",
       "</div>"
      ],
      "text/plain": [
       "             steamid  appid                                 app_title  \\\n",
       "0  76561198271088129   4000                               Garry's Mod   \n",
       "1  76561198138206834   4000                               Garry's Mod   \n",
       "2  76561198128760839     70                                 Half-Life   \n",
       "3  76561198079636858   6060  Star Wars: Battlefront 2 (Classic, 2005)   \n",
       "4  76561198238100200    220                               Half-Life 2   \n",
       "\n",
       "                                                                                              app_tags  \\\n",
       "0  ['Sandbox', 'Multiplayer', 'Funny', 'Moddable', 'Building', 'Comedy', 'Co-op', 'Mod', 'First-Per...   \n",
       "1  ['Sandbox', 'Multiplayer', 'Funny', 'Moddable', 'Building', 'Comedy', 'Co-op', 'Mod', 'First-Per...   \n",
       "2  ['FPS', 'Sci-fi', 'Action', 'Singleplayer', \"1990's\", 'Shooter', 'Multiplayer', 'First-Person', ...   \n",
       "3  ['Action', 'Multiplayer', 'Shooter', 'Third-Person Shooter', 'Classic', 'Sci-fi', 'Space', 'FPS'...   \n",
       "4  ['FPS', 'Action', 'Sci-fi', 'Classic', 'Singleplayer', 'Story Rich', 'Shooter', 'First-Person', ...   \n",
       "\n",
       "                                                                                                review  \\\n",
       "0                                                                                        good models\\n   \n",
       "1  I completely suck at making anything on here and death run keeps ending in countless deaths beca...   \n",
       "2  There is not much to say about this old game that hasn't been said really. Many people have play...   \n",
       "3                                360 noscoped almost everything 10/10 even the single player is fun...   \n",
       "4                                                      No need for a review. It's practically history.   \n",
       "\n",
       "    fps  voted_up  \n",
       "0  True      True  \n",
       "1  True      True  \n",
       "2  True      True  \n",
       "3  True      True  \n",
       "4  True      True  "
      ]
     },
     "execution_count": 40,
     "metadata": {},
     "output_type": "execute_result"
    }
   ],
   "source": [
    "df_temp.head()"
   ]
  },
  {
   "cell_type": "code",
   "execution_count": 42,
   "id": "7007b96b-3817-4737-b298-a867ec675d23",
   "metadata": {},
   "outputs": [
    {
     "data": {
      "text/plain": [
       "Garry's Mod                         2988\n",
       "Left 4 Dead 2                       1710\n",
       "Arma 3                              1176\n",
       "Portal 2                            1154\n",
       "Borderlands 2                        966\n",
       "                                    ... \n",
       "EverQuest II                           2\n",
       "Hamilton's Great Adventure             2\n",
       "Pirates, Vikings, and Knights II       1\n",
       "Penguins Arena: Sedna's World          1\n",
       "Empires Mod                            1\n",
       "Name: app_title, Length: 165, dtype: int64"
      ]
     },
     "execution_count": 42,
     "metadata": {},
     "output_type": "execute_result"
    }
   ],
   "source": [
    "df_temp[\"app_title\"].value_counts()"
   ]
  },
  {
   "cell_type": "code",
   "execution_count": 43,
   "id": "aa0cdb2a-220c-4382-89ac-018508c76206",
   "metadata": {},
   "outputs": [
    {
     "name": "stdout",
     "output_type": "stream",
     "text": [
      "<class 'pandas.core.frame.DataFrame'>\n",
      "RangeIndex: 3000 entries, 0 to 2999\n",
      "Data columns (total 7 columns):\n",
      " #   Column     Non-Null Count  Dtype \n",
      "---  ------     --------------  ----- \n",
      " 0   steamid    3000 non-null   int64 \n",
      " 1   appid      3000 non-null   int64 \n",
      " 2   app_title  3000 non-null   object\n",
      " 3   app_tags   3000 non-null   object\n",
      " 4   review     3000 non-null   object\n",
      " 5   fps        3000 non-null   bool  \n",
      " 6   voted_up   3000 non-null   bool  \n",
      "dtypes: bool(2), int64(2), object(3)\n",
      "memory usage: 123.2+ KB\n"
     ]
    }
   ],
   "source": [
    "#df_csgo\n",
    "\n",
    "df_up = df_csgo[df_csgo[\"voted_up\"] == 1]\n",
    "df_down = df_csgo[df_csgo[\"voted_up\"] == 0]\n",
    "\n",
    "X_up = df_up.drop(\"voted_up\", axis=1)\n",
    "y_up = df_up[\"voted_up\"]\n",
    "\n",
    "X_train, X_test, y_train, y_test = train_test_split(X_up, y_up, random_state=57, train_size=1500)\n",
    "up = pd.concat([X_train, y_train], axis=1)\n",
    "up.reset_index(drop=True, inplace=True)\n",
    "\n",
    "X_down = df_down.drop(\"voted_up\", axis=1)\n",
    "y_down = df_down[\"voted_up\"]\n",
    "\n",
    "X_train, X_test, y_train, y_test = train_test_split(X_down, y_down, random_state=57, train_size=1500)\n",
    "down = pd.concat([X_train, y_train], axis=1)\n",
    "down.reset_index(drop=True, inplace=True)\n",
    "\n",
    "\n",
    "csgo = pd.concat([up, down])\n",
    "csgo.reset_index(drop=True, inplace=True)\n",
    "csgo.info()"
   ]
  },
  {
   "cell_type": "code",
   "execution_count": 44,
   "id": "c95fac18-304a-4b86-b902-14b467e60e72",
   "metadata": {},
   "outputs": [
    {
     "name": "stdout",
     "output_type": "stream",
     "text": [
      "<class 'pandas.core.frame.DataFrame'>\n",
      "RangeIndex: 23183 entries, 0 to 23182\n",
      "Data columns (total 7 columns):\n",
      " #   Column     Non-Null Count  Dtype \n",
      "---  ------     --------------  ----- \n",
      " 0   steamid    23183 non-null  int64 \n",
      " 1   appid      23183 non-null  int64 \n",
      " 2   app_title  23183 non-null  object\n",
      " 3   app_tags   23183 non-null  object\n",
      " 4   review     23183 non-null  object\n",
      " 5   fps        23183 non-null  bool  \n",
      " 6   voted_up   23183 non-null  bool  \n",
      "dtypes: bool(2), int64(2), object(3)\n",
      "memory usage: 951.0+ KB\n"
     ]
    }
   ],
   "source": [
    "final_df = pd.concat([df_temp, csgo])\n",
    "final_df.reset_index(drop=True, inplace=True)\n",
    "final_df.info()"
   ]
  },
  {
   "cell_type": "code",
   "execution_count": 45,
   "id": "184f6b5a-e7a6-497e-8f82-cc96ff448044",
   "metadata": {},
   "outputs": [
    {
     "data": {
      "text/plain": [
       "True     0.505888\n",
       "False    0.494112\n",
       "Name: voted_up, dtype: float64"
      ]
     },
     "execution_count": 45,
     "metadata": {},
     "output_type": "execute_result"
    }
   ],
   "source": [
    "final_df[\"voted_up\"].value_counts(normalize=True)"
   ]
  },
  {
   "cell_type": "code",
   "execution_count": 46,
   "id": "fa2a6c11-5a7e-454e-8770-0888b6bad80d",
   "metadata": {},
   "outputs": [
    {
     "data": {
      "text/plain": [
       "Counter-Strike: Global Offensive    0.129405\n",
       "Garry's Mod                         0.128888\n",
       "Left 4 Dead 2                       0.073761\n",
       "Arma 3                              0.050727\n",
       "Portal 2                            0.049778\n",
       "                                      ...   \n",
       "Xotic                               0.000086\n",
       "Hamilton's Great Adventure          0.000086\n",
       "Penguins Arena: Sedna's World       0.000043\n",
       "Pirates, Vikings, and Knights II    0.000043\n",
       "Empires Mod                         0.000043\n",
       "Name: app_title, Length: 166, dtype: float64"
      ]
     },
     "execution_count": 46,
     "metadata": {},
     "output_type": "execute_result"
    }
   ],
   "source": [
    "final_df[\"app_title\"].value_counts(normalize=True)"
   ]
  },
  {
   "cell_type": "code",
   "execution_count": 47,
   "id": "9011aba1-6124-4a79-b6dd-3c155fe66a17",
   "metadata": {},
   "outputs": [],
   "source": [
    "final_df.to_csv(\"../../../data/thanos.csv\", index=False)"
   ]
  },
  {
   "cell_type": "code",
   "execution_count": null,
   "id": "489e0dbc-9963-4318-a01e-4cfc2690a8ff",
   "metadata": {},
   "outputs": [],
   "source": []
  }
 ],
 "metadata": {
  "kernelspec": {
   "display_name": "learn-env",
   "language": "python",
   "name": "learn-env"
  },
  "language_info": {
   "codemirror_mode": {
    "name": "ipython",
    "version": 3
   },
   "file_extension": ".py",
   "mimetype": "text/x-python",
   "name": "python",
   "nbconvert_exporter": "python",
   "pygments_lexer": "ipython3",
   "version": "3.8.5"
  }
 },
 "nbformat": 4,
 "nbformat_minor": 5
}

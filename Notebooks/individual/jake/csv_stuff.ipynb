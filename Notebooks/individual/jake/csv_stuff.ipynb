{
 "cells": [
  {
   "cell_type": "code",
   "execution_count": 1,
   "id": "223804d2-25d9-4218-9a02-02a8d1dd555f",
   "metadata": {},
   "outputs": [],
   "source": [
    "import numpy as np \n",
    "import pandas as pd \n",
    "pd.set_option('display.max_colwidth', 100)\n",
    "\n",
    "import re\n",
    "import string\n",
    "import nltk\n",
    "\n",
    "from textblob import TextBlob, Word\n",
    "from wordcloud import WordCloud\n",
    "\n",
    "from sklearn.feature_extraction.text import TfidfVectorizer\n",
    "from sklearn.model_selection import train_test_split"
   ]
  },
  {
   "cell_type": "code",
   "execution_count": 2,
   "id": "306ae490-113a-4e57-abea-13c00250fce0",
   "metadata": {},
   "outputs": [
    {
     "data": {
      "text/html": [
       "<div>\n",
       "<style scoped>\n",
       "    .dataframe tbody tr th:only-of-type {\n",
       "        vertical-align: middle;\n",
       "    }\n",
       "\n",
       "    .dataframe tbody tr th {\n",
       "        vertical-align: top;\n",
       "    }\n",
       "\n",
       "    .dataframe thead th {\n",
       "        text-align: right;\n",
       "    }\n",
       "</style>\n",
       "<table border=\"1\" class=\"dataframe\">\n",
       "  <thead>\n",
       "    <tr style=\"text-align: right;\">\n",
       "      <th></th>\n",
       "      <th>steamid</th>\n",
       "      <th>appid</th>\n",
       "      <th>app_title</th>\n",
       "      <th>app_tags</th>\n",
       "      <th>review</th>\n",
       "      <th>fps</th>\n",
       "      <th>voted_up</th>\n",
       "    </tr>\n",
       "  </thead>\n",
       "  <tbody>\n",
       "    <tr>\n",
       "      <th>0</th>\n",
       "      <td>76561198322990549</td>\n",
       "      <td>620</td>\n",
       "      <td>Portal 2</td>\n",
       "      <td>['Platformer', 'Dark Humor', 'Puzzle', 'Puzzle Platformer', 'First-Person', 'Story Rich', 'Femal...</td>\n",
       "      <td>whatley become breadly???? hwat??????</td>\n",
       "      <td>True</td>\n",
       "      <td>True</td>\n",
       "    </tr>\n",
       "    <tr>\n",
       "      <th>1</th>\n",
       "      <td>76561198207477984</td>\n",
       "      <td>730</td>\n",
       "      <td>Counter-Strike: Global Offensive</td>\n",
       "      <td>['FPS', 'Shooter', 'Multiplayer', 'Competitive', 'Action', 'Team-Based', 'eSports', 'Tactical', ...</td>\n",
       "      <td>Probably the game you will fall in love with. I did.</td>\n",
       "      <td>True</td>\n",
       "      <td>True</td>\n",
       "    </tr>\n",
       "    <tr>\n",
       "      <th>2</th>\n",
       "      <td>76561198157507512</td>\n",
       "      <td>730</td>\n",
       "      <td>Counter-Strike: Global Offensive</td>\n",
       "      <td>['FPS', 'Shooter', 'Multiplayer', 'Competitive', 'Action', 'Team-Based', 'eSports', 'Tactical', ...</td>\n",
       "      <td>This game has everything you could think of. \\nAnywhere from chaotic drama to serene romance.\\nT...</td>\n",
       "      <td>True</td>\n",
       "      <td>True</td>\n",
       "    </tr>\n",
       "  </tbody>\n",
       "</table>\n",
       "</div>"
      ],
      "text/plain": [
       "             steamid  appid                         app_title  \\\n",
       "0  76561198322990549    620                          Portal 2   \n",
       "1  76561198207477984    730  Counter-Strike: Global Offensive   \n",
       "2  76561198157507512    730  Counter-Strike: Global Offensive   \n",
       "\n",
       "                                                                                              app_tags  \\\n",
       "0  ['Platformer', 'Dark Humor', 'Puzzle', 'Puzzle Platformer', 'First-Person', 'Story Rich', 'Femal...   \n",
       "1  ['FPS', 'Shooter', 'Multiplayer', 'Competitive', 'Action', 'Team-Based', 'eSports', 'Tactical', ...   \n",
       "2  ['FPS', 'Shooter', 'Multiplayer', 'Competitive', 'Action', 'Team-Based', 'eSports', 'Tactical', ...   \n",
       "\n",
       "                                                                                                review  \\\n",
       "0                                                                whatley become breadly???? hwat??????   \n",
       "1                                                 Probably the game you will fall in love with. I did.   \n",
       "2  This game has everything you could think of. \\nAnywhere from chaotic drama to serene romance.\\nT...   \n",
       "\n",
       "    fps  voted_up  \n",
       "0  True      True  \n",
       "1  True      True  \n",
       "2  True      True  "
      ]
     },
     "execution_count": 2,
     "metadata": {},
     "output_type": "execute_result"
    }
   ],
   "source": [
    "# found a major class imbalance after doing work in merge_and_chop, so I'm going to fix that here\n",
    "# also going to create a csv of roughly 20k instead of doing the train, test, and calidate csv files due to vocabulary problems\n",
    "\n",
    "#this df is made from merge_and_chop using the dataset files at https://www.kaggle.com/forgemaster/steam-reviews-dataset?select=reviews-1-115.csv\n",
    "#none of these files are stored in github\n",
    "df = pd.read_csv(\"../../../../trimmed/combined_split_reviews.csv\")\n",
    "df.head(3)"
   ]
  },
  {
   "cell_type": "code",
   "execution_count": 3,
   "id": "9e5f7e2b-f8ca-4a42-890f-d4a0f4d66bb0",
   "metadata": {},
   "outputs": [
    {
     "name": "stdout",
     "output_type": "stream",
     "text": [
      "<class 'pandas.core.frame.DataFrame'>\n",
      "RangeIndex: 3018279 entries, 0 to 3018278\n",
      "Data columns (total 7 columns):\n",
      " #   Column     Dtype \n",
      "---  ------     ----- \n",
      " 0   steamid    int64 \n",
      " 1   appid      int64 \n",
      " 2   app_title  object\n",
      " 3   app_tags   object\n",
      " 4   review     object\n",
      " 5   fps        bool  \n",
      " 6   voted_up   bool  \n",
      "dtypes: bool(2), int64(2), object(3)\n",
      "memory usage: 120.9+ MB\n"
     ]
    }
   ],
   "source": [
    "df.info()"
   ]
  },
  {
   "cell_type": "code",
   "execution_count": 4,
   "id": "a8daa7fa-772a-4f37-a521-5253d332089c",
   "metadata": {},
   "outputs": [
    {
     "data": {
      "text/plain": [
       "True     2728583\n",
       "False     289696\n",
       "Name: voted_up, dtype: int64"
      ]
     },
     "execution_count": 4,
     "metadata": {},
     "output_type": "execute_result"
    }
   ],
   "source": [
    "df[\"voted_up\"].value_counts()"
   ]
  },
  {
   "cell_type": "code",
   "execution_count": 5,
   "id": "25e4e7a6-b372-4626-8f15-77c7a4c65853",
   "metadata": {},
   "outputs": [
    {
     "data": {
      "text/plain": [
       "True     0.904019\n",
       "False    0.095981\n",
       "Name: voted_up, dtype: float64"
      ]
     },
     "execution_count": 5,
     "metadata": {},
     "output_type": "execute_result"
    }
   ],
   "source": [
    "df[\"voted_up\"].value_counts(normalize=True)"
   ]
  },
  {
   "cell_type": "code",
   "execution_count": 6,
   "id": "3e60c1dd-937f-4339-8311-d2addac1e754",
   "metadata": {},
   "outputs": [],
   "source": [
    "# above is where our class imbalance in the train, test, and validate splits comes from\n",
    "# going to use the two below dataframes to take 10k random voted up and 10k random voted down\n",
    "df_up = df.loc[df['voted_up'] == 1]\n",
    "df_down = df.loc[df['voted_up'] == 0]"
   ]
  },
  {
   "cell_type": "code",
   "execution_count": 7,
   "id": "77336263-080e-42e8-b58c-ffaba6b92232",
   "metadata": {},
   "outputs": [
    {
     "name": "stdout",
     "output_type": "stream",
     "text": [
      "<class 'pandas.core.frame.DataFrame'>\n",
      "Int64Index: 2728583 entries, 0 to 3018278\n",
      "Data columns (total 7 columns):\n",
      " #   Column     Dtype \n",
      "---  ------     ----- \n",
      " 0   steamid    int64 \n",
      " 1   appid      int64 \n",
      " 2   app_title  object\n",
      " 3   app_tags   object\n",
      " 4   review     object\n",
      " 5   fps        bool  \n",
      " 6   voted_up   bool  \n",
      "dtypes: bool(2), int64(2), object(3)\n",
      "memory usage: 130.1+ MB\n"
     ]
    }
   ],
   "source": [
    "#getting 10k random voted up\n",
    "df_up.info()"
   ]
  },
  {
   "cell_type": "code",
   "execution_count": 8,
   "id": "cc93c6a7-8a35-4c0f-b4a0-3a8a271a14cd",
   "metadata": {},
   "outputs": [
    {
     "data": {
      "text/plain": [
       "(9551, 6)"
      ]
     },
     "metadata": {},
     "output_type": "display_data"
    },
    {
     "data": {
      "text/plain": [
       "(9551,)"
      ]
     },
     "metadata": {},
     "output_type": "display_data"
    }
   ],
   "source": [
    "X_up = df_up.drop(\"voted_up\", axis=1)\n",
    "y_up = df_up[\"voted_up\"]\n",
    "\n",
    "X_train, X_test, y_train, y_test = train_test_split(X_up, y_up, random_state=57, test_size=0.0035) #took some fiddling for test_size\n",
    "display(X_test.shape, y_test.shape)"
   ]
  },
  {
   "cell_type": "code",
   "execution_count": 9,
   "id": "03bf743e-acf4-4987-9bce-c1ce43d0c2b6",
   "metadata": {},
   "outputs": [
    {
     "name": "stdout",
     "output_type": "stream",
     "text": [
      "<class 'pandas.core.frame.DataFrame'>\n",
      "Int64Index: 9551 entries, 2904230 to 2399743\n",
      "Data columns (total 7 columns):\n",
      " #   Column     Non-Null Count  Dtype \n",
      "---  ------     --------------  ----- \n",
      " 0   steamid    9551 non-null   int64 \n",
      " 1   appid      9551 non-null   int64 \n",
      " 2   app_title  9551 non-null   object\n",
      " 3   app_tags   9551 non-null   object\n",
      " 4   review     9543 non-null   object\n",
      " 5   fps        9551 non-null   bool  \n",
      " 6   voted_up   9551 non-null   bool  \n",
      "dtypes: bool(2), int64(2), object(3)\n",
      "memory usage: 466.4+ KB\n"
     ]
    }
   ],
   "source": [
    "df_up_sample = pd.concat([X_test, y_test], axis=1)\n",
    "df_up_sample.info()"
   ]
  },
  {
   "cell_type": "code",
   "execution_count": 10,
   "id": "6e8bd5e5-882e-4db1-a8c2-923a75c7adee",
   "metadata": {},
   "outputs": [
    {
     "data": {
      "text/html": [
       "<div>\n",
       "<style scoped>\n",
       "    .dataframe tbody tr th:only-of-type {\n",
       "        vertical-align: middle;\n",
       "    }\n",
       "\n",
       "    .dataframe tbody tr th {\n",
       "        vertical-align: top;\n",
       "    }\n",
       "\n",
       "    .dataframe thead th {\n",
       "        text-align: right;\n",
       "    }\n",
       "</style>\n",
       "<table border=\"1\" class=\"dataframe\">\n",
       "  <thead>\n",
       "    <tr style=\"text-align: right;\">\n",
       "      <th></th>\n",
       "      <th>steamid</th>\n",
       "      <th>appid</th>\n",
       "      <th>app_title</th>\n",
       "      <th>app_tags</th>\n",
       "      <th>review</th>\n",
       "      <th>fps</th>\n",
       "      <th>voted_up</th>\n",
       "    </tr>\n",
       "  </thead>\n",
       "  <tbody>\n",
       "    <tr>\n",
       "      <th>2904230</th>\n",
       "      <td>76561198865552498</td>\n",
       "      <td>730</td>\n",
       "      <td>Counter-Strike: Global Offensive</td>\n",
       "      <td>['FPS', 'Shooter', 'Multiplayer', 'Competitive', 'Action', 'Team-Based', 'eSports', 'Tactical', ...</td>\n",
       "      <td>very good game</td>\n",
       "      <td>True</td>\n",
       "      <td>True</td>\n",
       "    </tr>\n",
       "    <tr>\n",
       "      <th>480087</th>\n",
       "      <td>76561197964533061</td>\n",
       "      <td>730</td>\n",
       "      <td>Counter-Strike: Global Offensive</td>\n",
       "      <td>['FPS', 'Shooter', 'Multiplayer', 'Competitive', 'Action', 'Team-Based', 'eSports', 'Tactical', ...</td>\n",
       "      <td>beause S</td>\n",
       "      <td>True</td>\n",
       "      <td>True</td>\n",
       "    </tr>\n",
       "    <tr>\n",
       "      <th>1483095</th>\n",
       "      <td>76561198290998839</td>\n",
       "      <td>730</td>\n",
       "      <td>Counter-Strike: Global Offensive</td>\n",
       "      <td>['FPS', 'Shooter', 'Multiplayer', 'Competitive', 'Action', 'Team-Based', 'eSports', 'Tactical', ...</td>\n",
       "      <td>Russians everywhere, do not recommend</td>\n",
       "      <td>True</td>\n",
       "      <td>True</td>\n",
       "    </tr>\n",
       "  </tbody>\n",
       "</table>\n",
       "</div>"
      ],
      "text/plain": [
       "                   steamid  appid                         app_title  \\\n",
       "2904230  76561198865552498    730  Counter-Strike: Global Offensive   \n",
       "480087   76561197964533061    730  Counter-Strike: Global Offensive   \n",
       "1483095  76561198290998839    730  Counter-Strike: Global Offensive   \n",
       "\n",
       "                                                                                                    app_tags  \\\n",
       "2904230  ['FPS', 'Shooter', 'Multiplayer', 'Competitive', 'Action', 'Team-Based', 'eSports', 'Tactical', ...   \n",
       "480087   ['FPS', 'Shooter', 'Multiplayer', 'Competitive', 'Action', 'Team-Based', 'eSports', 'Tactical', ...   \n",
       "1483095  ['FPS', 'Shooter', 'Multiplayer', 'Competitive', 'Action', 'Team-Based', 'eSports', 'Tactical', ...   \n",
       "\n",
       "                                        review   fps  voted_up  \n",
       "2904230                         very good game  True      True  \n",
       "480087                                beause S  True      True  \n",
       "1483095  Russians everywhere, do not recommend  True      True  "
      ]
     },
     "execution_count": 10,
     "metadata": {},
     "output_type": "execute_result"
    }
   ],
   "source": [
    "df_up_sample.head(3)"
   ]
  },
  {
   "cell_type": "code",
   "execution_count": 11,
   "id": "e5266382-d337-42ea-8b01-08dc00b8f9e2",
   "metadata": {},
   "outputs": [
    {
     "data": {
      "text/plain": [
       "(10140, 6)"
      ]
     },
     "metadata": {},
     "output_type": "display_data"
    },
    {
     "data": {
      "text/plain": [
       "(10140,)"
      ]
     },
     "metadata": {},
     "output_type": "display_data"
    }
   ],
   "source": [
    "#looking good for the up votes, now the downvotes\n",
    "\n",
    "X_down = df_down.drop(\"voted_up\", axis=1)\n",
    "y_down = df_down[\"voted_up\"]\n",
    "\n",
    "X_train, X_test, y_train, y_test = train_test_split(X_down, y_down, random_state=57, test_size=0.035) #took some fiddling for test_size\n",
    "display(X_test.shape, y_test.shape)"
   ]
  },
  {
   "cell_type": "code",
   "execution_count": 12,
   "id": "e4e546bd-cea6-42a8-bb5e-5701383e42b3",
   "metadata": {},
   "outputs": [
    {
     "name": "stdout",
     "output_type": "stream",
     "text": [
      "<class 'pandas.core.frame.DataFrame'>\n",
      "Int64Index: 10140 entries, 1001414 to 1958918\n",
      "Data columns (total 7 columns):\n",
      " #   Column     Non-Null Count  Dtype \n",
      "---  ------     --------------  ----- \n",
      " 0   steamid    10140 non-null  int64 \n",
      " 1   appid      10140 non-null  int64 \n",
      " 2   app_title  10140 non-null  object\n",
      " 3   app_tags   10140 non-null  object\n",
      " 4   review     10137 non-null  object\n",
      " 5   fps        10140 non-null  bool  \n",
      " 6   voted_up   10140 non-null  bool  \n",
      "dtypes: bool(2), int64(2), object(3)\n",
      "memory usage: 495.1+ KB\n"
     ]
    }
   ],
   "source": [
    "df_down_sample = pd.concat([X_test, y_test], axis=1)\n",
    "df_down_sample.info()"
   ]
  },
  {
   "cell_type": "code",
   "execution_count": 13,
   "id": "ceb7cc2d-350d-408d-b9d8-602c3f462905",
   "metadata": {},
   "outputs": [
    {
     "data": {
      "text/html": [
       "<div>\n",
       "<style scoped>\n",
       "    .dataframe tbody tr th:only-of-type {\n",
       "        vertical-align: middle;\n",
       "    }\n",
       "\n",
       "    .dataframe tbody tr th {\n",
       "        vertical-align: top;\n",
       "    }\n",
       "\n",
       "    .dataframe thead th {\n",
       "        text-align: right;\n",
       "    }\n",
       "</style>\n",
       "<table border=\"1\" class=\"dataframe\">\n",
       "  <thead>\n",
       "    <tr style=\"text-align: right;\">\n",
       "      <th></th>\n",
       "      <th>steamid</th>\n",
       "      <th>appid</th>\n",
       "      <th>app_title</th>\n",
       "      <th>app_tags</th>\n",
       "      <th>review</th>\n",
       "      <th>fps</th>\n",
       "      <th>voted_up</th>\n",
       "    </tr>\n",
       "  </thead>\n",
       "  <tbody>\n",
       "    <tr>\n",
       "      <th>1001414</th>\n",
       "      <td>76561198106930848</td>\n",
       "      <td>730</td>\n",
       "      <td>Counter-Strike: Global Offensive</td>\n",
       "      <td>['FPS', 'Shooter', 'Multiplayer', 'Competitive', 'Action', 'Team-Based', 'eSports', 'Tactical', ...</td>\n",
       "      <td>Nai-tupata igra na celiq svqt nqmam zaguba padam edna igra i mi pada ranka delete cs go!!!!!!!!!...</td>\n",
       "      <td>True</td>\n",
       "      <td>False</td>\n",
       "    </tr>\n",
       "    <tr>\n",
       "      <th>462268</th>\n",
       "      <td>76561198037219933</td>\n",
       "      <td>730</td>\n",
       "      <td>Counter-Strike: Global Offensive</td>\n",
       "      <td>['FPS', 'Shooter', 'Multiplayer', 'Competitive', 'Action', 'Team-Based', 'eSports', 'Tactical', ...</td>\n",
       "      <td>I was new to this game, started to get better. Had a good round one time with a good friend of m...</td>\n",
       "      <td>True</td>\n",
       "      <td>False</td>\n",
       "    </tr>\n",
       "    <tr>\n",
       "      <th>1738746</th>\n",
       "      <td>76561198209141628</td>\n",
       "      <td>730</td>\n",
       "      <td>Counter-Strike: Global Offensive</td>\n",
       "      <td>['FPS', 'Shooter', 'Multiplayer', 'Competitive', 'Action', 'Team-Based', 'eSports', 'Tactical', ...</td>\n",
       "      <td>Nice job you made csgo horrible</td>\n",
       "      <td>True</td>\n",
       "      <td>False</td>\n",
       "    </tr>\n",
       "  </tbody>\n",
       "</table>\n",
       "</div>"
      ],
      "text/plain": [
       "                   steamid  appid                         app_title  \\\n",
       "1001414  76561198106930848    730  Counter-Strike: Global Offensive   \n",
       "462268   76561198037219933    730  Counter-Strike: Global Offensive   \n",
       "1738746  76561198209141628    730  Counter-Strike: Global Offensive   \n",
       "\n",
       "                                                                                                    app_tags  \\\n",
       "1001414  ['FPS', 'Shooter', 'Multiplayer', 'Competitive', 'Action', 'Team-Based', 'eSports', 'Tactical', ...   \n",
       "462268   ['FPS', 'Shooter', 'Multiplayer', 'Competitive', 'Action', 'Team-Based', 'eSports', 'Tactical', ...   \n",
       "1738746  ['FPS', 'Shooter', 'Multiplayer', 'Competitive', 'Action', 'Team-Based', 'eSports', 'Tactical', ...   \n",
       "\n",
       "                                                                                                      review  \\\n",
       "1001414  Nai-tupata igra na celiq svqt nqmam zaguba padam edna igra i mi pada ranka delete cs go!!!!!!!!!...   \n",
       "462268   I was new to this game, started to get better. Had a good round one time with a good friend of m...   \n",
       "1738746                                                                      Nice job you made csgo horrible   \n",
       "\n",
       "          fps  voted_up  \n",
       "1001414  True     False  \n",
       "462268   True     False  \n",
       "1738746  True     False  "
      ]
     },
     "execution_count": 13,
     "metadata": {},
     "output_type": "execute_result"
    }
   ],
   "source": [
    "df_down_sample.head(3)"
   ]
  },
  {
   "cell_type": "code",
   "execution_count": 14,
   "id": "c0a2fef5-439c-4b1a-810a-4a16c5a9197a",
   "metadata": {},
   "outputs": [
    {
     "name": "stdout",
     "output_type": "stream",
     "text": [
      "<class 'pandas.core.frame.DataFrame'>\n",
      "RangeIndex: 19691 entries, 0 to 19690\n",
      "Data columns (total 7 columns):\n",
      " #   Column     Non-Null Count  Dtype \n",
      "---  ------     --------------  ----- \n",
      " 0   steamid    19691 non-null  int64 \n",
      " 1   appid      19691 non-null  int64 \n",
      " 2   app_title  19691 non-null  object\n",
      " 3   app_tags   19691 non-null  object\n",
      " 4   review     19680 non-null  object\n",
      " 5   fps        19691 non-null  bool  \n",
      " 6   voted_up   19691 non-null  bool  \n",
      "dtypes: bool(2), int64(2), object(3)\n",
      "memory usage: 807.8+ KB\n"
     ]
    }
   ],
   "source": [
    "#now to combine these two and then change voted_up to an int\n",
    "\n",
    "final_df = pd.concat([df_up_sample, df_down_sample])\n",
    "final_df.reset_index(drop=True, inplace=True)\n",
    "final_df.info()"
   ]
  },
  {
   "cell_type": "code",
   "execution_count": 15,
   "id": "ab8686a4-0452-47a7-bf75-76e74d61acec",
   "metadata": {},
   "outputs": [
    {
     "data": {
      "text/html": [
       "<div>\n",
       "<style scoped>\n",
       "    .dataframe tbody tr th:only-of-type {\n",
       "        vertical-align: middle;\n",
       "    }\n",
       "\n",
       "    .dataframe tbody tr th {\n",
       "        vertical-align: top;\n",
       "    }\n",
       "\n",
       "    .dataframe thead th {\n",
       "        text-align: right;\n",
       "    }\n",
       "</style>\n",
       "<table border=\"1\" class=\"dataframe\">\n",
       "  <thead>\n",
       "    <tr style=\"text-align: right;\">\n",
       "      <th></th>\n",
       "      <th>steamid</th>\n",
       "      <th>appid</th>\n",
       "      <th>app_title</th>\n",
       "      <th>app_tags</th>\n",
       "      <th>review</th>\n",
       "      <th>fps</th>\n",
       "      <th>voted_up</th>\n",
       "    </tr>\n",
       "  </thead>\n",
       "  <tbody>\n",
       "    <tr>\n",
       "      <th>0</th>\n",
       "      <td>76561198865552498</td>\n",
       "      <td>730</td>\n",
       "      <td>Counter-Strike: Global Offensive</td>\n",
       "      <td>['FPS', 'Shooter', 'Multiplayer', 'Competitive', 'Action', 'Team-Based', 'eSports', 'Tactical', ...</td>\n",
       "      <td>very good game</td>\n",
       "      <td>True</td>\n",
       "      <td>True</td>\n",
       "    </tr>\n",
       "    <tr>\n",
       "      <th>1</th>\n",
       "      <td>76561197964533061</td>\n",
       "      <td>730</td>\n",
       "      <td>Counter-Strike: Global Offensive</td>\n",
       "      <td>['FPS', 'Shooter', 'Multiplayer', 'Competitive', 'Action', 'Team-Based', 'eSports', 'Tactical', ...</td>\n",
       "      <td>beause S</td>\n",
       "      <td>True</td>\n",
       "      <td>True</td>\n",
       "    </tr>\n",
       "    <tr>\n",
       "      <th>2</th>\n",
       "      <td>76561198290998839</td>\n",
       "      <td>730</td>\n",
       "      <td>Counter-Strike: Global Offensive</td>\n",
       "      <td>['FPS', 'Shooter', 'Multiplayer', 'Competitive', 'Action', 'Team-Based', 'eSports', 'Tactical', ...</td>\n",
       "      <td>Russians everywhere, do not recommend</td>\n",
       "      <td>True</td>\n",
       "      <td>True</td>\n",
       "    </tr>\n",
       "  </tbody>\n",
       "</table>\n",
       "</div>"
      ],
      "text/plain": [
       "             steamid  appid                         app_title  \\\n",
       "0  76561198865552498    730  Counter-Strike: Global Offensive   \n",
       "1  76561197964533061    730  Counter-Strike: Global Offensive   \n",
       "2  76561198290998839    730  Counter-Strike: Global Offensive   \n",
       "\n",
       "                                                                                              app_tags  \\\n",
       "0  ['FPS', 'Shooter', 'Multiplayer', 'Competitive', 'Action', 'Team-Based', 'eSports', 'Tactical', ...   \n",
       "1  ['FPS', 'Shooter', 'Multiplayer', 'Competitive', 'Action', 'Team-Based', 'eSports', 'Tactical', ...   \n",
       "2  ['FPS', 'Shooter', 'Multiplayer', 'Competitive', 'Action', 'Team-Based', 'eSports', 'Tactical', ...   \n",
       "\n",
       "                                  review   fps  voted_up  \n",
       "0                         very good game  True      True  \n",
       "1                               beause S  True      True  \n",
       "2  Russians everywhere, do not recommend  True      True  "
      ]
     },
     "execution_count": 15,
     "metadata": {},
     "output_type": "execute_result"
    }
   ],
   "source": [
    "final_df.head(3)"
   ]
  },
  {
   "cell_type": "code",
   "execution_count": 16,
   "id": "41b65275-8cd5-473c-be4e-abcb286ae10b",
   "metadata": {},
   "outputs": [
    {
     "data": {
      "text/html": [
       "<div>\n",
       "<style scoped>\n",
       "    .dataframe tbody tr th:only-of-type {\n",
       "        vertical-align: middle;\n",
       "    }\n",
       "\n",
       "    .dataframe tbody tr th {\n",
       "        vertical-align: top;\n",
       "    }\n",
       "\n",
       "    .dataframe thead th {\n",
       "        text-align: right;\n",
       "    }\n",
       "</style>\n",
       "<table border=\"1\" class=\"dataframe\">\n",
       "  <thead>\n",
       "    <tr style=\"text-align: right;\">\n",
       "      <th></th>\n",
       "      <th>steamid</th>\n",
       "      <th>appid</th>\n",
       "      <th>app_title</th>\n",
       "      <th>app_tags</th>\n",
       "      <th>review</th>\n",
       "      <th>fps</th>\n",
       "      <th>voted_up</th>\n",
       "    </tr>\n",
       "  </thead>\n",
       "  <tbody>\n",
       "    <tr>\n",
       "      <th>0</th>\n",
       "      <td>76561198865552498</td>\n",
       "      <td>730</td>\n",
       "      <td>Counter-Strike: Global Offensive</td>\n",
       "      <td>['FPS', 'Shooter', 'Multiplayer', 'Competitive', 'Action', 'Team-Based', 'eSports', 'Tactical', ...</td>\n",
       "      <td>very good game</td>\n",
       "      <td>True</td>\n",
       "      <td>1</td>\n",
       "    </tr>\n",
       "    <tr>\n",
       "      <th>1</th>\n",
       "      <td>76561197964533061</td>\n",
       "      <td>730</td>\n",
       "      <td>Counter-Strike: Global Offensive</td>\n",
       "      <td>['FPS', 'Shooter', 'Multiplayer', 'Competitive', 'Action', 'Team-Based', 'eSports', 'Tactical', ...</td>\n",
       "      <td>beause S</td>\n",
       "      <td>True</td>\n",
       "      <td>1</td>\n",
       "    </tr>\n",
       "    <tr>\n",
       "      <th>2</th>\n",
       "      <td>76561198290998839</td>\n",
       "      <td>730</td>\n",
       "      <td>Counter-Strike: Global Offensive</td>\n",
       "      <td>['FPS', 'Shooter', 'Multiplayer', 'Competitive', 'Action', 'Team-Based', 'eSports', 'Tactical', ...</td>\n",
       "      <td>Russians everywhere, do not recommend</td>\n",
       "      <td>True</td>\n",
       "      <td>1</td>\n",
       "    </tr>\n",
       "  </tbody>\n",
       "</table>\n",
       "</div>"
      ],
      "text/plain": [
       "             steamid  appid                         app_title  \\\n",
       "0  76561198865552498    730  Counter-Strike: Global Offensive   \n",
       "1  76561197964533061    730  Counter-Strike: Global Offensive   \n",
       "2  76561198290998839    730  Counter-Strike: Global Offensive   \n",
       "\n",
       "                                                                                              app_tags  \\\n",
       "0  ['FPS', 'Shooter', 'Multiplayer', 'Competitive', 'Action', 'Team-Based', 'eSports', 'Tactical', ...   \n",
       "1  ['FPS', 'Shooter', 'Multiplayer', 'Competitive', 'Action', 'Team-Based', 'eSports', 'Tactical', ...   \n",
       "2  ['FPS', 'Shooter', 'Multiplayer', 'Competitive', 'Action', 'Team-Based', 'eSports', 'Tactical', ...   \n",
       "\n",
       "                                  review   fps  voted_up  \n",
       "0                         very good game  True         1  \n",
       "1                               beause S  True         1  \n",
       "2  Russians everywhere, do not recommend  True         1  "
      ]
     },
     "execution_count": 16,
     "metadata": {},
     "output_type": "execute_result"
    }
   ],
   "source": [
    "final_df[\"voted_up\"] = final_df[\"voted_up\"].astype(int)\n",
    "final_df.head(3)"
   ]
  },
  {
   "cell_type": "code",
   "execution_count": 17,
   "id": "9ffd70d8-3a36-4802-82a6-a392940cbd9e",
   "metadata": {},
   "outputs": [
    {
     "data": {
      "text/plain": [
       "0    0.514956\n",
       "1    0.485044\n",
       "Name: voted_up, dtype: float64"
      ]
     },
     "execution_count": 17,
     "metadata": {},
     "output_type": "execute_result"
    }
   ],
   "source": [
    "final_df[\"voted_up\"].value_counts(normalize=True)"
   ]
  },
  {
   "cell_type": "code",
   "execution_count": 18,
   "id": "c1433f60-8e51-4f24-9a1e-521af1d65399",
   "metadata": {},
   "outputs": [
    {
     "name": "stdout",
     "output_type": "stream",
     "text": [
      "<class 'pandas.core.frame.DataFrame'>\n",
      "RangeIndex: 19691 entries, 0 to 19690\n",
      "Data columns (total 7 columns):\n",
      " #   Column     Non-Null Count  Dtype \n",
      "---  ------     --------------  ----- \n",
      " 0   steamid    19691 non-null  int64 \n",
      " 1   appid      19691 non-null  int64 \n",
      " 2   app_title  19691 non-null  object\n",
      " 3   app_tags   19691 non-null  object\n",
      " 4   review     19680 non-null  object\n",
      " 5   fps        19691 non-null  bool  \n",
      " 6   voted_up   19691 non-null  int32 \n",
      "dtypes: bool(1), int32(1), int64(2), object(3)\n",
      "memory usage: 865.5+ KB\n"
     ]
    }
   ],
   "source": [
    "final_df.info()"
   ]
  },
  {
   "cell_type": "code",
   "execution_count": 20,
   "id": "717f5dc9-a9a3-40df-8014-8b3f7be741dc",
   "metadata": {},
   "outputs": [],
   "source": [
    "final_df = final_df.dropna()"
   ]
  },
  {
   "cell_type": "code",
   "execution_count": 21,
   "id": "9011aba1-6124-4a79-b6dd-3c155fe66a17",
   "metadata": {},
   "outputs": [],
   "source": [
    "final_df.to_csv(\"../../../data/fps_main.csv\", index=False)"
   ]
  },
  {
   "cell_type": "code",
   "execution_count": null,
   "id": "489e0dbc-9963-4318-a01e-4cfc2690a8ff",
   "metadata": {},
   "outputs": [],
   "source": []
  }
 ],
 "metadata": {
  "kernelspec": {
   "display_name": "learn-env",
   "language": "python",
   "name": "learn-env"
  },
  "language_info": {
   "codemirror_mode": {
    "name": "ipython",
    "version": 3
   },
   "file_extension": ".py",
   "mimetype": "text/x-python",
   "name": "python",
   "nbconvert_exporter": "python",
   "pygments_lexer": "ipython3",
   "version": "3.8.5"
  }
 },
 "nbformat": 4,
 "nbformat_minor": 5
}

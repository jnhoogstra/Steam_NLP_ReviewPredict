{
 "cells": [
  {
   "cell_type": "code",
   "execution_count": 1,
   "id": "99b833ff",
   "metadata": {},
   "outputs": [
    {
     "name": "stderr",
     "output_type": "stream",
     "text": [
      "[nltk_data] Downloading package stopwords to\n",
      "[nltk_data]     C:\\Users\\ultim\\AppData\\Roaming\\nltk_data...\n",
      "[nltk_data]   Package stopwords is already up-to-date!\n",
      "[nltk_data] Downloading package wordnet to\n",
      "[nltk_data]     C:\\Users\\ultim\\AppData\\Roaming\\nltk_data...\n",
      "[nltk_data]   Package wordnet is already up-to-date!\n"
     ]
    }
   ],
   "source": [
    "import numpy as np \n",
    "import pandas as pd \n",
    "pd.set_option('display.max_colwidth', 100)\n",
    "\n",
    "from matplotlib import pyplot as plt\n",
    "%matplotlib inline\n",
    "plt.style.use('fivethirtyeight')\n",
    "\n",
    "import re\n",
    "import string\n",
    "import nltk\n",
    "import xgboost\n",
    "\n",
    "from sklearn.feature_extraction.text import CountVectorizer\n",
    "from sklearn.feature_extraction.text import TfidfVectorizer\n",
    "\n",
    "from xgboost import XGBClassifier\n",
    "from sklearn.ensemble import RandomForestClassifier\n",
    "from sklearn.naive_bayes import MultinomialNB\n",
    "from sklearn.model_selection import KFold, cross_val_score\n",
    "from sklearn.model_selection import train_test_split, GridSearchCV\n",
    "\n",
    "import sys\n",
    "if not 'Notebooks/Individual/Jake' in sys.path:\n",
    "    sys.path.append('Notebooks/Individual/jake')\n",
    "from functions import ScoreModel, CleanText\n",
    "\n",
    "import IPython\n",
    "sound_file = '../../../data/sounds/puzzle_solved_jingle.wav'\n",
    "\n",
    "from sklearn.pipeline import Pipeline, make_pipeline\n",
    "from sklearn.svm import SVC\n",
    "from sklearn.compose import ColumnTransformer\n",
    "from sklearn.metrics import accuracy_score, recall_score, precision_score, f1_score, roc_auc_score, plot_confusion_matrix\n",
    "\n",
    "from textblob import TextBlob, Word\n",
    "from wordcloud import WordCloud"
   ]
  },
  {
   "cell_type": "code",
   "execution_count": 2,
   "id": "e2a5a7f5",
   "metadata": {},
   "outputs": [
    {
     "data": {
      "text/html": [
       "<div>\n",
       "<style scoped>\n",
       "    .dataframe tbody tr th:only-of-type {\n",
       "        vertical-align: middle;\n",
       "    }\n",
       "\n",
       "    .dataframe tbody tr th {\n",
       "        vertical-align: top;\n",
       "    }\n",
       "\n",
       "    .dataframe thead th {\n",
       "        text-align: right;\n",
       "    }\n",
       "</style>\n",
       "<table border=\"1\" class=\"dataframe\">\n",
       "  <thead>\n",
       "    <tr style=\"text-align: right;\">\n",
       "      <th></th>\n",
       "      <th>steamid</th>\n",
       "      <th>appid</th>\n",
       "      <th>app_title</th>\n",
       "      <th>app_tags</th>\n",
       "      <th>review</th>\n",
       "      <th>fps</th>\n",
       "      <th>voted_up</th>\n",
       "    </tr>\n",
       "  </thead>\n",
       "  <tbody>\n",
       "    <tr>\n",
       "      <th>0</th>\n",
       "      <td>76561198865552498</td>\n",
       "      <td>730</td>\n",
       "      <td>Counter-Strike: Global Offensive</td>\n",
       "      <td>['FPS', 'Shooter', 'Multiplayer', 'Competitive', 'Action', 'Team-Based', 'eSports', 'Tactical', ...</td>\n",
       "      <td>very good game</td>\n",
       "      <td>True</td>\n",
       "      <td>1</td>\n",
       "    </tr>\n",
       "    <tr>\n",
       "      <th>1</th>\n",
       "      <td>76561197964533061</td>\n",
       "      <td>730</td>\n",
       "      <td>Counter-Strike: Global Offensive</td>\n",
       "      <td>['FPS', 'Shooter', 'Multiplayer', 'Competitive', 'Action', 'Team-Based', 'eSports', 'Tactical', ...</td>\n",
       "      <td>beause S</td>\n",
       "      <td>True</td>\n",
       "      <td>1</td>\n",
       "    </tr>\n",
       "    <tr>\n",
       "      <th>2</th>\n",
       "      <td>76561198290998839</td>\n",
       "      <td>730</td>\n",
       "      <td>Counter-Strike: Global Offensive</td>\n",
       "      <td>['FPS', 'Shooter', 'Multiplayer', 'Competitive', 'Action', 'Team-Based', 'eSports', 'Tactical', ...</td>\n",
       "      <td>Russians everywhere, do not recommend</td>\n",
       "      <td>True</td>\n",
       "      <td>1</td>\n",
       "    </tr>\n",
       "  </tbody>\n",
       "</table>\n",
       "</div>"
      ],
      "text/plain": [
       "             steamid  appid                         app_title  \\\n",
       "0  76561198865552498    730  Counter-Strike: Global Offensive   \n",
       "1  76561197964533061    730  Counter-Strike: Global Offensive   \n",
       "2  76561198290998839    730  Counter-Strike: Global Offensive   \n",
       "\n",
       "                                                                                              app_tags  \\\n",
       "0  ['FPS', 'Shooter', 'Multiplayer', 'Competitive', 'Action', 'Team-Based', 'eSports', 'Tactical', ...   \n",
       "1  ['FPS', 'Shooter', 'Multiplayer', 'Competitive', 'Action', 'Team-Based', 'eSports', 'Tactical', ...   \n",
       "2  ['FPS', 'Shooter', 'Multiplayer', 'Competitive', 'Action', 'Team-Based', 'eSports', 'Tactical', ...   \n",
       "\n",
       "                                  review   fps  voted_up  \n",
       "0                         very good game  True         1  \n",
       "1                               beause S  True         1  \n",
       "2  Russians everywhere, do not recommend  True         1  "
      ]
     },
     "execution_count": 2,
     "metadata": {},
     "output_type": "execute_result"
    }
   ],
   "source": [
    "df = pd.read_csv(\"../../../data/fps_main.csv\")\n",
    "df.head(3)"
   ]
  },
  {
   "cell_type": "code",
   "execution_count": 3,
   "id": "871d8841-6d6a-4d49-979d-712d670eb722",
   "metadata": {},
   "outputs": [
    {
     "data": {
      "text/plain": [
       "0    0.515091\n",
       "1    0.484909\n",
       "Name: voted_up, dtype: float64"
      ]
     },
     "execution_count": 3,
     "metadata": {},
     "output_type": "execute_result"
    }
   ],
   "source": [
    "df[\"voted_up\"].value_counts(normalize=True)"
   ]
  },
  {
   "cell_type": "code",
   "execution_count": 4,
   "id": "4a18f67c-7643-44b9-9e64-6b63d03b5555",
   "metadata": {},
   "outputs": [
    {
     "name": "stdout",
     "output_type": "stream",
     "text": [
      "<class 'pandas.core.frame.DataFrame'>\n",
      "RangeIndex: 19680 entries, 0 to 19679\n",
      "Data columns (total 7 columns):\n",
      " #   Column     Non-Null Count  Dtype \n",
      "---  ------     --------------  ----- \n",
      " 0   steamid    19680 non-null  int64 \n",
      " 1   appid      19680 non-null  int64 \n",
      " 2   app_title  19680 non-null  object\n",
      " 3   app_tags   19680 non-null  object\n",
      " 4   review     19680 non-null  object\n",
      " 5   fps        19680 non-null  bool  \n",
      " 6   voted_up   19680 non-null  int64 \n",
      "dtypes: bool(1), int64(3), object(3)\n",
      "memory usage: 941.8+ KB\n"
     ]
    }
   ],
   "source": [
    "df.info()"
   ]
  },
  {
   "cell_type": "code",
   "execution_count": 5,
   "id": "41c4941f-64e6-4b0a-af06-217c1f6cccef",
   "metadata": {},
   "outputs": [
    {
     "data": {
      "text/html": [
       "<div>\n",
       "<style scoped>\n",
       "    .dataframe tbody tr th:only-of-type {\n",
       "        vertical-align: middle;\n",
       "    }\n",
       "\n",
       "    .dataframe tbody tr th {\n",
       "        vertical-align: top;\n",
       "    }\n",
       "\n",
       "    .dataframe thead th {\n",
       "        text-align: right;\n",
       "    }\n",
       "</style>\n",
       "<table border=\"1\" class=\"dataframe\">\n",
       "  <thead>\n",
       "    <tr style=\"text-align: right;\">\n",
       "      <th></th>\n",
       "      <th>steamid</th>\n",
       "      <th>appid</th>\n",
       "      <th>app_title</th>\n",
       "      <th>app_tags</th>\n",
       "      <th>review</th>\n",
       "      <th>fps</th>\n",
       "      <th>voted_up</th>\n",
       "      <th>clean_review</th>\n",
       "    </tr>\n",
       "  </thead>\n",
       "  <tbody>\n",
       "    <tr>\n",
       "      <th>0</th>\n",
       "      <td>76561198865552498</td>\n",
       "      <td>730</td>\n",
       "      <td>Counter-Strike: Global Offensive</td>\n",
       "      <td>['FPS', 'Shooter', 'Multiplayer', 'Competitive', 'Action', 'Team-Based', 'eSports', 'Tactical', ...</td>\n",
       "      <td>very good game</td>\n",
       "      <td>True</td>\n",
       "      <td>1</td>\n",
       "      <td>[good, game]</td>\n",
       "    </tr>\n",
       "    <tr>\n",
       "      <th>1</th>\n",
       "      <td>76561197964533061</td>\n",
       "      <td>730</td>\n",
       "      <td>Counter-Strike: Global Offensive</td>\n",
       "      <td>['FPS', 'Shooter', 'Multiplayer', 'Competitive', 'Action', 'Team-Based', 'eSports', 'Tactical', ...</td>\n",
       "      <td>beause S</td>\n",
       "      <td>True</td>\n",
       "      <td>1</td>\n",
       "      <td>[, beause]</td>\n",
       "    </tr>\n",
       "    <tr>\n",
       "      <th>2</th>\n",
       "      <td>76561198290998839</td>\n",
       "      <td>730</td>\n",
       "      <td>Counter-Strike: Global Offensive</td>\n",
       "      <td>['FPS', 'Shooter', 'Multiplayer', 'Competitive', 'Action', 'Team-Based', 'eSports', 'Tactical', ...</td>\n",
       "      <td>Russians everywhere, do not recommend</td>\n",
       "      <td>True</td>\n",
       "      <td>1</td>\n",
       "      <td>[russian, everywhere, recommend]</td>\n",
       "    </tr>\n",
       "    <tr>\n",
       "      <th>3</th>\n",
       "      <td>76561198073021168</td>\n",
       "      <td>60</td>\n",
       "      <td>Ricochet</td>\n",
       "      <td>['Action', 'FPS', 'Multiplayer', 'Classic', 'First-Person', 'Sci-fi', 'Shooter', 'Space', 'Cyber...</td>\n",
       "      <td>best game, best game, 10/10 i r8 8/8</td>\n",
       "      <td>True</td>\n",
       "      <td>1</td>\n",
       "      <td>[best, game, best, game, 1010, r8, 88]</td>\n",
       "    </tr>\n",
       "    <tr>\n",
       "      <th>4</th>\n",
       "      <td>76561198061142423</td>\n",
       "      <td>550</td>\n",
       "      <td>Left 4 Dead 2</td>\n",
       "      <td>['Zombies', 'Co-op', 'FPS', 'Multiplayer', 'Shooter', 'Action', 'Online Co-Op', 'Survival', 'Hor...</td>\n",
       "      <td>køb hvis du kan lide zombie spil ;D</td>\n",
       "      <td>True</td>\n",
       "      <td>1</td>\n",
       "      <td>[køb, hvis, du, kan, lide, zombie, spil]</td>\n",
       "    </tr>\n",
       "  </tbody>\n",
       "</table>\n",
       "</div>"
      ],
      "text/plain": [
       "             steamid  appid                         app_title  \\\n",
       "0  76561198865552498    730  Counter-Strike: Global Offensive   \n",
       "1  76561197964533061    730  Counter-Strike: Global Offensive   \n",
       "2  76561198290998839    730  Counter-Strike: Global Offensive   \n",
       "3  76561198073021168     60                          Ricochet   \n",
       "4  76561198061142423    550                     Left 4 Dead 2   \n",
       "\n",
       "                                                                                              app_tags  \\\n",
       "0  ['FPS', 'Shooter', 'Multiplayer', 'Competitive', 'Action', 'Team-Based', 'eSports', 'Tactical', ...   \n",
       "1  ['FPS', 'Shooter', 'Multiplayer', 'Competitive', 'Action', 'Team-Based', 'eSports', 'Tactical', ...   \n",
       "2  ['FPS', 'Shooter', 'Multiplayer', 'Competitive', 'Action', 'Team-Based', 'eSports', 'Tactical', ...   \n",
       "3  ['Action', 'FPS', 'Multiplayer', 'Classic', 'First-Person', 'Sci-fi', 'Shooter', 'Space', 'Cyber...   \n",
       "4  ['Zombies', 'Co-op', 'FPS', 'Multiplayer', 'Shooter', 'Action', 'Online Co-Op', 'Survival', 'Hor...   \n",
       "\n",
       "                                  review   fps  voted_up  \\\n",
       "0                         very good game  True         1   \n",
       "1                               beause S  True         1   \n",
       "2  Russians everywhere, do not recommend  True         1   \n",
       "3   best game, best game, 10/10 i r8 8/8  True         1   \n",
       "4    køb hvis du kan lide zombie spil ;D  True         1   \n",
       "\n",
       "                               clean_review  \n",
       "0                              [good, game]  \n",
       "1                                [, beause]  \n",
       "2          [russian, everywhere, recommend]  \n",
       "3    [best, game, best, game, 1010, r8, 88]  \n",
       "4  [køb, hvis, du, kan, lide, zombie, spil]  "
      ]
     },
     "execution_count": 5,
     "metadata": {},
     "output_type": "execute_result"
    }
   ],
   "source": [
    "df['clean_review'] = df['review'].apply(lambda x: CleanText(x.lower()))\n",
    "\n",
    "df.head()"
   ]
  },
  {
   "cell_type": "code",
   "execution_count": 6,
   "id": "e44774c8",
   "metadata": {},
   "outputs": [
    {
     "data": {
      "text/html": [
       "<div>\n",
       "<style scoped>\n",
       "    .dataframe tbody tr th:only-of-type {\n",
       "        vertical-align: middle;\n",
       "    }\n",
       "\n",
       "    .dataframe tbody tr th {\n",
       "        vertical-align: top;\n",
       "    }\n",
       "\n",
       "    .dataframe thead th {\n",
       "        text-align: right;\n",
       "    }\n",
       "</style>\n",
       "<table border=\"1\" class=\"dataframe\">\n",
       "  <thead>\n",
       "    <tr style=\"text-align: right;\">\n",
       "      <th></th>\n",
       "      <th></th>\n",
       "      <th>0</th>\n",
       "      <th>00</th>\n",
       "      <th>000</th>\n",
       "      <th>00000</th>\n",
       "      <th>00001</th>\n",
       "      <th>001</th>\n",
       "      <th>00110</th>\n",
       "      <th>001500</th>\n",
       "      <th>001604</th>\n",
       "      <th>...</th>\n",
       "      <th>𝓲𝓼</th>\n",
       "      <th>𝓸𝓯</th>\n",
       "      <th>𝓻𝓾𝓼𝓼𝓲𝓪𝓷𝓼</th>\n",
       "      <th>𝓽𝓸𝔁𝓲𝓬</th>\n",
       "      <th>𝘎𝘳𝘦𝘢𝘵</th>\n",
       "      <th>𝘣𝘺</th>\n",
       "      <th>𝘤𝘩𝘦𝘢𝘵𝘦𝘳𝘴</th>\n",
       "      <th>𝘨𝘢𝘮𝘦</th>\n",
       "      <th>𝘳𝘶𝘪𝘯𝘦𝘥</th>\n",
       "      <th>𝙴ѕєαAccσυηт</th>\n",
       "    </tr>\n",
       "  </thead>\n",
       "  <tbody>\n",
       "    <tr>\n",
       "      <th>0</th>\n",
       "      <td>0.000000</td>\n",
       "      <td>0.0</td>\n",
       "      <td>0.0</td>\n",
       "      <td>0.0</td>\n",
       "      <td>0.0</td>\n",
       "      <td>0.0</td>\n",
       "      <td>0.0</td>\n",
       "      <td>0.0</td>\n",
       "      <td>0.0</td>\n",
       "      <td>0.0</td>\n",
       "      <td>...</td>\n",
       "      <td>0.0</td>\n",
       "      <td>0.0</td>\n",
       "      <td>0.0</td>\n",
       "      <td>0.0</td>\n",
       "      <td>0.0</td>\n",
       "      <td>0.0</td>\n",
       "      <td>0.0</td>\n",
       "      <td>0.0</td>\n",
       "      <td>0.0</td>\n",
       "      <td>0.0</td>\n",
       "    </tr>\n",
       "    <tr>\n",
       "      <th>1</th>\n",
       "      <td>0.248761</td>\n",
       "      <td>0.0</td>\n",
       "      <td>0.0</td>\n",
       "      <td>0.0</td>\n",
       "      <td>0.0</td>\n",
       "      <td>0.0</td>\n",
       "      <td>0.0</td>\n",
       "      <td>0.0</td>\n",
       "      <td>0.0</td>\n",
       "      <td>0.0</td>\n",
       "      <td>...</td>\n",
       "      <td>0.0</td>\n",
       "      <td>0.0</td>\n",
       "      <td>0.0</td>\n",
       "      <td>0.0</td>\n",
       "      <td>0.0</td>\n",
       "      <td>0.0</td>\n",
       "      <td>0.0</td>\n",
       "      <td>0.0</td>\n",
       "      <td>0.0</td>\n",
       "      <td>0.0</td>\n",
       "    </tr>\n",
       "    <tr>\n",
       "      <th>2</th>\n",
       "      <td>0.000000</td>\n",
       "      <td>0.0</td>\n",
       "      <td>0.0</td>\n",
       "      <td>0.0</td>\n",
       "      <td>0.0</td>\n",
       "      <td>0.0</td>\n",
       "      <td>0.0</td>\n",
       "      <td>0.0</td>\n",
       "      <td>0.0</td>\n",
       "      <td>0.0</td>\n",
       "      <td>...</td>\n",
       "      <td>0.0</td>\n",
       "      <td>0.0</td>\n",
       "      <td>0.0</td>\n",
       "      <td>0.0</td>\n",
       "      <td>0.0</td>\n",
       "      <td>0.0</td>\n",
       "      <td>0.0</td>\n",
       "      <td>0.0</td>\n",
       "      <td>0.0</td>\n",
       "      <td>0.0</td>\n",
       "    </tr>\n",
       "  </tbody>\n",
       "</table>\n",
       "<p>3 rows × 28885 columns</p>\n",
       "</div>"
      ],
      "text/plain": [
       "               0   00  000  00000  00001  001  00110  001500  001604  ...  \\\n",
       "0  0.000000  0.0  0.0  0.0    0.0    0.0  0.0    0.0     0.0     0.0  ...   \n",
       "1  0.248761  0.0  0.0  0.0    0.0    0.0  0.0    0.0     0.0     0.0  ...   \n",
       "2  0.000000  0.0  0.0  0.0    0.0    0.0  0.0    0.0     0.0     0.0  ...   \n",
       "\n",
       "    𝓲𝓼   𝓸𝓯  𝓻𝓾𝓼𝓼𝓲𝓪𝓷𝓼  𝓽𝓸𝔁𝓲𝓬  𝘎𝘳𝘦𝘢𝘵   𝘣𝘺  𝘤𝘩𝘦𝘢𝘵𝘦𝘳𝘴  𝘨𝘢𝘮𝘦  𝘳𝘶𝘪𝘯𝘦𝘥  𝙴ѕєαAccσυηт  \n",
       "0  0.0  0.0       0.0    0.0    0.0  0.0       0.0   0.0     0.0          0.0  \n",
       "1  0.0  0.0       0.0    0.0    0.0  0.0       0.0   0.0     0.0          0.0  \n",
       "2  0.0  0.0       0.0    0.0    0.0  0.0       0.0   0.0     0.0          0.0  \n",
       "\n",
       "[3 rows x 28885 columns]"
      ]
     },
     "execution_count": 6,
     "metadata": {},
     "output_type": "execute_result"
    }
   ],
   "source": [
    "vector = TfidfVectorizer(analyzer=CleanText, ngram_range=(2, 2))\n",
    "X = vector.fit_transform(df[\"review\"])\n",
    "\n",
    "X_df = pd.DataFrame(X.toarray())\n",
    "X_df.columns = vector.get_feature_names()\n",
    "X_df.head(3)"
   ]
  },
  {
   "cell_type": "code",
   "execution_count": 7,
   "id": "0e6bddd6",
   "metadata": {},
   "outputs": [
    {
     "data": {
      "text/plain": [
       "RandomForestClassifier(random_state=57)"
      ]
     },
     "execution_count": 7,
     "metadata": {},
     "output_type": "execute_result"
    }
   ],
   "source": [
    "y = df[\"voted_up\"]\n",
    "\n",
    "X_train, X_test, y_train, y_test = train_test_split(X_df, y, random_state=57)\n",
    "\n",
    "first_half_model = RandomForestClassifier(n_estimators=100, random_state=57)\n",
    "first_half_model.fit(X_train, y_train)"
   ]
  },
  {
   "cell_type": "code",
   "execution_count": 8,
   "id": "11478878",
   "metadata": {},
   "outputs": [
    {
     "name": "stdout",
     "output_type": "stream",
     "text": [
      "Accuracy:   0.9787262872628726\n",
      "F1 Score:   0.9782879269810537\n",
      "Recall:     0.9857859531772575\n",
      "Precision:  0.9709031018391435\n",
      "ROC_AUC:    0.9789161833396837\n"
     ]
    }
   ],
   "source": [
    "ScoreModel(first_half_model, X_train, y_train)"
   ]
  },
  {
   "cell_type": "code",
   "execution_count": 9,
   "id": "f698d826",
   "metadata": {},
   "outputs": [
    {
     "name": "stdout",
     "output_type": "stream",
     "text": [
      "Accuracy:   0.8063008130081301\n",
      "F1 Score:   0.7877032746714191\n",
      "Recall:     0.7469370511195607\n",
      "Precision:  0.8331762488218661\n",
      "ROC_AUC:    0.8041383257947978\n"
     ]
    }
   ],
   "source": [
    "ScoreModel(first_half_model, X_test, y_test)"
   ]
  },
  {
   "cell_type": "code",
   "execution_count": 12,
   "id": "694da307",
   "metadata": {},
   "outputs": [
    {
     "name": "stdout",
     "output_type": "stream",
     "text": [
      "\n",
      "\n",
      "Words : \n",
      "          term         rank\n",
      "15128    game  1385.235976\n",
      "0               700.146971\n",
      "15569    good   677.309826\n",
      "4435        I   525.829665\n",
      "15012     fun   363.984484\n",
      "20653    play   349.164162\n",
      "22986    shit   280.036333\n",
      "15949  hacker   255.485229\n",
      "18037    like   248.389289\n",
      "15397     get   243.612005\n"
     ]
    }
   ],
   "source": [
    "sums = X.sum(axis = 0) \n",
    "data1 = [] \n",
    "for col, term in enumerate(X_df.columns): \n",
    "    data1.append( (term, sums[0, col] )) \n",
    "ranking = pd.DataFrame(data1, columns = ['term', 'rank']) \n",
    "words = (ranking.sort_values('rank', ascending = False)) \n",
    "print (\"\\n\\nWords : \\n\", words.head(10))"
   ]
  },
  {
   "cell_type": "code",
   "execution_count": null,
   "id": "eba36355",
   "metadata": {},
   "outputs": [],
   "source": [
    "boost_model = XGBClassifier(random_state=57, objective=\"reg:logistic\", use_label_encoder=False)\n",
    "\n",
    "param_grid = {\n",
    "    'learning_rate': [0.1, 0.2],\n",
    "    'max_depth': [2, 3, 4],\n",
    "    'min_child_weight': [2, 3, 4],\n",
    "    'subsample': [0.5, 0.6, 0.7],\n",
    "    'n_estimators': [50, 100]\n",
    "}\n",
    "\n",
    "gridsearch = GridSearchCV(boost_model, param_grid, cv=3, scoring=\"accuracy\", n_jobs=1)\n",
    "gridsearch.fit(X_train, y_train)"
   ]
  },
  {
   "cell_type": "code",
   "execution_count": null,
   "id": "2274a21a",
   "metadata": {},
   "outputs": [],
   "source": [
    "best_parameters = gridsearch.best_params_\n",
    "print(\"Best Parameters: \")\n",
    "print(best_parameters)"
   ]
  },
  {
   "cell_type": "code",
   "execution_count": null,
   "id": "cc20017f",
   "metadata": {},
   "outputs": [],
   "source": [
    "print(\"Training Scores\")\n",
    "print(ScoreModel(gridsearch, X_train, y_train))\n",
    "\n",
    "print(\"Test Scores\")\n",
    "print(ScoreModel(gridsearch, X_test, y_test))\n"
   ]
  },
  {
   "cell_type": "code",
   "execution_count": null,
   "id": "f9c31c94",
   "metadata": {},
   "outputs": [],
   "source": []
  },
  {
   "cell_type": "code",
   "execution_count": null,
   "id": "a5b59e1a",
   "metadata": {},
   "outputs": [],
   "source": []
  },
  {
   "cell_type": "code",
   "execution_count": null,
   "id": "2380dc24",
   "metadata": {},
   "outputs": [],
   "source": []
  },
  {
   "cell_type": "code",
   "execution_count": null,
   "id": "7b0ea873",
   "metadata": {},
   "outputs": [],
   "source": []
  },
  {
   "cell_type": "code",
   "execution_count": null,
   "id": "6a19d5ef",
   "metadata": {},
   "outputs": [],
   "source": []
  },
  {
   "cell_type": "code",
   "execution_count": null,
   "id": "75cc97f5",
   "metadata": {},
   "outputs": [],
   "source": [
    "IPython.display.Audio(sound_file, autoplay=True, rate=1000)"
   ]
  },
  {
   "cell_type": "code",
   "execution_count": null,
   "id": "48f72dec",
   "metadata": {},
   "outputs": [],
   "source": []
  }
 ],
 "metadata": {
  "kernelspec": {
   "display_name": "learn-env",
   "language": "python",
   "name": "learn-env"
  },
  "language_info": {
   "codemirror_mode": {
    "name": "ipython",
    "version": 3
   },
   "file_extension": ".py",
   "mimetype": "text/x-python",
   "name": "python",
   "nbconvert_exporter": "python",
   "pygments_lexer": "ipython3",
   "version": "3.8.5"
  }
 },
 "nbformat": 4,
 "nbformat_minor": 5
}

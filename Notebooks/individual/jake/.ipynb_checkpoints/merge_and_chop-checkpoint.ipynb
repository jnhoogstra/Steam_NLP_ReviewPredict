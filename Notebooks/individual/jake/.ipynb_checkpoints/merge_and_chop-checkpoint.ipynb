{
 "cells": [
  {
   "cell_type": "code",
   "execution_count": 1,
   "id": "1765c7cb",
   "metadata": {},
   "outputs": [],
   "source": [
    "import numpy as np \n",
    "import pandas as pd \n",
    "pd.set_option('display.max_colwidth', 100)\n",
    "\n",
    "import re\n",
    "import string\n",
    "import nltk\n",
    "\n",
    "from textblob import TextBlob, Word\n",
    "from wordcloud import WordCloud\n",
    "\n",
    "from sklearn.feature_extraction.text import TfidfVectorizer\n",
    "from sklearn.model_selection import train_test_split"
   ]
  },
  {
   "cell_type": "code",
   "execution_count": 2,
   "id": "4f8a0cf1",
   "metadata": {},
   "outputs": [],
   "source": [
    "df1 = pd.read_csv(\"../../../data/archive/reviews-1-115.csv\")\n",
    "df2 = pd.read_csv(\"../../../data/archive/reviews-115-1230.csv\")\n",
    "df3 = pd.read_csv(\"../../../data/archive/reviews-1230-2345.csv\")\n",
    "df4 = pd.read_csv(\"../../../data/archive/reviews-2345-4575.csv\")\n",
    "df5 = pd.read_csv(\"../../../data/archive/reviews-4575-6805.csv\")\n",
    "df6 = pd.read_csv(\"../../../data/archive/reviews-6805-9035.csv\")\n",
    "df7 = pd.read_csv(\"../../../data/archive/reviews-9035-11265.csv\")\n",
    "df8 = pd.read_csv(\"../../../data/archive/reviews-11265-13495.csv\")\n",
    "df9 = pd.read_csv(\"../../../data/archive/reviews-13495-13500.csv\")\n",
    "df10 = pd.read_csv(\"../../../data/archive/reviews-13500-13537.csv\")\n",
    "df11 = pd.read_csv(\"../../../data/archive/reviews-13537-27075.csv\")"
   ]
  },
  {
   "cell_type": "code",
   "execution_count": 3,
   "id": "50d981dd-7090-47c9-9e5e-53f3f33abb2d",
   "metadata": {},
   "outputs": [
    {
     "name": "stdout",
     "output_type": "stream",
     "text": [
      "<class 'pandas.core.frame.DataFrame'>\n",
      "RangeIndex: 1460621 entries, 0 to 1460620\n",
      "Data columns (total 13 columns):\n",
      " #   Column                  Non-Null Count    Dtype  \n",
      "---  ------                  --------------    -----  \n",
      " 0   steamid                 1460621 non-null  int64  \n",
      " 1   appid                   1460621 non-null  int64  \n",
      " 2   voted_up                1460621 non-null  bool   \n",
      " 3   votes_up                1460621 non-null  int64  \n",
      " 4   votes_funny             1460621 non-null  int64  \n",
      " 5   weighted_vote_score     1460621 non-null  float64\n",
      " 6   playtime_forever        1460621 non-null  int64  \n",
      " 7   playtime_at_review      1460621 non-null  int64  \n",
      " 8   num_games_owned         1460621 non-null  int64  \n",
      " 9   num_reviews             1460621 non-null  int64  \n",
      " 10  review                  1458810 non-null  object \n",
      " 11  unix_timestamp_created  1460621 non-null  int64  \n",
      " 12  unix_timestamp_updated  1460621 non-null  int64  \n",
      "dtypes: bool(1), float64(1), int64(10), object(1)\n",
      "memory usage: 135.1+ MB\n",
      "<class 'pandas.core.frame.DataFrame'>\n",
      "RangeIndex: 2403364 entries, 0 to 2403363\n",
      "Data columns (total 13 columns):\n",
      " #   Column                  Dtype  \n",
      "---  ------                  -----  \n",
      " 0   steamid                 int64  \n",
      " 1   appid                   int64  \n",
      " 2   voted_up                bool   \n",
      " 3   votes_up                int64  \n",
      " 4   votes_funny             int64  \n",
      " 5   weighted_vote_score     float64\n",
      " 6   playtime_forever        int64  \n",
      " 7   playtime_at_review      int64  \n",
      " 8   num_games_owned         int64  \n",
      " 9   num_reviews             int64  \n",
      " 10  review                  object \n",
      " 11  unix_timestamp_created  int64  \n",
      " 12  unix_timestamp_updated  int64  \n",
      "dtypes: bool(1), float64(1), int64(10), object(1)\n",
      "memory usage: 222.3+ MB\n",
      "<class 'pandas.core.frame.DataFrame'>\n",
      "RangeIndex: 3067681 entries, 0 to 3067680\n",
      "Data columns (total 13 columns):\n",
      " #   Column                  Dtype  \n",
      "---  ------                  -----  \n",
      " 0   steamid                 int64  \n",
      " 1   appid                   int64  \n",
      " 2   voted_up                bool   \n",
      " 3   votes_up                int64  \n",
      " 4   votes_funny             int64  \n",
      " 5   weighted_vote_score     float64\n",
      " 6   playtime_forever        int64  \n",
      " 7   playtime_at_review      int64  \n",
      " 8   num_games_owned         int64  \n",
      " 9   num_reviews             int64  \n",
      " 10  review                  object \n",
      " 11  unix_timestamp_created  int64  \n",
      " 12  unix_timestamp_updated  int64  \n",
      "dtypes: bool(1), float64(1), int64(10), object(1)\n",
      "memory usage: 283.8+ MB\n",
      "<class 'pandas.core.frame.DataFrame'>\n",
      "RangeIndex: 2318769 entries, 0 to 2318768\n",
      "Data columns (total 13 columns):\n",
      " #   Column                  Dtype  \n",
      "---  ------                  -----  \n",
      " 0   steamid                 int64  \n",
      " 1   appid                   int64  \n",
      " 2   voted_up                bool   \n",
      " 3   votes_up                int64  \n",
      " 4   votes_funny             int64  \n",
      " 5   weighted_vote_score     float64\n",
      " 6   playtime_forever        int64  \n",
      " 7   playtime_at_review      int64  \n",
      " 8   num_games_owned         int64  \n",
      " 9   num_reviews             int64  \n",
      " 10  review                  object \n",
      " 11  unix_timestamp_created  int64  \n",
      " 12  unix_timestamp_updated  int64  \n",
      "dtypes: bool(1), float64(1), int64(10), object(1)\n",
      "memory usage: 214.5+ MB\n",
      "<class 'pandas.core.frame.DataFrame'>\n",
      "RangeIndex: 1962065 entries, 0 to 1962064\n",
      "Data columns (total 13 columns):\n",
      " #   Column                  Dtype  \n",
      "---  ------                  -----  \n",
      " 0   steamid                 int64  \n",
      " 1   appid                   int64  \n",
      " 2   voted_up                bool   \n",
      " 3   votes_up                int64  \n",
      " 4   votes_funny             int64  \n",
      " 5   weighted_vote_score     float64\n",
      " 6   playtime_forever        int64  \n",
      " 7   playtime_at_review      int64  \n",
      " 8   num_games_owned         int64  \n",
      " 9   num_reviews             int64  \n",
      " 10  review                  object \n",
      " 11  unix_timestamp_created  int64  \n",
      " 12  unix_timestamp_updated  int64  \n",
      "dtypes: bool(1), float64(1), int64(10), object(1)\n",
      "memory usage: 181.5+ MB\n",
      "<class 'pandas.core.frame.DataFrame'>\n",
      "RangeIndex: 1190385 entries, 0 to 1190384\n",
      "Data columns (total 13 columns):\n",
      " #   Column                  Non-Null Count    Dtype  \n",
      "---  ------                  --------------    -----  \n",
      " 0   steamid                 1190385 non-null  int64  \n",
      " 1   appid                   1190385 non-null  int64  \n",
      " 2   voted_up                1190385 non-null  bool   \n",
      " 3   votes_up                1190385 non-null  int64  \n",
      " 4   votes_funny             1190385 non-null  int64  \n",
      " 5   weighted_vote_score     1190385 non-null  float64\n",
      " 6   playtime_forever        1190385 non-null  int64  \n",
      " 7   playtime_at_review      1190385 non-null  int64  \n",
      " 8   num_games_owned         1190385 non-null  int64  \n",
      " 9   num_reviews             1190385 non-null  int64  \n",
      " 10  review                  1188515 non-null  object \n",
      " 11  unix_timestamp_created  1190385 non-null  int64  \n",
      " 12  unix_timestamp_updated  1190385 non-null  int64  \n",
      "dtypes: bool(1), float64(1), int64(10), object(1)\n",
      "memory usage: 110.1+ MB\n",
      "<class 'pandas.core.frame.DataFrame'>\n",
      "RangeIndex: 623042 entries, 0 to 623041\n",
      "Data columns (total 13 columns):\n",
      " #   Column                  Non-Null Count   Dtype  \n",
      "---  ------                  --------------   -----  \n",
      " 0   steamid                 623042 non-null  int64  \n",
      " 1   appid                   623042 non-null  int64  \n",
      " 2   voted_up                623042 non-null  bool   \n",
      " 3   votes_up                623042 non-null  int64  \n",
      " 4   votes_funny             623042 non-null  int64  \n",
      " 5   weighted_vote_score     623042 non-null  float64\n",
      " 6   playtime_forever        623042 non-null  int64  \n",
      " 7   playtime_at_review      623042 non-null  int64  \n",
      " 8   num_games_owned         623042 non-null  int64  \n",
      " 9   num_reviews             623042 non-null  int64  \n",
      " 10  review                  622065 non-null  object \n",
      " 11  unix_timestamp_created  623042 non-null  int64  \n",
      " 12  unix_timestamp_updated  623042 non-null  int64  \n",
      "dtypes: bool(1), float64(1), int64(10), object(1)\n",
      "memory usage: 57.6+ MB\n",
      "<class 'pandas.core.frame.DataFrame'>\n",
      "RangeIndex: 947866 entries, 0 to 947865\n",
      "Data columns (total 13 columns):\n",
      " #   Column                  Non-Null Count   Dtype  \n",
      "---  ------                  --------------   -----  \n",
      " 0   steamid                 947866 non-null  int64  \n",
      " 1   appid                   947866 non-null  int64  \n",
      " 2   voted_up                947866 non-null  bool   \n",
      " 3   votes_up                947866 non-null  int64  \n",
      " 4   votes_funny             947866 non-null  int64  \n",
      " 5   weighted_vote_score     947866 non-null  float64\n",
      " 6   playtime_forever        947866 non-null  int64  \n",
      " 7   playtime_at_review      947866 non-null  int64  \n",
      " 8   num_games_owned         947866 non-null  int64  \n",
      " 9   num_reviews             947866 non-null  int64  \n",
      " 10  review                  946618 non-null  object \n",
      " 11  unix_timestamp_created  947866 non-null  int64  \n",
      " 12  unix_timestamp_updated  947866 non-null  int64  \n",
      "dtypes: bool(1), float64(1), int64(10), object(1)\n",
      "memory usage: 87.7+ MB\n",
      "<class 'pandas.core.frame.DataFrame'>\n",
      "RangeIndex: 150 entries, 0 to 149\n",
      "Data columns (total 13 columns):\n",
      " #   Column                  Non-Null Count  Dtype  \n",
      "---  ------                  --------------  -----  \n",
      " 0   steamid                 150 non-null    int64  \n",
      " 1   appid                   150 non-null    int64  \n",
      " 2   voted_up                150 non-null    bool   \n",
      " 3   votes_up                150 non-null    int64  \n",
      " 4   votes_funny             150 non-null    int64  \n",
      " 5   weighted_vote_score     150 non-null    float64\n",
      " 6   playtime_forever        150 non-null    int64  \n",
      " 7   playtime_at_review      150 non-null    int64  \n",
      " 8   num_games_owned         150 non-null    int64  \n",
      " 9   num_reviews             150 non-null    int64  \n",
      " 10  review                  150 non-null    object \n",
      " 11  unix_timestamp_created  150 non-null    int64  \n",
      " 12  unix_timestamp_updated  150 non-null    int64  \n",
      "dtypes: bool(1), float64(1), int64(10), object(1)\n",
      "memory usage: 14.3+ KB\n",
      "<class 'pandas.core.frame.DataFrame'>\n",
      "RangeIndex: 8086 entries, 0 to 8085\n",
      "Data columns (total 13 columns):\n",
      " #   Column                  Non-Null Count  Dtype  \n",
      "---  ------                  --------------  -----  \n",
      " 0   steamid                 8086 non-null   int64  \n",
      " 1   appid                   8086 non-null   int64  \n",
      " 2   voted_up                8086 non-null   bool   \n",
      " 3   votes_up                8086 non-null   int64  \n",
      " 4   votes_funny             8086 non-null   int64  \n",
      " 5   weighted_vote_score     8086 non-null   float64\n",
      " 6   playtime_forever        8086 non-null   int64  \n",
      " 7   playtime_at_review      8086 non-null   int64  \n",
      " 8   num_games_owned         8086 non-null   int64  \n",
      " 9   num_reviews             8086 non-null   int64  \n",
      " 10  review                  8070 non-null   object \n",
      " 11  unix_timestamp_created  8086 non-null   int64  \n",
      " 12  unix_timestamp_updated  8086 non-null   int64  \n",
      "dtypes: bool(1), float64(1), int64(10), object(1)\n",
      "memory usage: 766.1+ KB\n",
      "<class 'pandas.core.frame.DataFrame'>\n",
      "RangeIndex: 1455442 entries, 0 to 1455441\n",
      "Data columns (total 13 columns):\n",
      " #   Column                  Non-Null Count    Dtype  \n",
      "---  ------                  --------------    -----  \n",
      " 0   steamid                 1455442 non-null  int64  \n",
      " 1   appid                   1455442 non-null  int64  \n",
      " 2   voted_up                1455442 non-null  bool   \n",
      " 3   votes_up                1455442 non-null  int64  \n",
      " 4   votes_funny             1455442 non-null  int64  \n",
      " 5   weighted_vote_score     1455442 non-null  float64\n",
      " 6   playtime_forever        1455442 non-null  int64  \n",
      " 7   playtime_at_review      1455442 non-null  int64  \n",
      " 8   num_games_owned         1455442 non-null  int64  \n",
      " 9   num_reviews             1455442 non-null  int64  \n",
      " 10  review                  1452657 non-null  object \n",
      " 11  unix_timestamp_created  1455442 non-null  int64  \n",
      " 12  unix_timestamp_updated  1455442 non-null  int64  \n",
      "dtypes: bool(1), float64(1), int64(10), object(1)\n",
      "memory usage: 134.6+ MB\n"
     ]
    },
    {
     "data": {
      "text/plain": [
       "None"
      ]
     },
     "metadata": {},
     "output_type": "display_data"
    },
    {
     "data": {
      "text/plain": [
       "None"
      ]
     },
     "metadata": {},
     "output_type": "display_data"
    },
    {
     "data": {
      "text/plain": [
       "None"
      ]
     },
     "metadata": {},
     "output_type": "display_data"
    },
    {
     "data": {
      "text/plain": [
       "None"
      ]
     },
     "metadata": {},
     "output_type": "display_data"
    },
    {
     "data": {
      "text/plain": [
       "None"
      ]
     },
     "metadata": {},
     "output_type": "display_data"
    },
    {
     "data": {
      "text/plain": [
       "None"
      ]
     },
     "metadata": {},
     "output_type": "display_data"
    },
    {
     "data": {
      "text/plain": [
       "None"
      ]
     },
     "metadata": {},
     "output_type": "display_data"
    },
    {
     "data": {
      "text/plain": [
       "None"
      ]
     },
     "metadata": {},
     "output_type": "display_data"
    },
    {
     "data": {
      "text/plain": [
       "None"
      ]
     },
     "metadata": {},
     "output_type": "display_data"
    },
    {
     "data": {
      "text/plain": [
       "None"
      ]
     },
     "metadata": {},
     "output_type": "display_data"
    },
    {
     "data": {
      "text/plain": [
       "None"
      ]
     },
     "metadata": {},
     "output_type": "display_data"
    }
   ],
   "source": [
    "display(df1.info(), df2.info(), df3.info(), df4.info(), df5.info(), df6.info(), df7.info(), df8.info(), df9.info(), df10.info(), df11.info())"
   ]
  },
  {
   "cell_type": "code",
   "execution_count": 4,
   "id": "030a7de7",
   "metadata": {},
   "outputs": [
    {
     "name": "stdout",
     "output_type": "stream",
     "text": [
      "Rows count before drop:  15437471\n",
      "Rows count after drop:  15413766\n"
     ]
    }
   ],
   "source": [
    "df_list = [df1, df2, df3, df4, df5, df6, df7, df8, df9, df10, df11] # for future reference, remember that df_list[0] is now a different dataframe stored in a different spot in memory\n",
    "                                                                    # and /= df1\n",
    "\n",
    "total_rows = 0\n",
    "for each in df_list:\n",
    "    total_rows += each.shape[0]\n",
    "    \n",
    "print(\"Rows count before drop: \", total_rows) #sanity check\n",
    "\n",
    "# so unfortunately, there's far too many rows in the combined dataset to actually put in a dataframe\n",
    "# first I'm going to drop columns that I don't need for NLP and see if I can combine them that way\n",
    "# also dropping nulls because a couple sets have some\n",
    "\n",
    "col = [\"steamid\", \"appid\", \"votes_up\", \"votes_funny\", \"weighted_vote_score\", \"playtime_forever\", \"playtime_at_review\", \"num_games_owned\", \"num_reviews\", \"unix_timestamp_created\", \"unix_timestamp_updated\"]\n",
    "drop_rows = 0\n",
    "for ind in range(len(df_list)):\n",
    "    df_list[ind] = df_list[ind].drop(col, axis=1)\n",
    "    df_list[ind] = df_list[ind].dropna()\n",
    "    drop_rows += df_list[ind].shape[0]\n",
    "\n",
    "print(\"Rows count after drop: \", drop_rows) #sanity check"
   ]
  },
  {
   "cell_type": "code",
   "execution_count": 5,
   "id": "dec7f0da",
   "metadata": {},
   "outputs": [
    {
     "data": {
      "text/html": [
       "<div>\n",
       "<style scoped>\n",
       "    .dataframe tbody tr th:only-of-type {\n",
       "        vertical-align: middle;\n",
       "    }\n",
       "\n",
       "    .dataframe tbody tr th {\n",
       "        vertical-align: top;\n",
       "    }\n",
       "\n",
       "    .dataframe thead th {\n",
       "        text-align: right;\n",
       "    }\n",
       "</style>\n",
       "<table border=\"1\" class=\"dataframe\">\n",
       "  <thead>\n",
       "    <tr style=\"text-align: right;\">\n",
       "      <th></th>\n",
       "      <th>voted_up</th>\n",
       "      <th>review</th>\n",
       "    </tr>\n",
       "  </thead>\n",
       "  <tbody>\n",
       "    <tr>\n",
       "      <th>0</th>\n",
       "      <td>True</td>\n",
       "      <td>best gameplay ever created</td>\n",
       "    </tr>\n",
       "    <tr>\n",
       "      <th>1</th>\n",
       "      <td>True</td>\n",
       "      <td>Timeless. Thank you volvo.</td>\n",
       "    </tr>\n",
       "    <tr>\n",
       "      <th>2</th>\n",
       "      <td>True</td>\n",
       "      <td>this game literally made me love guns and fps game. what else could i say?</td>\n",
       "    </tr>\n",
       "  </tbody>\n",
       "</table>\n",
       "</div>"
      ],
      "text/plain": [
       "   voted_up  \\\n",
       "0      True   \n",
       "1      True   \n",
       "2      True   \n",
       "\n",
       "                                                                       review  \n",
       "0                                                  best gameplay ever created  \n",
       "1                                                  Timeless. Thank you volvo.  \n",
       "2  this game literally made me love guns and fps game. what else could i say?  "
      ]
     },
     "metadata": {},
     "output_type": "display_data"
    },
    {
     "data": {
      "text/html": [
       "<div>\n",
       "<style scoped>\n",
       "    .dataframe tbody tr th:only-of-type {\n",
       "        vertical-align: middle;\n",
       "    }\n",
       "\n",
       "    .dataframe tbody tr th {\n",
       "        vertical-align: top;\n",
       "    }\n",
       "\n",
       "    .dataframe thead th {\n",
       "        text-align: right;\n",
       "    }\n",
       "</style>\n",
       "<table border=\"1\" class=\"dataframe\">\n",
       "  <thead>\n",
       "    <tr style=\"text-align: right;\">\n",
       "      <th></th>\n",
       "      <th>voted_up</th>\n",
       "      <th>review</th>\n",
       "    </tr>\n",
       "  </thead>\n",
       "  <tbody>\n",
       "    <tr>\n",
       "      <th>0</th>\n",
       "      <td>True</td>\n",
       "      <td>It's a good game!</td>\n",
       "    </tr>\n",
       "    <tr>\n",
       "      <th>1</th>\n",
       "      <td>False</td>\n",
       "      <td>This game is fantastic IF AND ONLY IF you can play it without Steam's involvement in any way, sh...</td>\n",
       "    </tr>\n",
       "    <tr>\n",
       "      <th>2</th>\n",
       "      <td>True</td>\n",
       "      <td>Great game!</td>\n",
       "    </tr>\n",
       "  </tbody>\n",
       "</table>\n",
       "</div>"
      ],
      "text/plain": [
       "   voted_up  \\\n",
       "0      True   \n",
       "1     False   \n",
       "2      True   \n",
       "\n",
       "                                                                                                review  \n",
       "0                                                                                    It's a good game!  \n",
       "1  This game is fantastic IF AND ONLY IF you can play it without Steam's involvement in any way, sh...  \n",
       "2                                                                                          Great game!  "
      ]
     },
     "metadata": {},
     "output_type": "display_data"
    },
    {
     "data": {
      "text/html": [
       "<div>\n",
       "<style scoped>\n",
       "    .dataframe tbody tr th:only-of-type {\n",
       "        vertical-align: middle;\n",
       "    }\n",
       "\n",
       "    .dataframe tbody tr th {\n",
       "        vertical-align: top;\n",
       "    }\n",
       "\n",
       "    .dataframe thead th {\n",
       "        text-align: right;\n",
       "    }\n",
       "</style>\n",
       "<table border=\"1\" class=\"dataframe\">\n",
       "  <thead>\n",
       "    <tr style=\"text-align: right;\">\n",
       "      <th></th>\n",
       "      <th>voted_up</th>\n",
       "      <th>review</th>\n",
       "    </tr>\n",
       "  </thead>\n",
       "  <tbody>\n",
       "    <tr>\n",
       "      <th>0</th>\n",
       "      <td>True</td>\n",
       "      <td>A masterpiece that is extremely underrated. This game (series) is probably the most depressing t...</td>\n",
       "    </tr>\n",
       "    <tr>\n",
       "      <th>1</th>\n",
       "      <td>True</td>\n",
       "      <td>Amazing!!!</td>\n",
       "    </tr>\n",
       "    <tr>\n",
       "      <th>2</th>\n",
       "      <td>False</td>\n",
       "      <td>The latest update forces the install of some Rockstar launcher which completely broke the game f...</td>\n",
       "    </tr>\n",
       "  </tbody>\n",
       "</table>\n",
       "</div>"
      ],
      "text/plain": [
       "   voted_up  \\\n",
       "0      True   \n",
       "1      True   \n",
       "2     False   \n",
       "\n",
       "                                                                                                review  \n",
       "0  A masterpiece that is extremely underrated. This game (series) is probably the most depressing t...  \n",
       "1                                                                                           Amazing!!!  \n",
       "2  The latest update forces the install of some Rockstar launcher which completely broke the game f...  "
      ]
     },
     "metadata": {},
     "output_type": "display_data"
    },
    {
     "data": {
      "text/html": [
       "<div>\n",
       "<style scoped>\n",
       "    .dataframe tbody tr th:only-of-type {\n",
       "        vertical-align: middle;\n",
       "    }\n",
       "\n",
       "    .dataframe tbody tr th {\n",
       "        vertical-align: top;\n",
       "    }\n",
       "\n",
       "    .dataframe thead th {\n",
       "        text-align: right;\n",
       "    }\n",
       "</style>\n",
       "<table border=\"1\" class=\"dataframe\">\n",
       "  <thead>\n",
       "    <tr style=\"text-align: right;\">\n",
       "      <th></th>\n",
       "      <th>voted_up</th>\n",
       "      <th>review</th>\n",
       "    </tr>\n",
       "  </thead>\n",
       "  <tbody>\n",
       "    <tr>\n",
       "      <th>0</th>\n",
       "      <td>True</td>\n",
       "      <td>It's fun game, developed with love.</td>\n",
       "    </tr>\n",
       "    <tr>\n",
       "      <th>1</th>\n",
       "      <td>True</td>\n",
       "      <td>Fun game, easy to pick up at any time.</td>\n",
       "    </tr>\n",
       "    <tr>\n",
       "      <th>2</th>\n",
       "      <td>True</td>\n",
       "      <td>This is my favorite roguelite of all time. Easy to get into and tough to master, this game is ba...</td>\n",
       "    </tr>\n",
       "  </tbody>\n",
       "</table>\n",
       "</div>"
      ],
      "text/plain": [
       "   voted_up  \\\n",
       "0      True   \n",
       "1      True   \n",
       "2      True   \n",
       "\n",
       "                                                                                                review  \n",
       "0                                                                  It's fun game, developed with love.  \n",
       "1                                                               Fun game, easy to pick up at any time.  \n",
       "2  This is my favorite roguelite of all time. Easy to get into and tough to master, this game is ba...  "
      ]
     },
     "metadata": {},
     "output_type": "display_data"
    },
    {
     "data": {
      "text/html": [
       "<div>\n",
       "<style scoped>\n",
       "    .dataframe tbody tr th:only-of-type {\n",
       "        vertical-align: middle;\n",
       "    }\n",
       "\n",
       "    .dataframe tbody tr th {\n",
       "        vertical-align: top;\n",
       "    }\n",
       "\n",
       "    .dataframe thead th {\n",
       "        text-align: right;\n",
       "    }\n",
       "</style>\n",
       "<table border=\"1\" class=\"dataframe\">\n",
       "  <thead>\n",
       "    <tr style=\"text-align: right;\">\n",
       "      <th></th>\n",
       "      <th>voted_up</th>\n",
       "      <th>review</th>\n",
       "    </tr>\n",
       "  </thead>\n",
       "  <tbody>\n",
       "    <tr>\n",
       "      <th>0</th>\n",
       "      <td>False</td>\n",
       "      <td>While this game seems promising, it's really just a bugged-out mess that was clearly abandoned a...</td>\n",
       "    </tr>\n",
       "    <tr>\n",
       "      <th>1</th>\n",
       "      <td>False</td>\n",
       "      <td>Fuck this game. No updates, no nothing. Just Trash.</td>\n",
       "    </tr>\n",
       "    <tr>\n",
       "      <th>2</th>\n",
       "      <td>False</td>\n",
       "      <td>Nothing about this game should have legally been allow to be a sold product in its current, bugg...</td>\n",
       "    </tr>\n",
       "  </tbody>\n",
       "</table>\n",
       "</div>"
      ],
      "text/plain": [
       "   voted_up  \\\n",
       "0     False   \n",
       "1     False   \n",
       "2     False   \n",
       "\n",
       "                                                                                                review  \n",
       "0  While this game seems promising, it's really just a bugged-out mess that was clearly abandoned a...  \n",
       "1                                                  Fuck this game. No updates, no nothing. Just Trash.  \n",
       "2  Nothing about this game should have legally been allow to be a sold product in its current, bugg...  "
      ]
     },
     "metadata": {},
     "output_type": "display_data"
    },
    {
     "data": {
      "text/html": [
       "<div>\n",
       "<style scoped>\n",
       "    .dataframe tbody tr th:only-of-type {\n",
       "        vertical-align: middle;\n",
       "    }\n",
       "\n",
       "    .dataframe tbody tr th {\n",
       "        vertical-align: top;\n",
       "    }\n",
       "\n",
       "    .dataframe thead th {\n",
       "        text-align: right;\n",
       "    }\n",
       "</style>\n",
       "<table border=\"1\" class=\"dataframe\">\n",
       "  <thead>\n",
       "    <tr style=\"text-align: right;\">\n",
       "      <th></th>\n",
       "      <th>voted_up</th>\n",
       "      <th>review</th>\n",
       "    </tr>\n",
       "  </thead>\n",
       "  <tbody>\n",
       "    <tr>\n",
       "      <th>0</th>\n",
       "      <td>True</td>\n",
       "      <td>very fine co-op game, excellent simplicity, joyful, a good take-away !</td>\n",
       "    </tr>\n",
       "    <tr>\n",
       "      <th>1</th>\n",
       "      <td>True</td>\n",
       "      <td>nice game.</td>\n",
       "    </tr>\n",
       "    <tr>\n",
       "      <th>2</th>\n",
       "      <td>False</td>\n",
       "      <td>When the highlight of a game for me is Spaceballs references (the greatest comedy of all-time), ...</td>\n",
       "    </tr>\n",
       "  </tbody>\n",
       "</table>\n",
       "</div>"
      ],
      "text/plain": [
       "   voted_up  \\\n",
       "0      True   \n",
       "1      True   \n",
       "2     False   \n",
       "\n",
       "                                                                                                review  \n",
       "0                               very fine co-op game, excellent simplicity, joyful, a good take-away !  \n",
       "1                                                                                           nice game.  \n",
       "2  When the highlight of a game for me is Spaceballs references (the greatest comedy of all-time), ...  "
      ]
     },
     "metadata": {},
     "output_type": "display_data"
    },
    {
     "data": {
      "text/html": [
       "<div>\n",
       "<style scoped>\n",
       "    .dataframe tbody tr th:only-of-type {\n",
       "        vertical-align: middle;\n",
       "    }\n",
       "\n",
       "    .dataframe tbody tr th {\n",
       "        vertical-align: top;\n",
       "    }\n",
       "\n",
       "    .dataframe thead th {\n",
       "        text-align: right;\n",
       "    }\n",
       "</style>\n",
       "<table border=\"1\" class=\"dataframe\">\n",
       "  <thead>\n",
       "    <tr style=\"text-align: right;\">\n",
       "      <th></th>\n",
       "      <th>voted_up</th>\n",
       "      <th>review</th>\n",
       "    </tr>\n",
       "  </thead>\n",
       "  <tbody>\n",
       "    <tr>\n",
       "      <th>0</th>\n",
       "      <td>True</td>\n",
       "      <td>got it bc of Sodapoppin</td>\n",
       "    </tr>\n",
       "    <tr>\n",
       "      <th>1</th>\n",
       "      <td>True</td>\n",
       "      <td>Nice if you have friends, though if you don't it's still a good challenge</td>\n",
       "    </tr>\n",
       "    <tr>\n",
       "      <th>2</th>\n",
       "      <td>True</td>\n",
       "      <td>played it with my brother and absolutely loved it, we had so many laughs, till i couldnt breathe...</td>\n",
       "    </tr>\n",
       "  </tbody>\n",
       "</table>\n",
       "</div>"
      ],
      "text/plain": [
       "   voted_up  \\\n",
       "0      True   \n",
       "1      True   \n",
       "2      True   \n",
       "\n",
       "                                                                                                review  \n",
       "0                                                                              got it bc of Sodapoppin  \n",
       "1                            Nice if you have friends, though if you don't it's still a good challenge  \n",
       "2  played it with my brother and absolutely loved it, we had so many laughs, till i couldnt breathe...  "
      ]
     },
     "metadata": {},
     "output_type": "display_data"
    },
    {
     "data": {
      "text/html": [
       "<div>\n",
       "<style scoped>\n",
       "    .dataframe tbody tr th:only-of-type {\n",
       "        vertical-align: middle;\n",
       "    }\n",
       "\n",
       "    .dataframe tbody tr th {\n",
       "        vertical-align: top;\n",
       "    }\n",
       "\n",
       "    .dataframe thead th {\n",
       "        text-align: right;\n",
       "    }\n",
       "</style>\n",
       "<table border=\"1\" class=\"dataframe\">\n",
       "  <thead>\n",
       "    <tr style=\"text-align: right;\">\n",
       "      <th></th>\n",
       "      <th>voted_up</th>\n",
       "      <th>review</th>\n",
       "    </tr>\n",
       "  </thead>\n",
       "  <tbody>\n",
       "    <tr>\n",
       "      <th>0</th>\n",
       "      <td>False</td>\n",
       "      <td>yes//... steam overlay are for pussies..\\nand yes... again rpgmaker with 99423492349with  free i...</td>\n",
       "    </tr>\n",
       "    <tr>\n",
       "      <th>1</th>\n",
       "      <td>True</td>\n",
       "      <td>I liked it a lot, has spelling errors and fights tend to last too long. Has old crappy RPG feel ...</td>\n",
       "    </tr>\n",
       "    <tr>\n",
       "      <th>2</th>\n",
       "      <td>True</td>\n",
       "      <td>i recommend and dont recommend this game depending on wich kind of gamer you are. if you guys li...</td>\n",
       "    </tr>\n",
       "  </tbody>\n",
       "</table>\n",
       "</div>"
      ],
      "text/plain": [
       "   voted_up  \\\n",
       "0     False   \n",
       "1      True   \n",
       "2      True   \n",
       "\n",
       "                                                                                                review  \n",
       "0  yes//... steam overlay are for pussies..\\nand yes... again rpgmaker with 99423492349with  free i...  \n",
       "1  I liked it a lot, has spelling errors and fights tend to last too long. Has old crappy RPG feel ...  \n",
       "2  i recommend and dont recommend this game depending on wich kind of gamer you are. if you guys li...  "
      ]
     },
     "metadata": {},
     "output_type": "display_data"
    },
    {
     "data": {
      "text/html": [
       "<div>\n",
       "<style scoped>\n",
       "    .dataframe tbody tr th:only-of-type {\n",
       "        vertical-align: middle;\n",
       "    }\n",
       "\n",
       "    .dataframe tbody tr th {\n",
       "        vertical-align: top;\n",
       "    }\n",
       "\n",
       "    .dataframe thead th {\n",
       "        text-align: right;\n",
       "    }\n",
       "</style>\n",
       "<table border=\"1\" class=\"dataframe\">\n",
       "  <thead>\n",
       "    <tr style=\"text-align: right;\">\n",
       "      <th></th>\n",
       "      <th>voted_up</th>\n",
       "      <th>review</th>\n",
       "    </tr>\n",
       "  </thead>\n",
       "  <tbody>\n",
       "    <tr>\n",
       "      <th>0</th>\n",
       "      <td>True</td>\n",
       "      <td>This is a awsome game. \\nThe wait time for PVP is about 1min on average \\nEach match takes about...</td>\n",
       "    </tr>\n",
       "    <tr>\n",
       "      <th>1</th>\n",
       "      <td>True</td>\n",
       "      <td>Great quick free strategy game. Perfect game when you have 10 minutes to spend !</td>\n",
       "    </tr>\n",
       "    <tr>\n",
       "      <th>2</th>\n",
       "      <td>True</td>\n",
       "      <td>Fun little card-based civ building duelling game.  A bit like Through the Ages which is a huge r...</td>\n",
       "    </tr>\n",
       "  </tbody>\n",
       "</table>\n",
       "</div>"
      ],
      "text/plain": [
       "   voted_up  \\\n",
       "0      True   \n",
       "1      True   \n",
       "2      True   \n",
       "\n",
       "                                                                                                review  \n",
       "0  This is a awsome game. \\nThe wait time for PVP is about 1min on average \\nEach match takes about...  \n",
       "1                     Great quick free strategy game. Perfect game when you have 10 minutes to spend !  \n",
       "2  Fun little card-based civ building duelling game.  A bit like Through the Ages which is a huge r...  "
      ]
     },
     "metadata": {},
     "output_type": "display_data"
    },
    {
     "data": {
      "text/html": [
       "<div>\n",
       "<style scoped>\n",
       "    .dataframe tbody tr th:only-of-type {\n",
       "        vertical-align: middle;\n",
       "    }\n",
       "\n",
       "    .dataframe tbody tr th {\n",
       "        vertical-align: top;\n",
       "    }\n",
       "\n",
       "    .dataframe thead th {\n",
       "        text-align: right;\n",
       "    }\n",
       "</style>\n",
       "<table border=\"1\" class=\"dataframe\">\n",
       "  <thead>\n",
       "    <tr style=\"text-align: right;\">\n",
       "      <th></th>\n",
       "      <th>voted_up</th>\n",
       "      <th>review</th>\n",
       "    </tr>\n",
       "  </thead>\n",
       "  <tbody>\n",
       "    <tr>\n",
       "      <th>0</th>\n",
       "      <td>False</td>\n",
       "      <td>Game is amazing. But there is a camera sway when you swing weapons that you can't toggle off whi...</td>\n",
       "    </tr>\n",
       "    <tr>\n",
       "      <th>1</th>\n",
       "      <td>True</td>\n",
       "      <td>YES.</td>\n",
       "    </tr>\n",
       "    <tr>\n",
       "      <th>2</th>\n",
       "      <td>True</td>\n",
       "      <td>Very Cool concept but with the platforming and how hard it can be to block sometimes makes the g...</td>\n",
       "    </tr>\n",
       "  </tbody>\n",
       "</table>\n",
       "</div>"
      ],
      "text/plain": [
       "   voted_up  \\\n",
       "0     False   \n",
       "1      True   \n",
       "2      True   \n",
       "\n",
       "                                                                                                review  \n",
       "0  Game is amazing. But there is a camera sway when you swing weapons that you can't toggle off whi...  \n",
       "1                                                                                                 YES.  \n",
       "2  Very Cool concept but with the platforming and how hard it can be to block sometimes makes the g...  "
      ]
     },
     "metadata": {},
     "output_type": "display_data"
    },
    {
     "data": {
      "text/html": [
       "<div>\n",
       "<style scoped>\n",
       "    .dataframe tbody tr th:only-of-type {\n",
       "        vertical-align: middle;\n",
       "    }\n",
       "\n",
       "    .dataframe tbody tr th {\n",
       "        vertical-align: top;\n",
       "    }\n",
       "\n",
       "    .dataframe thead th {\n",
       "        text-align: right;\n",
       "    }\n",
       "</style>\n",
       "<table border=\"1\" class=\"dataframe\">\n",
       "  <thead>\n",
       "    <tr style=\"text-align: right;\">\n",
       "      <th></th>\n",
       "      <th>voted_up</th>\n",
       "      <th>review</th>\n",
       "    </tr>\n",
       "  </thead>\n",
       "  <tbody>\n",
       "    <tr>\n",
       "      <th>0</th>\n",
       "      <td>True</td>\n",
       "      <td>Minus the quiet communication (other players seem softer than normal so you have to talk louder ...</td>\n",
       "    </tr>\n",
       "    <tr>\n",
       "      <th>1</th>\n",
       "      <td>True</td>\n",
       "      <td>yeah.</td>\n",
       "    </tr>\n",
       "    <tr>\n",
       "      <th>2</th>\n",
       "      <td>True</td>\n",
       "      <td>Playing this game was the most fun I have ever had in a long time</td>\n",
       "    </tr>\n",
       "  </tbody>\n",
       "</table>\n",
       "</div>"
      ],
      "text/plain": [
       "   voted_up  \\\n",
       "0      True   \n",
       "1      True   \n",
       "2      True   \n",
       "\n",
       "                                                                                                review  \n",
       "0  Minus the quiet communication (other players seem softer than normal so you have to talk louder ...  \n",
       "1                                                                                                yeah.  \n",
       "2                                    Playing this game was the most fun I have ever had in a long time  "
      ]
     },
     "metadata": {},
     "output_type": "display_data"
    }
   ],
   "source": [
    "# we appear to have kept all of our rows, let's check .head(3) to make sure\n",
    "for ind in range(len(df_list)):\n",
    "    display(df_list[ind].head(3))"
   ]
  },
  {
   "cell_type": "code",
   "execution_count": 6,
   "id": "ef11b0b3",
   "metadata": {},
   "outputs": [],
   "source": [
    "# what we need for NLP is there, but pd.concat still isn't quite hanndling it the way we need\n",
    "# what I can do is fabricate some smaller csvs using train test split (it appears that pandas stops at ~3.06 million rows for this data)\n",
    "# did some math on the side, 19.5% gets us close to our 3.06 million rows\n",
    "\n",
    "# so in order to make a single dataset that's representative of our whole, I need to train test split each df and then combine the test splits into one new_df\n",
    "# and from that hopefully 3 million sized df of random reviews from all of these I can then create train, validation, and test csvs for us to model from in reasonable time\n",
    "\n",
    "# so there's an additional problem, our laptops struggle to train on a dataset larger than 9 thousand reviews\n",
    "# I'm going to use train test split to create dataset of roughly that amount\n",
    "# gonna do that in two splits, and from that create a train, validation, and \n",
    "# .0015\n",
    "rows = 0\n",
    "for ind in range(len(df_list)):\n",
    "    y = df_list[ind][\"voted_up\"] #need to turn this column into 01 format later\n",
    "    X = df_list[ind].drop(\"voted_up\", axis=1)\n",
    "    \n",
    "    X_train, X_test, y_train, y_test = train_test_split(X, y, random_state=57, test_size=0.195)\n",
    "    df_list[ind] = pd.concat([X_test, y_test], axis=1)\n",
    "    rows += df_list[ind].shape[0]"
   ]
  },
  {
   "cell_type": "code",
   "execution_count": 7,
   "id": "9c565191-85f1-49ee-98fe-fc1efbd70d87",
   "metadata": {},
   "outputs": [
    {
     "data": {
      "text/plain": [
       "3005689"
      ]
     },
     "execution_count": 7,
     "metadata": {},
     "output_type": "execute_result"
    }
   ],
   "source": [
    "rows"
   ]
  },
  {
   "cell_type": "code",
   "execution_count": 8,
   "id": "f32c010f-6292-4e1a-9f84-ada87b3c7da2",
   "metadata": {},
   "outputs": [],
   "source": [
    "df = df_list[0]\n",
    "for ind in range(1,11):\n",
    "    new_df = pd.concat([df, df_list[ind]])\n",
    "    df = new_df"
   ]
  },
  {
   "cell_type": "code",
   "execution_count": 9,
   "id": "27b70d71-8bbb-4db5-859a-8af7a7e7a9b3",
   "metadata": {},
   "outputs": [
    {
     "name": "stdout",
     "output_type": "stream",
     "text": [
      "<class 'pandas.core.frame.DataFrame'>\n",
      "Int64Index: 3005689 entries, 383902 to 612926\n",
      "Data columns (total 2 columns):\n",
      " #   Column    Dtype \n",
      "---  ------    ----- \n",
      " 0   review    object\n",
      " 1   voted_up  bool  \n",
      "dtypes: bool(1), object(1)\n",
      "memory usage: 48.7+ MB\n"
     ]
    }
   ],
   "source": [
    "df.info()"
   ]
  },
  {
   "cell_type": "code",
   "execution_count": 10,
   "id": "3c879884-704c-4e67-b8b0-81fe1e8c8fa3",
   "metadata": {},
   "outputs": [
    {
     "data": {
      "text/html": [
       "<div>\n",
       "<style scoped>\n",
       "    .dataframe tbody tr th:only-of-type {\n",
       "        vertical-align: middle;\n",
       "    }\n",
       "\n",
       "    .dataframe tbody tr th {\n",
       "        vertical-align: top;\n",
       "    }\n",
       "\n",
       "    .dataframe thead th {\n",
       "        text-align: right;\n",
       "    }\n",
       "</style>\n",
       "<table border=\"1\" class=\"dataframe\">\n",
       "  <thead>\n",
       "    <tr style=\"text-align: right;\">\n",
       "      <th></th>\n",
       "      <th>review</th>\n",
       "      <th>voted_up</th>\n",
       "    </tr>\n",
       "  </thead>\n",
       "  <tbody>\n",
       "    <tr>\n",
       "      <th>0</th>\n",
       "      <td>A great puzzle game almost anyone can enjoy.It has a cool and humorous storyline I can definantl...</td>\n",
       "      <td>True</td>\n",
       "    </tr>\n",
       "    <tr>\n",
       "      <th>1</th>\n",
       "      <td>Nice game !</td>\n",
       "      <td>True</td>\n",
       "    </tr>\n",
       "    <tr>\n",
       "      <th>2</th>\n",
       "      <td>good game</td>\n",
       "      <td>True</td>\n",
       "    </tr>\n",
       "    <tr>\n",
       "      <th>3</th>\n",
       "      <td>Hey Gaben, it's free to play now, can I get a refund?</td>\n",
       "      <td>False</td>\n",
       "    </tr>\n",
       "    <tr>\n",
       "      <th>4</th>\n",
       "      <td>DEN HÄRA GLOCK ER DELI BRUSHAN. MIN GLOCK 18 FÖRLÄNG KAN PANGA ALLT BRUSHAN, I LIKE CUNTER STIRK...</td>\n",
       "      <td>True</td>\n",
       "    </tr>\n",
       "  </tbody>\n",
       "</table>\n",
       "</div>"
      ],
      "text/plain": [
       "                                                                                                review  \\\n",
       "0  A great puzzle game almost anyone can enjoy.It has a cool and humorous storyline I can definantl...   \n",
       "1                                                                                          Nice game !   \n",
       "2                                                                                            good game   \n",
       "3                                                Hey Gaben, it's free to play now, can I get a refund?   \n",
       "4  DEN HÄRA GLOCK ER DELI BRUSHAN. MIN GLOCK 18 FÖRLÄNG KAN PANGA ALLT BRUSHAN, I LIKE CUNTER STIRK...   \n",
       "\n",
       "   voted_up  \n",
       "0      True  \n",
       "1      True  \n",
       "2      True  \n",
       "3     False  \n",
       "4      True  "
      ]
     },
     "execution_count": 10,
     "metadata": {},
     "output_type": "execute_result"
    }
   ],
   "source": [
    "# so this should be a dataset representative of each of the different CSV\n",
    "# now all I need to do is get a train set of roughly 8k rows, a validation and test set of however big we want\n",
    "# and save those as CSVs for modeling later\n",
    "\n",
    "df.reset_index(drop=True, inplace=True) #run this once\n",
    "df.head()"
   ]
  },
  {
   "cell_type": "code",
   "execution_count": 11,
   "id": "334e6deb-6c11-4cec-86c2-fe5b629a326b",
   "metadata": {},
   "outputs": [
    {
     "name": "stdout",
     "output_type": "stream",
     "text": [
      "<class 'pandas.core.frame.DataFrame'>\n",
      "RangeIndex: 3005689 entries, 0 to 3005688\n",
      "Data columns (total 2 columns):\n",
      " #   Column    Dtype \n",
      "---  ------    ----- \n",
      " 0   review    object\n",
      " 1   voted_up  bool  \n",
      "dtypes: bool(1), object(1)\n",
      "memory usage: 25.8+ MB\n"
     ]
    }
   ],
   "source": [
    "df.info()"
   ]
  },
  {
   "cell_type": "code",
   "execution_count": 12,
   "id": "63eb18c0-0069-40c7-a371-b949d0c44da4",
   "metadata": {},
   "outputs": [],
   "source": [
    "# real quick I'm going to save this as a new csv for potential later use\n",
    "df.to_csv(\"../../../data/NLP/combined_split_reviews.csv\", index=False)"
   ]
  },
  {
   "cell_type": "code",
   "execution_count": 13,
   "id": "5afbe203-bdf7-40fb-b618-5ab90bcd30a0",
   "metadata": {},
   "outputs": [],
   "source": [
    "# because 3 mil is still too big to make models from using our wimpy laptops, going to use this to create a train, validate, and test csv\n",
    "\n",
    "X = df.drop(\"voted_up\", axis=1)\n",
    "y = df[\"voted_up\"]\n",
    "\n",
    "X_train, X_test, y_train, y_test = train_test_split(X, y, random_state=57, test_size=0.006) # 0.006 gets us 18k rows, which i'll then split into the train, val, and test csv"
   ]
  },
  {
   "cell_type": "code",
   "execution_count": 14,
   "id": "442d2bba-ae2e-46b8-98d6-8c7897cdffd2",
   "metadata": {},
   "outputs": [
    {
     "data": {
      "text/plain": [
       "(18035, 1)"
      ]
     },
     "execution_count": 14,
     "metadata": {},
     "output_type": "execute_result"
    }
   ],
   "source": [
    "X_test.shape #confirming we have the desired # of rows"
   ]
  },
  {
   "cell_type": "code",
   "execution_count": 15,
   "id": "5999f53a-8417-4bce-b2b8-a4f3f44c0459",
   "metadata": {},
   "outputs": [
    {
     "name": "stdout",
     "output_type": "stream",
     "text": [
      "<class 'pandas.core.frame.DataFrame'>\n",
      "Int64Index: 18035 entries, 26470 to 1022222\n",
      "Data columns (total 2 columns):\n",
      " #   Column    Non-Null Count  Dtype \n",
      "---  ------    --------------  ----- \n",
      " 0   review    18035 non-null  object\n",
      " 1   voted_up  18035 non-null  bool  \n",
      "dtypes: bool(1), object(1)\n",
      "memory usage: 299.4+ KB\n"
     ]
    }
   ],
   "source": [
    "temp_df = pd.concat([X_test, y_test], axis=1)\n",
    "temp_df.info()"
   ]
  },
  {
   "cell_type": "code",
   "execution_count": 16,
   "id": "eb86083d-8224-4626-80f2-cdf7a8497a8c",
   "metadata": {},
   "outputs": [],
   "source": [
    "X = temp_df.drop(\"voted_up\", axis=1)\n",
    "y = temp_df[\"voted_up\"]\n",
    "\n",
    "X_train, X_test, y_train, y_test = train_test_split(X, y, random_state=57, test_size=0.5)\n",
    "X_val, X_test, y_val, y_test = train_test_split(X_test, y_test, random_state=57, test_size=0.5)"
   ]
  },
  {
   "cell_type": "code",
   "execution_count": 17,
   "id": "831cca89-686e-4795-80c5-d4dbb32f7643",
   "metadata": {},
   "outputs": [
    {
     "data": {
      "text/plain": [
       "(9017, 2)"
      ]
     },
     "metadata": {},
     "output_type": "display_data"
    },
    {
     "data": {
      "text/plain": [
       "(4509, 2)"
      ]
     },
     "metadata": {},
     "output_type": "display_data"
    },
    {
     "data": {
      "text/plain": [
       "(4509, 2)"
      ]
     },
     "metadata": {},
     "output_type": "display_data"
    },
    {
     "data": {
      "text/html": [
       "<div>\n",
       "<style scoped>\n",
       "    .dataframe tbody tr th:only-of-type {\n",
       "        vertical-align: middle;\n",
       "    }\n",
       "\n",
       "    .dataframe tbody tr th {\n",
       "        vertical-align: top;\n",
       "    }\n",
       "\n",
       "    .dataframe thead th {\n",
       "        text-align: right;\n",
       "    }\n",
       "</style>\n",
       "<table border=\"1\" class=\"dataframe\">\n",
       "  <thead>\n",
       "    <tr style=\"text-align: right;\">\n",
       "      <th></th>\n",
       "      <th>review</th>\n",
       "      <th>voted_up</th>\n",
       "    </tr>\n",
       "  </thead>\n",
       "  <tbody>\n",
       "    <tr>\n",
       "      <th>0</th>\n",
       "      <td>A+++++++</td>\n",
       "      <td>True</td>\n",
       "    </tr>\n",
       "    <tr>\n",
       "      <th>1</th>\n",
       "      <td>Wide spread crashes on Nvidia grpahics cards and amateur hour with relying on too many external ...</td>\n",
       "      <td>False</td>\n",
       "    </tr>\n",
       "    <tr>\n",
       "      <th>2</th>\n",
       "      <td>Can confirm the roads in New Vegas look exactly like the roads here in Vegas in 2020</td>\n",
       "      <td>True</td>\n",
       "    </tr>\n",
       "  </tbody>\n",
       "</table>\n",
       "</div>"
      ],
      "text/plain": [
       "                                                                                                review  \\\n",
       "0                                                                                             A+++++++   \n",
       "1  Wide spread crashes on Nvidia grpahics cards and amateur hour with relying on too many external ...   \n",
       "2                 Can confirm the roads in New Vegas look exactly like the roads here in Vegas in 2020   \n",
       "\n",
       "   voted_up  \n",
       "0      True  \n",
       "1     False  \n",
       "2      True  "
      ]
     },
     "metadata": {},
     "output_type": "display_data"
    },
    {
     "data": {
      "text/html": [
       "<div>\n",
       "<style scoped>\n",
       "    .dataframe tbody tr th:only-of-type {\n",
       "        vertical-align: middle;\n",
       "    }\n",
       "\n",
       "    .dataframe tbody tr th {\n",
       "        vertical-align: top;\n",
       "    }\n",
       "\n",
       "    .dataframe thead th {\n",
       "        text-align: right;\n",
       "    }\n",
       "</style>\n",
       "<table border=\"1\" class=\"dataframe\">\n",
       "  <thead>\n",
       "    <tr style=\"text-align: right;\">\n",
       "      <th></th>\n",
       "      <th>review</th>\n",
       "      <th>voted_up</th>\n",
       "    </tr>\n",
       "  </thead>\n",
       "  <tbody>\n",
       "    <tr>\n",
       "      <th>0</th>\n",
       "      <td>.</td>\n",
       "      <td>True</td>\n",
       "    </tr>\n",
       "    <tr>\n",
       "      <th>1</th>\n",
       "      <td>\\nI love this game, too bad I cant play the 3rd until 2020 :(</td>\n",
       "      <td>True</td>\n",
       "    </tr>\n",
       "    <tr>\n",
       "      <th>2</th>\n",
       "      <td>Aside from the stupid marketing decision of making Titans a separate game, Planetary Annihilatio...</td>\n",
       "      <td>True</td>\n",
       "    </tr>\n",
       "  </tbody>\n",
       "</table>\n",
       "</div>"
      ],
      "text/plain": [
       "                                                                                                review  \\\n",
       "0                                                                                                    .   \n",
       "1                                        \\nI love this game, too bad I cant play the 3rd until 2020 :(   \n",
       "2  Aside from the stupid marketing decision of making Titans a separate game, Planetary Annihilatio...   \n",
       "\n",
       "   voted_up  \n",
       "0      True  \n",
       "1      True  \n",
       "2      True  "
      ]
     },
     "metadata": {},
     "output_type": "display_data"
    },
    {
     "data": {
      "text/html": [
       "<div>\n",
       "<style scoped>\n",
       "    .dataframe tbody tr th:only-of-type {\n",
       "        vertical-align: middle;\n",
       "    }\n",
       "\n",
       "    .dataframe tbody tr th {\n",
       "        vertical-align: top;\n",
       "    }\n",
       "\n",
       "    .dataframe thead th {\n",
       "        text-align: right;\n",
       "    }\n",
       "</style>\n",
       "<table border=\"1\" class=\"dataframe\">\n",
       "  <thead>\n",
       "    <tr style=\"text-align: right;\">\n",
       "      <th></th>\n",
       "      <th>review</th>\n",
       "      <th>voted_up</th>\n",
       "    </tr>\n",
       "  </thead>\n",
       "  <tbody>\n",
       "    <tr>\n",
       "      <th>0</th>\n",
       "      <td>HEY THAT'S PRETTY GOOD!</td>\n",
       "      <td>True</td>\n",
       "    </tr>\n",
       "    <tr>\n",
       "      <th>1</th>\n",
       "      <td>GREAT</td>\n",
       "      <td>True</td>\n",
       "    </tr>\n",
       "    <tr>\n",
       "      <th>2</th>\n",
       "      <td>This game, this game right here is really, really awesome! It's like playing with legos, on the ...</td>\n",
       "      <td>True</td>\n",
       "    </tr>\n",
       "  </tbody>\n",
       "</table>\n",
       "</div>"
      ],
      "text/plain": [
       "                                                                                                review  \\\n",
       "0                                                                              HEY THAT'S PRETTY GOOD!   \n",
       "1                                                                                                GREAT   \n",
       "2  This game, this game right here is really, really awesome! It's like playing with legos, on the ...   \n",
       "\n",
       "   voted_up  \n",
       "0      True  \n",
       "1      True  \n",
       "2      True  "
      ]
     },
     "metadata": {},
     "output_type": "display_data"
    }
   ],
   "source": [
    "train_df = pd.concat([X_train, y_train], axis=1)\n",
    "val_df = pd.concat([X_val, y_val], axis=1)\n",
    "test_df = pd.concat([X_test, y_test], axis=1)\n",
    "\n",
    "train_df.reset_index(drop=True, inplace=True) #run this once\n",
    "val_df.reset_index(drop=True, inplace=True) #run this once\n",
    "test_df.reset_index(drop=True, inplace=True) #run this once\n",
    "\n",
    "display(train_df.shape, val_df.shape, test_df.shape)\n",
    "display(train_df.head(3), val_df.head(3), test_df.head(3))"
   ]
  },
  {
   "cell_type": "code",
   "execution_count": 18,
   "id": "01173ff9-708b-4f35-91a4-1a2ac84ef779",
   "metadata": {},
   "outputs": [],
   "source": [
    "train_df.to_csv(\"../../../data/NLP/train.csv\", index=False)\n",
    "val_df.to_csv(\"../../../data/NLP/validate.csv\", index=False)\n",
    "test_df.to_csv(\"../../../data/NLP/test.csv\", index=False)"
   ]
  },
  {
   "cell_type": "code",
   "execution_count": null,
   "id": "0e8bbe4a-8b55-44b7-bd85-1ea5e12094b6",
   "metadata": {},
   "outputs": [],
   "source": []
  }
 ],
 "metadata": {
  "kernelspec": {
   "display_name": "learn-env",
   "language": "python",
   "name": "learn-env"
  },
  "language_info": {
   "codemirror_mode": {
    "name": "ipython",
    "version": 3
   },
   "file_extension": ".py",
   "mimetype": "text/x-python",
   "name": "python",
   "nbconvert_exporter": "python",
   "pygments_lexer": "ipython3",
   "version": "3.8.5"
  }
 },
 "nbformat": 4,
 "nbformat_minor": 5
}

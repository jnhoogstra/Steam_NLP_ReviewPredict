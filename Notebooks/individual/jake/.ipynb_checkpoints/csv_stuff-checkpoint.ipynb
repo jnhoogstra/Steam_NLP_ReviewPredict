{
 "cells": [
  {
   "cell_type": "code",
   "execution_count": 1,
   "id": "223804d2-25d9-4218-9a02-02a8d1dd555f",
   "metadata": {},
   "outputs": [],
   "source": [
    "import numpy as np \n",
    "import pandas as pd \n",
    "pd.set_option('display.max_colwidth', 100)\n",
    "\n",
    "import re\n",
    "import string\n",
    "import nltk\n",
    "\n",
    "from textblob import TextBlob, Word\n",
    "from wordcloud import WordCloud\n",
    "\n",
    "from sklearn.feature_extraction.text import TfidfVectorizer\n",
    "from sklearn.model_selection import train_test_split"
   ]
  },
  {
   "cell_type": "code",
   "execution_count": 2,
   "id": "306ae490-113a-4e57-abea-13c00250fce0",
   "metadata": {},
   "outputs": [
    {
     "data": {
      "text/html": [
       "<div>\n",
       "<style scoped>\n",
       "    .dataframe tbody tr th:only-of-type {\n",
       "        vertical-align: middle;\n",
       "    }\n",
       "\n",
       "    .dataframe tbody tr th {\n",
       "        vertical-align: top;\n",
       "    }\n",
       "\n",
       "    .dataframe thead th {\n",
       "        text-align: right;\n",
       "    }\n",
       "</style>\n",
       "<table border=\"1\" class=\"dataframe\">\n",
       "  <thead>\n",
       "    <tr style=\"text-align: right;\">\n",
       "      <th></th>\n",
       "      <th>review</th>\n",
       "      <th>voted_up</th>\n",
       "    </tr>\n",
       "  </thead>\n",
       "  <tbody>\n",
       "    <tr>\n",
       "      <th>0</th>\n",
       "      <td>A great puzzle game almost anyone can enjoy.It has a cool and humorous storyline I can definantl...</td>\n",
       "      <td>True</td>\n",
       "    </tr>\n",
       "    <tr>\n",
       "      <th>1</th>\n",
       "      <td>Nice game !</td>\n",
       "      <td>True</td>\n",
       "    </tr>\n",
       "    <tr>\n",
       "      <th>2</th>\n",
       "      <td>good game</td>\n",
       "      <td>True</td>\n",
       "    </tr>\n",
       "  </tbody>\n",
       "</table>\n",
       "</div>"
      ],
      "text/plain": [
       "                                                                                                review  \\\n",
       "0  A great puzzle game almost anyone can enjoy.It has a cool and humorous storyline I can definantl...   \n",
       "1                                                                                          Nice game !   \n",
       "2                                                                                            good game   \n",
       "\n",
       "   voted_up  \n",
       "0      True  \n",
       "1      True  \n",
       "2      True  "
      ]
     },
     "execution_count": 2,
     "metadata": {},
     "output_type": "execute_result"
    }
   ],
   "source": [
    "# found a major class imbalance after doing work in merge_and_chop, so I'm going to fix that here\n",
    "# also going to create a csv of roughly 20k instead of doing the train, test, and calidate csv files due to vocabulary problems\n",
    "\n",
    "#this df is made from merge_and_chop using the dataset files at https://www.kaggle.com/forgemaster/steam-reviews-dataset?select=reviews-1-115.csv\n",
    "#none of these files are stored in github\n",
    "df = pd.read_csv(\"../../../data/combined_split_reviews.csv\")\n",
    "df.head(3)"
   ]
  },
  {
   "cell_type": "code",
   "execution_count": 3,
   "id": "9e5f7e2b-f8ca-4a42-890f-d4a0f4d66bb0",
   "metadata": {},
   "outputs": [
    {
     "name": "stdout",
     "output_type": "stream",
     "text": [
      "<class 'pandas.core.frame.DataFrame'>\n",
      "RangeIndex: 3005689 entries, 0 to 3005688\n",
      "Data columns (total 2 columns):\n",
      " #   Column    Dtype \n",
      "---  ------    ----- \n",
      " 0   review    object\n",
      " 1   voted_up  bool  \n",
      "dtypes: bool(1), object(1)\n",
      "memory usage: 25.8+ MB\n"
     ]
    }
   ],
   "source": [
    "df.info()"
   ]
  },
  {
   "cell_type": "code",
   "execution_count": 4,
   "id": "a8daa7fa-772a-4f37-a521-5253d332089c",
   "metadata": {},
   "outputs": [
    {
     "data": {
      "text/plain": [
       "True     2613426\n",
       "False     392263\n",
       "Name: voted_up, dtype: int64"
      ]
     },
     "execution_count": 4,
     "metadata": {},
     "output_type": "execute_result"
    }
   ],
   "source": [
    "df[\"voted_up\"].value_counts()"
   ]
  },
  {
   "cell_type": "code",
   "execution_count": 5,
   "id": "25e4e7a6-b372-4626-8f15-77c7a4c65853",
   "metadata": {},
   "outputs": [
    {
     "data": {
      "text/plain": [
       "True     0.869493\n",
       "False    0.130507\n",
       "Name: voted_up, dtype: float64"
      ]
     },
     "execution_count": 5,
     "metadata": {},
     "output_type": "execute_result"
    }
   ],
   "source": [
    "df[\"voted_up\"].value_counts(normalize=True)"
   ]
  },
  {
   "cell_type": "code",
   "execution_count": 6,
   "id": "3e60c1dd-937f-4339-8311-d2addac1e754",
   "metadata": {},
   "outputs": [],
   "source": [
    "# above is where our class imbalance in the train, test, and validate splits comes from\n",
    "# going to use the two below dataframes to take 10k random voted up and 10k random voted down\n",
    "df_up = df.loc[df['voted_up'] == 1]\n",
    "df_down = df.loc[df['voted_up'] == 0]"
   ]
  },
  {
   "cell_type": "code",
   "execution_count": 7,
   "id": "77336263-080e-42e8-b58c-ffaba6b92232",
   "metadata": {},
   "outputs": [
    {
     "name": "stdout",
     "output_type": "stream",
     "text": [
      "<class 'pandas.core.frame.DataFrame'>\n",
      "Int64Index: 2613426 entries, 0 to 3005688\n",
      "Data columns (total 2 columns):\n",
      " #   Column    Dtype \n",
      "---  ------    ----- \n",
      " 0   review    object\n",
      " 1   voted_up  bool  \n",
      "dtypes: bool(1), object(1)\n",
      "memory usage: 42.4+ MB\n"
     ]
    }
   ],
   "source": [
    "#getting 10k random voted up\n",
    "df_up.info()"
   ]
  },
  {
   "cell_type": "code",
   "execution_count": 9,
   "id": "cc93c6a7-8a35-4c0f-b4a0-3a8a271a14cd",
   "metadata": {},
   "outputs": [
    {
     "data": {
      "text/plain": [
       "(10454, 1)"
      ]
     },
     "metadata": {},
     "output_type": "display_data"
    },
    {
     "data": {
      "text/plain": [
       "(10454,)"
      ]
     },
     "metadata": {},
     "output_type": "display_data"
    }
   ],
   "source": [
    "X_up = df_up.drop(\"voted_up\", axis=1)\n",
    "y_up = df_up[\"voted_up\"]\n",
    "\n",
    "X_train, X_test, y_train, y_test = train_test_split(X_up, y_up, random_state=57, test_size=0.004) #took some fiddling for test_size\n",
    "display(X_test.shape, y_test.shape)"
   ]
  },
  {
   "cell_type": "code",
   "execution_count": 10,
   "id": "03bf743e-acf4-4987-9bce-c1ce43d0c2b6",
   "metadata": {},
   "outputs": [
    {
     "name": "stdout",
     "output_type": "stream",
     "text": [
      "<class 'pandas.core.frame.DataFrame'>\n",
      "Int64Index: 10454 entries, 1966882 to 1081349\n",
      "Data columns (total 2 columns):\n",
      " #   Column    Non-Null Count  Dtype \n",
      "---  ------    --------------  ----- \n",
      " 0   review    10454 non-null  object\n",
      " 1   voted_up  10454 non-null  bool  \n",
      "dtypes: bool(1), object(1)\n",
      "memory usage: 173.6+ KB\n"
     ]
    }
   ],
   "source": [
    "df_up_sample = pd.concat([X_test, y_test], axis=1)\n",
    "df_up_sample.info()"
   ]
  },
  {
   "cell_type": "code",
   "execution_count": 11,
   "id": "6e8bd5e5-882e-4db1-a8c2-923a75c7adee",
   "metadata": {},
   "outputs": [
    {
     "data": {
      "text/html": [
       "<div>\n",
       "<style scoped>\n",
       "    .dataframe tbody tr th:only-of-type {\n",
       "        vertical-align: middle;\n",
       "    }\n",
       "\n",
       "    .dataframe tbody tr th {\n",
       "        vertical-align: top;\n",
       "    }\n",
       "\n",
       "    .dataframe thead th {\n",
       "        text-align: right;\n",
       "    }\n",
       "</style>\n",
       "<table border=\"1\" class=\"dataframe\">\n",
       "  <thead>\n",
       "    <tr style=\"text-align: right;\">\n",
       "      <th></th>\n",
       "      <th>review</th>\n",
       "      <th>voted_up</th>\n",
       "    </tr>\n",
       "  </thead>\n",
       "  <tbody>\n",
       "    <tr>\n",
       "      <th>1966882</th>\n",
       "      <td>This game is fun, but it's way too easy. I couldn't believe how easy the bosses were. They look ...</td>\n",
       "      <td>True</td>\n",
       "    </tr>\n",
       "    <tr>\n",
       "      <th>2844582</th>\n",
       "      <td>Really fun and well designed.. would love to see more classes and a coop mode in the future!</td>\n",
       "      <td>True</td>\n",
       "    </tr>\n",
       "    <tr>\n",
       "      <th>2853106</th>\n",
       "      <td>Jungle people very angry.</td>\n",
       "      <td>True</td>\n",
       "    </tr>\n",
       "  </tbody>\n",
       "</table>\n",
       "</div>"
      ],
      "text/plain": [
       "                                                                                                      review  \\\n",
       "1966882  This game is fun, but it's way too easy. I couldn't believe how easy the bosses were. They look ...   \n",
       "2844582         Really fun and well designed.. would love to see more classes and a coop mode in the future!   \n",
       "2853106                                                                            Jungle people very angry.   \n",
       "\n",
       "         voted_up  \n",
       "1966882      True  \n",
       "2844582      True  \n",
       "2853106      True  "
      ]
     },
     "execution_count": 11,
     "metadata": {},
     "output_type": "execute_result"
    }
   ],
   "source": [
    "df_up_sample.head(3)"
   ]
  },
  {
   "cell_type": "code",
   "execution_count": 12,
   "id": "e5266382-d337-42ea-8b01-08dc00b8f9e2",
   "metadata": {},
   "outputs": [
    {
     "data": {
      "text/plain": [
       "(10592, 1)"
      ]
     },
     "metadata": {},
     "output_type": "display_data"
    },
    {
     "data": {
      "text/plain": [
       "(10592,)"
      ]
     },
     "metadata": {},
     "output_type": "display_data"
    }
   ],
   "source": [
    "#looking good for the up votes, now the downvotes\n",
    "\n",
    "X_down = df_down.drop(\"voted_up\", axis=1)\n",
    "y_down = df_down[\"voted_up\"]\n",
    "\n",
    "X_train, X_test, y_train, y_test = train_test_split(X_down, y_down, random_state=57, test_size=0.027) #took some fiddling for test_size\n",
    "display(X_test.shape, y_test.shape)"
   ]
  },
  {
   "cell_type": "code",
   "execution_count": 13,
   "id": "e4e546bd-cea6-42a8-bb5e-5701383e42b3",
   "metadata": {},
   "outputs": [
    {
     "name": "stdout",
     "output_type": "stream",
     "text": [
      "<class 'pandas.core.frame.DataFrame'>\n",
      "Int64Index: 10592 entries, 2119612 to 1626697\n",
      "Data columns (total 2 columns):\n",
      " #   Column    Non-Null Count  Dtype \n",
      "---  ------    --------------  ----- \n",
      " 0   review    10592 non-null  object\n",
      " 1   voted_up  10592 non-null  bool  \n",
      "dtypes: bool(1), object(1)\n",
      "memory usage: 175.8+ KB\n"
     ]
    }
   ],
   "source": [
    "df_down_sample = pd.concat([X_test, y_test], axis=1)\n",
    "df_down_sample.info()"
   ]
  },
  {
   "cell_type": "code",
   "execution_count": 14,
   "id": "ceb7cc2d-350d-408d-b9d8-602c3f462905",
   "metadata": {},
   "outputs": [
    {
     "data": {
      "text/html": [
       "<div>\n",
       "<style scoped>\n",
       "    .dataframe tbody tr th:only-of-type {\n",
       "        vertical-align: middle;\n",
       "    }\n",
       "\n",
       "    .dataframe tbody tr th {\n",
       "        vertical-align: top;\n",
       "    }\n",
       "\n",
       "    .dataframe thead th {\n",
       "        text-align: right;\n",
       "    }\n",
       "</style>\n",
       "<table border=\"1\" class=\"dataframe\">\n",
       "  <thead>\n",
       "    <tr style=\"text-align: right;\">\n",
       "      <th></th>\n",
       "      <th>review</th>\n",
       "      <th>voted_up</th>\n",
       "    </tr>\n",
       "  </thead>\n",
       "  <tbody>\n",
       "    <tr>\n",
       "      <th>2119612</th>\n",
       "      <td>You can NOT play this offline. You need a internet connection at all times. Pretty fun sometimes...</td>\n",
       "      <td>False</td>\n",
       "    </tr>\n",
       "    <tr>\n",
       "      <th>2537484</th>\n",
       "      <td>TL;DR, its one of those games that's more fun to watch than it is to play.\\r\\nyou pick up artifa...</td>\n",
       "      <td>False</td>\n",
       "    </tr>\n",
       "    <tr>\n",
       "      <th>1918530</th>\n",
       "      <td>I simply can not recommend this game at this time. There are some good moments, and so far the o...</td>\n",
       "      <td>False</td>\n",
       "    </tr>\n",
       "  </tbody>\n",
       "</table>\n",
       "</div>"
      ],
      "text/plain": [
       "                                                                                                      review  \\\n",
       "2119612  You can NOT play this offline. You need a internet connection at all times. Pretty fun sometimes...   \n",
       "2537484  TL;DR, its one of those games that's more fun to watch than it is to play.\\r\\nyou pick up artifa...   \n",
       "1918530  I simply can not recommend this game at this time. There are some good moments, and so far the o...   \n",
       "\n",
       "         voted_up  \n",
       "2119612     False  \n",
       "2537484     False  \n",
       "1918530     False  "
      ]
     },
     "execution_count": 14,
     "metadata": {},
     "output_type": "execute_result"
    }
   ],
   "source": [
    "df_down_sample.head(3)"
   ]
  },
  {
   "cell_type": "code",
   "execution_count": 17,
   "id": "c0a2fef5-439c-4b1a-810a-4a16c5a9197a",
   "metadata": {},
   "outputs": [
    {
     "name": "stdout",
     "output_type": "stream",
     "text": [
      "<class 'pandas.core.frame.DataFrame'>\n",
      "RangeIndex: 21046 entries, 0 to 21045\n",
      "Data columns (total 2 columns):\n",
      " #   Column    Non-Null Count  Dtype \n",
      "---  ------    --------------  ----- \n",
      " 0   review    21046 non-null  object\n",
      " 1   voted_up  21046 non-null  bool  \n",
      "dtypes: bool(1), object(1)\n",
      "memory usage: 185.1+ KB\n"
     ]
    }
   ],
   "source": [
    "#now to combine these two and then change voted_up to an int\n",
    "\n",
    "final_df = pd.concat([df_up_sample, df_down_sample])\n",
    "final_df.reset_index(drop=True, inplace=True)\n",
    "final_df.info()"
   ]
  },
  {
   "cell_type": "code",
   "execution_count": 18,
   "id": "ab8686a4-0452-47a7-bf75-76e74d61acec",
   "metadata": {},
   "outputs": [
    {
     "data": {
      "text/html": [
       "<div>\n",
       "<style scoped>\n",
       "    .dataframe tbody tr th:only-of-type {\n",
       "        vertical-align: middle;\n",
       "    }\n",
       "\n",
       "    .dataframe tbody tr th {\n",
       "        vertical-align: top;\n",
       "    }\n",
       "\n",
       "    .dataframe thead th {\n",
       "        text-align: right;\n",
       "    }\n",
       "</style>\n",
       "<table border=\"1\" class=\"dataframe\">\n",
       "  <thead>\n",
       "    <tr style=\"text-align: right;\">\n",
       "      <th></th>\n",
       "      <th>review</th>\n",
       "      <th>voted_up</th>\n",
       "    </tr>\n",
       "  </thead>\n",
       "  <tbody>\n",
       "    <tr>\n",
       "      <th>0</th>\n",
       "      <td>This game is fun, but it's way too easy. I couldn't believe how easy the bosses were. They look ...</td>\n",
       "      <td>True</td>\n",
       "    </tr>\n",
       "    <tr>\n",
       "      <th>1</th>\n",
       "      <td>Really fun and well designed.. would love to see more classes and a coop mode in the future!</td>\n",
       "      <td>True</td>\n",
       "    </tr>\n",
       "    <tr>\n",
       "      <th>2</th>\n",
       "      <td>Jungle people very angry.</td>\n",
       "      <td>True</td>\n",
       "    </tr>\n",
       "  </tbody>\n",
       "</table>\n",
       "</div>"
      ],
      "text/plain": [
       "                                                                                                review  \\\n",
       "0  This game is fun, but it's way too easy. I couldn't believe how easy the bosses were. They look ...   \n",
       "1         Really fun and well designed.. would love to see more classes and a coop mode in the future!   \n",
       "2                                                                            Jungle people very angry.   \n",
       "\n",
       "   voted_up  \n",
       "0      True  \n",
       "1      True  \n",
       "2      True  "
      ]
     },
     "execution_count": 18,
     "metadata": {},
     "output_type": "execute_result"
    }
   ],
   "source": [
    "final_df.head(3)"
   ]
  },
  {
   "cell_type": "code",
   "execution_count": 19,
   "id": "41b65275-8cd5-473c-be4e-abcb286ae10b",
   "metadata": {},
   "outputs": [
    {
     "data": {
      "text/html": [
       "<div>\n",
       "<style scoped>\n",
       "    .dataframe tbody tr th:only-of-type {\n",
       "        vertical-align: middle;\n",
       "    }\n",
       "\n",
       "    .dataframe tbody tr th {\n",
       "        vertical-align: top;\n",
       "    }\n",
       "\n",
       "    .dataframe thead th {\n",
       "        text-align: right;\n",
       "    }\n",
       "</style>\n",
       "<table border=\"1\" class=\"dataframe\">\n",
       "  <thead>\n",
       "    <tr style=\"text-align: right;\">\n",
       "      <th></th>\n",
       "      <th>review</th>\n",
       "      <th>voted_up</th>\n",
       "    </tr>\n",
       "  </thead>\n",
       "  <tbody>\n",
       "    <tr>\n",
       "      <th>0</th>\n",
       "      <td>This game is fun, but it's way too easy. I couldn't believe how easy the bosses were. They look ...</td>\n",
       "      <td>1</td>\n",
       "    </tr>\n",
       "    <tr>\n",
       "      <th>1</th>\n",
       "      <td>Really fun and well designed.. would love to see more classes and a coop mode in the future!</td>\n",
       "      <td>1</td>\n",
       "    </tr>\n",
       "    <tr>\n",
       "      <th>2</th>\n",
       "      <td>Jungle people very angry.</td>\n",
       "      <td>1</td>\n",
       "    </tr>\n",
       "  </tbody>\n",
       "</table>\n",
       "</div>"
      ],
      "text/plain": [
       "                                                                                                review  \\\n",
       "0  This game is fun, but it's way too easy. I couldn't believe how easy the bosses were. They look ...   \n",
       "1         Really fun and well designed.. would love to see more classes and a coop mode in the future!   \n",
       "2                                                                            Jungle people very angry.   \n",
       "\n",
       "   voted_up  \n",
       "0         1  \n",
       "1         1  \n",
       "2         1  "
      ]
     },
     "execution_count": 19,
     "metadata": {},
     "output_type": "execute_result"
    }
   ],
   "source": [
    "final_df[\"voted_up\"] = final_df[\"voted_up\"].astype(int)\n",
    "final_df.head(3)"
   ]
  },
  {
   "cell_type": "code",
   "execution_count": 20,
   "id": "9ffd70d8-3a36-4802-82a6-a392940cbd9e",
   "metadata": {},
   "outputs": [
    {
     "data": {
      "text/plain": [
       "0    0.503279\n",
       "1    0.496721\n",
       "Name: voted_up, dtype: float64"
      ]
     },
     "execution_count": 20,
     "metadata": {},
     "output_type": "execute_result"
    }
   ],
   "source": [
    "final_df[\"voted_up\"].value_counts(normalize=True)"
   ]
  },
  {
   "cell_type": "code",
   "execution_count": 21,
   "id": "9011aba1-6124-4a79-b6dd-3c155fe66a17",
   "metadata": {},
   "outputs": [],
   "source": [
    "final_df.to_csv(\"../../../data/main.csv\", index=False)"
   ]
  },
  {
   "cell_type": "code",
   "execution_count": null,
   "id": "489e0dbc-9963-4318-a01e-4cfc2690a8ff",
   "metadata": {},
   "outputs": [],
   "source": []
  }
 ],
 "metadata": {
  "kernelspec": {
   "display_name": "learn-env",
   "language": "python",
   "name": "learn-env"
  },
  "language_info": {
   "codemirror_mode": {
    "name": "ipython",
    "version": 3
   },
   "file_extension": ".py",
   "mimetype": "text/x-python",
   "name": "python",
   "nbconvert_exporter": "python",
   "pygments_lexer": "ipython3",
   "version": "3.8.5"
  }
 },
 "nbformat": 4,
 "nbformat_minor": 5
}

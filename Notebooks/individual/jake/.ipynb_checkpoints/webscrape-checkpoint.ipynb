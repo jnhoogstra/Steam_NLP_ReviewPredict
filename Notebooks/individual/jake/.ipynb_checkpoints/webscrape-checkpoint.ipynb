{
 "cells": [
  {
   "cell_type": "markdown",
   "id": "0abfc20d",
   "metadata": {},
   "source": [
    "# Webscrape\n",
    "\n",
    "This notebook is the final webscrape product of an iterative process of our EDA and data collection / preparation.\n",
    "\n",
    "Once we decided to do a Recommendation System on top of our NLP model, we realized that we needed additional data in order to effectively produce and interpret a recommendation system.\n",
    "\n",
    "Original dataset at:  https://www.kaggle.com/forgemaster/steam-reviews-dataset?select=reviews-1-115.csv\n",
    "\n",
    "In this notebook I use the app ID for each game to webscrape for that game's Title (needed for interpretation) and that game's tags (things like FPS, action, adventure, puzzle, etc.).\n",
    "\n",
    "After some discussion we decided to narrow down our dataset to just games tagged with FPS because when performing NLP there might be some key words that have a lot of meaning for FPS games, but not for others.\n",
    "\n",
    "After webscraping, assigning titles and tags to each row, and then trimming for FPS games, I store the trimmed csvs in a folder outside of my local repo.\n",
    "\n",
    "#### It's important to note here that the original dataset csvs and the trimmed csvs are too large to push to github, and that's why they're stored in folders outside of the local repo."
   ]
  },
  {
   "cell_type": "code",
   "execution_count": 1,
   "id": "c521aa3b",
   "metadata": {},
   "outputs": [
    {
     "name": "stderr",
     "output_type": "stream",
     "text": [
      "[nltk_data] Downloading package stopwords to\n",
      "[nltk_data]     C:\\Users\\ultim\\AppData\\Roaming\\nltk_data...\n",
      "[nltk_data]   Package stopwords is already up-to-date!\n",
      "[nltk_data] Downloading package wordnet to\n",
      "[nltk_data]     C:\\Users\\ultim\\AppData\\Roaming\\nltk_data...\n",
      "[nltk_data]   Package wordnet is already up-to-date!\n"
     ]
    }
   ],
   "source": [
    "import numpy as np \n",
    "import pandas as pd \n",
    "import string\n",
    "import time\n",
    "\n",
    "import re\n",
    "import requests\n",
    "from bs4 import BeautifulSoup\n",
    "\n",
    "pd.set_option('display.max_colwidth', 100)\n",
    "\n",
    "import IPython\n",
    "sound_file = '../../../data/sounds/puzzle_solved_jingle.wav'\n",
    "\n",
    "import sys\n",
    "if not 'Notebooks/Individual/Jake' in sys.path:\n",
    "    sys.path.append('Notebooks/Individual/jake')\n",
    "from functions import FetchTitlesTags"
   ]
  },
  {
   "cell_type": "code",
   "execution_count": 2,
   "id": "a2923b0e",
   "metadata": {},
   "outputs": [],
   "source": [
    "df0 = pd.read_csv(\"../../../../archive/reviews-1-115.csv\")\n",
    "df1 = pd.read_csv(\"../../../../archive/reviews-115-1230.csv\")\n",
    "df2 = pd.read_csv(\"../../../../archive/reviews-1230-2345.csv\")\n",
    "df3 = pd.read_csv(\"../../../../archive/reviews-2345-4575.csv\")\n",
    "df4 = pd.read_csv(\"../../../../archive/reviews-4575-6805.csv\")\n",
    "df5 = pd.read_csv(\"../../../../archive/reviews-6805-9035.csv\")\n",
    "df6 = pd.read_csv(\"../../../../archive/reviews-9035-11265.csv\")\n",
    "df7 = pd.read_csv(\"../../../../archive/reviews-11265-13495.csv\")\n",
    "df8 = pd.read_csv(\"../../../../archive/reviews-13495-13500.csv\")\n",
    "df9 = pd.read_csv(\"../../../../archive/reviews-13500-13537.csv\")\n",
    "df10 = pd.read_csv(\"../../../../archive/reviews-13537-27075.csv\")"
   ]
  },
  {
   "cell_type": "code",
   "execution_count": 3,
   "id": "6c323a23",
   "metadata": {},
   "outputs": [],
   "source": [
    "df0 = df0.dropna()\n",
    "df1 = df1.dropna()\n",
    "df2 = df2.dropna()\n",
    "df3 = df3.dropna()\n",
    "df4 = df4.dropna()\n",
    "df5 = df5.dropna()\n",
    "df6 = df6.dropna()\n",
    "df7 = df7.dropna()\n",
    "df8 = df8.dropna()\n",
    "df9 = df9.dropna()\n",
    "df10 = df10.dropna()"
   ]
  },
  {
   "cell_type": "code",
   "execution_count": 4,
   "id": "9fe2783f",
   "metadata": {},
   "outputs": [
    {
     "data": {
      "text/plain": [
       "steamid                   0\n",
       "appid                     0\n",
       "voted_up                  0\n",
       "votes_up                  0\n",
       "votes_funny               0\n",
       "weighted_vote_score       0\n",
       "playtime_forever          0\n",
       "playtime_at_review        0\n",
       "num_games_owned           0\n",
       "num_reviews               0\n",
       "review                    0\n",
       "unix_timestamp_created    0\n",
       "unix_timestamp_updated    0\n",
       "dtype: int64"
      ]
     },
     "execution_count": 4,
     "metadata": {},
     "output_type": "execute_result"
    }
   ],
   "source": [
    "df2.isna().sum()"
   ]
  },
  {
   "cell_type": "code",
   "execution_count": 5,
   "id": "deb61a96",
   "metadata": {},
   "outputs": [],
   "source": [
    "def get_ids_urls(df):\n",
    "    game_ids = list(df[\"appid\"].unique())\n",
    "\n",
    "    url_list = []\n",
    "    for each in game_ids:\n",
    "        url = \"https://store.steampowered.com/app/{}/\".format(each)\n",
    "        url_list.append(url)\n",
    "    \n",
    "    return game_ids, url_list"
   ]
  },
  {
   "cell_type": "code",
   "execution_count": 6,
   "id": "6e7b24b0",
   "metadata": {},
   "outputs": [],
   "source": [
    "def get_title(soup):\n",
    "    title = str(soup.find('div', class_=\"apphub_AppName\"))\n",
    "    title = title.replace('<div class=\"apphub_AppName\" id=\"appHubAppName\">', \"\")\n",
    "    title = title.replace('</div>', \"\")\n",
    "    return title\n",
    "    \n",
    "def get_tags(soup):\n",
    "    warning = soup.find('div', class_=\"glance_tags popular_tags\")\n",
    "    tags = [p.text for p in warning.findAll('a', class_=\"app_tag\")]\n",
    "    \n",
    "    for index in range(len(tags)):\n",
    "        tags[index] = tags[index].replace(\"\\t\", \"\")\n",
    "        tags[index] = tags[index].replace(\"\\r\\n\", \"\")\n",
    "    return tags"
   ]
  },
  {
   "cell_type": "code",
   "execution_count": 7,
   "id": "c9a22d43",
   "metadata": {},
   "outputs": [],
   "source": [
    "def get_titles_tags(url_list):\n",
    "    titles = []\n",
    "    tags = []\n",
    "\n",
    "    for url in url_list:\n",
    "        html_page = requests.get(url)\n",
    "        soup = BeautifulSoup(html_page.content, 'html.parser')\n",
    "        titles.append(get_title(soup))\n",
    "        tags.append(get_tags(soup))\n",
    "        time.sleep(1)\n",
    "        \n",
    "    return titles, tags"
   ]
  },
  {
   "cell_type": "code",
   "execution_count": 8,
   "id": "beba5536",
   "metadata": {},
   "outputs": [],
   "source": [
    "def add_titles(appid, game_ids, titles):\n",
    "    for index in range(len(game_ids)):\n",
    "        if appid == game_ids[index]:\n",
    "            title = titles[index]\n",
    "    return title"
   ]
  },
  {
   "cell_type": "code",
   "execution_count": 9,
   "id": "78b14c64",
   "metadata": {},
   "outputs": [],
   "source": [
    "def add_tags(appid, game_ids, tags):\n",
    "    for index in range(len(game_ids)):\n",
    "         if appid == game_ids[index]:\n",
    "                tag = tags[index]\n",
    "    return tag"
   ]
  },
  {
   "cell_type": "code",
   "execution_count": 10,
   "id": "59ba3dc9",
   "metadata": {},
   "outputs": [],
   "source": [
    "def add_features(df):\n",
    "    game_ids, url_list = get_ids_urls(df)\n",
    "    titles, tags = get_titles_tags(url_list)\n",
    "    \n",
    "    df[\"app_title\"] = df[\"appid\"].apply(lambda x: add_titles(x, game_ids, titles))\n",
    "    df[\"app_tags\"] = df[\"appid\"].apply(lambda x: add_tags(x, game_ids, tags))\n",
    "    \n",
    "    return df"
   ]
  },
  {
   "cell_type": "code",
   "execution_count": 11,
   "id": "b1911984",
   "metadata": {},
   "outputs": [],
   "source": [
    "col = [\"steamid\", \"appid\", \"app_title\", \"app_tags\", \"review\", \"voted_up\"]\n",
    "\n",
    "def get_FPS(tags):\n",
    "    result = False\n",
    "    if \"FPS\" in tags:\n",
    "        result = True\n",
    "    return result"
   ]
  },
  {
   "cell_type": "code",
   "execution_count": 12,
   "id": "a4a4bd3d",
   "metadata": {},
   "outputs": [
    {
     "name": "stderr",
     "output_type": "stream",
     "text": [
      "<ipython-input-12-8984468eaad6>:3: SettingWithCopyWarning: \n",
      "A value is trying to be set on a copy of a slice from a DataFrame.\n",
      "Try using .loc[row_indexer,col_indexer] = value instead\n",
      "\n",
      "See the caveats in the documentation: https://pandas.pydata.org/pandas-docs/stable/user_guide/indexing.html#returning-a-view-versus-a-copy\n",
      "  df0_trim[\"fps\"] = df0_trim[\"app_tags\"].apply(lambda x: get_FPS(x))\n"
     ]
    }
   ],
   "source": [
    "df0_added = add_features(df0)\n",
    "df0_trim = df0_added[col]\n",
    "df0_trim[\"fps\"] = df0_trim[\"app_tags\"].apply(lambda x: get_FPS(x))\n",
    "df0_trim = df0_trim[df0_trim[\"fps\"] == True]"
   ]
  },
  {
   "cell_type": "code",
   "execution_count": 13,
   "id": "a9e4bcd3",
   "metadata": {},
   "outputs": [
    {
     "name": "stderr",
     "output_type": "stream",
     "text": [
      "<ipython-input-13-366f64449102>:3: SettingWithCopyWarning: \n",
      "A value is trying to be set on a copy of a slice from a DataFrame.\n",
      "Try using .loc[row_indexer,col_indexer] = value instead\n",
      "\n",
      "See the caveats in the documentation: https://pandas.pydata.org/pandas-docs/stable/user_guide/indexing.html#returning-a-view-versus-a-copy\n",
      "  df1_trim[\"fps\"] = df1_trim[\"app_tags\"].apply(lambda x: get_FPS(x))\n"
     ]
    }
   ],
   "source": [
    "df1_added = add_features(df1)\n",
    "df1_trim = df1_added[col]\n",
    "df1_trim[\"fps\"] = df1_trim[\"app_tags\"].apply(lambda x: get_FPS(x))\n",
    "df1_trim = df1_trim[df1_trim[\"fps\"] == True]"
   ]
  },
  {
   "cell_type": "code",
   "execution_count": 14,
   "id": "9c54e6fc",
   "metadata": {},
   "outputs": [
    {
     "ename": "AttributeError",
     "evalue": "'NoneType' object has no attribute 'findAll'",
     "output_type": "error",
     "traceback": [
      "\u001b[1;31m---------------------------------------------------------------------------\u001b[0m",
      "\u001b[1;31mAttributeError\u001b[0m                            Traceback (most recent call last)",
      "\u001b[1;32m<ipython-input-14-3772cb14dceb>\u001b[0m in \u001b[0;36m<module>\u001b[1;34m\u001b[0m\n\u001b[1;32m----> 1\u001b[1;33m \u001b[0mdf2_added\u001b[0m \u001b[1;33m=\u001b[0m \u001b[0madd_features\u001b[0m\u001b[1;33m(\u001b[0m\u001b[0mdf2\u001b[0m\u001b[1;33m)\u001b[0m\u001b[1;33m\u001b[0m\u001b[1;33m\u001b[0m\u001b[0m\n\u001b[0m\u001b[0;32m      2\u001b[0m \u001b[0mdf2_trim\u001b[0m \u001b[1;33m=\u001b[0m \u001b[0mdf2_added\u001b[0m\u001b[1;33m[\u001b[0m\u001b[0mcol\u001b[0m\u001b[1;33m]\u001b[0m\u001b[1;33m\u001b[0m\u001b[1;33m\u001b[0m\u001b[0m\n\u001b[0;32m      3\u001b[0m \u001b[0mdf2_trim\u001b[0m\u001b[1;33m[\u001b[0m\u001b[1;34m\"fps\"\u001b[0m\u001b[1;33m]\u001b[0m \u001b[1;33m=\u001b[0m \u001b[0mdf2_trim\u001b[0m\u001b[1;33m[\u001b[0m\u001b[1;34m\"app_tags\"\u001b[0m\u001b[1;33m]\u001b[0m\u001b[1;33m.\u001b[0m\u001b[0mapply\u001b[0m\u001b[1;33m(\u001b[0m\u001b[1;32mlambda\u001b[0m \u001b[0mx\u001b[0m\u001b[1;33m:\u001b[0m \u001b[0mget_FPS\u001b[0m\u001b[1;33m(\u001b[0m\u001b[0mx\u001b[0m\u001b[1;33m)\u001b[0m\u001b[1;33m)\u001b[0m\u001b[1;33m\u001b[0m\u001b[1;33m\u001b[0m\u001b[0m\n\u001b[0;32m      4\u001b[0m \u001b[0mdf2_trim\u001b[0m \u001b[1;33m=\u001b[0m \u001b[0mdf2_trim\u001b[0m\u001b[1;33m[\u001b[0m\u001b[0mdf2_trim\u001b[0m\u001b[1;33m[\u001b[0m\u001b[1;34m\"fps\"\u001b[0m\u001b[1;33m]\u001b[0m \u001b[1;33m==\u001b[0m \u001b[1;32mTrue\u001b[0m\u001b[1;33m]\u001b[0m\u001b[1;33m\u001b[0m\u001b[1;33m\u001b[0m\u001b[0m\n",
      "\u001b[1;32m<ipython-input-10-9871bd8ea261>\u001b[0m in \u001b[0;36madd_features\u001b[1;34m(df)\u001b[0m\n\u001b[0;32m      1\u001b[0m \u001b[1;32mdef\u001b[0m \u001b[0madd_features\u001b[0m\u001b[1;33m(\u001b[0m\u001b[0mdf\u001b[0m\u001b[1;33m)\u001b[0m\u001b[1;33m:\u001b[0m\u001b[1;33m\u001b[0m\u001b[1;33m\u001b[0m\u001b[0m\n\u001b[0;32m      2\u001b[0m     \u001b[0mgame_ids\u001b[0m\u001b[1;33m,\u001b[0m \u001b[0murl_list\u001b[0m \u001b[1;33m=\u001b[0m \u001b[0mget_ids_urls\u001b[0m\u001b[1;33m(\u001b[0m\u001b[0mdf\u001b[0m\u001b[1;33m)\u001b[0m\u001b[1;33m\u001b[0m\u001b[1;33m\u001b[0m\u001b[0m\n\u001b[1;32m----> 3\u001b[1;33m     \u001b[0mtitles\u001b[0m\u001b[1;33m,\u001b[0m \u001b[0mtags\u001b[0m \u001b[1;33m=\u001b[0m \u001b[0mget_titles_tags\u001b[0m\u001b[1;33m(\u001b[0m\u001b[0murl_list\u001b[0m\u001b[1;33m)\u001b[0m\u001b[1;33m\u001b[0m\u001b[1;33m\u001b[0m\u001b[0m\n\u001b[0m\u001b[0;32m      4\u001b[0m \u001b[1;33m\u001b[0m\u001b[0m\n\u001b[0;32m      5\u001b[0m     \u001b[0mdf\u001b[0m\u001b[1;33m[\u001b[0m\u001b[1;34m\"app_title\"\u001b[0m\u001b[1;33m]\u001b[0m \u001b[1;33m=\u001b[0m \u001b[0mdf\u001b[0m\u001b[1;33m[\u001b[0m\u001b[1;34m\"appid\"\u001b[0m\u001b[1;33m]\u001b[0m\u001b[1;33m.\u001b[0m\u001b[0mapply\u001b[0m\u001b[1;33m(\u001b[0m\u001b[1;32mlambda\u001b[0m \u001b[0mx\u001b[0m\u001b[1;33m:\u001b[0m \u001b[0madd_titles\u001b[0m\u001b[1;33m(\u001b[0m\u001b[0mx\u001b[0m\u001b[1;33m,\u001b[0m \u001b[0mgame_ids\u001b[0m\u001b[1;33m,\u001b[0m \u001b[0mtitles\u001b[0m\u001b[1;33m)\u001b[0m\u001b[1;33m)\u001b[0m\u001b[1;33m\u001b[0m\u001b[1;33m\u001b[0m\u001b[0m\n",
      "\u001b[1;32m<ipython-input-7-33d87e5aee22>\u001b[0m in \u001b[0;36mget_titles_tags\u001b[1;34m(url_list)\u001b[0m\n\u001b[0;32m      7\u001b[0m         \u001b[0msoup\u001b[0m \u001b[1;33m=\u001b[0m \u001b[0mBeautifulSoup\u001b[0m\u001b[1;33m(\u001b[0m\u001b[0mhtml_page\u001b[0m\u001b[1;33m.\u001b[0m\u001b[0mcontent\u001b[0m\u001b[1;33m,\u001b[0m \u001b[1;34m'html.parser'\u001b[0m\u001b[1;33m)\u001b[0m\u001b[1;33m\u001b[0m\u001b[1;33m\u001b[0m\u001b[0m\n\u001b[0;32m      8\u001b[0m         \u001b[0mtitles\u001b[0m\u001b[1;33m.\u001b[0m\u001b[0mappend\u001b[0m\u001b[1;33m(\u001b[0m\u001b[0mget_title\u001b[0m\u001b[1;33m(\u001b[0m\u001b[0msoup\u001b[0m\u001b[1;33m)\u001b[0m\u001b[1;33m)\u001b[0m\u001b[1;33m\u001b[0m\u001b[1;33m\u001b[0m\u001b[0m\n\u001b[1;32m----> 9\u001b[1;33m         \u001b[0mtags\u001b[0m\u001b[1;33m.\u001b[0m\u001b[0mappend\u001b[0m\u001b[1;33m(\u001b[0m\u001b[0mget_tags\u001b[0m\u001b[1;33m(\u001b[0m\u001b[0msoup\u001b[0m\u001b[1;33m)\u001b[0m\u001b[1;33m)\u001b[0m\u001b[1;33m\u001b[0m\u001b[1;33m\u001b[0m\u001b[0m\n\u001b[0m\u001b[0;32m     10\u001b[0m         \u001b[0mtime\u001b[0m\u001b[1;33m.\u001b[0m\u001b[0msleep\u001b[0m\u001b[1;33m(\u001b[0m\u001b[1;36m1\u001b[0m\u001b[1;33m)\u001b[0m\u001b[1;33m\u001b[0m\u001b[1;33m\u001b[0m\u001b[0m\n\u001b[0;32m     11\u001b[0m \u001b[1;33m\u001b[0m\u001b[0m\n",
      "\u001b[1;32m<ipython-input-6-a93feae16a60>\u001b[0m in \u001b[0;36mget_tags\u001b[1;34m(soup)\u001b[0m\n\u001b[0;32m      7\u001b[0m \u001b[1;32mdef\u001b[0m \u001b[0mget_tags\u001b[0m\u001b[1;33m(\u001b[0m\u001b[0msoup\u001b[0m\u001b[1;33m)\u001b[0m\u001b[1;33m:\u001b[0m\u001b[1;33m\u001b[0m\u001b[1;33m\u001b[0m\u001b[0m\n\u001b[0;32m      8\u001b[0m     \u001b[0mwarning\u001b[0m \u001b[1;33m=\u001b[0m \u001b[0msoup\u001b[0m\u001b[1;33m.\u001b[0m\u001b[0mfind\u001b[0m\u001b[1;33m(\u001b[0m\u001b[1;34m'div'\u001b[0m\u001b[1;33m,\u001b[0m \u001b[0mclass_\u001b[0m\u001b[1;33m=\u001b[0m\u001b[1;34m\"glance_tags popular_tags\"\u001b[0m\u001b[1;33m)\u001b[0m\u001b[1;33m\u001b[0m\u001b[1;33m\u001b[0m\u001b[0m\n\u001b[1;32m----> 9\u001b[1;33m     \u001b[0mtags\u001b[0m \u001b[1;33m=\u001b[0m \u001b[1;33m[\u001b[0m\u001b[0mp\u001b[0m\u001b[1;33m.\u001b[0m\u001b[0mtext\u001b[0m \u001b[1;32mfor\u001b[0m \u001b[0mp\u001b[0m \u001b[1;32min\u001b[0m \u001b[0mwarning\u001b[0m\u001b[1;33m.\u001b[0m\u001b[0mfindAll\u001b[0m\u001b[1;33m(\u001b[0m\u001b[1;34m'a'\u001b[0m\u001b[1;33m,\u001b[0m \u001b[0mclass_\u001b[0m\u001b[1;33m=\u001b[0m\u001b[1;34m\"app_tag\"\u001b[0m\u001b[1;33m)\u001b[0m\u001b[1;33m]\u001b[0m\u001b[1;33m\u001b[0m\u001b[1;33m\u001b[0m\u001b[0m\n\u001b[0m\u001b[0;32m     10\u001b[0m \u001b[1;33m\u001b[0m\u001b[0m\n\u001b[0;32m     11\u001b[0m     \u001b[1;32mfor\u001b[0m \u001b[0mindex\u001b[0m \u001b[1;32min\u001b[0m \u001b[0mrange\u001b[0m\u001b[1;33m(\u001b[0m\u001b[0mlen\u001b[0m\u001b[1;33m(\u001b[0m\u001b[0mtags\u001b[0m\u001b[1;33m)\u001b[0m\u001b[1;33m)\u001b[0m\u001b[1;33m:\u001b[0m\u001b[1;33m\u001b[0m\u001b[1;33m\u001b[0m\u001b[0m\n",
      "\u001b[1;31mAttributeError\u001b[0m: 'NoneType' object has no attribute 'findAll'"
     ]
    }
   ],
   "source": [
    "df2_added = add_features(df2)\n",
    "df2_trim = df2_added[col]\n",
    "df2_trim[\"fps\"] = df2_trim[\"app_tags\"].apply(lambda x: get_FPS(x))\n",
    "df2_trim = df2_trim[df2_trim[\"fps\"] == True]"
   ]
  },
  {
   "cell_type": "code",
   "execution_count": null,
   "id": "ded3a993",
   "metadata": {},
   "outputs": [],
   "source": [
    "df3_added = add_features(df3)\n",
    "df3_trim = df3_added[col]\n",
    "df3_trim[\"fps\"] = df3_trim[\"app_tags\"].apply(lambda x: get_FPS(x))\n",
    "df3_trim = df3_trim[df3_trim[\"fps\"] == True]"
   ]
  },
  {
   "cell_type": "code",
   "execution_count": null,
   "id": "94683341",
   "metadata": {},
   "outputs": [],
   "source": [
    "df4_added = add_features(df4)\n",
    "df4_trim = df4_added[col]\n",
    "df4_trim[\"fps\"] = df4_trim[\"app_tags\"].apply(lambda x: get_FPS(x))\n",
    "df4_trim = df4_trim[df4_trim[\"fps\"] == True]"
   ]
  },
  {
   "cell_type": "code",
   "execution_count": null,
   "id": "f7d6bc9b",
   "metadata": {},
   "outputs": [],
   "source": [
    "df5_added = add_features(df5)\n",
    "df5_trim = df5_added[col]\n",
    "df5_trim[\"fps\"] = df5_trim[\"app_tags\"].apply(lambda x: get_FPS(x))\n",
    "df5_trim = df5_trim[df5_trim[\"fps\"] == True]"
   ]
  },
  {
   "cell_type": "code",
   "execution_count": null,
   "id": "b30f1421",
   "metadata": {},
   "outputs": [],
   "source": [
    "df6_added = add_features(df6)\n",
    "df6_trim = df6_added[col]\n",
    "df6_trim[\"fps\"] = df6_trim[\"app_tags\"].apply(lambda x: get_FPS(x))\n",
    "df6_trim = df6_trim[df6_trim[\"fps\"] == True]"
   ]
  },
  {
   "cell_type": "code",
   "execution_count": null,
   "id": "61ba49df",
   "metadata": {},
   "outputs": [],
   "source": [
    "df7_added = add_features(df7)\n",
    "df7_trim = df7_added[col]\n",
    "df7_trim[\"fps\"] = df7_trim[\"app_tags\"].apply(lambda x: get_FPS(x))\n",
    "df7_trim = df7_trim[df7_trim[\"fps\"] == True]"
   ]
  },
  {
   "cell_type": "code",
   "execution_count": null,
   "id": "0f9d5ab4",
   "metadata": {},
   "outputs": [],
   "source": [
    "df8_added = add_features(df8)\n",
    "df8_trim = df8_added[col]\n",
    "df8_trim[\"fps\"] = df8_trim[\"app_tags\"].apply(lambda x: get_FPS(x))\n",
    "df8_trim = df8_trim[df8_trim[\"fps\"] == True]"
   ]
  },
  {
   "cell_type": "code",
   "execution_count": null,
   "id": "e39f8579",
   "metadata": {},
   "outputs": [],
   "source": [
    "df9_added = add_features(df9)\n",
    "df9_trim = df9_added[col]\n",
    "df9_trim[\"fps\"] = df9_trim[\"app_tags\"].apply(lambda x: get_FPS(x))\n",
    "df9_trim = df9_trim[df9_trim[\"fps\"] == True]"
   ]
  },
  {
   "cell_type": "code",
   "execution_count": null,
   "id": "4646cc9c",
   "metadata": {},
   "outputs": [],
   "source": [
    "df10_added = add_features(df10)\n",
    "df10_trim = df10_added[col]\n",
    "df10_trim[\"fps\"] = df10_trim[\"app_tags\"].apply(lambda x: get_FPS(x))\n",
    "df10_trim = df10_trim[df10_trim[\"fps\"] == True]"
   ]
  },
  {
   "cell_type": "code",
   "execution_count": null,
   "id": "99d880e3",
   "metadata": {},
   "outputs": [],
   "source": [
    "df0_trim.to_csv(\"../../../../trimmed/fps_trimmed_00.csv\", index=False)\n",
    "df1_trim.to_csv(\"../../../../trimmed/fps_trimmed_01.csv\", index=False)\n",
    "df2_trim.to_csv(\"../../../../trimmed/fps_trimmed_02.csv\", index=False)\n",
    "df3_trim.to_csv(\"../../../../trimmed/fps_trimmed_03.csv\", index=False)\n",
    "df4_trim.to_csv(\"../../../../trimmed/fps_trimmed_04.csv\", index=False)\n",
    "df5_trim.to_csv(\"../../../../trimmed/fps_trimmed_05.csv\", index=False)\n",
    "df6_trim.to_csv(\"../../../../trimmed/fps_trimmed_06.csv\", index=False)\n",
    "df7_trim.to_csv(\"../../../../trimmed/fps_trimmed_07.csv\", index=False)\n",
    "df8_trim.to_csv(\"../../../../trimmed/fps_trimmed_08.csv\", index=False)\n",
    "df9_trim.to_csv(\"../../../../trimmed/fps_trimmed_09.csv\", index=False)\n",
    "df10_trim.to_csv(\"../../../../trimmed/fps_trimmed_10.csv\", index=False)"
   ]
  },
  {
   "cell_type": "code",
   "execution_count": null,
   "id": "ce98897d",
   "metadata": {},
   "outputs": [],
   "source": [
    "IPython.display.Audio(sound_file, autoplay=True, rate=1000)"
   ]
  },
  {
   "cell_type": "code",
   "execution_count": null,
   "id": "6622b180",
   "metadata": {},
   "outputs": [],
   "source": [
    "df_trim0.head()"
   ]
  },
  {
   "cell_type": "code",
   "execution_count": null,
   "id": "407fc55c",
   "metadata": {},
   "outputs": [],
   "source": []
  }
 ],
 "metadata": {
  "kernelspec": {
   "display_name": "learn-env",
   "language": "python",
   "name": "learn-env"
  },
  "language_info": {
   "codemirror_mode": {
    "name": "ipython",
    "version": 3
   },
   "file_extension": ".py",
   "mimetype": "text/x-python",
   "name": "python",
   "nbconvert_exporter": "python",
   "pygments_lexer": "ipython3",
   "version": "3.8.5"
  }
 },
 "nbformat": 4,
 "nbformat_minor": 5
}

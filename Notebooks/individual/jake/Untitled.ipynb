{
 "cells": [
  {
   "cell_type": "code",
   "execution_count": 1,
   "id": "89602871-ce6f-44d4-9802-24e7f4e551b9",
   "metadata": {},
   "outputs": [],
   "source": [
    "import pandas as pd"
   ]
  },
  {
   "cell_type": "code",
   "execution_count": 2,
   "id": "18e4567f-aa9c-4c5b-9a9e-5678def272c9",
   "metadata": {},
   "outputs": [],
   "source": [
    "df = pd.read_csv(\"../../../../trimmed/combined_split_reviews.csv\")"
   ]
  },
  {
   "cell_type": "code",
   "execution_count": 3,
   "id": "869120ce-5829-479e-8d13-378268be27ed",
   "metadata": {},
   "outputs": [
    {
     "data": {
      "text/html": [
       "<div>\n",
       "<style scoped>\n",
       "    .dataframe tbody tr th:only-of-type {\n",
       "        vertical-align: middle;\n",
       "    }\n",
       "\n",
       "    .dataframe tbody tr th {\n",
       "        vertical-align: top;\n",
       "    }\n",
       "\n",
       "    .dataframe thead th {\n",
       "        text-align: right;\n",
       "    }\n",
       "</style>\n",
       "<table border=\"1\" class=\"dataframe\">\n",
       "  <thead>\n",
       "    <tr style=\"text-align: right;\">\n",
       "      <th></th>\n",
       "      <th>steamid</th>\n",
       "      <th>appid</th>\n",
       "      <th>app_title</th>\n",
       "      <th>app_tags</th>\n",
       "      <th>review</th>\n",
       "      <th>fps</th>\n",
       "      <th>voted_up</th>\n",
       "    </tr>\n",
       "  </thead>\n",
       "  <tbody>\n",
       "    <tr>\n",
       "      <th>0</th>\n",
       "      <td>76561198219450288</td>\n",
       "      <td>730</td>\n",
       "      <td>Counter-Strike: Global Offensive</td>\n",
       "      <td>['FPS', 'Shooter', 'Multiplayer', 'Competitive...</td>\n",
       "      <td>a vac server baned me for being good .....nice...</td>\n",
       "      <td>True</td>\n",
       "      <td>True</td>\n",
       "    </tr>\n",
       "    <tr>\n",
       "      <th>1</th>\n",
       "      <td>76561198371171813</td>\n",
       "      <td>730</td>\n",
       "      <td>Counter-Strike: Global Offensive</td>\n",
       "      <td>['FPS', 'Shooter', 'Multiplayer', 'Competitive...</td>\n",
       "      <td>only game i play</td>\n",
       "      <td>True</td>\n",
       "      <td>True</td>\n",
       "    </tr>\n",
       "    <tr>\n",
       "      <th>2</th>\n",
       "      <td>76561198170681091</td>\n",
       "      <td>730</td>\n",
       "      <td>Counter-Strike: Global Offensive</td>\n",
       "      <td>['FPS', 'Shooter', 'Multiplayer', 'Competitive...</td>\n",
       "      <td>great game,play it every day,over 500 hours,wo...</td>\n",
       "      <td>True</td>\n",
       "      <td>True</td>\n",
       "    </tr>\n",
       "  </tbody>\n",
       "</table>\n",
       "</div>"
      ],
      "text/plain": [
       "             steamid  appid                         app_title  \\\n",
       "0  76561198219450288    730  Counter-Strike: Global Offensive   \n",
       "1  76561198371171813    730  Counter-Strike: Global Offensive   \n",
       "2  76561198170681091    730  Counter-Strike: Global Offensive   \n",
       "\n",
       "                                            app_tags  \\\n",
       "0  ['FPS', 'Shooter', 'Multiplayer', 'Competitive...   \n",
       "1  ['FPS', 'Shooter', 'Multiplayer', 'Competitive...   \n",
       "2  ['FPS', 'Shooter', 'Multiplayer', 'Competitive...   \n",
       "\n",
       "                                              review   fps  voted_up  \n",
       "0  a vac server baned me for being good .....nice...  True      True  \n",
       "1                                   only game i play  True      True  \n",
       "2  great game,play it every day,over 500 hours,wo...  True      True  "
      ]
     },
     "execution_count": 3,
     "metadata": {},
     "output_type": "execute_result"
    }
   ],
   "source": [
    "df.head(3)"
   ]
  },
  {
   "cell_type": "code",
   "execution_count": 4,
   "id": "e4a660bc-ef0a-403a-abef-34fac6537a8b",
   "metadata": {},
   "outputs": [
    {
     "name": "stdout",
     "output_type": "stream",
     "text": [
      "<class 'pandas.core.frame.DataFrame'>\n",
      "RangeIndex: 3220605 entries, 0 to 3220604\n",
      "Data columns (total 7 columns):\n",
      " #   Column     Dtype \n",
      "---  ------     ----- \n",
      " 0   steamid    int64 \n",
      " 1   appid      int64 \n",
      " 2   app_title  object\n",
      " 3   app_tags   object\n",
      " 4   review     object\n",
      " 5   fps        bool  \n",
      " 6   voted_up   bool  \n",
      "dtypes: bool(2), int64(2), object(3)\n",
      "memory usage: 129.0+ MB\n"
     ]
    }
   ],
   "source": [
    "df.info()"
   ]
  },
  {
   "cell_type": "code",
   "execution_count": 5,
   "id": "70d59753-1bab-4ae0-b038-6ba4b4089387",
   "metadata": {},
   "outputs": [
    {
     "name": "stdout",
     "output_type": "stream",
     "text": [
      "<class 'pandas.core.frame.DataFrame'>\n",
      "RangeIndex: 3220605 entries, 0 to 3220604\n",
      "Data columns (total 4 columns):\n",
      " #   Column     Dtype \n",
      "---  ------     ----- \n",
      " 0   appid      int64 \n",
      " 1   app_title  object\n",
      " 2   app_tags   object\n",
      " 3   voted_up   bool  \n",
      "dtypes: bool(1), int64(1), object(2)\n",
      "memory usage: 76.8+ MB\n"
     ]
    }
   ],
   "source": [
    "col = [\"review\", \"fps\", \"steamid\"]\n",
    "df = df.drop(col, axis=1)\n",
    "df.info()"
   ]
  },
  {
   "cell_type": "code",
   "execution_count": 6,
   "id": "4ec02811-d3d1-4367-a3d2-535141320ce2",
   "metadata": {},
   "outputs": [],
   "source": [
    "df.to_csv(\"../../../../trimmed/trim.csv\", index=False)"
   ]
  },
  {
   "cell_type": "code",
   "execution_count": 7,
   "id": "e3d510d6-5e1c-4e62-91c7-df9e97d41f61",
   "metadata": {},
   "outputs": [],
   "source": [
    "import pickle"
   ]
  },
  {
   "cell_type": "code",
   "execution_count": 8,
   "id": "129df973-862b-4e48-8384-0336bb5ef73a",
   "metadata": {},
   "outputs": [],
   "source": [
    "def CleanText(reviews):\n",
    "    stopwords = nltk.corpus.stopwords.words('english')\n",
    "    punct = string.punctuation\n",
    "    lemma = nltk.WordNetLemmatizer()\n",
    "    \n",
    "    reviews = \"\".join([word for word in reviews if word not in string.punctuation])\n",
    "    tokens = re.split('\\W+', reviews)\n",
    "    reviews = [lemma.lemmatize(word) for word in tokens if word not in stopwords]\n",
    "    \n",
    "# use function like this in your notebook\n",
    "# df['cleaned_text'] = df['text'].apply(lambda x: CleanText(x.lower()))\n",
    "    \n",
    "    return reviews"
   ]
  },
  {
   "cell_type": "code",
   "execution_count": 9,
   "id": "c8d243e5-04ff-428c-8285-d64a7f673d17",
   "metadata": {},
   "outputs": [],
   "source": [
    "with open('../../../data/pickles/clean_text.pkl', 'wb') as f:\n",
    "    pickle.dump(CleanText, f)"
   ]
  },
  {
   "cell_type": "code",
   "execution_count": null,
   "id": "9620844b-3ba0-4d2c-a311-6fe3ca5ee640",
   "metadata": {},
   "outputs": [],
   "source": []
  }
 ],
 "metadata": {
  "kernelspec": {
   "display_name": "learn-env",
   "language": "python",
   "name": "learn-env"
  },
  "language_info": {
   "codemirror_mode": {
    "name": "ipython",
    "version": 3
   },
   "file_extension": ".py",
   "mimetype": "text/x-python",
   "name": "python",
   "nbconvert_exporter": "python",
   "pygments_lexer": "ipython3",
   "version": "3.8.5"
  }
 },
 "nbformat": 4,
 "nbformat_minor": 5
}

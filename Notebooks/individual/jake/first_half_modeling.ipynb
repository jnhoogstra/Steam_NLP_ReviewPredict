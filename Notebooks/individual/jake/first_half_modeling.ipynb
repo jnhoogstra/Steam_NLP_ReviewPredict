{
 "cells": [
  {
   "cell_type": "code",
   "execution_count": 1,
   "id": "116a7687",
   "metadata": {},
   "outputs": [],
   "source": [
    "import numpy as np \n",
    "import pandas as pd \n",
    "pd.set_option('display.max_colwidth', 100)\n",
    "\n",
    "from matplotlib import pyplot as plt\n",
    "%matplotlib inline\n",
    "plt.style.use('fivethirtyeight')\n",
    "\n",
    "import re\n",
    "import string\n",
    "import nltk\n",
    "import xgboost\n",
    "\n",
    "from sklearn.feature_extraction.text import CountVectorizer\n",
    "from sklearn.feature_extraction.text import TfidfVectorizer\n",
    "\n",
    "from xgboost import XGBClassifier\n",
    "from sklearn.ensemble import RandomForestClassifier\n",
    "from sklearn.naive_bayes import MultinomialNB\n",
    "from sklearn.model_selection import KFold, cross_val_score\n",
    "from sklearn.model_selection import train_test_split, GridSearchCV\n",
    "\n",
    "import sys\n",
    "if not 'Notebooks/Individual/Jake' in sys.path:\n",
    "    sys.path.append('Notebooks/Individual/jake')\n",
    "from functions import ScoreModel, FeatureImp\n",
    "\n",
    "import IPython\n",
    "sound_file = '../../../data/sounds/puzzle_solved_jingle.wav'\n",
    "\n",
    "from sklearn.pipeline import Pipeline, make_pipeline\n",
    "from sklearn.svm import SVC\n",
    "from sklearn.compose import ColumnTransformer\n",
    "from sklearn.metrics import accuracy_score, recall_score, precision_score, f1_score, roc_auc_score, plot_confusion_matrix\n",
    "\n",
    "from textblob import TextBlob, Word\n",
    "from wordcloud import WordCloud"
   ]
  },
  {
   "cell_type": "code",
   "execution_count": 3,
   "id": "1dbbd663",
   "metadata": {},
   "outputs": [
    {
     "data": {
      "text/html": [
       "<div>\n",
       "<style scoped>\n",
       "    .dataframe tbody tr th:only-of-type {\n",
       "        vertical-align: middle;\n",
       "    }\n",
       "\n",
       "    .dataframe tbody tr th {\n",
       "        vertical-align: top;\n",
       "    }\n",
       "\n",
       "    .dataframe thead th {\n",
       "        text-align: right;\n",
       "    }\n",
       "</style>\n",
       "<table border=\"1\" class=\"dataframe\">\n",
       "  <thead>\n",
       "    <tr style=\"text-align: right;\">\n",
       "      <th></th>\n",
       "      <th>clean_review</th>\n",
       "      <th>user_suggestion</th>\n",
       "    </tr>\n",
       "  </thead>\n",
       "  <tbody>\n",
       "    <tr>\n",
       "      <th>0</th>\n",
       "      <td>['early', 'access', 'reviewalthough', 'game', 'still', 'alpha', 'fractured', 'space', 'lot', 'wo...</td>\n",
       "      <td>1</td>\n",
       "    </tr>\n",
       "    <tr>\n",
       "      <th>1</th>\n",
       "      <td>['dont', 'bother', 'downloading', 'unless', 'ton', 'first', 'game', 'look', 'pretty', 'tier', '1...</td>\n",
       "      <td>0</td>\n",
       "    </tr>\n",
       "    <tr>\n",
       "      <th>2</th>\n",
       "      <td>['every', '23', 'minute', 'ingame', 'reminded', 'much', 'erection', 'give', 'devs', 'sink', 'lit...</td>\n",
       "      <td>0</td>\n",
       "    </tr>\n",
       "    <tr>\n",
       "      <th>3</th>\n",
       "      <td>['honestly', 'really', 'frustrating', 'feel', 'like', 'great', 'first', 'couple', 'hour', 'peopl...</td>\n",
       "      <td>0</td>\n",
       "    </tr>\n",
       "    <tr>\n",
       "      <th>4</th>\n",
       "      <td>['early', 'access', 'reviewi', 'dont', 'know', 'game', 'still', 'like', 'experience', 'purely', ...</td>\n",
       "      <td>0</td>\n",
       "    </tr>\n",
       "    <tr>\n",
       "      <th>5</th>\n",
       "      <td>['early', 'access', 'reviewthis', 'game', 'possibly', 'one', 'worst', 'game', 'steam', 'huge', '...</td>\n",
       "      <td>0</td>\n",
       "    </tr>\n",
       "    <tr>\n",
       "      <th>6</th>\n",
       "      <td>['many', 'clicker', 'game', 'steam', 'lol', 'started', 'review', 'question', 'goddamnit', 'well'...</td>\n",
       "      <td>1</td>\n",
       "    </tr>\n",
       "    <tr>\n",
       "      <th>7</th>\n",
       "      <td>['early', 'access', 'reviewhard', 'reccomend', 'see', 'potenial', 'beta', 'year', 'feel', 'like'...</td>\n",
       "      <td>0</td>\n",
       "    </tr>\n",
       "    <tr>\n",
       "      <th>8</th>\n",
       "      <td>['playing', 'game', '200', 'hour', 'steam', 'ive', 'come', 'conclusion', 'enjoyable', 'moba', 'i...</td>\n",
       "      <td>1</td>\n",
       "    </tr>\n",
       "    <tr>\n",
       "      <th>9</th>\n",
       "      <td>['dont', 'know', 'clicker', 'hero', 'first', 'game', 'kind', 'certainly', 'first', 'consider', '...</td>\n",
       "      <td>0</td>\n",
       "    </tr>\n",
       "  </tbody>\n",
       "</table>\n",
       "</div>"
      ],
      "text/plain": [
       "                                                                                          clean_review  \\\n",
       "0  ['early', 'access', 'reviewalthough', 'game', 'still', 'alpha', 'fractured', 'space', 'lot', 'wo...   \n",
       "1  ['dont', 'bother', 'downloading', 'unless', 'ton', 'first', 'game', 'look', 'pretty', 'tier', '1...   \n",
       "2  ['every', '23', 'minute', 'ingame', 'reminded', 'much', 'erection', 'give', 'devs', 'sink', 'lit...   \n",
       "3  ['honestly', 'really', 'frustrating', 'feel', 'like', 'great', 'first', 'couple', 'hour', 'peopl...   \n",
       "4  ['early', 'access', 'reviewi', 'dont', 'know', 'game', 'still', 'like', 'experience', 'purely', ...   \n",
       "5  ['early', 'access', 'reviewthis', 'game', 'possibly', 'one', 'worst', 'game', 'steam', 'huge', '...   \n",
       "6  ['many', 'clicker', 'game', 'steam', 'lol', 'started', 'review', 'question', 'goddamnit', 'well'...   \n",
       "7  ['early', 'access', 'reviewhard', 'reccomend', 'see', 'potenial', 'beta', 'year', 'feel', 'like'...   \n",
       "8  ['playing', 'game', '200', 'hour', 'steam', 'ive', 'come', 'conclusion', 'enjoyable', 'moba', 'i...   \n",
       "9  ['dont', 'know', 'clicker', 'hero', 'first', 'game', 'kind', 'certainly', 'first', 'consider', '...   \n",
       "\n",
       "   user_suggestion  \n",
       "0                1  \n",
       "1                0  \n",
       "2                0  \n",
       "3                0  \n",
       "4                0  \n",
       "5                0  \n",
       "6                1  \n",
       "7                0  \n",
       "8                1  \n",
       "9                0  "
      ]
     },
     "execution_count": 3,
     "metadata": {},
     "output_type": "execute_result"
    }
   ],
   "source": [
    "df = pd.read_csv(\"../../../data/first_half.csv\")\n",
    "df.head(10)"
   ]
  },
  {
   "cell_type": "code",
   "execution_count": null,
   "id": "55c70c93",
   "metadata": {},
   "outputs": [],
   "source": []
  },
  {
   "cell_type": "code",
   "execution_count": null,
   "id": "b240c38f",
   "metadata": {},
   "outputs": [],
   "source": []
  },
  {
   "cell_type": "code",
   "execution_count": null,
   "id": "6b66b776",
   "metadata": {},
   "outputs": [],
   "source": []
  },
  {
   "cell_type": "code",
   "execution_count": null,
   "id": "a1eb9fc5",
   "metadata": {},
   "outputs": [],
   "source": []
  },
  {
   "cell_type": "code",
   "execution_count": null,
   "id": "c2b83f80",
   "metadata": {},
   "outputs": [],
   "source": []
  },
  {
   "cell_type": "code",
   "execution_count": null,
   "id": "d231df6b",
   "metadata": {},
   "outputs": [],
   "source": []
  },
  {
   "cell_type": "code",
   "execution_count": null,
   "id": "42c40a37",
   "metadata": {},
   "outputs": [],
   "source": []
  },
  {
   "cell_type": "code",
   "execution_count": null,
   "id": "f42ae066",
   "metadata": {},
   "outputs": [],
   "source": []
  },
  {
   "cell_type": "code",
   "execution_count": null,
   "id": "f22a578c",
   "metadata": {},
   "outputs": [],
   "source": []
  },
  {
   "cell_type": "code",
   "execution_count": null,
   "id": "be2848a7",
   "metadata": {},
   "outputs": [],
   "source": []
  },
  {
   "cell_type": "code",
   "execution_count": null,
   "id": "e578ac92",
   "metadata": {},
   "outputs": [],
   "source": []
  },
  {
   "cell_type": "code",
   "execution_count": null,
   "id": "c27d4b1b",
   "metadata": {},
   "outputs": [],
   "source": []
  },
  {
   "cell_type": "code",
   "execution_count": null,
   "id": "cae61d5b",
   "metadata": {},
   "outputs": [],
   "source": []
  },
  {
   "cell_type": "code",
   "execution_count": null,
   "id": "6c4aa30e",
   "metadata": {},
   "outputs": [],
   "source": [
    "IPython.display.Audio(sound_file, autoplay=True, rate=1000)"
   ]
  }
 ],
 "metadata": {
  "kernelspec": {
   "display_name": "learn-env",
   "language": "python",
   "name": "learn-env"
  },
  "language_info": {
   "codemirror_mode": {
    "name": "ipython",
    "version": 3
   },
   "file_extension": ".py",
   "mimetype": "text/x-python",
   "name": "python",
   "nbconvert_exporter": "python",
   "pygments_lexer": "ipython3",
   "version": "3.8.5"
  }
 },
 "nbformat": 4,
 "nbformat_minor": 5
}
